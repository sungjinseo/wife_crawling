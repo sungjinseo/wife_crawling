{
 "cells": [
  {
   "cell_type": "code",
   "execution_count": 94,
   "id": "d229f827-7ee7-489a-b698-dc1327d4edba",
   "metadata": {},
   "outputs": [
    {
     "name": "stderr",
     "output_type": "stream",
     "text": [
      "1st loop: 100%|████████████████████████████████████████████████████████████████████████████████| 10/10 [00:00<?, ?it/s]\n"
     ]
    }
   ],
   "source": [
    "from tqdm.auto import tqdm\n",
    "for i in trange(10, desc='1st loop'):\n",
    "    pass"
   ]
  },
  {
   "cell_type": "code",
   "execution_count": 1,
   "id": "f986c079",
   "metadata": {
    "scrolled": true
   },
   "outputs": [
    {
     "name": "stdout",
     "output_type": "stream",
     "text": [
      "Collecting geopy\n",
      "  Downloading geopy-2.3.0-py3-none-any.whl (119 kB)\n",
      "     -------------------------------------- 119.8/119.8 kB 7.3 MB/s eta 0:00:00\n",
      "Collecting geographiclib<3,>=1.52\n",
      "  Downloading geographiclib-2.0-py3-none-any.whl (40 kB)\n",
      "     ---------------------------------------- 40.3/40.3 kB ? eta 0:00:00\n",
      "Installing collected packages: geographiclib, geopy\n",
      "Successfully installed geographiclib-2.0 geopy-2.3.0\n"
     ]
    }
   ],
   "source": [
    "!pip install geopy"
   ]
  },
  {
   "cell_type": "code",
   "execution_count": 2,
   "id": "5ff50555",
   "metadata": {},
   "outputs": [],
   "source": [
    "import requests\n",
    "import json\n",
    "import time\n",
    "import copy\n",
    "import re\n",
    "import math\n",
    "import unicodedata\n",
    "from bs4 import BeautifulSoup as bs"
   ]
  },
  {
   "cell_type": "code",
   "execution_count": 3,
   "id": "26b5375d",
   "metadata": {},
   "outputs": [],
   "source": [
    "def web_request(method_name, url, dict_data, is_urlencoded=True):\n",
    "    \"\"\"Web GET or POST request를 호출 후 그 결과를 dict형으로 반환 \"\"\"\n",
    "    method_name = method_name.upper()  # 메소드이름을 대문자로 바꾼다\n",
    "    if method_name not in ('GET', 'POST'):\n",
    "        raise Exception('method_name is GET or POST plz...')\n",
    "\n",
    "    if method_name == 'GET':  # GET방식인 경우\n",
    "        response = requests.get(url=url, params=dict_data)\n",
    "    elif method_name == 'POST':  # POST방식인 경우\n",
    "        if is_urlencoded is True:\n",
    "            response = requests.post(url=url, data=dict_data,\n",
    "                                     headers={'Content-Type': 'application/x-www-form-urlencoded'})\n",
    "        else:\n",
    "            response = requests.post(url=url, data=json.dumps(dict_data), headers={'Content-Type': 'application/json'})\n",
    "\n",
    "    dict_meta = {'status_code': response.status_code, 'ok': response.ok, 'encoding': response.encoding,\n",
    "                 'Content-Type': response.headers['Content-Type']}\n",
    "    if 'json' in str(response.headers['Content-Type']):  # JSON 형태인 경우\n",
    "        return {**dict_meta, **response.json()}\n",
    "    else:  # 문자열 형태인 경우\n",
    "        return {**dict_meta, **{'text': response.text}}"
   ]
  },
  {
   "cell_type": "code",
   "execution_count": null,
   "id": "3c442782-b72c-424d-ab47-e6fe904682d3",
   "metadata": {},
   "outputs": [],
   "source": [
    "def 우리동네키움센터전체목록만들기(req_method, url, body):\n",
    "    def htmlparse(list_html, labels):\n",
    "        temp_list = []\n",
    "        for item in list_html.select('div.board_box_ty02 li'):\n",
    "            if item.select_one('p.box_info_p') != None:\n",
    "                센터정보 = {}\n",
    "                list_values = []\n",
    "                detail_link = item.select_one('a')['onclick']\n",
    "                detail_link = detail_link[detail_link.index('(')+1:detail_link.rindex(')')].replace('\"','').split(',')\n",
    "                idx = 0\n",
    "                for inside_item in item.select('span'):\n",
    "                    if inside_item.select_one('em') == None:\n",
    "                        # 0: 센터명, 4: 태그\n",
    "                        list_values.append(inside_item.text.replace('\\n',','))\n",
    "                    else:\n",
    "                        # 1주소,2전화번호,3이용료\n",
    "                        inside_item.find('em').decompose()\n",
    "                        val = inside_item.text.strip().replace('\\t', '').replace('\\n','')\n",
    "                        val = unicodedata.normalize(\"NFKD\", val)\n",
    "                        list_values.append(val)\n",
    "                    idx = idx+1\n",
    "            센터정보 = dict(zip(labels, list_values))\n",
    "            센터정보['q_svcClCode'] = body['q_svcClCode']\n",
    "            센터정보['q_fclty'] = detail_link[0]\n",
    "            센터정보['q_fcltyId'] = detail_link[1]\n",
    "            센터정보['ext_linkpage'] = detail_link[3]\n",
    "            센터정보['_id'] = 'ObjectID()'\n",
    "            temp_list.append(센터정보)\n",
    "        return temp_list\n",
    "    \n",
    "    first_res = web_request(req_method, url, body)\n",
    "    first_html = bs(first_res['text'], \"html.parser\")\n",
    "    센터정보리스트 = []\n",
    "    list_labels = ['센터명', '주소', '전화번호', '이용료', '태그']\n",
    "    total_cnt = first_html.select_one('p.board_info').text\n",
    "    total_cnt = total_cnt[total_cnt.index('전체'):total_cnt.index('건')]\n",
    "    total_cnt = re.sub(r'[^0-9]', '', total_cnt)\n",
    "    total_pages = math.ceil(int(total_cnt)/15)\n",
    "    센터정보리스트 = htmlparse(first_html, list_labels)\n",
    "    print('1페이지 센터정보생성')\n",
    "    \n",
    "    for idx in range(2,total_pages+1):\n",
    "        body['q_currPage'] = idx\n",
    "        res = web_request(req_method, url, body)\n",
    "        html = bs(res['text'], \"html.parser\")\n",
    "        temp = htmlparse(html, list_labels)\n",
    "        센터정보리스트.extend(temp)\n",
    "        print(str(idx)+'페이지 센터정보생성')\n",
    "        \n",
    "    return 센터정보리스트"
   ]
  },
  {
   "cell_type": "code",
   "execution_count": 89,
   "id": "60a862d6-c8e0-419b-b89a-bb00dccb0c6b",
   "metadata": {},
   "outputs": [],
   "source": [
    "def 상세화면조회함수(svcClCode, fcltyId, fclty):\n",
    "    q_fclty = fclty\n",
    "    q_clturEventEtcSn = ''\n",
    "    q_gubun = ''\n",
    "    q_fcltyId= ''\n",
    "    if svcClCode == '1006' or svcClCode == '1008':\n",
    "        pass\n",
    "    else:\n",
    "        if svcClCode == '2001':\n",
    "            q_clturEventEtcSn = fcltyId\n",
    "            q_gubun = '1001'\n",
    "        elif svcClCode == '2002':\n",
    "            q_clturEventEtcSn = fcltyId\n",
    "            q_gubun = '1002'\n",
    "        elif svcClCode == '2003' or svcClCode == '1007':\n",
    "            q_clturEventEtcSn = fcltyId\n",
    "        else:\n",
    "            q_fcltyId = fcltyId\n",
    "    body = []\n",
    "    body = [('q_hiddenVal', 1), ('q_fcltyId', q_fcltyId), ('q_fclty', q_fclty), ('q_clturEventEtcSn', q_clturEventEtcSn), ('q_gubun',q_gubun)]\n",
    "    response = web_request('POST', DETAIL_PAGE, body)\n",
    "    res_html = bs(response['text'], \"html.parser\")\n",
    "    axis_info = res_html.select_one('div.center_infoBox a.center_info_btn02')['onclick']\n",
    "    axis_info = axis_info[axis_info.index('(')+1:axis_info.rindex(')')-1].translate(str.maketrans({\"'\":None}))\n",
    "    return axis_info.split(',')[:2]"
   ]
  },
  {
   "cell_type": "code",
   "execution_count": null,
   "id": "b79f6422",
   "metadata": {},
   "outputs": [],
   "source": [
    "37.5971213, 127.05198672345011\n",
    "geocoding('서울특별시 양천구 신월로24길 19')\n",
    "# 지오코딩으로 찾을경우 신월사거리를 찾아주고 사이트에서 있는 좌표는 신월종합사회복지관 이다.\n",
    "setPoint('37.52005','126.84735','양천구 5호점 우리동네키움센터 (융합형)','pin_1.png');\n",
    "from geopy.geocoders import Nominatim\n",
    "geo_local = Nominatim(user_agent='South Korea')\n",
    "# 위도, 경도 반환하는 함수\n",
    "def geocoding(address):\n",
    "    try:\n",
    "        geo = geo_local.geocode(address)\n",
    "        x_y = [geo.latitude, geo.longitude]\n",
    "        return x_y\n",
    "\n",
    "    except:\n",
    "        return [0,0]"
   ]
  },
  {
   "cell_type": "code",
   "execution_count": 5,
   "id": "5c135ba3",
   "metadata": {},
   "outputs": [],
   "source": [
    "LIST_PAGE = 'https://icare.seoul.go.kr/icare/user/fcltyInfoManage/BD_selectFcltyInfoManageList.do'\n",
    "DETAIL_PAGE = 'https://icare.seoul.go.kr/icare/user/fcltyInfoManage/BD_selectFcltyInfoManage.do'\n",
    "REQ_POST = 'POST'"
   ]
  },
  {
   "cell_type": "code",
   "execution_count": 6,
   "id": "b26be4a8",
   "metadata": {},
   "outputs": [],
   "source": [
    "탭목록 = []\n",
    "list_res = web_request(REQ_POST, LIST_PAGE, {'q_hiddenVal':'1','q_searchAt':'Y'})\n",
    "list_html = bs(list_res['text'], \"html.parser\")\n",
    "for item in list_html.select('div.mt_10 li'):\n",
    "    if item.text == '전체': continue\n",
    "    cd_val = item.select_one('a')['onclick']\n",
    "    cd_val = cd_val[cd_val.index('(')+2:cd_val.index(')')-1]\n",
    "    temp_dict = {'label':item.text,'q_hiddenVal':'1','q_searchAt':'Y','q_currPage':'1', 'q_rowPerPage':'15'\n",
    "                 ,'q_fcltyClCode':'1005','q_tabVal':cd_val,'q_svcClCode':cd_val}\n",
    "    \n",
    "    if cd_val == '1008':\n",
    "        temp_dict['q_moreSvc'] = '2002,2003'\n",
    "    else:\n",
    "        temp_dict['q_moreSvc'] = cd_val\n",
    "    \n",
    "    탭목록.append(temp_dict)"
   ]
  },
  {
   "cell_type": "code",
   "execution_count": 7,
   "id": "51fc6605",
   "metadata": {
    "scrolled": true
   },
   "outputs": [
    {
     "name": "stdout",
     "output_type": "stream",
     "text": [
      "{'label': '우리동네 키움센터', 'q_hiddenVal': '1', 'q_searchAt': 'Y', 'q_currPage': '1', 'q_rowPerPage': '15', 'q_fcltyClCode': '1005', 'q_tabVal': '1001', 'q_svcClCode': '1001', 'q_moreSvc': '1001'}\n",
      "{'label': '지역 아동센터', 'q_hiddenVal': '1', 'q_searchAt': 'Y', 'q_currPage': '1', 'q_rowPerPage': '15', 'q_fcltyClCode': '1005', 'q_tabVal': '1003', 'q_svcClCode': '1003', 'q_moreSvc': '1003'}\n",
      "{'label': '초등돌봄교실', 'q_hiddenVal': '1', 'q_searchAt': 'Y', 'q_currPage': '1', 'q_rowPerPage': '15', 'q_fcltyClCode': '1005', 'q_tabVal': '1005', 'q_svcClCode': '1005', 'q_moreSvc': '1005'}\n",
      "{'label': '공동육아방', 'q_hiddenVal': '1', 'q_searchAt': 'Y', 'q_currPage': '1', 'q_rowPerPage': '15', 'q_fcltyClCode': '1005', 'q_tabVal': '1002', 'q_svcClCode': '1002', 'q_moreSvc': '1002'}\n",
      "{'label': '공동육아 나눔터', 'q_hiddenVal': '1', 'q_searchAt': 'Y', 'q_currPage': '1', 'q_rowPerPage': '15', 'q_fcltyClCode': '1005', 'q_tabVal': '1004', 'q_svcClCode': '1004', 'q_moreSvc': '1004'}\n",
      "{'label': '방과후 아카데미', 'q_hiddenVal': '1', 'q_searchAt': 'Y', 'q_currPage': '1', 'q_rowPerPage': '15', 'q_fcltyClCode': '1005', 'q_tabVal': '1010', 'q_svcClCode': '1010', 'q_moreSvc': '1010'}\n",
      "{'label': '영.유아 보육시설', 'q_hiddenVal': '1', 'q_searchAt': 'Y', 'q_currPage': '1', 'q_rowPerPage': '15', 'q_fcltyClCode': '1005', 'q_tabVal': '1006', 'q_svcClCode': '1006', 'q_moreSvc': '1006'}\n",
      "{'label': '교육', 'q_hiddenVal': '1', 'q_searchAt': 'Y', 'q_currPage': '1', 'q_rowPerPage': '15', 'q_fcltyClCode': '1005', 'q_tabVal': '1008', 'q_svcClCode': '1008', 'q_moreSvc': '2002,2003'}\n",
      "{'label': '지역보육정보', 'q_hiddenVal': '1', 'q_searchAt': 'Y', 'q_currPage': '1', 'q_rowPerPage': '15', 'q_fcltyClCode': '1005', 'q_tabVal': '1007', 'q_svcClCode': '1007', 'q_moreSvc': '1007'}\n"
     ]
    }
   ],
   "source": [
    "#8개의 항목이 있는데 주소는 다 있어도 상세화면이 다르다 화면별로 스크래핑할거 고민해보자\n",
    "#초등돌봄, 영유아보육시설, 교육, 지역보육정보, 방과후아카데미 주소는 있으나 좌표정보가 없음, 조회할 방법 찾아봐야함.\n",
    "for item in 탭목록:\n",
    "    print(item)"
   ]
  },
  {
   "cell_type": "code",
   "execution_count": 8,
   "id": "b880b557",
   "metadata": {},
   "outputs": [
    {
     "name": "stdout",
     "output_type": "stream",
     "text": [
      "1페이지 센터정보생성\n",
      "2페이지 센터정보생성\n",
      "3페이지 센터정보생성\n",
      "4페이지 센터정보생성\n",
      "5페이지 센터정보생성\n",
      "6페이지 센터정보생성\n",
      "7페이지 센터정보생성\n",
      "8페이지 센터정보생성\n",
      "9페이지 센터정보생성\n",
      "10페이지 센터정보생성\n",
      "11페이지 센터정보생성\n",
      "12페이지 센터정보생성\n",
      "13페이지 센터정보생성\n",
      "14페이지 센터정보생성\n",
      "15페이지 센터정보생성\n",
      "16페이지 센터정보생성\n"
     ]
    }
   ],
   "source": [
    "상세조회_전_기관목록 = 우리동네키움센터전체목록만들기(REQ_POST, LIST_PAGE, 탭목록[0])"
   ]
  },
  {
   "cell_type": "code",
   "execution_count": 10,
   "id": "5d0f2b0f",
   "metadata": {},
   "outputs": [],
   "source": [
    "with open('./보육원정보.json', 'w', encoding='utf-8') as make_file:\n",
    "    json.dump(상세조회_전_기관목록, make_file, indent=\"\\t\")"
   ]
  },
  {
   "cell_type": "code",
   "execution_count": 81,
   "id": "eed21459-2bf4-41f3-95b3-1fd11cd79ec6",
   "metadata": {},
   "outputs": [],
   "source": [
    "for item in res_html.select('div.table_ty01,m_table_ty01,mt_20'):\n",
    "    for inside_item in item.select('tr'):\n",
    "        pass\n",
    "        #print(1, inside_item.text.strip().replace('\\t',''))"
   ]
  },
  {
   "cell_type": "code",
   "execution_count": 86,
   "id": "9e0146cb-7e57-444c-8785-e7d4461618b0",
   "metadata": {},
   "outputs": [],
   "source": [
    "for item in 상세조회_전_기관목록:\n",
    "    if item['ext_linkpage'] == '':\n",
    "        #item['q_svcClCode'] = 1001\n",
    "        axis = 상세화면조회함수('1001', item['q_fcltyId'], item['q_fclty'])\n",
    "        item['위도'] = axis[0]\n",
    "        item['경도'] = axis[1]"
   ]
  },
  {
   "cell_type": "code",
   "execution_count": 88,
   "id": "bdbc9ec0-1b70-46f6-9ea8-60b4d042e68a",
   "metadata": {},
   "outputs": [],
   "source": [
    "with open('./보육원정보.json', 'w', encoding='utf-8') as make_file:\n",
    "    json.dump(상세조회_전_기관목록, make_file, indent=\"\\t\")"
   ]
  },
  {
   "cell_type": "code",
   "execution_count": 77,
   "id": "4049395e",
   "metadata": {
    "scrolled": true
   },
   "outputs": [
    {
     "name": "stdout",
     "output_type": "stream",
     "text": [
      "예약현황 resvePopup('KC230101', 'N', '금천구 4호점 우리동네키움센터(시흥1동)','Y', '', '2022');\n",
      "예약 신청 resveDev('Y','KC230101', '');\n"
     ]
    }
   ],
   "source": [
    "# 예약 현황 # 예약신청\n",
    "#<a class=\"write_btn\" href=\"#\" id=\"btnPopup\" onclick=\"resvePopup('KC230101', 'N', '금천구 4호점 우리동네키움센터(시흥1동)','Y', '', '2022');\">예약현황</a>\n",
    "for item in res_html.select('div.center_i_btn a'):\n",
    "    print(item.text, item['onclick'])"
   ]
  },
  {
   "cell_type": "code",
   "execution_count": 15,
   "id": "f7090393",
   "metadata": {},
   "outputs": [
    {
     "name": "stdout",
     "output_type": "stream",
     "text": [
      "종일 돌봄 예약 신청 resveReq('1001','KC230101','Y','');\n",
      "시간제 돌봄 예약 신청 resveReq('1002','KC230101','Y','');\n",
      "일시 돌봄 예약 신청 resveReq('1003','KC230101','Y','');\n"
     ]
    }
   ],
   "source": [
    "for item in res_html.select('div.gray_box a'):\n",
    "    print(item.text, item['onclick'])\n",
    "# 1001 종일 1002 시간제 1003 일시"
   ]
  },
  {
   "cell_type": "code",
   "execution_count": null,
   "id": "73bd85a2-5d13-4f19-a131-d92d46bad9ba",
   "metadata": {},
   "outputs": [],
   "source": [
    "var resvePopup = function(fcltyId, satOperAt, fcltyNm, useAt, operStpgeResn, operYear){\n",
    "\n",
    "\t\t\tif(useAt == \"P\"){\t// 운영정보 준비중\n",
    "\t\t\t\talert(operStpgeResn);\n",
    "\t\t\t\treturn;\n",
    "\t\t\t}\n",
    "\n",
    "\t\t\t$(\"#q_fcltyId\").val(fcltyId);\n",
    "\t\t\t$(\"#q_satOperAt\").val(satOperAt);\n",
    "\t\t\t$(\"#q_operYear\").val(operYear);\n",
    "\n",
    "\t\t\t$(\"#fcltyName\").text(fcltyNm+\" 예약 현황\");\n",
    "\t\t\t$(\"#allReservName\").attr(\"href\", \"BD_insertChilCareResveForm.do?q_fclty=1001&q_fcltyId=\"+fcltyId+\"&q_resveStleCode=1001\");\n",
    "\t\t\t$(\"#timeReservName\").attr(\"href\", \"BD_insertChilCareResveForm.do?q_fclty=1002&q_fcltyId=\"+fcltyId+\"&q_resveStleCode=1002\");\n",
    "\t\t\t$(\"#onceReservName\").attr(\"href\", \"BD_insertChilCareResveForm.do?q_fclty=1003&q_fcltyId=\"+fcltyId+\"&q_resveStleCode=1003\");\n",
    "\n",
    "\t\t\t$(\".popup_wrap > div\").hide();\n",
    "\t\t\t$(\".tab_popup01\").show();\n",
    "\t\t\t$(\".tab li\").removeClass(\"tab_on\");\n",
    "\t\t\t$(\".tab_btn01\").addClass(\"tab_on\");\n",
    "\t\t\t$(\".tab_btn02\").removeClass(\"tab_on\");\n",
    "\t\t\tresveOrdtm();\n",
    "\t\t\tvar el = $(\"#btnPopup\");\n",
    "\t\t\tvar target = $(\".state_p\");\n",
    "\t\t\ttarget.show();\n",
    "\t\t\tel.attr(\"data-focus\",\"on_popup\");\n",
    "\t\t\t$(\"#mask\").show();\n",
    "\t\t\ttarget.attr(\"tabindex\",\"0\");\n",
    "\t\t\ttarget.focus();\n",
    "\t\t\treturn false;\n",
    "\t\t};\n"
   ]
  },
  {
   "cell_type": "code",
   "execution_count": null,
   "id": "b42d57ff",
   "metadata": {},
   "outputs": [],
   "source": [
    "def fnView = function(svcClCode, fcltyId, fcltyNm, siteUrl) {\n",
    "    if (svcClCode == '1005' || svcClCode == '2003') {\n",
    "        window.open(siteUrl, '_blank');\n",
    "    } else if (svcClCode == '1007' || svcClCode == '2003') {\n",
    "        $('#q_fclty').val(svcClCode);\n",
    "        $('#q_clturEventEtcSn').val(fcltyId);\n",
    "        $('#searchForm').attr('action', 'BD_selectFcltyInfoManage.do');\n",
    "        $('#searchForm').submit();\n",
    "    } else if (svcClCode == '2001') {\n",
    "        $('#q_fclty').val(svcClCode);\n",
    "        $('#q_clturEventEtcSn').val(fcltyId);\n",
    "        $('#q_gubun').val('1001');\n",
    "        $('#searchForm').attr('action', 'BD_selectFcltyInfoManage.do');\n",
    "        $('#searchForm').submit();\n",
    "    } else if (svcClCode == '2002') {\n",
    "        $('#q_fclty').val(svcClCode);\n",
    "        $('#q_clturEventEtcSn').val(fcltyId);\n",
    "        $('#q_gubun').val('1002');\n",
    "        $('#searchForm').attr('action', 'BD_selectFcltyInfoManage.do');\n",
    "        $('#searchForm').submit();\n",
    "    } else if (svcClCode == '1006') {\n",
    "        if (fcltyNm.indexOf('휴일보육') > 0) {\n",
    "            window.open('https://iseoul.seoul.go.kr/portal/reservation/holi_info.do', '_blank');\n",
    "        } else if (fcltyNm.indexOf('시간보육') > 0) {\n",
    "            window.open('https://iseoul.seoul.go.kr/portal/reservation/night_info.do', '_blank');\n",
    "        } else if (fcltyNm.indexOf('365열린어린이집') > 0) {\n",
    "            window.open('https://iseoul.seoul.go.kr/portal/reservation/holi_info.do', '_blank');\n",
    "        } else if (fcltyNm.indexOf('거점형시간연장보육') > 0) {\n",
    "            window.open('https://iseoul.seoul.go.kr/portal/reservation/dailyOpenPreschoolMiddle.do', '_blank');\n",
    "        } else {\n",
    "            window.open('https://iseoul.seoul.go.kr/portal/info/preSchoolList.do', '_blank');\n",
    "        }\n",
    "    } else if (svcClCode == '1008') {\n",
    "        location.href = siteUrl;\n",
    "    } else {\n",
    "        $('#q_fclty').val(svcClCode);\n",
    "        $('#q_fcltyId').val(fcltyId);\n",
    "        $('#searchForm').attr('action', 'BD_selectFcltyInfoManage.do');\n",
    "        $('#searchForm').submit();\n",
    "    }\n",
    "}"
   ]
  },
  {
   "cell_type": "code",
   "execution_count": null,
   "id": "f58f3e23",
   "metadata": {},
   "outputs": [],
   "source": [
    "var fnTabMove = function(tabVal) {\n",
    "\t\t\tvar checked = \"\";\n",
    "\t\t\tif (tabVal == '1008') {        // 교육\n",
    "\t\t\t\t$(\"input:checkbox[id^=fac_2]:checked\").each(function(i) {\n",
    "\t\t\t\t\tif (i != 0) {\n",
    "\t\t\t\t\t\tchecked += ',';\n",
    "\t\t\t\t\t}\n",
    "\t\t\t\t\tchecked += $(this).val();\n",
    "\t\t\t\t});\n",
    "\t\t\t\t$(\"#q_moreSvc\").val(checked);\n",
    "\t\t\t} else if (tabVal == '1007') { // 지역보육정보\n",
    "\t\t\t\t$(\"input:checkbox[id^=fac_1]:checked\").each(function(i) {\n",
    "\t\t\t\t\tif ($(this).val() != '2001') {\n",
    "\t\t\t\t\t\tchecked = tabVal;\n",
    "\t\t\t\t\t} else {\n",
    "\t\t\t\t\t\tif (i != 0) {\n",
    "\t\t\t\t\t\t\tchecked += ',';\n",
    "\t\t\t\t\t\t}\n",
    "\t\t\t\t\t\tchecked += $(this).val();\n",
    "\t\t\t\t\t}\n",
    "\t\t\t\t});\n",
    "\t\t\t\t$(\"#q_moreSvc\").val(checked);\n",
    "\t\t\t} else {\n",
    "\t\t\t\t$(\"#q_moreSvc\").val(tabVal);\n",
    "\t\t\t}\n",
    "\t\t\t$(\"#q_tabVal\").val(tabVal);\n",
    "\n",
    "\t\t\t$(\"#q_currPage\").val(1);\n",
    "\t\t\t$(\"#q_searchAt\").val(\"Y\");\n",
    "\t\t\t$(\"#searchForm\").submit();\n",
    "\t\t}\n"
   ]
  }
 ],
 "metadata": {
  "kernelspec": {
   "display_name": "Python 3 (ipykernel)",
   "language": "python",
   "name": "python3"
  },
  "language_info": {
   "codemirror_mode": {
    "name": "ipython",
    "version": 3
   },
   "file_extension": ".py",
   "mimetype": "text/x-python",
   "name": "python",
   "nbconvert_exporter": "python",
   "pygments_lexer": "ipython3",
   "version": "3.9.13"
  }
 },
 "nbformat": 4,
 "nbformat_minor": 5
}
