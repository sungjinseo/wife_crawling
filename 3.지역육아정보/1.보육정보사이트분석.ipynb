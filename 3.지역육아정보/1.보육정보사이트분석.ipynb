{
 "cells": [
  {
   "cell_type": "code",
   "execution_count": 215,
   "id": "5ff50555",
   "metadata": {},
   "outputs": [],
   "source": [
    "import requests\n",
    "import json\n",
    "import time\n",
    "import copy\n",
    "import re\n",
    "import math\n",
    "from bs4 import BeautifulSoup as bs"
   ]
  },
  {
   "cell_type": "code",
   "execution_count": 122,
   "id": "26b5375d",
   "metadata": {},
   "outputs": [],
   "source": [
    "def web_request(method_name, url, dict_data, is_urlencoded=True):\n",
    "    \"\"\"Web GET or POST request를 호출 후 그 결과를 dict형으로 반환 \"\"\"\n",
    "    method_name = method_name.upper()  # 메소드이름을 대문자로 바꾼다\n",
    "    if method_name not in ('GET', 'POST'):\n",
    "        raise Exception('method_name is GET or POST plz...')\n",
    "\n",
    "    if method_name == 'GET':  # GET방식인 경우\n",
    "        response = requests.get(url=url, params=dict_data)\n",
    "    elif method_name == 'POST':  # POST방식인 경우\n",
    "        if is_urlencoded is True:\n",
    "            response = requests.post(url=url, data=dict_data,\n",
    "                                     headers={'Content-Type': 'application/x-www-form-urlencoded'})\n",
    "        else:\n",
    "            response = requests.post(url=url, data=json.dumps(dict_data), headers={'Content-Type': 'application/json'})\n",
    "\n",
    "    dict_meta = {'status_code': response.status_code, 'ok': response.ok, 'encoding': response.encoding,\n",
    "                 'Content-Type': response.headers['Content-Type']}\n",
    "    if 'json' in str(response.headers['Content-Type']):  # JSON 형태인 경우\n",
    "        return {**dict_meta, **response.json()}\n",
    "    else:  # 문자열 형태인 경우\n",
    "        return {**dict_meta, **{'text': response.text}}"
   ]
  },
  {
   "cell_type": "code",
   "execution_count": 190,
   "id": "d970664b",
   "metadata": {
    "scrolled": true
   },
   "outputs": [],
   "source": [
    "body = [('q_hiddenVal', 1),\n",
    " ('q_searchAt', 'Y'),\n",
    " ('q_moreSvc', 1001),\n",
    " ('q_tabVal', 1001),\n",
    " ('q_svcClCode', 1001),\n",
    " ('q_atdrcCode', 11710)]"
   ]
  },
  {
   "cell_type": "code",
   "execution_count": 146,
   "id": "69bcbbdd",
   "metadata": {},
   "outputs": [],
   "source": [
    "response = web_request('POST', 'https://icare.seoul.go.kr/icare/user/fcltyInfoManage/BD_selectFcltyInfoManageList.do', body)"
   ]
  },
  {
   "cell_type": "code",
   "execution_count": 147,
   "id": "cded1252",
   "metadata": {},
   "outputs": [],
   "source": [
    "res_html = bs(response['text'], \"html.parser\")"
   ]
  },
  {
   "cell_type": "code",
   "execution_count": 182,
   "id": "192074fc",
   "metadata": {
    "scrolled": true
   },
   "outputs": [],
   "source": [
    "# q_searchVal = 키움센터명 검색시\n",
    "# q_moreSvc = q_svcClCode, q_clturEvent = q_tabVal\n",
    "코드값목록 = []\n",
    "전체조회목록 = ['q_fcltyCl','q_ageSeCode', 'q_atdrcCode', 'q_svcClCode']\n",
    "키목록 = []\n",
    "\n",
    "for item in res_html.select('table.center tbody li'):\n",
    "    if item.select_one('input') != None:\n",
    "        키목록.append(item.select_one('input')['name'])\n",
    "        코드값목록.append({'key':item.select_one('input')['name'], 'value':item.select_one('input')['value'], 'label':item.text})\n",
    "\n",
    "for item in res_html.select('div.mt_10 li'):\n",
    "    코드값목록.append({'key':'q_tabVal'\n",
    "                  , 'value':item.select_one('a')['onclick'][item.select_one('a')['onclick'].index('(')+2:item.select_one('a')['onclick'].index(')')-1]\n",
    "                  , 'label':item.text})\n",
    "\n",
    "키목록 = list(set(키목록))\n",
    "키목록.append('q_tabVal')\n",
    "키목록.append('q_moreSvc')"
   ]
  },
  {
   "cell_type": "code",
   "execution_count": 191,
   "id": "d9951129",
   "metadata": {},
   "outputs": [],
   "source": [
    "body = [\n",
    "    ('q_hiddenVal', '1'), \n",
    "    ('q_searchAt', 'Y'),\n",
    "]\n",
    "for item in 코드값목록:\n",
    "    if item['key'] in 전체조회목록:\n",
    "        body.append((item['key'], item['value']))"
   ]
  },
  {
   "cell_type": "code",
   "execution_count": 186,
   "id": "8a52769f",
   "metadata": {},
   "outputs": [
    {
     "name": "stdout",
     "output_type": "stream",
     "text": [
      "{'key': 'q_svcClCode', 'value': '1001', 'label': '우리동네 키움센터'}\n",
      "{'key': 'q_svcClCode', 'value': '1003', 'label': '지역 아동센터'}\n",
      "{'key': 'q_svcClCode', 'value': '1005', 'label': '초등 돌봄교실'}\n",
      "{'key': 'q_svcClCode', 'value': '1002', 'label': '공동육아방'}\n",
      "{'key': 'q_svcClCode', 'value': '1004', 'label': '공동육아 나눔터'}\n",
      "{'key': 'q_svcClCode', 'value': '1010', 'label': '청소년방과후아카데미'}\n",
      "{'key': 'q_svcClCode', 'value': '1006', 'label': '영·유아 보육시설'}\n",
      "{'key': 'q_clturEvent', 'value': '2002', 'label': '초등생 교육 프로그램'}\n",
      "{'key': 'q_clturEvent', 'value': '2003', 'label': '영·유아 교육 프로그램'}\n",
      "{'key': 'q_tabVal', 'value': '', 'label': '전체'}\n",
      "{'key': 'q_tabVal', 'value': '1001', 'label': '우리동네 키움센터'}\n",
      "{'key': 'q_tabVal', 'value': '1003', 'label': '지역 아동센터'}\n",
      "{'key': 'q_tabVal', 'value': '1005', 'label': '초등돌봄교실'}\n",
      "{'key': 'q_tabVal', 'value': '1002', 'label': '공동육아방'}\n",
      "{'key': 'q_tabVal', 'value': '1004', 'label': '공동육아 나눔터'}\n",
      "{'key': 'q_tabVal', 'value': '1010', 'label': '방과후 아카데미'}\n",
      "{'key': 'q_tabVal', 'value': '1006', 'label': '영.유아 보육시설'}\n",
      "{'key': 'q_tabVal', 'value': '1008', 'label': '교육'}\n",
      "{'key': 'q_tabVal', 'value': '1007', 'label': '지역보육정보'}\n"
     ]
    }
   ],
   "source": [
    "for item in 코드값목록:\n",
    "    if item['key'] in ['q_svcClCode','q_clturEvent', 'q_tabVal']:\n",
    "        print(item)"
   ]
  },
  {
   "cell_type": "code",
   "execution_count": 192,
   "id": "589e795e",
   "metadata": {
    "scrolled": true
   },
   "outputs": [],
   "source": [
    "## 페이지당 카운트는 15개로 고정되어 있음\n",
    "## 서비스별로 루프를 돌아서 처리해야함..\n",
    "body.extend([('q_moreSvc', '1001'), ('q_tabVal', '1001'),\n",
    "             ('q_rowPerPage', '50'),('q_currPage','1')])"
   ]
  },
  {
   "cell_type": "code",
   "execution_count": 193,
   "id": "0d7793ed",
   "metadata": {},
   "outputs": [],
   "source": [
    "response = web_request('POST', 'https://icare.seoul.go.kr/icare/user/fcltyInfoManage/BD_selectFcltyInfoManageList.do', body)"
   ]
  },
  {
   "cell_type": "code",
   "execution_count": 194,
   "id": "915dee04",
   "metadata": {},
   "outputs": [],
   "source": [
    "res_html = bs(response['text'], \"html.parser\")"
   ]
  },
  {
   "cell_type": "code",
   "execution_count": 216,
   "id": "c3c191e7",
   "metadata": {},
   "outputs": [],
   "source": [
    "total_cnt = res_html.select_one('p.board_info').text[res_html.select_one('p.board_info').text.index('전체')\n",
    "                                                     :res_html.select_one('p.board_info').text.index('건')]\n",
    "total_cnt = re.sub(r'[^0-9]', '', total_cnt)\n",
    "total_pages = math.ceil(int(total_cnt)/15)"
   ]
  },
  {
   "cell_type": "code",
   "execution_count": 271,
   "id": "0bb2217f",
   "metadata": {
    "scrolled": true
   },
   "outputs": [
    {
     "name": "stdout",
     "output_type": "stream",
     "text": [
      "fnView(\"1009\",\"YC230101\",\"양천구 5호점 우리동네키움센터 (융합형)\",\"\");\n",
      "양천구 5호점 우리동네키움센터 (융합형)\n",
      "주소서울특별시 양천구 신월로24길 19\n",
      "연락처:070-:8133-:2463\n",
      "이용료::::월 / ::::50,000 원::::  ::일 / ::::2,500 원\n",
      "융합형키움센터:양천구:초등학생\n",
      "fnView(\"1001\",\"KC230101\",\"금천구 4호점 우리동네키움센터(시흥1동)\",\"\");\n",
      "금천구 4호점 우리동네키움센터(시흥1동)\n",
      "주소서울특별시 금천구 시흥대로 164\n",
      "연락처:02-:809-:1999\n",
      "이용료::::월 / ::::50,000 원::::  ::일 / ::::2,500 원\n",
      "우리동네키움센터:금천구:초등학생\n",
      "fnView(\"1001\",\"GS221201\",\"강서6호점 화곡8동 우리동네키움센터\",\"\");\n",
      "강서6호점 화곡8동 우리동네키움센터\n",
      "주소서울특별시 강서구 강서로5길 50\n",
      "연락처:02-:2602-:1067\n",
      "이용료::::월 / ::::50,000 원::::  ::일 / ::::2,500 원\n",
      "우리동네키움센터:강서구:초등학생\n",
      "fnView(\"1009\",\"GB221101\",\"강북6호점 우리동네키움센터(융합형)(삼각산동)\",\"\");\n",
      "강북6호점 우리동네키움센터(융합형)(삼각산동)\n",
      "주소서울특별시 강북구 삼양로19길 102\n",
      "연락처:02-:988-:1318\n",
      "이용료::::월 / ::::50,000 원::::  ::일 / ::::2,500 원\n",
      "융합형키움센터:강북구:초등학생\n",
      "fnView(\"1001\",\"DM221001\",\"동대문구 6호점 우리동네키움센터\",\"\");\n",
      "동대문구 6호점 우리동네키움센터\n",
      "주소서울특별시 동대문구 약령시로5길 22\n",
      "연락처:02-:920-:4541\n",
      "이용료::::월 / ::::50,000 원::::  ::일 / ::::2,500 원\n",
      "우리동네키움센터:동대문구:초등학생\n",
      "fnView(\"1001\",\"GA220501\",\"관악3호점 우리동네키움센터\",\"\");\n",
      "관악3호점 우리동네키움센터\n",
      "주소서울특별시 관악구 청림2길 37\n",
      "연락처:02-:877-:3055\n",
      "이용료::::월 / ::::50,000 원::::  ::일 / ::::2,500 원\n",
      "우리동네키움센터:관악구:초등학생\n",
      "fnView(\"1009\",\"GR221001\",\"구로19호점 우리동네키움센터(항동융합형)\",\"\");\n",
      "구로19호점 우리동네키움센터(항동융합형)\n",
      "주소서울특별시 구로구 연동로 191-19\n",
      "연락처:02-:2619-:7942\n",
      "이용료::::월 / ::::50,000 원::::  ::일 / ::::2,500 원\n",
      "융합형키움센터:구로구:초등학생\n",
      "fnView(\"1001\",\"DJ221101\",\"동작14호점 우리동네키움센터(상도3동)\",\"\");\n",
      "동작14호점 우리동네키움센터(상도3동)\n",
      "주소서울특별시 동작구 상도로15가길 14\n",
      "연락처:02-:6953-:4665\n",
      "이용료::::월 / ::::50,000 원::::  ::일 / ::::2,500 원\n",
      "우리동네키움센터:동작구:초등학생\n",
      "fnView(\"1001\",\"SP220901\",\"송파18호점 우리동네키움센터(위례동2호점 송파키움센터)\",\"\");\n",
      "송파18호점 우리동네키움센터(위례동2호점 송파키움센터)\n",
      "주소서울특별시 송파구 위례북로4길 12\n",
      "연락처:02-:431-:5515\n",
      "이용료::::월 / ::::50,000 원::::  ::일 / ::::2,500 원\n",
      "우리동네키움센터:송파구:초등학생\n",
      "fnView(\"1001\",\"EP220902\",\"은평12호점 우리동네키움센터\",\"\");\n",
      "은평12호점 우리동네키움센터\n",
      "주소서울특별시 은평구 통일로 627\n",
      "연락처:02-:353-:6184\n",
      "이용료::::월 / ::::50,000 원::::  ::일 / ::::2,500 원\n",
      "우리동네키움센터:은평구:초등학생\n",
      "fnView(\"1001\",\"EP220901\",\"은평11호점 우리동네키움센터\",\"\");\n",
      "은평11호점 우리동네키움센터\n",
      "주소서울특별시 은평구 통일로73길 16\n",
      "연락처:02-:359-:9878\n",
      "이용료::::월 / ::::50,000 원::::  ::일 / ::::2,500 원\n",
      "우리동네키움센터:은평구:초등학생\n",
      "fnView(\"1008\",\"BP220801\",\"제5호(성북권) 거점형 우리동네키움센터\",\"https://icare.seoul.go.kr/icare/dolbomMENU1/dolbomMENU1_2/dolbomMENU1_2_5/dolbomMENU1_2_5_3.jsp\");\n",
      "제5호(성북권) 거점형 우리동네키움센터\n",
      "주소서울특별시 성북구 회기로3길 17\n",
      "연락처:02-:6956-:7033\n",
      "이용료::::::일 / ::::2,500 원\n",
      "거점형키움센터:성북구:초등학생\n",
      "fnView(\"1009\",\"GB220401\",\"강북3호점 우리동네키움센터(융합형)(삼양동)\",\"\");\n",
      "강북3호점 우리동네키움센터(융합형)(삼양동)\n",
      "주소서울특별시 강북구 인수봉로6길 39\n",
      "연락처:02-:989-:9285\n",
      "이용료::::월 / ::::50,000 원::::  ::일 / ::::2,500 원\n",
      "융합형키움센터:강북구:초등학생\n",
      "fnView(\"1001\",\"EP220801\",\"은평10호점 우리동네키움센터\",\"\");\n",
      "은평10호점 우리동네키움센터\n",
      "주소서울특별시 은평구 은평로 114\n",
      "연락처:02-:2135-:6014\n",
      "이용료::::월 / ::::50,000 원::::  ::일 / ::::2,500 원\n",
      "우리동네키움센터:은평구:초등학생\n",
      "fnView(\"1009\",\"DJ220601\",\"동작13호점 융합형 우리동네키움센터(사당동)\",\"\");\n",
      "동작13호점 융합형 우리동네키움센터(사당동)\n",
      "주소서울특별시 동작구 사당로20나길 25\n",
      "연락처:02-:2088-:5993\n",
      "이용료::::월 / ::::50,000 원::::  ::일 / ::::2,500 원\n",
      "융합형키움센터:동작구:초등학생\n"
     ]
    }
   ],
   "source": [
    "for item in res_html.select('ul li'):\n",
    "    if item.select_one('p.box_info_p') != None:\n",
    "        print(item.select_one('a')['onclick'])\n",
    "        for inside_item in item.select('span'):\n",
    "            print(inside_item.text.strip().replace('\\t', '').replace('\\n',':'))"
   ]
  },
  {
   "cell_type": "code",
   "execution_count": null,
   "id": "b42d57ff",
   "metadata": {},
   "outputs": [],
   "source": [
    "var fnView = function(svcClCode, fcltyId, fcltyNm, siteUrl) {\n",
    "    if (svcClCode == \"1005\" || svcClCode == \"2003\") {\n",
    "        window.open(siteUrl, \"_blank\");\n",
    "    } else if (svcClCode == \"1007\" || svcClCode == \"2003\") {\n",
    "        $(\"#q_fclty\").val(svcClCode);\n",
    "        $(\"#q_clturEventEtcSn\").val(fcltyId);\n",
    "        $(\"#searchForm\").attr(\"action\", \"BD_selectFcltyInfoManage.do\");\n",
    "        $(\"#searchForm\").submit();\n",
    "    } else if (svcClCode == \"2001\") {\n",
    "        $(\"#q_fclty\").val(svcClCode);\n",
    "        $(\"#q_clturEventEtcSn\").val(fcltyId);\n",
    "        $(\"#q_gubun\").val(\"1001\");\n",
    "        $(\"#searchForm\").attr(\"action\", \"BD_selectFcltyInfoManage.do\");\n",
    "        $(\"#searchForm\").submit();\n",
    "    } else if (svcClCode == \"2002\") {\n",
    "        $(\"#q_fclty\").val(svcClCode);\n",
    "        $(\"#q_clturEventEtcSn\").val(fcltyId);\n",
    "        $(\"#q_gubun\").val(\"1002\");\n",
    "        $(\"#searchForm\").attr(\"action\", \"BD_selectFcltyInfoManage.do\");\n",
    "        $(\"#searchForm\").submit();\n",
    "    } else if (svcClCode == \"1006\") {\n",
    "        if (fcltyNm.indexOf(\"휴일보육\") > 0) {\n",
    "            window.open(\"https://iseoul.seoul.go.kr/portal/reservation/holi_info.do\", \"_blank\");\n",
    "        } else if (fcltyNm.indexOf(\"시간보육\") > 0) {\n",
    "            window.open(\"https://iseoul.seoul.go.kr/portal/reservation/night_info.do\", \"_blank\");\n",
    "        } else if (fcltyNm.indexOf(\"365열린어린이집\") > 0) {\n",
    "            window.open(\"https://iseoul.seoul.go.kr/portal/reservation/holi_info.do\", \"_blank\");\n",
    "        } else if (fcltyNm.indexOf(\"거점형시간연장보육\") > 0) {\n",
    "            window.open(\"https://iseoul.seoul.go.kr/portal/reservation/dailyOpenPreschoolMiddle.do\", \"_blank\");\n",
    "        } else {\n",
    "            window.open(\"https://iseoul.seoul.go.kr/portal/info/preSchoolList.do\", \"_blank\");\n",
    "        }\n",
    "    } else if (svcClCode == \"1008\") {\n",
    "        location.href = siteUrl;\n",
    "    } else {\n",
    "        $(\"#q_fclty\").val(svcClCode);\n",
    "        $(\"#q_fcltyId\").val(fcltyId);\n",
    "        $(\"#searchForm\").attr(\"action\", \"BD_selectFcltyInfoManage.do\");\n",
    "        $(\"#searchForm\").submit();\n",
    "    }\n",
    "}"
   ]
  }
 ],
 "metadata": {
  "kernelspec": {
   "display_name": "Python 3 (ipykernel)",
   "language": "python",
   "name": "python3"
  },
  "language_info": {
   "codemirror_mode": {
    "name": "ipython",
    "version": 3
   },
   "file_extension": ".py",
   "mimetype": "text/x-python",
   "name": "python",
   "nbconvert_exporter": "python",
   "pygments_lexer": "ipython3",
   "version": "3.9.13"
  }
 },
 "nbformat": 4,
 "nbformat_minor": 5
}
