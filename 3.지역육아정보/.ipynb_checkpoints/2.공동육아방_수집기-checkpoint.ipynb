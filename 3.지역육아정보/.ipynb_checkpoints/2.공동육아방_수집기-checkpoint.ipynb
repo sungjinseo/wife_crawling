{
 "cells": [
  {
   "cell_type": "code",
   "execution_count": null,
   "id": "fea2fd5b",
   "metadata": {},
   "outputs": [],
   "source": [
    "import requests\n",
    "import json\n",
    "import time\n",
    "import copy\n",
    "import re\n",
    "import math\n",
    "import unicodedata\n",
    "from bs4 import BeautifulSoup as bs\n",
    "import tqdm as tqdm"
   ]
  },
  {
   "cell_type": "code",
   "execution_count": null,
   "id": "0be629e5",
   "metadata": {},
   "outputs": [],
   "source": [
    "def web_request(method_name, url, dict_data, is_urlencoded=True):\n",
    "    \"\"\"Web GET or POST request를 호출 후 그 결과를 dict형으로 반환 \"\"\"\n",
    "    method_name = method_name.upper()  # 메소드이름을 대문자로 바꾼다\n",
    "    if method_name not in ('GET', 'POST'):\n",
    "        raise Exception('method_name is GET or POST plz...')\n",
    "\n",
    "    if method_name == 'GET':  # GET방식인 경우\n",
    "        response = requests.get(url=url, params=dict_data)\n",
    "    elif method_name == 'POST':  # POST방식인 경우\n",
    "        if is_urlencoded is True:\n",
    "            response = requests.post(url=url, data=dict_data,\n",
    "                                     headers={'Content-Type': 'application/x-www-form-urlencoded', 'User-Agent': 'Mozilla/5.0 (Windows NT 10.0; Win64; x64) AppleWebKit/537.36 (KHTML, like Gecko) Chrome/109.0.0.0 Safari/537.36 Edg/109.0.1518.70'})\n",
    "        else:\n",
    "            response = requests.post(url=url, data=json.dumps(dict_data), headers={'Content-Type': 'application/json'})\n",
    "\n",
    "    dict_meta = {'status_code': response.status_code, 'ok': response.ok, 'encoding': response.encoding,\n",
    "                 'Content-Type': response.headers['Content-Type']}\n",
    "    if 'json' in str(response.headers['Content-Type']):  # JSON 형태인 경우\n",
    "        return {**dict_meta, **response.json()}\n",
    "    else:  # 문자열 형태인 경우\n",
    "        return {**dict_meta, **{'text': response.text}}"
   ]
  },
  {
   "cell_type": "code",
   "execution_count": null,
   "id": "790b265c",
   "metadata": {},
   "outputs": [],
   "source": [
    "def 우리동네키움센터전체목록만들기(req_method, url, body):\n",
    "    def htmlparse(list_html, labels):\n",
    "        temp_list = []\n",
    "        for item in list_html.select('div.board_box_ty02 li'):\n",
    "            if item.select_one('p.box_info_p') != None:\n",
    "                센터정보 = {}\n",
    "                list_values = []\n",
    "                detail_link = item.select_one('a')['onclick']\n",
    "                detail_link = detail_link[detail_link.index('(')+1:detail_link.rindex(')')].replace('\"','').split(',')\n",
    "                idx = 0\n",
    "                for inside_item in item.select('span'):\n",
    "                    if inside_item.select_one('em') == None:\n",
    "                        # 0: 센터명, 4: 태그\n",
    "                        list_values.append(inside_item.text.replace('\\n',','))\n",
    "                    else:\n",
    "                        # 1주소,2전화번호,3이용료\n",
    "                        inside_item.find('em').decompose()\n",
    "                        val = inside_item.text.strip().replace('\\t', '').replace('\\n','')\n",
    "                        # 주소가 노멀라이즈 했는데 이상하게 표현됨...\n",
    "                        #val = unicodedata.normalize(\"NFKD\", val)\n",
    "                        val = val\n",
    "                        list_values.append(val)\n",
    "                    idx = idx+1\n",
    "            센터정보 = dict(zip(labels, list_values))\n",
    "            센터정보['q_svcClCode'] = body['q_svcClCode']\n",
    "            센터정보['q_fclty'] = detail_link[0]\n",
    "            센터정보['q_fcltyId'] = detail_link[1]\n",
    "            센터정보['ext_linkpage'] = detail_link[3]\n",
    "            센터정보['_id'] = 'ObjectID()'\n",
    "            temp_list.append(센터정보)\n",
    "        return temp_list\n",
    "    \n",
    "    first_res = web_request(req_method, url, body)\n",
    "    first_html = bs(first_res['text'], \"html.parser\")\n",
    "    센터정보리스트 = []\n",
    "    list_labels = ['센터명', '주소', '전화번호', '이용료', '태그']\n",
    "    total_cnt = first_html.select_one('p.board_info').text\n",
    "    total_cnt = total_cnt[total_cnt.index('전체'):total_cnt.index('건')]\n",
    "    total_cnt = re.sub(r'[^0-9]', '', total_cnt)\n",
    "    total_pages = math.ceil(int(total_cnt)/15)\n",
    "    센터정보리스트 = htmlparse(first_html, list_labels)\n",
    "    print('1페이지 센터정보생성')\n",
    "    \n",
    "    for idx in tqdm(range(2,total_pages+1)):\n",
    "        body['q_currPage'] = idx\n",
    "        res = web_request(req_method, url, body)\n",
    "        html = bs(res['text'], \"html.parser\")\n",
    "        temp = htmlparse(html, list_labels)\n",
    "        센터정보리스트.extend(temp)\n",
    "        print(str(idx)+'페이지 센터정보생성')\n",
    "        \n",
    "    return 센터정보리스트"
   ]
  },
  {
   "cell_type": "code",
   "execution_count": null,
   "id": "dbd33fac",
   "metadata": {},
   "outputs": [],
   "source": [
    "def 상세화면조회함수(svcClCode, fcltyId, fclty):\n",
    "    q_fclty = fclty\n",
    "    q_clturEventEtcSn = ''\n",
    "    q_gubun = ''\n",
    "    q_fcltyId= ''\n",
    "    if svcClCode == '1006' or svcClCode == '1008':\n",
    "        pass\n",
    "    else:\n",
    "        if svcClCode == '2001':\n",
    "            q_clturEventEtcSn = fcltyId\n",
    "            q_gubun = '1001'\n",
    "        elif svcClCode == '2002':\n",
    "            q_clturEventEtcSn = fcltyId\n",
    "            q_gubun = '1002'\n",
    "        elif svcClCode == '2003' or svcClCode == '1007':\n",
    "            q_clturEventEtcSn = fcltyId\n",
    "        else:\n",
    "            q_fcltyId = fcltyId\n",
    "    body = []\n",
    "    body = [('q_hiddenVal', 1), ('q_fcltyId', q_fcltyId), ('q_fclty', q_fclty), ('q_clturEventEtcSn', q_clturEventEtcSn), ('q_gubun',q_gubun)]\n",
    "    response = web_request('POST', DETAIL_PAGE, body)\n",
    "    res_html = bs(response['text'], \"html.parser\")\n",
    "    axis_info = res_html.select_one('div.center_infoBox a.center_info_btn02')['onclick']\n",
    "    axis_info = axis_info[axis_info.index('(')+1:axis_info.rindex(')')-1].translate(str.maketrans({\"'\":None}))\n",
    "    return axis_info.split(',')[:2]"
   ]
  },
  {
   "cell_type": "code",
   "execution_count": null,
   "id": "78780601",
   "metadata": {},
   "outputs": [],
   "source": [
    "LIST_PAGE = 'https://icare.seoul.go.kr/icare/user/fcltyInfoManage/BD_selectFcltyInfoManageList.do'\n",
    "DETAIL_PAGE = 'https://icare.seoul.go.kr/icare/user/fcltyInfoManage/BD_selectFcltyInfoManage.do'\n",
    "REQ_POST = 'POST'"
   ]
  },
  {
   "cell_type": "code",
   "execution_count": null,
   "id": "235c5ad0",
   "metadata": {},
   "outputs": [],
   "source": [
    "탭목록 = []\n",
    "list_res = web_request(REQ_POST, LIST_PAGE, {'q_hiddenVal':'1','q_searchAt':'Y'})\n",
    "list_html = bs(list_res['text'], \"html.parser\")\n",
    "for item in list_html.select('div.mt_10 li'):\n",
    "    if item.text == '전체': continue\n",
    "    cd_val = item.select_one('a')['onclick']\n",
    "    cd_val = cd_val[cd_val.index('(')+2:cd_val.index(')')-1]\n",
    "    temp_dict = {'label':item.text,'q_hiddenVal':'1','q_searchAt':'Y','q_currPage':'1', 'q_rowPerPage':'15'\n",
    "                 ,'q_fcltyClCode':'1005','q_tabVal':cd_val,'q_svcClCode':cd_val}\n",
    "    \n",
    "    if cd_val == '1008':\n",
    "        temp_dict['q_moreSvc'] = '2002,2003'\n",
    "    else:\n",
    "        temp_dict['q_moreSvc'] = cd_val\n",
    "    \n",
    "    탭목록.append(temp_dict)"
   ]
  },
  {
   "cell_type": "markdown",
   "id": "1150d439",
   "metadata": {},
   "source": [
    "{'label': '우리동네 키움센터', 'q_hiddenVal': '1', 'q_searchAt': 'Y', 'q_currPage': '1', 'q_rowPerPage': '15', 'q_fcltyClCode': '1005', 'q_tabVal': '1001', 'q_svcClCode': '1001', 'q_moreSvc': '1001'}\n",
    "{'label': '지역 아동센터', 'q_hiddenVal': '1', 'q_searchAt': 'Y', 'q_currPage': '1', 'q_rowPerPage': '15', 'q_fcltyClCode': '1005', 'q_tabVal': '1003', 'q_svcClCode': '1003', 'q_moreSvc': '1003'}\n",
    "{'label': '초등돌봄교실', 'q_hiddenVal': '1', 'q_searchAt': 'Y', 'q_currPage': '1', 'q_rowPerPage': '15', 'q_fcltyClCode': '1005', 'q_tabVal': '1005', 'q_svcClCode': '1005', 'q_moreSvc': '1005'}\n",
    "{'label': '공동육아방', 'q_hiddenVal': '1', 'q_searchAt': 'Y', 'q_currPage': '1', 'q_rowPerPage': '15', 'q_fcltyClCode': '1005', 'q_tabVal': '1002', 'q_svcClCode': '1002', 'q_moreSvc': '1002'}\n",
    "{'label': '공동육아 나눔터', 'q_hiddenVal': '1', 'q_searchAt': 'Y', 'q_currPage': '1', 'q_rowPerPage': '15', 'q_fcltyClCode': '1005', 'q_tabVal': '1004', 'q_svcClCode': '1004', 'q_moreSvc': '1004'}\n",
    "{'label': '방과후 아카데미', 'q_hiddenVal': '1', 'q_searchAt': 'Y', 'q_currPage': '1', 'q_rowPerPage': '15', 'q_fcltyClCode': '1005', 'q_tabVal': '1010', 'q_svcClCode': '1010', 'q_moreSvc': '1010'}\n",
    "{'label': '영.유아 보육시설', 'q_hiddenVal': '1', 'q_searchAt': 'Y', 'q_currPage': '1', 'q_rowPerPage': '15', 'q_fcltyClCode': '1005', 'q_tabVal': '1006', 'q_svcClCode': '1006', 'q_moreSvc': '1006'}\n",
    "{'label': '교육', 'q_hiddenVal': '1', 'q_searchAt': 'Y', 'q_currPage': '1', 'q_rowPerPage': '15', 'q_fcltyClCode': '1005', 'q_tabVal': '1008', 'q_svcClCode': '1008', 'q_moreSvc': '2002,2003'}\n",
    "{'label': '지역보육정보', 'q_hiddenVal': '1', 'q_searchAt': 'Y', 'q_currPage': '1', 'q_rowPerPage': '15', 'q_fcltyClCode': '1005', 'q_tabVal': '1007', 'q_svcClCode': '1007', 'q_moreSvc': '1007'}"
   ]
  },
  {
   "cell_type": "markdown",
   "id": "740ec0d4",
   "metadata": {},
   "source": [
    "유아교육프로그램\n",
    "#q_clturEvent: 2003\n",
    "나이로 영유아\n",
    "#q_ageSeCode: 1001\n",
    "'공동육아방', 'q_hiddenVal': '1', 'q_searchAt': 'Y', 'q_currPage': '1', 'q_rowPerPage': '15', 'q_fcltyClCode': '1005', 'q_tabVal': '1002', 'q_svcClCode': '1002', 'q_moreSvc': '1002'}\n",
    "'label': '공동육아 나눔터', 'q_hiddenVal': '1', 'q_searchAt': 'Y', 'q_currPage': '1', 'q_rowPerPage': '15', 'q_fcltyClCode': '1005', 'q_tabVal': '1004', 'q_svcClCode': '1004', 'q_moreSvc': '1004'}\n",
    "'label': '영.유아 보육시설', 'q_hiddenVal': '1', 'q_searchAt': 'Y', 'q_currPage': '1', 'q_rowPerPage': '15', 'q_fcltyClCode': '1005', 'q_tabVal': '1006', 'q_svcClCode': '1006', 'q_moreSvc': '1006'}\n",
    "{'label': '지역보육정보', 'q_hiddenVal': '1', 'q_searchAt': 'Y', 'q_currPage': '1', 'q_rowPerPage': '15', 'q_fcltyClCode': '1005', 'q_tabVal': '1007', 'q_svcClCode': '1007', 'q_moreSvc': '1007'}"
   ]
  },
  {
   "cell_type": "code",
   "execution_count": null,
   "id": "7074f42d",
   "metadata": {},
   "outputs": [],
   "source": [
    "body = {'q_hiddenVal': '1', 'q_searchAt': 'Y', 'q_currPage': '1', 'q_rowPerPage': '15', 'q_fcltyClCode': '1005', 'q_tabVal': '1002', 'q_svcClCode': '1002', 'q_moreSvc': '1002', 'q_ageSeCode': '1001'}"
   ]
  },
  {
   "cell_type": "code",
   "execution_count": null,
   "id": "14defeac",
   "metadata": {},
   "outputs": [],
   "source": [
    "first_res = web_request(REQ_POST, LIST_PAGE, body)\n",
    "first_html = bs(first_res['text'], \"html.parser\")"
   ]
  },
  {
   "cell_type": "code",
   "execution_count": null,
   "id": "c02a702e",
   "metadata": {},
   "outputs": [],
   "source": [
    "# 사이트 링크가 존재하며 예약페이지 따로 있음\n",
    "<a href=\"#\" onclick='fnView(\"1002\",\"NW200403\",\"2호점 공릉2동 도담도담나눔터(공동육아방)\",\"https://www.nwscc.or.kr/php/index.php?pno=03080402\");'>\n",
    "<span class=\"box_title\">2호점 공릉2동 도담도담나눔터(공동육아방)</span>\n",
    "<p class=\"box_info_p\">\n",
    "<span class=\"box_txt\">\n",
    "<em>주소</em><b>서울특별시 노원구 화랑로51길 78</b>\n",
    "</span>\n",
    "<span class=\"box_txt\">\n",
    "<em>연락처</em>"
   ]
  },
  {
   "cell_type": "code",
   "execution_count": null,
   "id": "3acbee40",
   "metadata": {},
   "outputs": [],
   "source": [
    "def 공동육아방상세화면(svcClCode, fcltyId, fclty):\n",
    "    q_fclty = fclty\n",
    "    q_clturEventEtcSn = ''\n",
    "    q_gubun = ''\n",
    "    q_fcltyId= ''\n",
    "    if svcClCode == '1006' or svcClCode == '1008':\n",
    "        pass\n",
    "    else:\n",
    "        if svcClCode == '2001':\n",
    "            q_clturEventEtcSn = fcltyId\n",
    "            q_gubun = '1001'\n",
    "        elif svcClCode == '2002':\n",
    "            q_clturEventEtcSn = fcltyId\n",
    "            q_gubun = '1002'\n",
    "        elif svcClCode == '2003' or svcClCode == '1007':\n",
    "            q_clturEventEtcSn = fcltyId\n",
    "        else:\n",
    "            q_fcltyId = fcltyId\n",
    "    body = []\n",
    "    body = [('q_hiddenVal', 1), ('q_fcltyId', q_fcltyId), ('q_fclty', q_fclty), ('q_clturEventEtcSn', q_clturEventEtcSn), ('q_gubun',q_gubun)]\n",
    "    response = web_request('POST', DETAIL_PAGE, body)\n",
    "    res_html = bs(response['text'], \"html.parser\")\n",
    "    # 여기서 부터 파싱해서 넣을것을 찾자\n",
    "    # using_time = ''\n",
    "    #for item in result.select('.center_i_con ul')[1].select('li'):\n",
    "    #    using_time += item.text.strip().replace('\\n', '') + '\\n'\n",
    "    # \"mapPopup('37.62607','127.08812','2호점 공릉2동 도담도담나눔터(공동육아방)');\"\n",
    "    # 좌표넣을때 숫자로 집어넣자\n",
    "    # result.select_one('div.center_infoBox a.center_info_btn02')['onclick']\n",
    "    \n",
    "    return res_html"
   ]
  },
  {
   "cell_type": "code",
   "execution_count": null,
   "id": "e637fb96",
   "metadata": {},
   "outputs": [],
   "source": [
    "result_temp = {}\n",
    "result_temp[result.select_one('.center_i_btn a').text]= result.select_one('.center_i_btn a')['href']\n",
    "result_temp['이용시간']= ''\n",
    "for item in result.select('.center_i_con ul')[1].select('li'):\n",
    "    result_temp['이용시간'] += item.text.strip().replace('\\n', '') + '\\n'\n",
    "axis_info = result.select_one('div.center_infoBox a.center_info_btn02')['onclick']\n",
    "axis_info = axis_info[axis_info.index('(')+1:axis_info.rindex(')')-1].translate(str.maketrans({\"'\":None}))\n",
    "axis_info = axis_info.split(',')\n",
    "result_temp['위도']= float(axis_info[0])\n",
    "result_temp['경도']= float(axis_info[1])"
   ]
  },
  {
   "cell_type": "code",
   "execution_count": null,
   "id": "bad403f5",
   "metadata": {},
   "outputs": [],
   "source": [
    "{'예약 신청': 'https://www.nwscc.or.kr/php/index.php?pno=03080402',\n",
    " '이용시간': '1타임09:30 ~ 11:30\\n2타임13:00 ~ 15:00\\n3타임15:30 ~ 17:30\\n',\n",
    " '위도': 37.62607,\n",
    " '경도': 127.08812}"
   ]
  }
 ],
 "metadata": {
  "kernelspec": {
   "display_name": "Python 3 (ipykernel)",
   "language": "python",
   "name": "python3"
  },
  "language_info": {
   "codemirror_mode": {
    "name": "ipython",
    "version": 3
   },
   "file_extension": ".py",
   "mimetype": "text/x-python",
   "name": "python",
   "nbconvert_exporter": "python",
   "pygments_lexer": "ipython3",
   "version": "3.9.13"
  }
 },
 "nbformat": 4,
 "nbformat_minor": 5
}
