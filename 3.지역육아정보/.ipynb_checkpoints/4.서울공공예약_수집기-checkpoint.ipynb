{
 "cells": [
  {
   "cell_type": "code",
   "execution_count": 1,
   "id": "f30b75d6",
   "metadata": {},
   "outputs": [],
   "source": [
    "import requests\n",
    "import json\n",
    "import time\n",
    "import copy\n",
    "import re\n",
    "import math\n",
    "import unicodedata\n",
    "from bs4 import BeautifulSoup as bs\n",
    "from tqdm import tqdm\n",
    "import time"
   ]
  },
  {
   "cell_type": "code",
   "execution_count": 2,
   "id": "7d77404d",
   "metadata": {},
   "outputs": [],
   "source": [
    "def web_request(method_name, url, dict_data, is_urlencoded=True):\n",
    "    \"\"\"Web GET or POST request를 호출 후 그 결과를 dict형으로 반환 \"\"\"\n",
    "    method_name = method_name.upper()  # 메소드이름을 대문자로 바꾼다\n",
    "    if method_name not in ('GET', 'POST'):\n",
    "        raise Exception('method_name is GET or POST plz...')\n",
    "\n",
    "    if method_name == 'GET':  # GET방식인 경우\n",
    "        response = requests.get(url=url, params=dict_data,headers={'Content-Type': 'application/x-www-form-urlencoded'\n",
    "                                              , 'User-Agent': 'Mozilla/5.0 (Windows NT 10.0; Win64; x64) AppleWebKit/537.36 (KHTML, like Gecko) Chrome/107.0.0.0 Safari/537.36 Edg/107.0.1418.26'\n",
    "                                              })\n",
    "    elif method_name == 'POST':  # POST방식인 경우\n",
    "        if is_urlencoded is True:\n",
    "            response = requests.post(url=url, data=dict_data,\n",
    "                                     headers={'Content-Type': 'application/x-www-form-urlencoded'\n",
    "                                              , 'User-Agent': 'Mozilla/5.0 (Windows NT 10.0; Win64; x64) AppleWebKit/537.36 (KHTML, like Gecko) Chrome/107.0.0.0 Safari/537.36 Edg/107.0.1418.26'\n",
    "                                              }\n",
    "                                    )\n",
    "        else:\n",
    "            response = requests.post(url=url, data=json.dumps(dict_data), headers={'Content-Type': 'application/json'})\n",
    "\n",
    "    dict_meta = {'status_code': response.status_code, 'ok': response.ok, 'encoding': response.encoding,\n",
    "                 'Content-Type': response.headers['Content-Type']}\n",
    "    if 'json' in str(response.headers['Content-Type']):  # JSON 형태인 경우\n",
    "        return {**dict_meta, **response.json()}\n",
    "    else:  # 문자열 형태인 경우\n",
    "        return {**dict_meta, **{'text': response.text}}"
   ]
  },
  {
   "cell_type": "code",
   "execution_count": 106,
   "id": "aac1f862-f052-4656-b63d-d6646efbd114",
   "metadata": {},
   "outputs": [],
   "source": [
    "def getReserveMainInfoByHtml(list_html):\n",
    "    reserve_info_list = []\n",
    "    for item in list_html.select('div.tableA tr'):\n",
    "            #서비스명\t장소명\t접수기간/이용기간\t이용요금\t접수상태\t신청방법\t예약방법\n",
    "            #print(inside_item.select('div.sch-rslt'))\n",
    "            if len(item.select('td')) > 0:\n",
    "                reserve_info = {}\n",
    "                reserve_id = item.select_one('a')['onclick']\n",
    "                reserve_id = reserve_id[reserve_id.index(\"('\")+2:reserve_id.rindex(\"')\")]\n",
    "                reserve_info['예약ID'] = reserve_id\n",
    "                # 서비스명, 장소명\n",
    "                reserve_info['서비스명'] = item.select('div.sch-rslt')[0].text\n",
    "                reserve_info['장소명'] = item.select('div.sch-rslt')[1].text\n",
    "                ## 접수기간/이용기간\n",
    "                reserveTIme = item.select_one('td.tbl_date').text\n",
    "                reserve_info['접수기간'] = reserveTIme[reserveTIme.find(' ', 20, 30):].strip()\n",
    "                reserve_info['이용기간'] = reserveTIme[:reserveTIme.find(' ', 20, 30)].strip()\n",
    "                ## 이용요금, 접수상태\n",
    "                reserve_info['이용요금'] = item.select('td.tbl_label span.bd_label')[0].text.strip()\n",
    "                reserve_info['접수상태'] = item.select('td.tbl_label span.bd_label')[1].text.strip()\n",
    "                ##신청방법(오류날 확률이 젤 높음)\n",
    "                reserve_info['신청방법'] = item.select('td')[5].text.strip()\n",
    "                ##예약방법\n",
    "                reserve_info['예약방법'] = item.select_one('span.bd_ico').text.strip()\n",
    "                if '외부사이트' in reserve_info['예약방법']:\n",
    "                    reserve_info['외부링크여부'] = 'Y'\n",
    "                    reserve_info['외부링크'] = reserve_id\n",
    "                else:\n",
    "                    reserve_info['외부링크여부'] = 'N'\n",
    "                    reserve_info['외부링크'] = None\n",
    "                reserve_info_list.append(reserve_info)"
   ]
  },
  {
   "cell_type": "code",
   "execution_count": null,
   "id": "af1ece6c-b645-4391-8cb4-9810f1b7966d",
   "metadata": {},
   "outputs": [],
   "source": [
    "def getReserveInfoWithOutKeyName(): ## for backup\n",
    "    for item in list_html.select('div.tableA tr'):\n",
    "        if len(item.select('td')) > 0:\n",
    "            #print('#서비스명\t장소명\t접수기간/이용기간\t이용요금\t접수상태\t신청방법\t예약방법')\n",
    "            start_num = 0\n",
    "            for inside_item in item.select('td'):\n",
    "                if start_num == 0 :\n",
    "                    reserve_id = inside_item.select_one('a')['onclick']\n",
    "                    reserve_id = reserve_id[reserve_id.index(\"('\")+2:reserve_id.rindex(\"')\")]\n",
    "                else :\n",
    "                    print(inside_item.text.strip().replace('\\n',','))\n",
    "                start_num +=1"
   ]
  },
  {
   "cell_type": "code",
   "execution_count": 109,
   "id": "7314a209-7406-4c1e-809c-f8fa011b1f33",
   "metadata": {},
   "outputs": [],
   "source": [
    "LIST_PAGE = 'https://yeyak.seoul.go.kr/web/search/selectPageListDetailSearch.do'\n",
    "DETAIL_PAGE = 'https://yeyak.seoul.go.kr/web/reservation/selectReservView.do'\n",
    "RESERVE_CAL = 'https://yeyak.seoul.go.kr/web/reservation/selectListReservCalAjax.do'\n",
    "REQ_GET = 'GET'\n",
    "REQ_POST = 'POST'\n",
    "list_param = {'code':'T200','currentPage': '1'}\n",
    "detail_param = {'rsv_svc_id':'S230210163043376068','code':'T500'}"
   ]
  },
  {
   "cell_type": "code",
   "execution_count": 7,
   "id": "ac41dd9f",
   "metadata": {},
   "outputs": [],
   "source": [
    "code=T100 # 체육시설\n",
    "T500 ## 공간시설\n",
    "T200 ## 문화체험\n",
    "T000 ## 교육강좌\n",
    "T400 ## 진료복지\n",
    "#function fnGoPage(currentPage) {\n",
    "#\t\t$(\"#currentPage\").val(currentPage);\n",
    "#\t\t$(\"#sch_order\").val($(\"#sel_order\").val());\n",
    "#\t\t$(\"#search2\").attr({action : \"/web/search/selectPageListDetailSearchImg.do?currentPage=\"+currentPage ,method : 'post'}).submit();\n",
    "#\t}"
   ]
  },
  {
   "cell_type": "code",
   "execution_count": 110,
   "id": "704a65a5",
   "metadata": {},
   "outputs": [],
   "source": [
    "detail_res = web_request(REQ_POST, DETAIL_PAGE, {'sysToday': '20230211', 'rsv_svc_id': 'S230210163043376068'})\n",
    "detail_html = bs(detail_res['text'], \"html.parser\")"
   ]
  },
  {
   "cell_type": "code",
   "execution_count": null,
   "id": "fcd3dc3b-f4fc-4cb2-8877-9299fe2088e4",
   "metadata": {},
   "outputs": [],
   "source": [
    "#rate_box\n",
    "# 예약시간은 cors 정책을 우회해야할듯"
   ]
  },
  {
   "cell_type": "code",
   "execution_count": null,
   "id": "9602af84-1447-4b89-a2a3-9aab77ca0f3d",
   "metadata": {},
   "outputs": [],
   "source": [
    "cal_res = web_request(REQ_POST, DETAIL_PAGE, detail_param)\n",
    "#cal_html = bs(cal_res['text'], \"html.parser\")"
   ]
  },
  {
   "cell_type": "code",
   "execution_count": 117,
   "id": "defaf314-09e0-4bb6-9246-3a1cb18073fd",
   "metadata": {},
   "outputs": [
    {
     "data": {
      "text/plain": [
       "[<div class=\"cal_wrap\">\n",
       " <div class=\"cal_box noselect\" id=\"calendar\"></div>\n",
       " </div>]"
      ]
     },
     "execution_count": 117,
     "metadata": {},
     "output_type": "execute_result"
    }
   ],
   "source": [
    "detail_html.select('div.cal_wrap')"
   ]
  },
  {
   "cell_type": "code",
   "execution_count": 129,
   "id": "64278d0d-474c-4c95-a580-c94ba64f0119",
   "metadata": {},
   "outputs": [
    {
     "name": "stdout",
     "output_type": "stream",
     "text": [
      "<li><b class=\"tit1\">대상</b> 제한없음</li>\n",
      "<li><b class=\"tit1\">장소</b>약수동 주민센터  (면적 : 13.6)<button class=\"btn_go_map\" type=\"button\">지도보기</button></li>\n",
      "<li><b class=\"tit1\">이용기간</b>2023.02.10 ~ 2023.12.31</li>\n",
      "<li>\n",
      "<b class=\"tit1\">접수기간</b>2023.02.10 09:00 ~ 2023.12.31 18:00<br/>\n",
      "\n",
      "\n",
      "\t\t\t\t\t\n",
      "\t\t\t\t\t\n",
      "\t\t\t\t\t\t\n",
      "\t\t\t\t\t\t\t이용일로부터 30 일 전 9시 ~\n",
      "\t\t\t\t\t\t\n",
      "\t\t\t\t\t\t\n",
      "\t\t\t\t\t\t\t\n",
      "\t\t\t\t\t\t\t\n",
      "\t\t\t\t\t\t\t\t이용예정 1 일 전\n",
      "\t\t\t\t\t\t\t\n",
      "\t\t\t\t\t\t\n",
      "\t\t\t\t\t\t\n",
      "\t\t\t\t\t\t\t\n",
      "\t\t\t\t\t\t\t\t18시\n",
      "\t\t\t\t\t\t\t\n",
      "\t\t\t\t\t\t\n",
      "\t\t\t\t\t\t까지\n",
      "\n",
      "\t\t\t\t\t\t\n",
      "\t\t\t\t\t\t\n",
      "\t\t\t\t\t\n",
      "\t\t\t\t\t\n",
      "\t\t\t\t\t\n",
      "\t\t\t\t\t\t\n",
      "\t\t\t\t\t\t\n",
      "\n",
      "\t\t\t\t\t\t\n",
      "\t\t\t\t\t\t\n",
      "\t\t\t\t\t\t<p>(예: 03.14일 예약신청은 30일전(02.12) 9시부터 개시)</p>\n",
      "</li>\n",
      "<li><b class=\"tit1\">선별방법</b>심사</li>\n",
      "<li>\n",
      "<b class=\"tit1\">모집정원</b>\n",
      "\t\t\t\t\t\n",
      "\t\t\t\t\t\t\n",
      "\t\t\t\t\t\t\n",
      "\t\t\t\t\t\t\t\n",
      "\t\t\t\t\t\t\t\t\n",
      "\t\t\t\t\t\t\t\t\t\n",
      "\t\t\t\t\t\t\t\t\t\t1 팀\n",
      "\t\t\t\t\t\t\t\t\t\n",
      "\t\t\t\t\t\t\t\t\t\n",
      "\t\t\t\t\t\t\t\t\n",
      "\t\t\t\t\t\t\t\n",
      "\t\t\t\t\t\t\n",
      "\t\t\t\t\t\n",
      "\t\t\t\t</li>\n",
      "<li>\n",
      "<b class=\"tit1\">신청제한</b>\n",
      "\t\t\t\t\t\n",
      "\t\t\t\t\t\t\n",
      "\t\t\t\t\t\t\n",
      "\t\t\t\t\t\t\t\n",
      "\t\t\t\t\t\t\t\t1회에 1팀 까지 신청가능\n",
      "\t\t\t\t\t\t\t\n",
      "\t\t\t\t\t\t\t\n",
      "\t\t\t\t\t\t\t\n",
      "\t\t\t\t\t\t\n",
      "\t\t\t\t\t\n",
      "\t\t\t\t</li>\n",
      "<li>\n",
      "<b class=\"tit1\">취소기간</b>\n",
      "\t\t\t\t\t\n",
      "\t\t\t\t\t\t\n",
      "\t\t\t\t\t\t\t이용일\n",
      "\t\t\t\t\t\t\t\n",
      "\t\t\t\t\t\t\t\t\n",
      "\t\t\t\t\t\t\t\t\n",
      "\t\t\t\t\t\t\t\t\t 1일 전까지\n",
      "\t\t\t\t\t\t\t\t\n",
      "\t\t\t\t\t\t\t\n",
      "\t\t\t\t\t\t\n",
      "\t\t\t\t\t\t\n",
      "\t\t\t\t\t\n",
      "\t\t\t\t</li>\n",
      "<li><b class=\"tit1\">이용요금</b>무료</li>\n",
      "<li><b class=\"tit1\">예약방법</b>전화,현장/방문</li>\n",
      "<li class=\"fc_red\"><b class=\"tit1\">문의전화</b>약수동주민센터 / <a href=\"tel:02-3396-8522\">02-3396-8522</a></li>\n"
     ]
    }
   ],
   "source": [
    "for item in detail_html.select('div.con_box ul.dt_top_list li'):\n",
    "    print(item)"
   ]
  },
  {
   "cell_type": "code",
   "execution_count": null,
   "id": "85b3d316-3553-4fa7-88f7-cee9b5cfba3a",
   "metadata": {},
   "outputs": [],
   "source": [
    "<form id=\"aform\" method=\"post\" role=\"form\">\n",
    "<input name=\"file_id\" type=\"hidden\"/>"
   ]
  },
  {
   "cell_type": "code",
   "execution_count": null,
   "id": "a1767d26-3562-4fe1-8293-4a6f2d28f3c1",
   "metadata": {},
   "outputs": [],
   "source": []
  },
  {
   "cell_type": "code",
   "execution_count": null,
   "id": "b5565e96-9d47-45f2-ad89-39b370836fd5",
   "metadata": {},
   "outputs": [],
   "source": [
    "<input id=\"mgis_cdata\" name=\"mgis_cdata\" type=\"hidden\" value=\"[127.00899466106634,37.552472907891136]\"/>\n",
    "<input id=\"mgis_buffer\" name=\"mgis_buffer\" type=\"hidden\" value=\"\"/>\n",
    "<input id=\"x\" name=\"x\" type=\"hidden\" value=\"127.00899466106634\">\n",
    "<input id=\"y\" name=\"y\" type=\"hidden\" value=\"37.552472907891136\">"
   ]
  },
  {
   "cell_type": "code",
   "execution_count": 22,
   "id": "3694e278",
   "metadata": {},
   "outputs": [
    {
     "name": "stdout",
     "output_type": "stream",
     "text": [
      "[127.00899466106634,37.552472907891136]\n"
     ]
    }
   ],
   "source": [
    "for tag in detail_html.find_all('input', type='hidden', attrs={'name': 'mgis_cdata'}):\n",
    "    print(tag['value'])"
   ]
  },
  {
   "cell_type": "code",
   "execution_count": 23,
   "id": "ce0805fa-91dc-4bcb-a0d8-6b773ac9dea7",
   "metadata": {
    "tags": []
   },
   "outputs": [
    {
     "name": "stdout",
     "output_type": "stream",
     "text": [
      "127.00899466106634\n"
     ]
    }
   ],
   "source": [
    "for tag in detail_html.find_all('input', type='hidden', attrs={'name': 'x'}):\n",
    "    print(tag['value'])"
   ]
  },
  {
   "cell_type": "code",
   "execution_count": 24,
   "id": "1125488d-0270-44c9-80da-8e41ae4ddc32",
   "metadata": {},
   "outputs": [
    {
     "name": "stdout",
     "output_type": "stream",
     "text": [
      "37.552472907891136\n"
     ]
    }
   ],
   "source": [
    "for tag in detail_html.find_all('input', type='hidden', attrs={'name': 'y'}):\n",
    "    print(tag['value'])    "
   ]
  },
  {
   "cell_type": "code",
   "execution_count": null,
   "id": "9e1bafc3",
   "metadata": {},
   "outputs": [],
   "source": [
    "디테일\n",
    "<div class=\"tableA\">\n",
    "<table class=\"tbl_mob\">\n",
    "\n",
    "총건수\n",
    "<div>\n",
    "<h3 class=\"title_dep1\">총 <span class=\"text_red\"> 417 </span>건\n",
    "\t\t<div class=\"right_box\">\n",
    "    \n",
    "    # 한페이지에 목록은 6개"
   ]
  }
 ],
 "metadata": {
  "kernelspec": {
   "display_name": "Python 3 (ipykernel)",
   "language": "python",
   "name": "python3"
  },
  "language_info": {
   "codemirror_mode": {
    "name": "ipython",
    "version": 3
   },
   "file_extension": ".py",
   "mimetype": "text/x-python",
   "name": "python",
   "nbconvert_exporter": "python",
   "pygments_lexer": "ipython3",
   "version": "3.9.13"
  }
 },
 "nbformat": 4,
 "nbformat_minor": 5
}
