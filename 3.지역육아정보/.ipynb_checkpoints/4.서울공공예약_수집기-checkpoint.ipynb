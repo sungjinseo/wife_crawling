{
 "cells": [
  {
   "cell_type": "code",
   "execution_count": 1,
   "id": "f30b75d6",
   "metadata": {},
   "outputs": [],
   "source": [
    "import requests\n",
    "import json\n",
    "import time\n",
    "import copy\n",
    "import re\n",
    "import math\n",
    "import unicodedata\n",
    "from bs4 import BeautifulSoup as bs\n",
    "from tqdm import tqdm\n",
    "import time\n",
    "import datetime"
   ]
  },
  {
   "cell_type": "code",
   "execution_count": 2,
   "id": "7d77404d",
   "metadata": {},
   "outputs": [],
   "source": [
    "def web_request(method_name, url, dict_data, is_urlencoded=True):\n",
    "    \"\"\"Web GET or POST request를 호출 후 그 결과를 dict형으로 반환 \"\"\"\n",
    "    method_name = method_name.upper()  # 메소드이름을 대문자로 바꾼다\n",
    "    if method_name not in ('GET', 'POST'):\n",
    "        raise Exception('method_name is GET or POST plz...')\n",
    "\n",
    "    if method_name == 'GET':  # GET방식인 경우\n",
    "        response = requests.get(url=url, params=dict_data,headers={'Content-Type': 'application/x-www-form-urlencoded'\n",
    "                                              , 'User-Agent': 'Mozilla/5.0 (Windows NT 10.0; Win64; x64) AppleWebKit/537.36 (KHTML, like Gecko) Chrome/107.0.0.0 Safari/537.36 Edg/107.0.1418.26'\n",
    "                                              })\n",
    "    elif method_name == 'POST':  # POST방식인 경우\n",
    "        if is_urlencoded is True:\n",
    "            response = requests.post(url=url, data=dict_data,\n",
    "                                     headers={'Content-Type': 'application/x-www-form-urlencoded'\n",
    "                                              , 'User-Agent': 'Mozilla/5.0 (Windows NT 10.0; Win64; x64) AppleWebKit/537.36 (KHTML, like Gecko) Chrome/107.0.0.0 Safari/537.36 Edg/107.0.1418.26'\n",
    "                                              }\n",
    "                                    )\n",
    "        else:\n",
    "            response = requests.post(url=url, data=json.dumps(dict_data), headers={'Content-Type': 'application/json'})\n",
    "\n",
    "    dict_meta = {'status_code': response.status_code, 'ok': response.ok, 'encoding': response.encoding,\n",
    "                 'Content-Type': response.headers['Content-Type']}\n",
    "    if 'json' in str(response.headers['Content-Type']):  # JSON 형태인 경우\n",
    "        return {**dict_meta, **response.json()}\n",
    "    else:  # 문자열 형태인 경우\n",
    "        return {**dict_meta, **{'text': response.text}}"
   ]
  },
  {
   "cell_type": "code",
   "execution_count": 3,
   "id": "aac1f862-f052-4656-b63d-d6646efbd114",
   "metadata": {},
   "outputs": [],
   "source": [
    "def getReserveMainInfoByHtml(list_html):\n",
    "    reserve_info_list = []\n",
    "    for item in list_html.select('div.tableA tr'):\n",
    "            #서비스명\t장소명\t접수기간/이용기간\t이용요금\t접수상태\t신청방법\t예약방법\n",
    "            #print(inside_item.select('div.sch-rslt'))\n",
    "            if len(item.select('td')) > 0:\n",
    "                reserve_info = {}\n",
    "                reserve_id = item.select_one('a')['onclick']\n",
    "                reserve_id = reserve_id[reserve_id.index(\"('\")+2:reserve_id.rindex(\"')\")]\n",
    "                reserve_info['예약ID'] = reserve_id\n",
    "                # 서비스명, 장소명\n",
    "                reserve_info['서비스명'] = item.select('div.sch-rslt')[0].text\n",
    "                reserve_info['장소명'] = item.select('div.sch-rslt')[1].text\n",
    "                ## 접수기간/이용기간\n",
    "                reserveTIme = item.select_one('td.tbl_date').text\n",
    "                reserve_info['접수기간'] = reserveTIme[reserveTIme.find(' ', 20, 30):].strip()\n",
    "                reserve_info['이용기간'] = reserveTIme[:reserveTIme.find(' ', 20, 30)].strip()\n",
    "                ## 이용요금, 접수상태\n",
    "                reserve_info['이용요금'] = item.select('td.tbl_label span.bd_label')[0].text.strip()\n",
    "                reserve_info['접수상태'] = item.select('td.tbl_label span.bd_label')[1].text.strip()\n",
    "                ##신청방법(오류날 확률이 젤 높음)\n",
    "                reserve_info['신청방법'] = item.select('td')[5].text.strip()\n",
    "                ##예약방법\n",
    "                reserve_info['예약방법'] = item.select_one('span.bd_ico').text.strip()\n",
    "                if '외부사이트' in reserve_info['예약방법']:\n",
    "                    reserve_info['외부링크여부'] = 'Y'\n",
    "                    reserve_info['외부링크'] = reserve_id\n",
    "                else:\n",
    "                    reserve_info['외부링크여부'] = 'N'\n",
    "                    reserve_info['외부링크'] = None\n",
    "                reserve_info_list.append(reserve_info)\n",
    "    return reserve_info_list"
   ]
  },
  {
   "cell_type": "code",
   "execution_count": 4,
   "id": "af1ece6c-b645-4391-8cb4-9810f1b7966d",
   "metadata": {},
   "outputs": [],
   "source": [
    "def getReserveInfoWithOutKeyName(): ## for backup\n",
    "    for item in list_html.select('div.tableA tr'):\n",
    "        if len(item.select('td')) > 0:\n",
    "            #print('#서비스명\t장소명\t접수기간/이용기간\t이용요금\t접수상태\t신청방법\t예약방법')\n",
    "            start_num = 0\n",
    "            for inside_item in item.select('td'):\n",
    "                if start_num == 0 :\n",
    "                    reserve_id = inside_item.select_one('a')['onclick']\n",
    "                    reserve_id = reserve_id[reserve_id.index(\"('\")+2:reserve_id.rindex(\"')\")]\n",
    "                else :\n",
    "                    print(inside_item.text.strip().replace('\\n',','))\n",
    "                start_num +=1\n",
    "\n",
    "def cleanhtml(raw_html):\n",
    "    cleanr = re.compile('<.*?>')\n",
    "    cleantext = re.sub(cleanr, '', raw_html)\n",
    "    return cleantext"
   ]
  },
  {
   "cell_type": "code",
   "execution_count": 9,
   "id": "0c5367e8",
   "metadata": {},
   "outputs": [],
   "source": [
    "def 예약전체리스트만들기(req_method, url, body):\n",
    "    def getReserveMainInfoByHtml(list_html):\n",
    "        reserve_info_list = []\n",
    "        for item in list_html.select('div.tableA tr'):\n",
    "                #서비스명\t장소명\t접수기간/이용기간\t이용요금\t접수상태\t신청방법\t예약방법\n",
    "                #print(inside_item.select('div.sch-rslt'))\n",
    "                if len(item.select('td')) > 0:\n",
    "                    reserve_info = {}\n",
    "                    reserve_id = item.select_one('a')['onclick']\n",
    "                    reserve_id = reserve_id[reserve_id.index(\"('\")+2:reserve_id.rindex(\"')\")]\n",
    "                    reserve_info['_id'] = 'ObjectID()'\n",
    "                    reserve_info['예약ID'] = reserve_id\n",
    "                    # 서비스명, 장소명\n",
    "                    reserve_info['서비스명'] = item.select('div.sch-rslt')[0].text\n",
    "                    reserve_info['장소명'] = item.select('div.sch-rslt')[1].text\n",
    "                    ## 접수기간/이용기간\n",
    "                    reserveTIme = item.select_one('td.tbl_date').text\n",
    "                    reserve_info['접수기간'] = reserveTIme[reserveTIme.find(' ', 20, 30):].strip()\n",
    "                    reserve_info['이용기간'] = reserveTIme[:reserveTIme.find(' ', 20, 30)].strip()\n",
    "                    ## 이용요금, 접수상태\n",
    "                    reserve_info['이용요금'] = item.select('td.tbl_label span.bd_label')[0].text.strip()\n",
    "                    reserve_info['접수상태'] = item.select('td.tbl_label span.bd_label')[1].text.strip()\n",
    "                    ##신청방법(오류날 확률이 젤 높음)\n",
    "                    reserve_info['신청방법'] = item.select('td')[5].text.strip()\n",
    "                    ##예약방법\n",
    "                    reserve_info['예약방법'] = item.select_one('span.bd_ico').text.strip()\n",
    "                    if '외부사이트' in reserve_info['예약방법']:\n",
    "                        reserve_info['외부링크여부'] = 'Y'\n",
    "                        reserve_info['외부링크'] = reserve_id\n",
    "                    else:\n",
    "                        reserve_info['외부링크여부'] = 'N'\n",
    "                        reserve_info['외부링크'] = None\n",
    "                    reserve_info_list.append(reserve_info)\n",
    "        return reserve_info_list\n",
    "\n",
    "    first_res = web_request(req_method, url, body)\n",
    "    first_html = bs(first_res['text'], \"html.parser\")\n",
    "    센터정보리스트 = []\n",
    "    #list_labels = ['서비스명','장소명',\t접수기간/이용기간\t이용요금\t접수상태\t신청방법\t예약방법]\n",
    "    total_pages = math.ceil(int(first_html.select_one('h3.title_dep1 span.text_red').text)/6)\n",
    "    센터정보리스트 = getReserveMainInfoByHtml(first_html)\n",
    "    print('1페이지 센터정보생성')\n",
    "    \n",
    "    for idx in tqdm(range(2,total_pages+1)):\n",
    "        res = web_request(req_method, url+'?currentPage='+idx, body)\n",
    "        html = bs(res['text'], \"html.parser\")\n",
    "        temp = getReserveMainInfoByHtml(html)\n",
    "        센터정보리스트.extend(temp)\n",
    "        print(str(idx)+'페이지 센터정보생성')\n",
    "        \n",
    "    return 센터정보리스트"
   ]
  },
  {
   "cell_type": "code",
   "execution_count": 6,
   "id": "c0603736",
   "metadata": {},
   "outputs": [],
   "source": [
    "def getDetailInfo(detail_html):\n",
    "    center_info = {}\n",
    "    center_info['이미지경로']= 'https://yeyak.seoul.go.kr/' + detail_html.select_one('div.left_box div.img_box img')['src']\n",
    "    for item in detail_html.select('div.con_box ul.dt_top_list li'):\n",
    "        if len(item.select('b')) == 0 : \n",
    "            continue\n",
    "        key = item.select('b')[0].text\n",
    "        value= item.prettify()\n",
    "        value = cleanhtml(value[value.index('</b>')+4:])\n",
    "        value = value.strip().replace('\\t', '').replace('\\n', '').replace('\\r', ' ')\n",
    "        center_info[key] = value\n",
    "    for tag in detail_html.find_all('input', type='hidden', attrs={'name': 'x'}):\n",
    "        center_info['경도'] = float(tag['value'])\n",
    "\n",
    "    for tag in detail_html.find_all('input', type='hidden', attrs={'name': 'y'}):\n",
    "        center_info['위도'] = float(tag['value'])\n",
    "    #for tag in detail_html.find_all('input', type='hidden', attrs={'name': 'mgis_cdata'}):\n",
    "    return center_info"
   ]
  },
  {
   "cell_type": "code",
   "execution_count": 7,
   "id": "7314a209-7406-4c1e-809c-f8fa011b1f33",
   "metadata": {},
   "outputs": [],
   "source": [
    "LIST_PAGE = 'https://yeyak.seoul.go.kr/web/search/selectPageListDetailSearch.do'\n",
    "IMG_LIST_PAGE = 'https://yeyak.seoul.go.kr/web/search/selectPageListDetailSearchImg.do'\n",
    "DETAIL_PAGE = 'https://yeyak.seoul.go.kr/web/reservation/selectReservView.do'\n",
    "RESERVE_CAL = 'https://yeyak.seoul.go.kr/web/reservation/selectListReservCalAjax.do'\n",
    "REQ_GET = 'GET'\n",
    "REQ_POST = 'POST'\n",
    "now = datetime.datetime.now()\n",
    "today_yyyymmdd = now.strftime(\"%Y%m%d\")"
   ]
  },
  {
   "cell_type": "code",
   "execution_count": 10,
   "id": "cdac6785",
   "metadata": {
    "scrolled": true
   },
   "outputs": [
    {
     "name": "stdout",
     "output_type": "stream",
     "text": [
      "1페이지 센터정보생성\n"
     ]
    },
    {
     "name": "stderr",
     "output_type": "stream",
     "text": [
      "  0%|                                                                                           | 0/27 [00:00<?, ?it/s]\n"
     ]
    },
    {
     "ename": "TypeError",
     "evalue": "can only concatenate str (not \"int\") to str",
     "output_type": "error",
     "traceback": [
      "\u001b[1;31m---------------------------------------------------------------------------\u001b[0m",
      "\u001b[1;31mTypeError\u001b[0m                                 Traceback (most recent call last)",
      "Cell \u001b[1;32mIn [10], line 6\u001b[0m\n\u001b[0;32m      4\u001b[0m code_list \u001b[38;5;241m=\u001b[39m [\u001b[38;5;124m'\u001b[39m\u001b[38;5;124mT200\u001b[39m\u001b[38;5;124m'\u001b[39m,\u001b[38;5;124m'\u001b[39m\u001b[38;5;124mT000\u001b[39m\u001b[38;5;124m'\u001b[39m]\n\u001b[0;32m      5\u001b[0m \u001b[38;5;28;01mfor\u001b[39;00m code \u001b[38;5;129;01min\u001b[39;00m code_list:\n\u001b[1;32m----> 6\u001b[0m     total_list\u001b[38;5;241m.\u001b[39mextend(\u001b[43m예약전체리스트만들기\u001b[49m\u001b[43m(\u001b[49m\u001b[43mREQ_POST\u001b[49m\u001b[43m,\u001b[49m\u001b[43mLIST_PAGE\u001b[49m\u001b[43m,\u001b[49m\u001b[43m{\u001b[49m\u001b[38;5;124;43m'\u001b[39;49m\u001b[38;5;124;43mcode\u001b[39;49m\u001b[38;5;124;43m'\u001b[39;49m\u001b[43m:\u001b[49m\u001b[43mcode\u001b[49m\u001b[43m}\u001b[49m\u001b[43m)\u001b[49m)\n",
      "Cell \u001b[1;32mIn [9], line 45\u001b[0m, in \u001b[0;36m예약전체리스트만들기\u001b[1;34m(req_method, url, body)\u001b[0m\n\u001b[0;32m     42\u001b[0m \u001b[38;5;28mprint\u001b[39m(\u001b[38;5;124m'\u001b[39m\u001b[38;5;124m1페이지 센터정보생성\u001b[39m\u001b[38;5;124m'\u001b[39m)\n\u001b[0;32m     44\u001b[0m \u001b[38;5;28;01mfor\u001b[39;00m idx \u001b[38;5;129;01min\u001b[39;00m tqdm(\u001b[38;5;28mrange\u001b[39m(\u001b[38;5;241m2\u001b[39m,total_pages\u001b[38;5;241m+\u001b[39m\u001b[38;5;241m1\u001b[39m)):\n\u001b[1;32m---> 45\u001b[0m     res \u001b[38;5;241m=\u001b[39m web_request(req_method, \u001b[43murl\u001b[49m\u001b[38;5;241;43m+\u001b[39;49m\u001b[38;5;124;43m'\u001b[39;49m\u001b[38;5;124;43m?currentPage=\u001b[39;49m\u001b[38;5;124;43m'\u001b[39;49m\u001b[38;5;241;43m+\u001b[39;49m\u001b[43midx\u001b[49m, body)\n\u001b[0;32m     46\u001b[0m     html \u001b[38;5;241m=\u001b[39m bs(res[\u001b[38;5;124m'\u001b[39m\u001b[38;5;124mtext\u001b[39m\u001b[38;5;124m'\u001b[39m], \u001b[38;5;124m\"\u001b[39m\u001b[38;5;124mhtml.parser\u001b[39m\u001b[38;5;124m\"\u001b[39m)\n\u001b[0;32m     47\u001b[0m     temp \u001b[38;5;241m=\u001b[39m getReserveMainInfoByHtml(html)\n",
      "\u001b[1;31mTypeError\u001b[0m: can only concatenate str (not \"int\") to str"
     ]
    }
   ],
   "source": [
    "total_list = []\n",
    "# 체육시설, 문화체험, 공간시설, 교육강좌, 진료복지\n",
    "#code_list = ['T100', 'T200', 'T500', 'T000', 'T400']\n",
    "code_list = ['T200','T000']\n",
    "for code in code_list:\n",
    "    total_list.extend(예약전체리스트만들기(REQ_POST,LIST_PAGE,{'code':code}))"
   ]
  },
  {
   "cell_type": "code",
   "execution_count": null,
   "id": "0afb83fb",
   "metadata": {},
   "outputs": [],
   "source": [
    "for item in total_list:\n",
    "    if item['외부링크여부'] == 'N':\n",
    "        detail_res = web_request(REQ_POST, DETAIL_PAGE, {'sysToday': today_yyyymmdd, 'rsv_svc_id': item['예약ID']})\n",
    "        detail_html = bs(detail_res['text'], \"html.parser\")\n",
    "        item.update(getDetailInfo(detail_html))"
   ]
  },
  {
   "cell_type": "code",
   "execution_count": null,
   "id": "4fe1ab88",
   "metadata": {},
   "outputs": [],
   "source": [
    "with open('./서울예약정보.json', 'w', encoding='utf-8') as make_file:\n",
    "    json.dump(total_list, make_file, indent=\"\\t\")"
   ]
  }
 ],
 "metadata": {
  "kernelspec": {
   "display_name": "Python 3 (ipykernel)",
   "language": "python",
   "name": "python3"
  },
  "language_info": {
   "codemirror_mode": {
    "name": "ipython",
    "version": 3
   },
   "file_extension": ".py",
   "mimetype": "text/x-python",
   "name": "python",
   "nbconvert_exporter": "python",
   "pygments_lexer": "ipython3",
   "version": "3.9.13"
  }
 },
 "nbformat": 4,
 "nbformat_minor": 5
}
