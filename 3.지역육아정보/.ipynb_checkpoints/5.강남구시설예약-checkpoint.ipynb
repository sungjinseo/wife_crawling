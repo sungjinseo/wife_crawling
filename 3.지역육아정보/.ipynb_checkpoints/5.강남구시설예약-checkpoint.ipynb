{
 "cells": [
  {
   "cell_type": "code",
   "execution_count": null,
   "id": "94fcc752-d5d2-4842-933e-54f0aaae75e8",
   "metadata": {},
   "outputs": [],
   "source": [
    "강남구 시설예약사잍\n",
    "https://life.gangnam.go.kr/fmcs/1"
   ]
  }
 ],
 "metadata": {
  "kernelspec": {
   "display_name": "Python 3 (ipykernel)",
   "language": "python",
   "name": "python3"
  },
  "language_info": {
   "codemirror_mode": {
    "name": "ipython",
    "version": 3
   },
   "file_extension": ".py",
   "mimetype": "text/x-python",
   "name": "python",
   "nbconvert_exporter": "python",
   "pygments_lexer": "ipython3",
   "version": "3.9.13"
  }
 },
 "nbformat": 4,
 "nbformat_minor": 5
}
