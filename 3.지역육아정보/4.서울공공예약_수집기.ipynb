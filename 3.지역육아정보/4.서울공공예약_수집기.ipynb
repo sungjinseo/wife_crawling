{
 "cells": [
  {
   "cell_type": "code",
   "execution_count": 1,
   "id": "f30b75d6",
   "metadata": {},
   "outputs": [],
   "source": [
    "import requests\n",
    "import json\n",
    "import time\n",
    "import copy\n",
    "import re\n",
    "import math\n",
    "import unicodedata\n",
    "from bs4 import BeautifulSoup as bs\n",
    "from tqdm import tqdm\n",
    "import time\n",
    "import datetime"
   ]
  },
  {
   "cell_type": "code",
   "execution_count": 2,
   "id": "7d77404d",
   "metadata": {},
   "outputs": [],
   "source": [
    "def web_request(method_name, url, dict_data, is_urlencoded=True):\n",
    "    \"\"\"Web GET or POST request를 호출 후 그 결과를 dict형으로 반환 \"\"\"\n",
    "    method_name = method_name.upper()  # 메소드이름을 대문자로 바꾼다\n",
    "    if method_name not in ('GET', 'POST'):\n",
    "        raise Exception('method_name is GET or POST plz...')\n",
    "\n",
    "    if method_name == 'GET':  # GET방식인 경우\n",
    "        response = requests.get(url=url, params=dict_data,headers={'Content-Type': 'application/x-www-form-urlencoded'\n",
    "                                              , 'User-Agent': 'Mozilla/5.0 (Windows NT 10.0; Win64; x64) AppleWebKit/537.36 (KHTML, like Gecko) Chrome/107.0.0.0 Safari/537.36 Edg/107.0.1418.26'\n",
    "                                              })\n",
    "    elif method_name == 'POST':  # POST방식인 경우\n",
    "        if is_urlencoded is True:\n",
    "            response = requests.post(url=url, data=dict_data,\n",
    "                                     headers={'Content-Type': 'application/x-www-form-urlencoded'\n",
    "                                              , 'User-Agent': 'Mozilla/5.0 (Windows NT 10.0; Win64; x64) AppleWebKit/537.36 (KHTML, like Gecko) Chrome/107.0.0.0 Safari/537.36 Edg/107.0.1418.26'\n",
    "                                              }\n",
    "                                    )\n",
    "        else:\n",
    "            response = requests.post(url=url, data=json.dumps(dict_data), headers={'Content-Type': 'application/json'})\n",
    "\n",
    "    dict_meta = {'status_code': response.status_code, 'ok': response.ok, 'encoding': response.encoding,\n",
    "                 'Content-Type': response.headers['Content-Type']}\n",
    "    if 'json' in str(response.headers['Content-Type']):  # JSON 형태인 경우\n",
    "        return {**dict_meta, **response.json()}\n",
    "    else:  # 문자열 형태인 경우\n",
    "        return {**dict_meta, **{'text': response.text}}"
   ]
  },
  {
   "cell_type": "code",
   "execution_count": 3,
   "id": "aac1f862-f052-4656-b63d-d6646efbd114",
   "metadata": {},
   "outputs": [],
   "source": [
    "def getReserveMainInfoByHtml(list_html):\n",
    "    reserve_info_list = []\n",
    "    for item in list_html.select('div.tableA tr'):\n",
    "            #서비스명\t장소명\t접수기간/이용기간\t이용요금\t접수상태\t신청방법\t예약방법\n",
    "            #print(inside_item.select('div.sch-rslt'))\n",
    "            if len(item.select('td')) > 0:\n",
    "                reserve_info = {}\n",
    "                reserve_id = item.select_one('a')['onclick']\n",
    "                reserve_id = reserve_id[reserve_id.index(\"('\")+2:reserve_id.rindex(\"')\")]\n",
    "                reserve_info['예약ID'] = reserve_id\n",
    "                # 서비스명, 장소명\n",
    "                reserve_info['서비스명'] = item.select('div.sch-rslt')[0].text\n",
    "                reserve_info['장소명'] = item.select('div.sch-rslt')[1].text\n",
    "                ## 접수기간/이용기간\n",
    "                reserveTIme = item.select_one('td.tbl_date').text\n",
    "                reserve_info['접수기간'] = reserveTIme[reserveTIme.find(' ', 20, 30):].strip()\n",
    "                reserve_info['이용기간'] = reserveTIme[:reserveTIme.find(' ', 20, 30)].strip()\n",
    "                ## 이용요금, 접수상태\n",
    "                reserve_info['이용요금'] = item.select('td.tbl_label span.bd_label')[0].text.strip()\n",
    "                reserve_info['접수상태'] = item.select('td.tbl_label span.bd_label')[1].text.strip()\n",
    "                ##신청방법(오류날 확률이 젤 높음)\n",
    "                reserve_info['신청방법'] = item.select('td')[5].text.strip()\n",
    "                ##예약방법\n",
    "                reserve_info['예약방법'] = item.select_one('span.bd_ico').text.strip()\n",
    "                if '외부사이트' in reserve_info['예약방법']:\n",
    "                    reserve_info['외부링크여부'] = 'Y'\n",
    "                    reserve_info['외부링크'] = reserve_id\n",
    "                else:\n",
    "                    reserve_info['외부링크여부'] = 'N'\n",
    "                    reserve_info['외부링크'] = None\n",
    "                reserve_info_list.append(reserve_info)\n",
    "    return reserve_info_list"
   ]
  },
  {
   "cell_type": "code",
   "execution_count": 4,
   "id": "af1ece6c-b645-4391-8cb4-9810f1b7966d",
   "metadata": {},
   "outputs": [],
   "source": [
    "def getReserveInfoWithOutKeyName(): ## for backup\n",
    "    for item in list_html.select('div.tableA tr'):\n",
    "        if len(item.select('td')) > 0:\n",
    "            #print('#서비스명\t장소명\t접수기간/이용기간\t이용요금\t접수상태\t신청방법\t예약방법')\n",
    "            start_num = 0\n",
    "            for inside_item in item.select('td'):\n",
    "                if start_num == 0 :\n",
    "                    reserve_id = inside_item.select_one('a')['onclick']\n",
    "                    reserve_id = reserve_id[reserve_id.index(\"('\")+2:reserve_id.rindex(\"')\")]\n",
    "                else :\n",
    "                    print(inside_item.text.strip().replace('\\n',','))\n",
    "                start_num +=1\n",
    "\n",
    "def cleanhtml(raw_html):\n",
    "    cleanr = re.compile('<.*?>')\n",
    "    cleantext = re.sub(cleanr, '', raw_html)\n",
    "    return cleantext"
   ]
  },
  {
   "cell_type": "code",
   "execution_count": 11,
   "id": "0c5367e8",
   "metadata": {},
   "outputs": [],
   "source": [
    "def 예약전체리스트만들기(req_method, url, body):\n",
    "    def getReserveMainInfoByHtml(list_html):\n",
    "        reserve_info_list = []\n",
    "        for item in list_html.select('div.tableA tr'):\n",
    "                #서비스명\t장소명\t접수기간/이용기간\t이용요금\t접수상태\t신청방법\t예약방법\n",
    "                #print(inside_item.select('div.sch-rslt'))\n",
    "                if len(item.select('td')) > 0:\n",
    "                    reserve_info = {}\n",
    "                    reserve_id = item.select_one('a')['onclick']\n",
    "                    reserve_id = reserve_id[reserve_id.index(\"('\")+2:reserve_id.rindex(\"')\")]\n",
    "                    reserve_info['_id'] = 'ObjectID()'\n",
    "                    reserve_info['예약ID'] = reserve_id\n",
    "                    # 서비스명, 장소명\n",
    "                    reserve_info['서비스명'] = item.select('div.sch-rslt')[0].text\n",
    "                    reserve_info['장소명'] = item.select('div.sch-rslt')[1].text\n",
    "                    ## 접수기간/이용기간\n",
    "                    reserveTIme = item.select_one('td.tbl_date').text\n",
    "                    reserve_info['접수기간'] = reserveTIme[reserveTIme.find(' ', 20, 30):].strip()\n",
    "                    reserve_info['이용기간'] = reserveTIme[:reserveTIme.find(' ', 20, 30)].strip()\n",
    "                    ## 이용요금, 접수상태\n",
    "                    reserve_info['이용요금'] = item.select('td.tbl_label span.bd_label')[0].text.strip()\n",
    "                    reserve_info['접수상태'] = item.select('td.tbl_label span.bd_label')[1].text.strip()\n",
    "                    ##신청방법(오류날 확률이 젤 높음)\n",
    "                    reserve_info['신청방법'] = item.select('td')[5].text.strip()\n",
    "                    ##예약방법\n",
    "                    reserve_info['예약방법'] = item.select_one('span.bd_ico').text.strip()\n",
    "                    if '외부사이트' in reserve_info['예약방법']:\n",
    "                        reserve_info['외부링크여부'] = 'Y'\n",
    "                        reserve_info['외부링크'] = reserve_id\n",
    "                    else:\n",
    "                        reserve_info['외부링크여부'] = 'N'\n",
    "                        reserve_info['외부링크'] = None\n",
    "                    reserve_info_list.append(reserve_info)\n",
    "        return reserve_info_list\n",
    "\n",
    "    first_res = web_request(req_method, url, body)\n",
    "    first_html = bs(first_res['text'], \"html.parser\")\n",
    "    센터정보리스트 = []\n",
    "    #list_labels = ['서비스명','장소명',\t접수기간/이용기간\t이용요금\t접수상태\t신청방법\t예약방법]\n",
    "    total_pages = math.ceil(int(first_html.select_one('h3.title_dep1 span.text_red').text)/6)\n",
    "    센터정보리스트 = getReserveMainInfoByHtml(first_html)\n",
    "    print('1페이지 센터정보생성')\n",
    "    \n",
    "    for idx in tqdm(range(2,total_pages+1)):\n",
    "        res = web_request(req_method, url+'?currentPage='+str(idx), body)\n",
    "        html = bs(res['text'], \"html.parser\")\n",
    "        temp = getReserveMainInfoByHtml(html)\n",
    "        센터정보리스트.extend(temp)\n",
    "        print(str(idx)+'페이지 센터정보생성')\n",
    "        \n",
    "    return 센터정보리스트"
   ]
  },
  {
   "cell_type": "code",
   "execution_count": 6,
   "id": "c0603736",
   "metadata": {},
   "outputs": [],
   "source": [
    "def getDetailInfo(detail_html):\n",
    "    center_info = {}\n",
    "    center_info['이미지경로']= 'https://yeyak.seoul.go.kr/' + detail_html.select_one('div.left_box div.img_box img')['src']\n",
    "    for item in detail_html.select('div.con_box ul.dt_top_list li'):\n",
    "        if len(item.select('b')) == 0 : \n",
    "            continue\n",
    "        key = item.select('b')[0].text\n",
    "        value= item.prettify()\n",
    "        value = cleanhtml(value[value.index('</b>')+4:])\n",
    "        value = value.strip().replace('\\t', '').replace('\\n', '').replace('\\r', ' ')\n",
    "        center_info[key] = value\n",
    "    for tag in detail_html.find_all('input', type='hidden', attrs={'name': 'x'}):\n",
    "        center_info['경도'] = float(tag['value'])\n",
    "\n",
    "    for tag in detail_html.find_all('input', type='hidden', attrs={'name': 'y'}):\n",
    "        center_info['위도'] = float(tag['value'])\n",
    "    #for tag in detail_html.find_all('input', type='hidden', attrs={'name': 'mgis_cdata'}):\n",
    "    return center_info"
   ]
  },
  {
   "cell_type": "code",
   "execution_count": 7,
   "id": "7314a209-7406-4c1e-809c-f8fa011b1f33",
   "metadata": {},
   "outputs": [],
   "source": [
    "LIST_PAGE = 'https://yeyak.seoul.go.kr/web/search/selectPageListDetailSearch.do'\n",
    "IMG_LIST_PAGE = 'https://yeyak.seoul.go.kr/web/search/selectPageListDetailSearchImg.do'\n",
    "DETAIL_PAGE = 'https://yeyak.seoul.go.kr/web/reservation/selectReservView.do'\n",
    "RESERVE_CAL = 'https://yeyak.seoul.go.kr/web/reservation/selectListReservCalAjax.do'\n",
    "REQ_GET = 'GET'\n",
    "REQ_POST = 'POST'\n",
    "now = datetime.datetime.now()\n",
    "today_yyyymmdd = now.strftime(\"%Y%m%d\")"
   ]
  },
  {
   "cell_type": "code",
   "execution_count": 12,
   "id": "cdac6785",
   "metadata": {
    "scrolled": true
   },
   "outputs": [
    {
     "name": "stdout",
     "output_type": "stream",
     "text": [
      "1페이지 센터정보생성\n"
     ]
    },
    {
     "name": "stderr",
     "output_type": "stream",
     "text": [
      "  4%|███                                                                                | 1/27 [00:01<00:26,  1.01s/it]"
     ]
    },
    {
     "name": "stdout",
     "output_type": "stream",
     "text": [
      "2페이지 센터정보생성\n"
     ]
    },
    {
     "name": "stderr",
     "output_type": "stream",
     "text": [
      "\r",
      "  7%|██████▏                                                                            | 2/27 [00:01<00:20,  1.20it/s]"
     ]
    },
    {
     "name": "stdout",
     "output_type": "stream",
     "text": [
      "3페이지 센터정보생성\n"
     ]
    },
    {
     "name": "stderr",
     "output_type": "stream",
     "text": [
      "\r",
      " 11%|█████████▏                                                                         | 3/27 [00:02<00:20,  1.18it/s]"
     ]
    },
    {
     "name": "stdout",
     "output_type": "stream",
     "text": [
      "4페이지 센터정보생성\n"
     ]
    },
    {
     "name": "stderr",
     "output_type": "stream",
     "text": [
      "\r",
      " 15%|████████████▎                                                                      | 4/27 [00:03<00:19,  1.20it/s]"
     ]
    },
    {
     "name": "stdout",
     "output_type": "stream",
     "text": [
      "5페이지 센터정보생성\n"
     ]
    },
    {
     "name": "stderr",
     "output_type": "stream",
     "text": [
      "\r",
      " 19%|███████████████▎                                                                   | 5/27 [00:04<00:17,  1.23it/s]"
     ]
    },
    {
     "name": "stdout",
     "output_type": "stream",
     "text": [
      "6페이지 센터정보생성\n"
     ]
    },
    {
     "name": "stderr",
     "output_type": "stream",
     "text": [
      "\r",
      " 22%|██████████████████▍                                                                | 6/27 [00:04<00:16,  1.28it/s]"
     ]
    },
    {
     "name": "stdout",
     "output_type": "stream",
     "text": [
      "7페이지 센터정보생성\n"
     ]
    },
    {
     "name": "stderr",
     "output_type": "stream",
     "text": [
      "\r",
      " 26%|█████████████████████▌                                                             | 7/27 [00:05<00:16,  1.19it/s]"
     ]
    },
    {
     "name": "stdout",
     "output_type": "stream",
     "text": [
      "8페이지 센터정보생성\n"
     ]
    },
    {
     "name": "stderr",
     "output_type": "stream",
     "text": [
      "\r",
      " 30%|████████████████████████▌                                                          | 8/27 [00:06<00:16,  1.19it/s]"
     ]
    },
    {
     "name": "stdout",
     "output_type": "stream",
     "text": [
      "9페이지 센터정보생성\n"
     ]
    },
    {
     "name": "stderr",
     "output_type": "stream",
     "text": [
      "\r",
      " 33%|███████████████████████████▋                                                       | 9/27 [00:07<00:16,  1.11it/s]"
     ]
    },
    {
     "name": "stdout",
     "output_type": "stream",
     "text": [
      "10페이지 센터정보생성\n"
     ]
    },
    {
     "name": "stderr",
     "output_type": "stream",
     "text": [
      "\r",
      " 37%|██████████████████████████████▎                                                   | 10/27 [00:08<00:15,  1.11it/s]"
     ]
    },
    {
     "name": "stdout",
     "output_type": "stream",
     "text": [
      "11페이지 센터정보생성\n"
     ]
    },
    {
     "name": "stderr",
     "output_type": "stream",
     "text": [
      "\r",
      " 41%|█████████████████████████████████▍                                                | 11/27 [00:09<00:14,  1.08it/s]"
     ]
    },
    {
     "name": "stdout",
     "output_type": "stream",
     "text": [
      "12페이지 센터정보생성\n"
     ]
    },
    {
     "name": "stderr",
     "output_type": "stream",
     "text": [
      "\r",
      " 44%|████████████████████████████████████▍                                             | 12/27 [00:10<00:14,  1.07it/s]"
     ]
    },
    {
     "name": "stdout",
     "output_type": "stream",
     "text": [
      "13페이지 센터정보생성\n"
     ]
    },
    {
     "name": "stderr",
     "output_type": "stream",
     "text": [
      "\r",
      " 48%|███████████████████████████████████████▍                                          | 13/27 [00:11<00:13,  1.06it/s]"
     ]
    },
    {
     "name": "stdout",
     "output_type": "stream",
     "text": [
      "14페이지 센터정보생성\n"
     ]
    },
    {
     "name": "stderr",
     "output_type": "stream",
     "text": [
      "\r",
      " 52%|██████████████████████████████████████████▌                                       | 14/27 [00:12<00:12,  1.05it/s]"
     ]
    },
    {
     "name": "stdout",
     "output_type": "stream",
     "text": [
      "15페이지 센터정보생성\n"
     ]
    },
    {
     "name": "stderr",
     "output_type": "stream",
     "text": [
      "\r",
      " 56%|█████████████████████████████████████████████▌                                    | 15/27 [00:13<00:11,  1.05it/s]"
     ]
    },
    {
     "name": "stdout",
     "output_type": "stream",
     "text": [
      "16페이지 센터정보생성\n"
     ]
    },
    {
     "name": "stderr",
     "output_type": "stream",
     "text": [
      "\r",
      " 59%|████████████████████████████████████████████████▌                                 | 16/27 [00:14<00:09,  1.10it/s]"
     ]
    },
    {
     "name": "stdout",
     "output_type": "stream",
     "text": [
      "17페이지 센터정보생성\n"
     ]
    },
    {
     "name": "stderr",
     "output_type": "stream",
     "text": [
      "\r",
      " 63%|███████████████████████████████████████████████████▋                              | 17/27 [00:15<00:08,  1.15it/s]"
     ]
    },
    {
     "name": "stdout",
     "output_type": "stream",
     "text": [
      "18페이지 센터정보생성\n"
     ]
    },
    {
     "name": "stderr",
     "output_type": "stream",
     "text": [
      "\r",
      " 67%|██████████████████████████████████████████████████████▋                           | 18/27 [00:15<00:08,  1.11it/s]"
     ]
    },
    {
     "name": "stdout",
     "output_type": "stream",
     "text": [
      "19페이지 센터정보생성\n"
     ]
    },
    {
     "name": "stderr",
     "output_type": "stream",
     "text": [
      "\r",
      " 70%|█████████████████████████████████████████████████████████▋                        | 19/27 [00:17<00:07,  1.05it/s]"
     ]
    },
    {
     "name": "stdout",
     "output_type": "stream",
     "text": [
      "20페이지 센터정보생성\n"
     ]
    },
    {
     "name": "stderr",
     "output_type": "stream",
     "text": [
      "\r",
      " 74%|████████████████████████████████████████████████████████████▋                     | 20/27 [00:17<00:06,  1.09it/s]"
     ]
    },
    {
     "name": "stdout",
     "output_type": "stream",
     "text": [
      "21페이지 센터정보생성\n"
     ]
    },
    {
     "name": "stderr",
     "output_type": "stream",
     "text": [
      "\r",
      " 78%|███████████████████████████████████████████████████████████████▊                  | 21/27 [00:18<00:05,  1.07it/s]"
     ]
    },
    {
     "name": "stdout",
     "output_type": "stream",
     "text": [
      "22페이지 센터정보생성\n"
     ]
    },
    {
     "name": "stderr",
     "output_type": "stream",
     "text": [
      "\r",
      " 81%|██████████████████████████████████████████████████████████████████▊               | 22/27 [00:19<00:04,  1.06it/s]"
     ]
    },
    {
     "name": "stdout",
     "output_type": "stream",
     "text": [
      "23페이지 센터정보생성\n"
     ]
    },
    {
     "name": "stderr",
     "output_type": "stream",
     "text": [
      "\r",
      " 85%|█████████████████████████████████████████████████████████████████████▊            | 23/27 [00:20<00:03,  1.06it/s]"
     ]
    },
    {
     "name": "stdout",
     "output_type": "stream",
     "text": [
      "24페이지 센터정보생성\n"
     ]
    },
    {
     "name": "stderr",
     "output_type": "stream",
     "text": [
      "\r",
      " 89%|████████████████████████████████████████████████████████████████████████▉         | 24/27 [00:22<00:03,  1.03s/it]"
     ]
    },
    {
     "name": "stdout",
     "output_type": "stream",
     "text": [
      "25페이지 센터정보생성\n"
     ]
    },
    {
     "name": "stderr",
     "output_type": "stream",
     "text": [
      "\r",
      " 93%|███████████████████████████████████████████████████████████████████████████▉      | 25/27 [00:22<00:01,  1.06it/s]"
     ]
    },
    {
     "name": "stdout",
     "output_type": "stream",
     "text": [
      "26페이지 센터정보생성\n"
     ]
    },
    {
     "name": "stderr",
     "output_type": "stream",
     "text": [
      "\r",
      " 96%|██████████████████████████████████████████████████████████████████████████████▉   | 26/27 [00:23<00:00,  1.13it/s]"
     ]
    },
    {
     "name": "stdout",
     "output_type": "stream",
     "text": [
      "27페이지 센터정보생성\n"
     ]
    },
    {
     "name": "stderr",
     "output_type": "stream",
     "text": [
      "100%|██████████████████████████████████████████████████████████████████████████████████| 27/27 [00:24<00:00,  1.11it/s]"
     ]
    },
    {
     "name": "stdout",
     "output_type": "stream",
     "text": [
      "28페이지 센터정보생성\n"
     ]
    },
    {
     "name": "stderr",
     "output_type": "stream",
     "text": [
      "\n"
     ]
    },
    {
     "name": "stdout",
     "output_type": "stream",
     "text": [
      "1페이지 센터정보생성\n"
     ]
    },
    {
     "name": "stderr",
     "output_type": "stream",
     "text": [
      "  2%|█▊                                                                                 | 1/45 [00:00<00:35,  1.26it/s]"
     ]
    },
    {
     "name": "stdout",
     "output_type": "stream",
     "text": [
      "2페이지 센터정보생성\n"
     ]
    },
    {
     "name": "stderr",
     "output_type": "stream",
     "text": [
      "\r",
      "  4%|███▋                                                                               | 2/45 [00:01<00:38,  1.12it/s]"
     ]
    },
    {
     "name": "stdout",
     "output_type": "stream",
     "text": [
      "3페이지 센터정보생성\n"
     ]
    },
    {
     "name": "stderr",
     "output_type": "stream",
     "text": [
      "\r",
      "  7%|█████▌                                                                             | 3/45 [00:02<00:40,  1.05it/s]"
     ]
    },
    {
     "name": "stdout",
     "output_type": "stream",
     "text": [
      "4페이지 센터정보생성\n"
     ]
    },
    {
     "name": "stderr",
     "output_type": "stream",
     "text": [
      "\r",
      "  9%|███████▍                                                                           | 4/45 [00:03<00:39,  1.04it/s]"
     ]
    },
    {
     "name": "stdout",
     "output_type": "stream",
     "text": [
      "5페이지 센터정보생성\n"
     ]
    },
    {
     "name": "stderr",
     "output_type": "stream",
     "text": [
      "\r",
      " 11%|█████████▏                                                                         | 5/45 [00:04<00:37,  1.06it/s]"
     ]
    },
    {
     "name": "stdout",
     "output_type": "stream",
     "text": [
      "6페이지 센터정보생성\n"
     ]
    },
    {
     "name": "stderr",
     "output_type": "stream",
     "text": [
      "\r",
      " 13%|███████████                                                                        | 6/45 [00:05<00:37,  1.04it/s]"
     ]
    },
    {
     "name": "stdout",
     "output_type": "stream",
     "text": [
      "7페이지 센터정보생성\n"
     ]
    },
    {
     "name": "stderr",
     "output_type": "stream",
     "text": [
      "\r",
      " 16%|████████████▉                                                                      | 7/45 [00:06<00:36,  1.05it/s]"
     ]
    },
    {
     "name": "stdout",
     "output_type": "stream",
     "text": [
      "8페이지 센터정보생성\n"
     ]
    },
    {
     "name": "stderr",
     "output_type": "stream",
     "text": [
      "\r",
      " 18%|██████████████▊                                                                    | 8/45 [00:07<00:32,  1.13it/s]"
     ]
    },
    {
     "name": "stdout",
     "output_type": "stream",
     "text": [
      "9페이지 센터정보생성\n"
     ]
    },
    {
     "name": "stderr",
     "output_type": "stream",
     "text": [
      "\r",
      " 20%|████████████████▌                                                                  | 9/45 [00:08<00:30,  1.16it/s]"
     ]
    },
    {
     "name": "stdout",
     "output_type": "stream",
     "text": [
      "10페이지 센터정보생성\n"
     ]
    },
    {
     "name": "stderr",
     "output_type": "stream",
     "text": [
      "\r",
      " 22%|██████████████████▏                                                               | 10/45 [00:09<00:31,  1.10it/s]"
     ]
    },
    {
     "name": "stdout",
     "output_type": "stream",
     "text": [
      "11페이지 센터정보생성\n"
     ]
    },
    {
     "name": "stderr",
     "output_type": "stream",
     "text": [
      "\r",
      " 24%|████████████████████                                                              | 11/45 [00:10<00:31,  1.08it/s]"
     ]
    },
    {
     "name": "stdout",
     "output_type": "stream",
     "text": [
      "12페이지 센터정보생성\n"
     ]
    },
    {
     "name": "stderr",
     "output_type": "stream",
     "text": [
      "\r",
      " 27%|█████████████████████▊                                                            | 12/45 [00:11<00:30,  1.07it/s]"
     ]
    },
    {
     "name": "stdout",
     "output_type": "stream",
     "text": [
      "13페이지 센터정보생성\n"
     ]
    },
    {
     "name": "stderr",
     "output_type": "stream",
     "text": [
      "\r",
      " 29%|███████████████████████▋                                                          | 13/45 [00:12<00:29,  1.07it/s]"
     ]
    },
    {
     "name": "stdout",
     "output_type": "stream",
     "text": [
      "14페이지 센터정보생성\n"
     ]
    },
    {
     "name": "stderr",
     "output_type": "stream",
     "text": [
      "\r",
      " 31%|█████████████████████████▌                                                        | 14/45 [00:13<00:29,  1.05it/s]"
     ]
    },
    {
     "name": "stdout",
     "output_type": "stream",
     "text": [
      "15페이지 센터정보생성\n"
     ]
    },
    {
     "name": "stderr",
     "output_type": "stream",
     "text": [
      "\r",
      " 33%|███████████████████████████▎                                                      | 15/45 [00:13<00:28,  1.04it/s]"
     ]
    },
    {
     "name": "stdout",
     "output_type": "stream",
     "text": [
      "16페이지 센터정보생성\n"
     ]
    },
    {
     "name": "stderr",
     "output_type": "stream",
     "text": [
      "\r",
      " 36%|█████████████████████████████▏                                                    | 16/45 [00:14<00:28,  1.04it/s]"
     ]
    },
    {
     "name": "stdout",
     "output_type": "stream",
     "text": [
      "17페이지 센터정보생성\n"
     ]
    },
    {
     "name": "stderr",
     "output_type": "stream",
     "text": [
      "\r",
      " 38%|██████████████████████████████▉                                                   | 17/45 [00:15<00:26,  1.07it/s]"
     ]
    },
    {
     "name": "stdout",
     "output_type": "stream",
     "text": [
      "18페이지 센터정보생성\n"
     ]
    },
    {
     "name": "stderr",
     "output_type": "stream",
     "text": [
      "\r",
      " 40%|████████████████████████████████▊                                                 | 18/45 [00:16<00:25,  1.05it/s]"
     ]
    },
    {
     "name": "stdout",
     "output_type": "stream",
     "text": [
      "19페이지 센터정보생성\n"
     ]
    },
    {
     "name": "stderr",
     "output_type": "stream",
     "text": [
      "\r",
      " 42%|██████████████████████████████████▌                                               | 19/45 [00:17<00:24,  1.04it/s]"
     ]
    },
    {
     "name": "stdout",
     "output_type": "stream",
     "text": [
      "20페이지 센터정보생성\n"
     ]
    },
    {
     "name": "stderr",
     "output_type": "stream",
     "text": [
      "\r",
      " 44%|████████████████████████████████████▍                                             | 20/45 [00:18<00:23,  1.04it/s]"
     ]
    },
    {
     "name": "stdout",
     "output_type": "stream",
     "text": [
      "21페이지 센터정보생성\n"
     ]
    },
    {
     "name": "stderr",
     "output_type": "stream",
     "text": [
      "\r",
      " 47%|██████████████████████████████████████▎                                           | 21/45 [00:19<00:23,  1.03it/s]"
     ]
    },
    {
     "name": "stdout",
     "output_type": "stream",
     "text": [
      "22페이지 센터정보생성\n"
     ]
    },
    {
     "name": "stderr",
     "output_type": "stream",
     "text": [
      "\r",
      " 49%|████████████████████████████████████████                                          | 22/45 [00:20<00:22,  1.03it/s]"
     ]
    },
    {
     "name": "stdout",
     "output_type": "stream",
     "text": [
      "23페이지 센터정보생성\n"
     ]
    },
    {
     "name": "stderr",
     "output_type": "stream",
     "text": [
      "\r",
      " 51%|█████████████████████████████████████████▉                                        | 23/45 [00:21<00:21,  1.05it/s]"
     ]
    },
    {
     "name": "stdout",
     "output_type": "stream",
     "text": [
      "24페이지 센터정보생성\n"
     ]
    },
    {
     "name": "stderr",
     "output_type": "stream",
     "text": [
      "\r",
      " 53%|███████████████████████████████████████████▋                                      | 24/45 [00:22<00:20,  1.04it/s]"
     ]
    },
    {
     "name": "stdout",
     "output_type": "stream",
     "text": [
      "25페이지 센터정보생성\n"
     ]
    },
    {
     "name": "stderr",
     "output_type": "stream",
     "text": [
      "\r",
      " 56%|█████████████████████████████████████████████▌                                    | 25/45 [00:23<00:17,  1.12it/s]"
     ]
    },
    {
     "name": "stdout",
     "output_type": "stream",
     "text": [
      "26페이지 센터정보생성\n"
     ]
    },
    {
     "name": "stderr",
     "output_type": "stream",
     "text": [
      "\r",
      " 58%|███████████████████████████████████████████████▍                                  | 26/45 [00:24<00:16,  1.15it/s]"
     ]
    },
    {
     "name": "stdout",
     "output_type": "stream",
     "text": [
      "27페이지 센터정보생성\n"
     ]
    },
    {
     "name": "stderr",
     "output_type": "stream",
     "text": [
      "\r",
      " 60%|█████████████████████████████████████████████████▏                                | 27/45 [00:24<00:15,  1.19it/s]"
     ]
    },
    {
     "name": "stdout",
     "output_type": "stream",
     "text": [
      "28페이지 센터정보생성\n"
     ]
    },
    {
     "name": "stderr",
     "output_type": "stream",
     "text": [
      "\r",
      " 62%|███████████████████████████████████████████████████                               | 28/45 [00:25<00:14,  1.16it/s]"
     ]
    },
    {
     "name": "stdout",
     "output_type": "stream",
     "text": [
      "29페이지 센터정보생성\n"
     ]
    },
    {
     "name": "stderr",
     "output_type": "stream",
     "text": [
      "\r",
      " 64%|████████████████████████████████████████████████████▊                             | 29/45 [00:26<00:14,  1.13it/s]"
     ]
    },
    {
     "name": "stdout",
     "output_type": "stream",
     "text": [
      "30페이지 센터정보생성\n"
     ]
    },
    {
     "name": "stderr",
     "output_type": "stream",
     "text": [
      "\r",
      " 67%|██████████████████████████████████████████████████████▋                           | 30/45 [00:27<00:12,  1.20it/s]"
     ]
    },
    {
     "name": "stdout",
     "output_type": "stream",
     "text": [
      "31페이지 센터정보생성\n"
     ]
    },
    {
     "name": "stderr",
     "output_type": "stream",
     "text": [
      "\r",
      " 69%|████████████████████████████████████████████████████████▍                         | 31/45 [00:28<00:11,  1.22it/s]"
     ]
    },
    {
     "name": "stdout",
     "output_type": "stream",
     "text": [
      "32페이지 센터정보생성\n"
     ]
    },
    {
     "name": "stderr",
     "output_type": "stream",
     "text": [
      "\r",
      " 71%|██████████████████████████████████████████████████████████▎                       | 32/45 [00:29<00:10,  1.24it/s]"
     ]
    },
    {
     "name": "stdout",
     "output_type": "stream",
     "text": [
      "33페이지 센터정보생성\n"
     ]
    },
    {
     "name": "stderr",
     "output_type": "stream",
     "text": [
      "\r",
      " 73%|████████████████████████████████████████████████████████████▏                     | 33/45 [00:29<00:09,  1.28it/s]"
     ]
    },
    {
     "name": "stdout",
     "output_type": "stream",
     "text": [
      "34페이지 센터정보생성\n"
     ]
    },
    {
     "name": "stderr",
     "output_type": "stream",
     "text": [
      "\r",
      " 76%|█████████████████████████████████████████████████████████████▉                    | 34/45 [00:30<00:08,  1.27it/s]"
     ]
    },
    {
     "name": "stdout",
     "output_type": "stream",
     "text": [
      "35페이지 센터정보생성\n"
     ]
    },
    {
     "name": "stderr",
     "output_type": "stream",
     "text": [
      "\r",
      " 78%|███████████████████████████████████████████████████████████████▊                  | 35/45 [00:31<00:07,  1.30it/s]"
     ]
    },
    {
     "name": "stdout",
     "output_type": "stream",
     "text": [
      "36페이지 센터정보생성\n"
     ]
    },
    {
     "name": "stderr",
     "output_type": "stream",
     "text": [
      "\r",
      " 80%|█████████████████████████████████████████████████████████████████▌                | 36/45 [00:32<00:06,  1.32it/s]"
     ]
    },
    {
     "name": "stdout",
     "output_type": "stream",
     "text": [
      "37페이지 센터정보생성\n"
     ]
    },
    {
     "name": "stderr",
     "output_type": "stream",
     "text": [
      "\r",
      " 82%|███████████████████████████████████████████████████████████████████▍              | 37/45 [00:32<00:06,  1.27it/s]"
     ]
    },
    {
     "name": "stdout",
     "output_type": "stream",
     "text": [
      "38페이지 센터정보생성\n"
     ]
    },
    {
     "name": "stderr",
     "output_type": "stream",
     "text": [
      "\r",
      " 84%|█████████████████████████████████████████████████████████████████████▏            | 38/45 [00:33<00:05,  1.29it/s]"
     ]
    },
    {
     "name": "stdout",
     "output_type": "stream",
     "text": [
      "39페이지 센터정보생성\n"
     ]
    },
    {
     "name": "stderr",
     "output_type": "stream",
     "text": [
      "\r",
      " 87%|███████████████████████████████████████████████████████████████████████           | 39/45 [00:34<00:04,  1.33it/s]"
     ]
    },
    {
     "name": "stdout",
     "output_type": "stream",
     "text": [
      "40페이지 센터정보생성\n"
     ]
    },
    {
     "name": "stderr",
     "output_type": "stream",
     "text": [
      "\r",
      " 89%|████████████████████████████████████████████████████████████████████████▉         | 40/45 [00:35<00:04,  1.21it/s]"
     ]
    },
    {
     "name": "stdout",
     "output_type": "stream",
     "text": [
      "41페이지 센터정보생성\n"
     ]
    },
    {
     "name": "stderr",
     "output_type": "stream",
     "text": [
      "\r",
      " 91%|██████████████████████████████████████████████████████████████████████████▋       | 41/45 [00:36<00:03,  1.23it/s]"
     ]
    },
    {
     "name": "stdout",
     "output_type": "stream",
     "text": [
      "42페이지 센터정보생성\n"
     ]
    },
    {
     "name": "stderr",
     "output_type": "stream",
     "text": [
      "\r",
      " 93%|████████████████████████████████████████████████████████████████████████████▌     | 42/45 [00:36<00:02,  1.21it/s]"
     ]
    },
    {
     "name": "stdout",
     "output_type": "stream",
     "text": [
      "43페이지 센터정보생성\n"
     ]
    },
    {
     "name": "stderr",
     "output_type": "stream",
     "text": [
      "\r",
      " 96%|██████████████████████████████████████████████████████████████████████████████▎   | 43/45 [00:37<00:01,  1.20it/s]"
     ]
    },
    {
     "name": "stdout",
     "output_type": "stream",
     "text": [
      "44페이지 센터정보생성\n"
     ]
    },
    {
     "name": "stderr",
     "output_type": "stream",
     "text": [
      "\r",
      " 98%|████████████████████████████████████████████████████████████████████████████████▏ | 44/45 [00:38<00:00,  1.25it/s]"
     ]
    },
    {
     "name": "stdout",
     "output_type": "stream",
     "text": [
      "45페이지 센터정보생성\n"
     ]
    },
    {
     "name": "stderr",
     "output_type": "stream",
     "text": [
      "100%|██████████████████████████████████████████████████████████████████████████████████| 45/45 [00:39<00:00,  1.14it/s]"
     ]
    },
    {
     "name": "stdout",
     "output_type": "stream",
     "text": [
      "46페이지 센터정보생성\n"
     ]
    },
    {
     "name": "stderr",
     "output_type": "stream",
     "text": [
      "\n"
     ]
    }
   ],
   "source": [
    "total_list = []\n",
    "# 체육시설, 문화체험, 공간시설, 교육강좌, 진료복지\n",
    "#code_list = ['T100', 'T200', 'T500', 'T000', 'T400']\n",
    "code_list = ['T200','T000']\n",
    "for code in code_list:\n",
    "    total_list.extend(예약전체리스트만들기(REQ_POST,LIST_PAGE,{'code':code}))"
   ]
  },
  {
   "cell_type": "code",
   "execution_count": 15,
   "id": "0afb83fb",
   "metadata": {},
   "outputs": [
    {
     "name": "stderr",
     "output_type": "stream",
     "text": [
      "100%|████████████████████████████████████████████████████████████████████████████████| 441/441 [03:01<00:00,  2.43it/s]\n"
     ]
    }
   ],
   "source": [
    "for item in tqdm(total_list):\n",
    "    if item['외부링크여부'] == 'N':\n",
    "        detail_res = web_request(REQ_POST, DETAIL_PAGE, {'sysToday': today_yyyymmdd, 'rsv_svc_id': item['예약ID']})\n",
    "        detail_html = bs(detail_res['text'], \"html.parser\")\n",
    "        item.update(getDetailInfo(detail_html))"
   ]
  },
  {
   "cell_type": "code",
   "execution_count": 16,
   "id": "4fe1ab88",
   "metadata": {},
   "outputs": [],
   "source": [
    "with open('./서울예약정보.json', 'w', encoding='utf-8') as make_file:\n",
    "    json.dump(total_list, make_file, indent=\"\\t\")"
   ]
  }
 ],
 "metadata": {
  "kernelspec": {
   "display_name": "Python 3 (ipykernel)",
   "language": "python",
   "name": "python3"
  },
  "language_info": {
   "codemirror_mode": {
    "name": "ipython",
    "version": 3
   },
   "file_extension": ".py",
   "mimetype": "text/x-python",
   "name": "python",
   "nbconvert_exporter": "python",
   "pygments_lexer": "ipython3",
   "version": "3.9.13"
  }
 },
 "nbformat": 4,
 "nbformat_minor": 5
}
