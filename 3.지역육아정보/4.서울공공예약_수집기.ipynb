{
 "cells": [
  {
   "cell_type": "code",
   "execution_count": 1,
   "id": "f30b75d6",
   "metadata": {},
   "outputs": [],
   "source": [
    "import requests\n",
    "import json\n",
    "import time\n",
    "import copy\n",
    "import re\n",
    "import math\n",
    "import unicodedata\n",
    "from bs4 import BeautifulSoup as bs\n",
    "from tqdm import tqdm\n",
    "import time\n",
    "import datetime"
   ]
  },
  {
   "cell_type": "code",
   "execution_count": 2,
   "id": "7d77404d",
   "metadata": {},
   "outputs": [],
   "source": [
    "def web_request(method_name, url, dict_data, is_urlencoded=True):\n",
    "    \"\"\"Web GET or POST request를 호출 후 그 결과를 dict형으로 반환 \"\"\"\n",
    "    method_name = method_name.upper()  # 메소드이름을 대문자로 바꾼다\n",
    "    if method_name not in ('GET', 'POST'):\n",
    "        raise Exception('method_name is GET or POST plz...')\n",
    "\n",
    "    if method_name == 'GET':  # GET방식인 경우\n",
    "        response = requests.get(url=url, params=dict_data,headers={'Content-Type': 'application/x-www-form-urlencoded'\n",
    "                                              , 'User-Agent': 'Mozilla/5.0 (Windows NT 10.0; Win64; x64) AppleWebKit/537.36 (KHTML, like Gecko) Chrome/107.0.0.0 Safari/537.36 Edg/107.0.1418.26'\n",
    "                                              })\n",
    "    elif method_name == 'POST':  # POST방식인 경우\n",
    "        if is_urlencoded is True:\n",
    "            response = requests.post(url=url, data=dict_data,\n",
    "                                     headers={'Content-Type': 'application/x-www-form-urlencoded'\n",
    "                                              , 'User-Agent': 'Mozilla/5.0 (Windows NT 10.0; Win64; x64) AppleWebKit/537.36 (KHTML, like Gecko) Chrome/107.0.0.0 Safari/537.36 Edg/107.0.1418.26'\n",
    "                                              }\n",
    "                                    )\n",
    "        else:\n",
    "            response = requests.post(url=url, data=json.dumps(dict_data), headers={'Content-Type': 'application/json'})\n",
    "\n",
    "    dict_meta = {'status_code': response.status_code, 'ok': response.ok, 'encoding': response.encoding,\n",
    "                 'Content-Type': response.headers['Content-Type']}\n",
    "    if 'json' in str(response.headers['Content-Type']):  # JSON 형태인 경우\n",
    "        return {**dict_meta, **response.json()}\n",
    "    else:  # 문자열 형태인 경우\n",
    "        return {**dict_meta, **{'text': response.text}}"
   ]
  },
  {
   "cell_type": "code",
   "execution_count": 3,
   "id": "aac1f862-f052-4656-b63d-d6646efbd114",
   "metadata": {},
   "outputs": [],
   "source": [
    "def getReserveMainInfoByHtml(list_html):\n",
    "    reserve_info_list = []\n",
    "    for item in list_html.select('div.tableA tr'):\n",
    "            #서비스명\t장소명\t접수기간/이용기간\t이용요금\t접수상태\t신청방법\t예약방법\n",
    "            #print(inside_item.select('div.sch-rslt'))\n",
    "            if len(item.select('td')) > 0:\n",
    "                reserve_info = {}\n",
    "                reserve_id = item.select_one('a')['onclick']\n",
    "                reserve_id = reserve_id[reserve_id.index(\"('\")+2:reserve_id.rindex(\"')\")]\n",
    "                reserve_info['예약ID'] = reserve_id\n",
    "                # 서비스명, 장소명\n",
    "                reserve_info['서비스명'] = item.select('div.sch-rslt')[0].text\n",
    "                reserve_info['장소명'] = item.select('div.sch-rslt')[1].text\n",
    "                ## 접수기간/이용기간\n",
    "                reserveTIme = item.select_one('td.tbl_date').text\n",
    "                reserve_info['접수기간'] = reserveTIme[reserveTIme.find(' ', 20, 30):].strip()\n",
    "                reserve_info['이용기간'] = reserveTIme[:reserveTIme.find(' ', 20, 30)].strip()\n",
    "                ## 이용요금, 접수상태\n",
    "                reserve_info['이용요금'] = item.select('td.tbl_label span.bd_label')[0].text.strip()\n",
    "                reserve_info['접수상태'] = item.select('td.tbl_label span.bd_label')[1].text.strip()\n",
    "                ##신청방법(오류날 확률이 젤 높음)\n",
    "                reserve_info['신청방법'] = item.select('td')[5].text.strip()\n",
    "                ##예약방법\n",
    "                reserve_info['예약방법'] = item.select_one('span.bd_ico').text.strip()\n",
    "                if '외부사이트' in reserve_info['예약방법']:\n",
    "                    reserve_info['외부링크여부'] = 'Y'\n",
    "                    reserve_info['외부링크'] = reserve_id\n",
    "                else:\n",
    "                    reserve_info['외부링크여부'] = 'N'\n",
    "                    reserve_info['외부링크'] = None\n",
    "                reserve_info_list.append(reserve_info)\n",
    "    return reserve_info_list"
   ]
  },
  {
   "cell_type": "code",
   "execution_count": 4,
   "id": "af1ece6c-b645-4391-8cb4-9810f1b7966d",
   "metadata": {},
   "outputs": [],
   "source": [
    "def getReserveInfoWithOutKeyName(): ## for backup\n",
    "    for item in list_html.select('div.tableA tr'):\n",
    "        if len(item.select('td')) > 0:\n",
    "            #print('#서비스명\t장소명\t접수기간/이용기간\t이용요금\t접수상태\t신청방법\t예약방법')\n",
    "            start_num = 0\n",
    "            for inside_item in item.select('td'):\n",
    "                if start_num == 0 :\n",
    "                    reserve_id = inside_item.select_one('a')['onclick']\n",
    "                    reserve_id = reserve_id[reserve_id.index(\"('\")+2:reserve_id.rindex(\"')\")]\n",
    "                else :\n",
    "                    print(inside_item.text.strip().replace('\\n',','))\n",
    "                start_num +=1\n",
    "\n",
    "def cleanhtml(raw_html):\n",
    "    cleanr = re.compile('<.*?>')\n",
    "    cleantext = re.sub(cleanr, '', raw_html)\n",
    "    return cleantext"
   ]
  },
  {
   "cell_type": "code",
   "execution_count": 5,
   "id": "0c5367e8",
   "metadata": {},
   "outputs": [],
   "source": [
    "def 예약전체리스트만들기(req_method, url, body):\n",
    "    def getReserveMainInfoByHtml(list_html):\n",
    "        reserve_info_list = []\n",
    "        for item in list_html.select('div.tableA tr'):\n",
    "                #서비스명\t장소명\t접수기간/이용기간\t이용요금\t접수상태\t신청방법\t예약방법\n",
    "                #print(inside_item.select('div.sch-rslt'))\n",
    "                if len(item.select('td')) > 0:\n",
    "                    reserve_info = {}\n",
    "                    reserve_id = item.select_one('a')['onclick']\n",
    "                    reserve_id = reserve_id[reserve_id.index(\"('\")+2:reserve_id.rindex(\"')\")]\n",
    "                    reserve_info['_id'] = 'ObjectID()'\n",
    "                    reserve_info['예약ID'] = reserve_id\n",
    "                    # 서비스명, 장소명\n",
    "                    reserve_info['서비스명'] = item.select('div.sch-rslt')[0].text\n",
    "                    reserve_info['장소명'] = item.select('div.sch-rslt')[1].text\n",
    "                    ## 접수기간/이용기간\n",
    "                    reserveTIme = item.select_one('td.tbl_date').text\n",
    "                    reserve_info['접수기간'] = reserveTIme[reserveTIme.find(' ', 20, 30):].strip()\n",
    "                    reserve_info['이용기간'] = reserveTIme[:reserveTIme.find(' ', 20, 30)].strip()\n",
    "                    ## 이용요금, 접수상태\n",
    "                    reserve_info['이용요금'] = item.select('td.tbl_label span.bd_label')[0].text.strip()\n",
    "                    reserve_info['접수상태'] = item.select('td.tbl_label span.bd_label')[1].text.strip()\n",
    "                    ##신청방법(오류날 확률이 젤 높음)\n",
    "                    reserve_info['신청방법'] = item.select('td')[5].text.strip()\n",
    "                    ##예약방법\n",
    "                    reserve_info['예약방법'] = item.select_one('span.bd_ico').text.strip()\n",
    "                    if '외부사이트' in reserve_info['예약방법']:\n",
    "                        reserve_info['외부링크여부'] = 'Y'\n",
    "                        reserve_info['외부링크'] = reserve_id\n",
    "                    else:\n",
    "                        reserve_info['외부링크여부'] = 'N'\n",
    "                        reserve_info['외부링크'] = None\n",
    "                    reserve_info_list.append(reserve_info)\n",
    "        return reserve_info_list\n",
    "\n",
    "    first_res = web_request(req_method, url, body)\n",
    "    first_html = bs(first_res['text'], \"html.parser\")\n",
    "    센터정보리스트 = []\n",
    "    #list_labels = ['서비스명','장소명',\t접수기간/이용기간\t이용요금\t접수상태\t신청방법\t예약방법]\n",
    "    total_pages = math.ceil(int(first_html.select_one('h3.title_dep1 span.text_red').text)/6)\n",
    "    센터정보리스트 = getReserveMainInfoByHtml(first_html)\n",
    "    print('1페이지 센터정보생성')\n",
    "    \n",
    "    for idx in tqdm(range(2,total_pages+1)):\n",
    "        res = web_request(req_method, url+'?currentPage='+str(idx), body)\n",
    "        html = bs(res['text'], \"html.parser\")\n",
    "        temp = getReserveMainInfoByHtml(html)\n",
    "        센터정보리스트.extend(temp)\n",
    "        print(str(idx)+'페이지 센터정보생성')\n",
    "        \n",
    "    return 센터정보리스트"
   ]
  },
  {
   "cell_type": "code",
   "execution_count": 6,
   "id": "c0603736",
   "metadata": {},
   "outputs": [],
   "source": [
    "def getDetailInfo(detail_html):\n",
    "    center_info = {}\n",
    "    center_info['이미지경로']= 'https://yeyak.seoul.go.kr/' + detail_html.select_one('div.left_box div.img_box img')['src']\n",
    "    for item in detail_html.select('div.con_box ul.dt_top_list li'):\n",
    "        if len(item.select('b')) == 0 : \n",
    "            continue\n",
    "        key = item.select('b')[0].text\n",
    "        value= item.prettify()\n",
    "        value = cleanhtml(value[value.index('</b>')+4:])\n",
    "        value = value.strip().replace('\\t', '').replace('\\n', '').replace('\\r', ' ')\n",
    "        center_info[key] = value\n",
    "    # 콘텐츠의 외부좌표가 존재하지 않는 경우도 있음\n",
    "    for tag in detail_html.find_all('input', type='hidden', attrs={'name': 'x'}):\n",
    "        if tag['value'].replace(' ', '') != '':\n",
    "            center_info['경도'] = float(tag['value'])\n",
    "        #else:        \n",
    "\n",
    "    for tag in detail_html.find_all('input', type='hidden', attrs={'name': 'y'}):\n",
    "        if tag['value'].replace(' ', '') != '':\n",
    "            center_info['위도'] = float(tag['value'])\n",
    "    #for tag in detail_html.find_all('input', type='hidden', attrs={'name': 'mgis_cdata'}):\n",
    "    return center_info"
   ]
  },
  {
   "cell_type": "code",
   "execution_count": 7,
   "id": "7314a209-7406-4c1e-809c-f8fa011b1f33",
   "metadata": {},
   "outputs": [],
   "source": [
    "LIST_PAGE = 'https://yeyak.seoul.go.kr/web/search/selectPageListDetailSearch.do'\n",
    "IMG_LIST_PAGE = 'https://yeyak.seoul.go.kr/web/search/selectPageListDetailSearchImg.do'\n",
    "DETAIL_PAGE = 'https://yeyak.seoul.go.kr/web/reservation/selectReservView.do'\n",
    "RESERVE_CAL = 'https://yeyak.seoul.go.kr/web/reservation/selectListReservCalAjax.do'\n",
    "REQ_GET = 'GET'\n",
    "REQ_POST = 'POST'\n",
    "now = datetime.datetime.now()\n",
    "today_yyyymmdd = now.strftime(\"%Y%m%d\")"
   ]
  },
  {
   "cell_type": "code",
   "execution_count": 8,
   "id": "cdac6785",
   "metadata": {
    "scrolled": true
   },
   "outputs": [
    {
     "name": "stdout",
     "output_type": "stream",
     "text": [
      "1페이지 센터정보생성\n"
     ]
    },
    {
     "name": "stderr",
     "output_type": "stream",
     "text": [
      "  1%|          | 1/114 [00:00<01:04,  1.76it/s]"
     ]
    },
    {
     "name": "stdout",
     "output_type": "stream",
     "text": [
      "2페이지 센터정보생성\n"
     ]
    },
    {
     "name": "stderr",
     "output_type": "stream",
     "text": [
      "  2%|▏         | 2/114 [00:01<01:07,  1.66it/s]"
     ]
    },
    {
     "name": "stdout",
     "output_type": "stream",
     "text": [
      "3페이지 센터정보생성\n"
     ]
    },
    {
     "name": "stderr",
     "output_type": "stream",
     "text": [
      "  3%|▎         | 3/114 [00:01<01:03,  1.76it/s]"
     ]
    },
    {
     "name": "stdout",
     "output_type": "stream",
     "text": [
      "4페이지 센터정보생성\n"
     ]
    },
    {
     "name": "stderr",
     "output_type": "stream",
     "text": [
      "  4%|▎         | 4/114 [00:02<01:00,  1.81it/s]"
     ]
    },
    {
     "name": "stdout",
     "output_type": "stream",
     "text": [
      "5페이지 센터정보생성\n"
     ]
    },
    {
     "name": "stderr",
     "output_type": "stream",
     "text": [
      "  4%|▍         | 5/114 [00:02<01:01,  1.77it/s]"
     ]
    },
    {
     "name": "stdout",
     "output_type": "stream",
     "text": [
      "6페이지 센터정보생성\n"
     ]
    },
    {
     "name": "stderr",
     "output_type": "stream",
     "text": [
      "  5%|▌         | 6/114 [00:03<01:00,  1.79it/s]"
     ]
    },
    {
     "name": "stdout",
     "output_type": "stream",
     "text": [
      "7페이지 센터정보생성\n"
     ]
    },
    {
     "name": "stderr",
     "output_type": "stream",
     "text": [
      "  6%|▌         | 7/114 [00:03<00:59,  1.79it/s]"
     ]
    },
    {
     "name": "stdout",
     "output_type": "stream",
     "text": [
      "8페이지 센터정보생성\n"
     ]
    },
    {
     "name": "stderr",
     "output_type": "stream",
     "text": [
      "  7%|▋         | 8/114 [00:04<00:59,  1.79it/s]"
     ]
    },
    {
     "name": "stdout",
     "output_type": "stream",
     "text": [
      "9페이지 센터정보생성\n"
     ]
    },
    {
     "name": "stderr",
     "output_type": "stream",
     "text": [
      "  8%|▊         | 9/114 [00:05<00:59,  1.78it/s]"
     ]
    },
    {
     "name": "stdout",
     "output_type": "stream",
     "text": [
      "10페이지 센터정보생성\n"
     ]
    },
    {
     "name": "stderr",
     "output_type": "stream",
     "text": [
      "  9%|▉         | 10/114 [00:05<00:57,  1.80it/s]"
     ]
    },
    {
     "name": "stdout",
     "output_type": "stream",
     "text": [
      "11페이지 센터정보생성\n"
     ]
    },
    {
     "name": "stderr",
     "output_type": "stream",
     "text": [
      " 10%|▉         | 11/114 [00:06<00:56,  1.81it/s]"
     ]
    },
    {
     "name": "stdout",
     "output_type": "stream",
     "text": [
      "12페이지 센터정보생성\n"
     ]
    },
    {
     "name": "stderr",
     "output_type": "stream",
     "text": [
      " 11%|█         | 12/114 [00:06<00:56,  1.80it/s]"
     ]
    },
    {
     "name": "stdout",
     "output_type": "stream",
     "text": [
      "13페이지 센터정보생성\n"
     ]
    },
    {
     "name": "stderr",
     "output_type": "stream",
     "text": [
      " 11%|█▏        | 13/114 [00:07<00:56,  1.79it/s]"
     ]
    },
    {
     "name": "stdout",
     "output_type": "stream",
     "text": [
      "14페이지 센터정보생성\n"
     ]
    },
    {
     "name": "stderr",
     "output_type": "stream",
     "text": [
      " 12%|█▏        | 14/114 [00:07<00:56,  1.78it/s]"
     ]
    },
    {
     "name": "stdout",
     "output_type": "stream",
     "text": [
      "15페이지 센터정보생성\n"
     ]
    },
    {
     "name": "stderr",
     "output_type": "stream",
     "text": [
      " 13%|█▎        | 15/114 [00:08<00:55,  1.78it/s]"
     ]
    },
    {
     "name": "stdout",
     "output_type": "stream",
     "text": [
      "16페이지 센터정보생성\n"
     ]
    },
    {
     "name": "stderr",
     "output_type": "stream",
     "text": [
      " 14%|█▍        | 16/114 [00:09<00:56,  1.72it/s]"
     ]
    },
    {
     "name": "stdout",
     "output_type": "stream",
     "text": [
      "17페이지 센터정보생성\n"
     ]
    },
    {
     "name": "stderr",
     "output_type": "stream",
     "text": [
      " 15%|█▍        | 17/114 [00:09<00:55,  1.75it/s]"
     ]
    },
    {
     "name": "stdout",
     "output_type": "stream",
     "text": [
      "18페이지 센터정보생성\n"
     ]
    },
    {
     "name": "stderr",
     "output_type": "stream",
     "text": [
      " 16%|█▌        | 18/114 [00:10<00:53,  1.80it/s]"
     ]
    },
    {
     "name": "stdout",
     "output_type": "stream",
     "text": [
      "19페이지 센터정보생성\n"
     ]
    },
    {
     "name": "stderr",
     "output_type": "stream",
     "text": [
      " 17%|█▋        | 19/114 [00:10<00:52,  1.80it/s]"
     ]
    },
    {
     "name": "stdout",
     "output_type": "stream",
     "text": [
      "20페이지 센터정보생성\n"
     ]
    },
    {
     "name": "stderr",
     "output_type": "stream",
     "text": [
      " 18%|█▊        | 20/114 [00:11<00:51,  1.81it/s]"
     ]
    },
    {
     "name": "stdout",
     "output_type": "stream",
     "text": [
      "21페이지 센터정보생성\n"
     ]
    },
    {
     "name": "stderr",
     "output_type": "stream",
     "text": [
      " 18%|█▊        | 21/114 [00:11<00:50,  1.84it/s]"
     ]
    },
    {
     "name": "stdout",
     "output_type": "stream",
     "text": [
      "22페이지 센터정보생성\n"
     ]
    },
    {
     "name": "stderr",
     "output_type": "stream",
     "text": [
      " 19%|█▉        | 22/114 [00:12<00:49,  1.85it/s]"
     ]
    },
    {
     "name": "stdout",
     "output_type": "stream",
     "text": [
      "23페이지 센터정보생성\n"
     ]
    },
    {
     "name": "stderr",
     "output_type": "stream",
     "text": [
      " 20%|██        | 23/114 [00:12<00:49,  1.86it/s]"
     ]
    },
    {
     "name": "stdout",
     "output_type": "stream",
     "text": [
      "24페이지 센터정보생성\n"
     ]
    },
    {
     "name": "stderr",
     "output_type": "stream",
     "text": [
      " 21%|██        | 24/114 [00:13<00:48,  1.86it/s]"
     ]
    },
    {
     "name": "stdout",
     "output_type": "stream",
     "text": [
      "25페이지 센터정보생성\n"
     ]
    },
    {
     "name": "stderr",
     "output_type": "stream",
     "text": [
      " 22%|██▏       | 25/114 [00:13<00:47,  1.87it/s]"
     ]
    },
    {
     "name": "stdout",
     "output_type": "stream",
     "text": [
      "26페이지 센터정보생성\n"
     ]
    },
    {
     "name": "stderr",
     "output_type": "stream",
     "text": [
      " 23%|██▎       | 26/114 [00:14<00:47,  1.86it/s]"
     ]
    },
    {
     "name": "stdout",
     "output_type": "stream",
     "text": [
      "27페이지 센터정보생성\n"
     ]
    },
    {
     "name": "stderr",
     "output_type": "stream",
     "text": [
      " 24%|██▎       | 27/114 [00:14<00:46,  1.86it/s]"
     ]
    },
    {
     "name": "stdout",
     "output_type": "stream",
     "text": [
      "28페이지 센터정보생성\n"
     ]
    },
    {
     "name": "stderr",
     "output_type": "stream",
     "text": [
      " 25%|██▍       | 28/114 [00:15<00:46,  1.87it/s]"
     ]
    },
    {
     "name": "stdout",
     "output_type": "stream",
     "text": [
      "29페이지 센터정보생성\n"
     ]
    },
    {
     "name": "stderr",
     "output_type": "stream",
     "text": [
      " 25%|██▌       | 29/114 [00:16<00:45,  1.86it/s]"
     ]
    },
    {
     "name": "stdout",
     "output_type": "stream",
     "text": [
      "30페이지 센터정보생성\n"
     ]
    },
    {
     "name": "stderr",
     "output_type": "stream",
     "text": [
      " 26%|██▋       | 30/114 [00:16<00:47,  1.78it/s]"
     ]
    },
    {
     "name": "stdout",
     "output_type": "stream",
     "text": [
      "31페이지 센터정보생성\n"
     ]
    },
    {
     "name": "stderr",
     "output_type": "stream",
     "text": [
      " 27%|██▋       | 31/114 [00:17<00:45,  1.81it/s]"
     ]
    },
    {
     "name": "stdout",
     "output_type": "stream",
     "text": [
      "32페이지 센터정보생성\n"
     ]
    },
    {
     "name": "stderr",
     "output_type": "stream",
     "text": [
      " 28%|██▊       | 32/114 [00:17<00:44,  1.83it/s]"
     ]
    },
    {
     "name": "stdout",
     "output_type": "stream",
     "text": [
      "33페이지 센터정보생성\n"
     ]
    },
    {
     "name": "stderr",
     "output_type": "stream",
     "text": [
      " 29%|██▉       | 33/114 [00:18<00:43,  1.86it/s]"
     ]
    },
    {
     "name": "stdout",
     "output_type": "stream",
     "text": [
      "34페이지 센터정보생성\n"
     ]
    },
    {
     "name": "stderr",
     "output_type": "stream",
     "text": [
      " 30%|██▉       | 34/114 [00:18<00:43,  1.85it/s]"
     ]
    },
    {
     "name": "stdout",
     "output_type": "stream",
     "text": [
      "35페이지 센터정보생성\n"
     ]
    },
    {
     "name": "stderr",
     "output_type": "stream",
     "text": [
      " 31%|███       | 35/114 [00:19<00:43,  1.82it/s]"
     ]
    },
    {
     "name": "stdout",
     "output_type": "stream",
     "text": [
      "36페이지 센터정보생성\n"
     ]
    },
    {
     "name": "stderr",
     "output_type": "stream",
     "text": [
      " 32%|███▏      | 36/114 [00:19<00:42,  1.84it/s]"
     ]
    },
    {
     "name": "stdout",
     "output_type": "stream",
     "text": [
      "37페이지 센터정보생성\n"
     ]
    },
    {
     "name": "stderr",
     "output_type": "stream",
     "text": [
      " 32%|███▏      | 37/114 [00:20<00:42,  1.83it/s]"
     ]
    },
    {
     "name": "stdout",
     "output_type": "stream",
     "text": [
      "38페이지 센터정보생성\n"
     ]
    },
    {
     "name": "stderr",
     "output_type": "stream",
     "text": [
      " 33%|███▎      | 38/114 [00:20<00:41,  1.84it/s]"
     ]
    },
    {
     "name": "stdout",
     "output_type": "stream",
     "text": [
      "39페이지 센터정보생성\n"
     ]
    },
    {
     "name": "stderr",
     "output_type": "stream",
     "text": [
      " 34%|███▍      | 39/114 [00:21<00:41,  1.80it/s]"
     ]
    },
    {
     "name": "stdout",
     "output_type": "stream",
     "text": [
      "40페이지 센터정보생성\n"
     ]
    },
    {
     "name": "stderr",
     "output_type": "stream",
     "text": [
      " 35%|███▌      | 40/114 [00:22<00:40,  1.81it/s]"
     ]
    },
    {
     "name": "stdout",
     "output_type": "stream",
     "text": [
      "41페이지 센터정보생성\n"
     ]
    },
    {
     "name": "stderr",
     "output_type": "stream",
     "text": [
      " 36%|███▌      | 41/114 [00:22<00:40,  1.82it/s]"
     ]
    },
    {
     "name": "stdout",
     "output_type": "stream",
     "text": [
      "42페이지 센터정보생성\n"
     ]
    },
    {
     "name": "stderr",
     "output_type": "stream",
     "text": [
      " 37%|███▋      | 42/114 [00:23<00:39,  1.82it/s]"
     ]
    },
    {
     "name": "stdout",
     "output_type": "stream",
     "text": [
      "43페이지 센터정보생성\n"
     ]
    },
    {
     "name": "stderr",
     "output_type": "stream",
     "text": [
      " 38%|███▊      | 43/114 [00:23<00:38,  1.82it/s]"
     ]
    },
    {
     "name": "stdout",
     "output_type": "stream",
     "text": [
      "44페이지 센터정보생성\n"
     ]
    },
    {
     "name": "stderr",
     "output_type": "stream",
     "text": [
      " 39%|███▊      | 44/114 [00:24<00:39,  1.77it/s]"
     ]
    },
    {
     "name": "stdout",
     "output_type": "stream",
     "text": [
      "45페이지 센터정보생성\n"
     ]
    },
    {
     "name": "stderr",
     "output_type": "stream",
     "text": [
      " 39%|███▉      | 45/114 [00:24<00:38,  1.79it/s]"
     ]
    },
    {
     "name": "stdout",
     "output_type": "stream",
     "text": [
      "46페이지 센터정보생성\n"
     ]
    },
    {
     "name": "stderr",
     "output_type": "stream",
     "text": [
      " 40%|████      | 46/114 [00:25<00:37,  1.80it/s]"
     ]
    },
    {
     "name": "stdout",
     "output_type": "stream",
     "text": [
      "47페이지 센터정보생성\n"
     ]
    },
    {
     "name": "stderr",
     "output_type": "stream",
     "text": [
      " 41%|████      | 47/114 [00:25<00:36,  1.81it/s]"
     ]
    },
    {
     "name": "stdout",
     "output_type": "stream",
     "text": [
      "48페이지 센터정보생성\n"
     ]
    },
    {
     "name": "stderr",
     "output_type": "stream",
     "text": [
      " 42%|████▏     | 48/114 [00:26<00:36,  1.80it/s]"
     ]
    },
    {
     "name": "stdout",
     "output_type": "stream",
     "text": [
      "49페이지 센터정보생성\n"
     ]
    },
    {
     "name": "stderr",
     "output_type": "stream",
     "text": [
      " 43%|████▎     | 49/114 [00:27<00:36,  1.79it/s]"
     ]
    },
    {
     "name": "stdout",
     "output_type": "stream",
     "text": [
      "50페이지 센터정보생성\n"
     ]
    },
    {
     "name": "stderr",
     "output_type": "stream",
     "text": [
      " 44%|████▍     | 50/114 [00:27<00:35,  1.80it/s]"
     ]
    },
    {
     "name": "stdout",
     "output_type": "stream",
     "text": [
      "51페이지 센터정보생성\n"
     ]
    },
    {
     "name": "stderr",
     "output_type": "stream",
     "text": [
      " 45%|████▍     | 51/114 [00:28<00:34,  1.82it/s]"
     ]
    },
    {
     "name": "stdout",
     "output_type": "stream",
     "text": [
      "52페이지 센터정보생성\n"
     ]
    },
    {
     "name": "stderr",
     "output_type": "stream",
     "text": [
      " 46%|████▌     | 52/114 [00:28<00:34,  1.82it/s]"
     ]
    },
    {
     "name": "stdout",
     "output_type": "stream",
     "text": [
      "53페이지 센터정보생성\n"
     ]
    },
    {
     "name": "stderr",
     "output_type": "stream",
     "text": [
      " 46%|████▋     | 53/114 [00:29<00:32,  1.85it/s]"
     ]
    },
    {
     "name": "stdout",
     "output_type": "stream",
     "text": [
      "54페이지 센터정보생성\n"
     ]
    },
    {
     "name": "stderr",
     "output_type": "stream",
     "text": [
      " 47%|████▋     | 54/114 [00:29<00:32,  1.83it/s]"
     ]
    },
    {
     "name": "stdout",
     "output_type": "stream",
     "text": [
      "55페이지 센터정보생성\n"
     ]
    },
    {
     "name": "stderr",
     "output_type": "stream",
     "text": [
      " 48%|████▊     | 55/114 [00:30<00:31,  1.84it/s]"
     ]
    },
    {
     "name": "stdout",
     "output_type": "stream",
     "text": [
      "56페이지 센터정보생성\n"
     ]
    },
    {
     "name": "stderr",
     "output_type": "stream",
     "text": [
      " 49%|████▉     | 56/114 [00:30<00:30,  1.87it/s]"
     ]
    },
    {
     "name": "stdout",
     "output_type": "stream",
     "text": [
      "57페이지 센터정보생성\n"
     ]
    },
    {
     "name": "stderr",
     "output_type": "stream",
     "text": [
      " 50%|█████     | 57/114 [00:31<00:30,  1.86it/s]"
     ]
    },
    {
     "name": "stdout",
     "output_type": "stream",
     "text": [
      "58페이지 센터정보생성\n"
     ]
    },
    {
     "name": "stderr",
     "output_type": "stream",
     "text": [
      " 51%|█████     | 58/114 [00:32<00:31,  1.78it/s]"
     ]
    },
    {
     "name": "stdout",
     "output_type": "stream",
     "text": [
      "59페이지 센터정보생성\n"
     ]
    },
    {
     "name": "stderr",
     "output_type": "stream",
     "text": [
      " 52%|█████▏    | 59/114 [00:32<00:30,  1.82it/s]"
     ]
    },
    {
     "name": "stdout",
     "output_type": "stream",
     "text": [
      "60페이지 센터정보생성\n"
     ]
    },
    {
     "name": "stderr",
     "output_type": "stream",
     "text": [
      " 53%|█████▎    | 60/114 [00:33<00:29,  1.81it/s]"
     ]
    },
    {
     "name": "stdout",
     "output_type": "stream",
     "text": [
      "61페이지 센터정보생성\n"
     ]
    },
    {
     "name": "stderr",
     "output_type": "stream",
     "text": [
      " 54%|█████▎    | 61/114 [00:33<00:29,  1.79it/s]"
     ]
    },
    {
     "name": "stdout",
     "output_type": "stream",
     "text": [
      "62페이지 센터정보생성\n"
     ]
    },
    {
     "name": "stderr",
     "output_type": "stream",
     "text": [
      " 54%|█████▍    | 62/114 [00:34<00:28,  1.81it/s]"
     ]
    },
    {
     "name": "stdout",
     "output_type": "stream",
     "text": [
      "63페이지 센터정보생성\n"
     ]
    },
    {
     "name": "stderr",
     "output_type": "stream",
     "text": [
      " 55%|█████▌    | 63/114 [00:34<00:28,  1.78it/s]"
     ]
    },
    {
     "name": "stdout",
     "output_type": "stream",
     "text": [
      "64페이지 센터정보생성\n"
     ]
    },
    {
     "name": "stderr",
     "output_type": "stream",
     "text": [
      " 56%|█████▌    | 64/114 [00:35<00:27,  1.83it/s]"
     ]
    },
    {
     "name": "stdout",
     "output_type": "stream",
     "text": [
      "65페이지 센터정보생성\n"
     ]
    },
    {
     "name": "stderr",
     "output_type": "stream",
     "text": [
      " 57%|█████▋    | 65/114 [00:36<00:31,  1.57it/s]"
     ]
    },
    {
     "name": "stdout",
     "output_type": "stream",
     "text": [
      "66페이지 센터정보생성\n"
     ]
    },
    {
     "name": "stderr",
     "output_type": "stream",
     "text": [
      " 58%|█████▊    | 66/114 [00:36<00:28,  1.67it/s]"
     ]
    },
    {
     "name": "stdout",
     "output_type": "stream",
     "text": [
      "67페이지 센터정보생성\n"
     ]
    },
    {
     "name": "stderr",
     "output_type": "stream",
     "text": [
      " 59%|█████▉    | 67/114 [00:37<00:27,  1.70it/s]"
     ]
    },
    {
     "name": "stdout",
     "output_type": "stream",
     "text": [
      "68페이지 센터정보생성\n"
     ]
    },
    {
     "name": "stderr",
     "output_type": "stream",
     "text": [
      " 60%|█████▉    | 68/114 [00:37<00:26,  1.76it/s]"
     ]
    },
    {
     "name": "stdout",
     "output_type": "stream",
     "text": [
      "69페이지 센터정보생성\n"
     ]
    },
    {
     "name": "stderr",
     "output_type": "stream",
     "text": [
      " 61%|██████    | 69/114 [00:38<00:25,  1.78it/s]"
     ]
    },
    {
     "name": "stdout",
     "output_type": "stream",
     "text": [
      "70페이지 센터정보생성\n"
     ]
    },
    {
     "name": "stderr",
     "output_type": "stream",
     "text": [
      " 61%|██████▏   | 70/114 [00:38<00:24,  1.80it/s]"
     ]
    },
    {
     "name": "stdout",
     "output_type": "stream",
     "text": [
      "71페이지 센터정보생성\n"
     ]
    },
    {
     "name": "stderr",
     "output_type": "stream",
     "text": [
      " 62%|██████▏   | 71/114 [00:39<00:23,  1.82it/s]"
     ]
    },
    {
     "name": "stdout",
     "output_type": "stream",
     "text": [
      "72페이지 센터정보생성\n"
     ]
    },
    {
     "name": "stderr",
     "output_type": "stream",
     "text": [
      " 63%|██████▎   | 72/114 [00:39<00:23,  1.77it/s]"
     ]
    },
    {
     "name": "stdout",
     "output_type": "stream",
     "text": [
      "73페이지 센터정보생성\n"
     ]
    },
    {
     "name": "stderr",
     "output_type": "stream",
     "text": [
      " 64%|██████▍   | 73/114 [00:40<00:22,  1.78it/s]"
     ]
    },
    {
     "name": "stdout",
     "output_type": "stream",
     "text": [
      "74페이지 센터정보생성\n"
     ]
    },
    {
     "name": "stderr",
     "output_type": "stream",
     "text": [
      " 65%|██████▍   | 74/114 [00:41<00:21,  1.82it/s]"
     ]
    },
    {
     "name": "stdout",
     "output_type": "stream",
     "text": [
      "75페이지 센터정보생성\n"
     ]
    },
    {
     "name": "stderr",
     "output_type": "stream",
     "text": [
      " 66%|██████▌   | 75/114 [00:41<00:21,  1.85it/s]"
     ]
    },
    {
     "name": "stdout",
     "output_type": "stream",
     "text": [
      "76페이지 센터정보생성\n"
     ]
    },
    {
     "name": "stderr",
     "output_type": "stream",
     "text": [
      " 67%|██████▋   | 76/114 [00:42<00:21,  1.78it/s]"
     ]
    },
    {
     "name": "stdout",
     "output_type": "stream",
     "text": [
      "77페이지 센터정보생성\n"
     ]
    },
    {
     "name": "stderr",
     "output_type": "stream",
     "text": [
      " 68%|██████▊   | 77/114 [00:42<00:21,  1.76it/s]"
     ]
    },
    {
     "name": "stdout",
     "output_type": "stream",
     "text": [
      "78페이지 센터정보생성\n"
     ]
    },
    {
     "name": "stderr",
     "output_type": "stream",
     "text": [
      " 68%|██████▊   | 78/114 [00:43<00:20,  1.79it/s]"
     ]
    },
    {
     "name": "stdout",
     "output_type": "stream",
     "text": [
      "79페이지 센터정보생성\n"
     ]
    },
    {
     "name": "stderr",
     "output_type": "stream",
     "text": [
      " 69%|██████▉   | 79/114 [00:43<00:19,  1.83it/s]"
     ]
    },
    {
     "name": "stdout",
     "output_type": "stream",
     "text": [
      "80페이지 센터정보생성\n"
     ]
    },
    {
     "name": "stderr",
     "output_type": "stream",
     "text": [
      " 70%|███████   | 80/114 [00:44<00:18,  1.85it/s]"
     ]
    },
    {
     "name": "stdout",
     "output_type": "stream",
     "text": [
      "81페이지 센터정보생성\n"
     ]
    },
    {
     "name": "stderr",
     "output_type": "stream",
     "text": [
      " 71%|███████   | 81/114 [00:44<00:17,  1.87it/s]"
     ]
    },
    {
     "name": "stdout",
     "output_type": "stream",
     "text": [
      "82페이지 센터정보생성\n"
     ]
    },
    {
     "name": "stderr",
     "output_type": "stream",
     "text": [
      " 72%|███████▏  | 82/114 [00:45<00:17,  1.88it/s]"
     ]
    },
    {
     "name": "stdout",
     "output_type": "stream",
     "text": [
      "83페이지 센터정보생성\n"
     ]
    },
    {
     "name": "stderr",
     "output_type": "stream",
     "text": [
      " 73%|███████▎  | 83/114 [00:45<00:16,  1.88it/s]"
     ]
    },
    {
     "name": "stdout",
     "output_type": "stream",
     "text": [
      "84페이지 센터정보생성\n"
     ]
    },
    {
     "name": "stderr",
     "output_type": "stream",
     "text": [
      " 74%|███████▎  | 84/114 [00:46<00:16,  1.87it/s]"
     ]
    },
    {
     "name": "stdout",
     "output_type": "stream",
     "text": [
      "85페이지 센터정보생성\n"
     ]
    },
    {
     "name": "stderr",
     "output_type": "stream",
     "text": [
      " 75%|███████▍  | 85/114 [00:47<00:15,  1.86it/s]"
     ]
    },
    {
     "name": "stdout",
     "output_type": "stream",
     "text": [
      "86페이지 센터정보생성\n"
     ]
    },
    {
     "name": "stderr",
     "output_type": "stream",
     "text": [
      " 75%|███████▌  | 86/114 [00:47<00:15,  1.80it/s]"
     ]
    },
    {
     "name": "stdout",
     "output_type": "stream",
     "text": [
      "87페이지 센터정보생성\n"
     ]
    },
    {
     "name": "stderr",
     "output_type": "stream",
     "text": [
      " 76%|███████▋  | 87/114 [00:48<00:14,  1.82it/s]"
     ]
    },
    {
     "name": "stdout",
     "output_type": "stream",
     "text": [
      "88페이지 센터정보생성\n"
     ]
    },
    {
     "name": "stderr",
     "output_type": "stream",
     "text": [
      " 77%|███████▋  | 88/114 [00:48<00:14,  1.82it/s]"
     ]
    },
    {
     "name": "stdout",
     "output_type": "stream",
     "text": [
      "89페이지 센터정보생성\n"
     ]
    },
    {
     "name": "stderr",
     "output_type": "stream",
     "text": [
      " 78%|███████▊  | 89/114 [00:49<00:13,  1.83it/s]"
     ]
    },
    {
     "name": "stdout",
     "output_type": "stream",
     "text": [
      "90페이지 센터정보생성\n"
     ]
    },
    {
     "name": "stderr",
     "output_type": "stream",
     "text": [
      " 79%|███████▉  | 90/114 [00:49<00:13,  1.83it/s]"
     ]
    },
    {
     "name": "stdout",
     "output_type": "stream",
     "text": [
      "91페이지 센터정보생성\n"
     ]
    },
    {
     "name": "stderr",
     "output_type": "stream",
     "text": [
      " 80%|███████▉  | 91/114 [00:50<00:12,  1.84it/s]"
     ]
    },
    {
     "name": "stdout",
     "output_type": "stream",
     "text": [
      "92페이지 센터정보생성\n"
     ]
    },
    {
     "name": "stderr",
     "output_type": "stream",
     "text": [
      " 81%|████████  | 92/114 [00:50<00:11,  1.85it/s]"
     ]
    },
    {
     "name": "stdout",
     "output_type": "stream",
     "text": [
      "93페이지 센터정보생성\n"
     ]
    },
    {
     "name": "stderr",
     "output_type": "stream",
     "text": [
      " 82%|████████▏ | 93/114 [00:51<00:11,  1.86it/s]"
     ]
    },
    {
     "name": "stdout",
     "output_type": "stream",
     "text": [
      "94페이지 센터정보생성\n"
     ]
    },
    {
     "name": "stderr",
     "output_type": "stream",
     "text": [
      " 82%|████████▏ | 94/114 [00:51<00:10,  1.85it/s]"
     ]
    },
    {
     "name": "stdout",
     "output_type": "stream",
     "text": [
      "95페이지 센터정보생성\n"
     ]
    },
    {
     "name": "stderr",
     "output_type": "stream",
     "text": [
      " 83%|████████▎ | 95/114 [00:52<00:10,  1.87it/s]"
     ]
    },
    {
     "name": "stdout",
     "output_type": "stream",
     "text": [
      "96페이지 센터정보생성\n"
     ]
    },
    {
     "name": "stderr",
     "output_type": "stream",
     "text": [
      " 84%|████████▍ | 96/114 [00:52<00:09,  1.86it/s]"
     ]
    },
    {
     "name": "stdout",
     "output_type": "stream",
     "text": [
      "97페이지 센터정보생성\n"
     ]
    },
    {
     "name": "stderr",
     "output_type": "stream",
     "text": [
      " 85%|████████▌ | 97/114 [00:53<00:09,  1.85it/s]"
     ]
    },
    {
     "name": "stdout",
     "output_type": "stream",
     "text": [
      "98페이지 센터정보생성\n"
     ]
    },
    {
     "name": "stderr",
     "output_type": "stream",
     "text": [
      " 86%|████████▌ | 98/114 [00:54<00:08,  1.82it/s]"
     ]
    },
    {
     "name": "stdout",
     "output_type": "stream",
     "text": [
      "99페이지 센터정보생성\n"
     ]
    },
    {
     "name": "stderr",
     "output_type": "stream",
     "text": [
      " 87%|████████▋ | 99/114 [00:54<00:08,  1.84it/s]"
     ]
    },
    {
     "name": "stdout",
     "output_type": "stream",
     "text": [
      "100페이지 센터정보생성\n"
     ]
    },
    {
     "name": "stderr",
     "output_type": "stream",
     "text": [
      " 88%|████████▊ | 100/114 [00:55<00:07,  1.77it/s]"
     ]
    },
    {
     "name": "stdout",
     "output_type": "stream",
     "text": [
      "101페이지 센터정보생성\n"
     ]
    },
    {
     "name": "stderr",
     "output_type": "stream",
     "text": [
      " 89%|████████▊ | 101/114 [00:55<00:07,  1.78it/s]"
     ]
    },
    {
     "name": "stdout",
     "output_type": "stream",
     "text": [
      "102페이지 센터정보생성\n"
     ]
    },
    {
     "name": "stderr",
     "output_type": "stream",
     "text": [
      " 89%|████████▉ | 102/114 [00:56<00:06,  1.80it/s]"
     ]
    },
    {
     "name": "stdout",
     "output_type": "stream",
     "text": [
      "103페이지 센터정보생성\n"
     ]
    },
    {
     "name": "stderr",
     "output_type": "stream",
     "text": [
      " 90%|█████████ | 103/114 [00:56<00:06,  1.79it/s]"
     ]
    },
    {
     "name": "stdout",
     "output_type": "stream",
     "text": [
      "104페이지 센터정보생성\n"
     ]
    },
    {
     "name": "stderr",
     "output_type": "stream",
     "text": [
      " 91%|█████████ | 104/114 [00:57<00:05,  1.80it/s]"
     ]
    },
    {
     "name": "stdout",
     "output_type": "stream",
     "text": [
      "105페이지 센터정보생성\n"
     ]
    },
    {
     "name": "stderr",
     "output_type": "stream",
     "text": [
      " 92%|█████████▏| 105/114 [00:58<00:05,  1.79it/s]"
     ]
    },
    {
     "name": "stdout",
     "output_type": "stream",
     "text": [
      "106페이지 센터정보생성\n"
     ]
    },
    {
     "name": "stderr",
     "output_type": "stream",
     "text": [
      " 93%|█████████▎| 106/114 [00:58<00:04,  1.80it/s]"
     ]
    },
    {
     "name": "stdout",
     "output_type": "stream",
     "text": [
      "107페이지 센터정보생성\n"
     ]
    },
    {
     "name": "stderr",
     "output_type": "stream",
     "text": [
      " 94%|█████████▍| 107/114 [00:59<00:03,  1.80it/s]"
     ]
    },
    {
     "name": "stdout",
     "output_type": "stream",
     "text": [
      "108페이지 센터정보생성\n"
     ]
    },
    {
     "name": "stderr",
     "output_type": "stream",
     "text": [
      " 95%|█████████▍| 108/114 [00:59<00:03,  1.80it/s]"
     ]
    },
    {
     "name": "stdout",
     "output_type": "stream",
     "text": [
      "109페이지 센터정보생성\n"
     ]
    },
    {
     "name": "stderr",
     "output_type": "stream",
     "text": [
      " 96%|█████████▌| 109/114 [01:00<00:02,  1.78it/s]"
     ]
    },
    {
     "name": "stdout",
     "output_type": "stream",
     "text": [
      "110페이지 센터정보생성\n"
     ]
    },
    {
     "name": "stderr",
     "output_type": "stream",
     "text": [
      " 96%|█████████▋| 110/114 [01:00<00:02,  1.81it/s]"
     ]
    },
    {
     "name": "stdout",
     "output_type": "stream",
     "text": [
      "111페이지 센터정보생성\n"
     ]
    },
    {
     "name": "stderr",
     "output_type": "stream",
     "text": [
      " 97%|█████████▋| 111/114 [01:01<00:01,  1.83it/s]"
     ]
    },
    {
     "name": "stdout",
     "output_type": "stream",
     "text": [
      "112페이지 센터정보생성\n"
     ]
    },
    {
     "name": "stderr",
     "output_type": "stream",
     "text": [
      " 98%|█████████▊| 112/114 [01:01<00:01,  1.81it/s]"
     ]
    },
    {
     "name": "stdout",
     "output_type": "stream",
     "text": [
      "113페이지 센터정보생성\n"
     ]
    },
    {
     "name": "stderr",
     "output_type": "stream",
     "text": [
      " 99%|█████████▉| 113/114 [01:02<00:00,  1.84it/s]"
     ]
    },
    {
     "name": "stdout",
     "output_type": "stream",
     "text": [
      "114페이지 센터정보생성\n"
     ]
    },
    {
     "name": "stderr",
     "output_type": "stream",
     "text": [
      "100%|██████████| 114/114 [01:03<00:00,  1.81it/s]"
     ]
    },
    {
     "name": "stdout",
     "output_type": "stream",
     "text": [
      "115페이지 센터정보생성\n"
     ]
    },
    {
     "name": "stderr",
     "output_type": "stream",
     "text": [
      "\n"
     ]
    },
    {
     "name": "stdout",
     "output_type": "stream",
     "text": [
      "1페이지 센터정보생성\n"
     ]
    },
    {
     "name": "stderr",
     "output_type": "stream",
     "text": [
      "  1%|          | 1/97 [00:00<00:52,  1.85it/s]"
     ]
    },
    {
     "name": "stdout",
     "output_type": "stream",
     "text": [
      "2페이지 센터정보생성\n"
     ]
    },
    {
     "name": "stderr",
     "output_type": "stream",
     "text": [
      "  2%|▏         | 2/97 [00:01<00:51,  1.83it/s]"
     ]
    },
    {
     "name": "stdout",
     "output_type": "stream",
     "text": [
      "3페이지 센터정보생성\n"
     ]
    },
    {
     "name": "stderr",
     "output_type": "stream",
     "text": [
      "  3%|▎         | 3/97 [00:01<00:51,  1.81it/s]"
     ]
    },
    {
     "name": "stdout",
     "output_type": "stream",
     "text": [
      "4페이지 센터정보생성\n"
     ]
    },
    {
     "name": "stderr",
     "output_type": "stream",
     "text": [
      "  4%|▍         | 4/97 [00:02<00:50,  1.83it/s]"
     ]
    },
    {
     "name": "stdout",
     "output_type": "stream",
     "text": [
      "5페이지 센터정보생성\n"
     ]
    },
    {
     "name": "stderr",
     "output_type": "stream",
     "text": [
      "  5%|▌         | 5/97 [00:02<00:49,  1.86it/s]"
     ]
    },
    {
     "name": "stdout",
     "output_type": "stream",
     "text": [
      "6페이지 센터정보생성\n"
     ]
    },
    {
     "name": "stderr",
     "output_type": "stream",
     "text": [
      "  6%|▌         | 6/97 [00:03<00:48,  1.88it/s]"
     ]
    },
    {
     "name": "stdout",
     "output_type": "stream",
     "text": [
      "7페이지 센터정보생성\n"
     ]
    },
    {
     "name": "stderr",
     "output_type": "stream",
     "text": [
      "  7%|▋         | 7/97 [00:03<00:47,  1.91it/s]"
     ]
    },
    {
     "name": "stdout",
     "output_type": "stream",
     "text": [
      "8페이지 센터정보생성\n"
     ]
    },
    {
     "name": "stderr",
     "output_type": "stream",
     "text": [
      "  8%|▊         | 8/97 [00:04<00:47,  1.88it/s]"
     ]
    },
    {
     "name": "stdout",
     "output_type": "stream",
     "text": [
      "9페이지 센터정보생성\n"
     ]
    },
    {
     "name": "stderr",
     "output_type": "stream",
     "text": [
      "  9%|▉         | 9/97 [00:04<00:46,  1.88it/s]"
     ]
    },
    {
     "name": "stdout",
     "output_type": "stream",
     "text": [
      "10페이지 센터정보생성\n"
     ]
    },
    {
     "name": "stderr",
     "output_type": "stream",
     "text": [
      " 10%|█         | 10/97 [00:05<00:45,  1.90it/s]"
     ]
    },
    {
     "name": "stdout",
     "output_type": "stream",
     "text": [
      "11페이지 센터정보생성\n"
     ]
    },
    {
     "name": "stderr",
     "output_type": "stream",
     "text": [
      " 11%|█▏        | 11/97 [00:05<00:46,  1.86it/s]"
     ]
    },
    {
     "name": "stdout",
     "output_type": "stream",
     "text": [
      "12페이지 센터정보생성\n"
     ]
    },
    {
     "name": "stderr",
     "output_type": "stream",
     "text": [
      " 12%|█▏        | 12/97 [00:06<00:46,  1.83it/s]"
     ]
    },
    {
     "name": "stdout",
     "output_type": "stream",
     "text": [
      "13페이지 센터정보생성\n"
     ]
    },
    {
     "name": "stderr",
     "output_type": "stream",
     "text": [
      " 13%|█▎        | 13/97 [00:07<00:46,  1.79it/s]"
     ]
    },
    {
     "name": "stdout",
     "output_type": "stream",
     "text": [
      "14페이지 센터정보생성\n"
     ]
    },
    {
     "name": "stderr",
     "output_type": "stream",
     "text": [
      " 14%|█▍        | 14/97 [00:07<00:45,  1.81it/s]"
     ]
    },
    {
     "name": "stdout",
     "output_type": "stream",
     "text": [
      "15페이지 센터정보생성\n"
     ]
    },
    {
     "name": "stderr",
     "output_type": "stream",
     "text": [
      " 15%|█▌        | 15/97 [00:08<00:44,  1.84it/s]"
     ]
    },
    {
     "name": "stdout",
     "output_type": "stream",
     "text": [
      "16페이지 센터정보생성\n"
     ]
    },
    {
     "name": "stderr",
     "output_type": "stream",
     "text": [
      " 16%|█▋        | 16/97 [00:08<00:43,  1.87it/s]"
     ]
    },
    {
     "name": "stdout",
     "output_type": "stream",
     "text": [
      "17페이지 센터정보생성\n"
     ]
    },
    {
     "name": "stderr",
     "output_type": "stream",
     "text": [
      " 18%|█▊        | 17/97 [00:09<00:54,  1.48it/s]"
     ]
    },
    {
     "name": "stdout",
     "output_type": "stream",
     "text": [
      "18페이지 센터정보생성\n"
     ]
    },
    {
     "name": "stderr",
     "output_type": "stream",
     "text": [
      " 19%|█▊        | 18/97 [00:10<00:50,  1.56it/s]"
     ]
    },
    {
     "name": "stdout",
     "output_type": "stream",
     "text": [
      "19페이지 센터정보생성\n"
     ]
    },
    {
     "name": "stderr",
     "output_type": "stream",
     "text": [
      " 20%|█▉        | 19/97 [00:10<00:48,  1.61it/s]"
     ]
    },
    {
     "name": "stdout",
     "output_type": "stream",
     "text": [
      "20페이지 센터정보생성\n"
     ]
    },
    {
     "name": "stderr",
     "output_type": "stream",
     "text": [
      " 21%|██        | 20/97 [00:11<00:45,  1.69it/s]"
     ]
    },
    {
     "name": "stdout",
     "output_type": "stream",
     "text": [
      "21페이지 센터정보생성\n"
     ]
    },
    {
     "name": "stderr",
     "output_type": "stream",
     "text": [
      " 22%|██▏       | 21/97 [00:11<00:43,  1.76it/s]"
     ]
    },
    {
     "name": "stdout",
     "output_type": "stream",
     "text": [
      "22페이지 센터정보생성\n"
     ]
    },
    {
     "name": "stderr",
     "output_type": "stream",
     "text": [
      " 23%|██▎       | 22/97 [00:12<00:42,  1.75it/s]"
     ]
    },
    {
     "name": "stdout",
     "output_type": "stream",
     "text": [
      "23페이지 센터정보생성\n"
     ]
    },
    {
     "name": "stderr",
     "output_type": "stream",
     "text": [
      " 24%|██▎       | 23/97 [00:12<00:41,  1.80it/s]"
     ]
    },
    {
     "name": "stdout",
     "output_type": "stream",
     "text": [
      "24페이지 센터정보생성\n"
     ]
    },
    {
     "name": "stderr",
     "output_type": "stream",
     "text": [
      " 25%|██▍       | 24/97 [00:13<00:39,  1.84it/s]"
     ]
    },
    {
     "name": "stdout",
     "output_type": "stream",
     "text": [
      "25페이지 센터정보생성\n"
     ]
    },
    {
     "name": "stderr",
     "output_type": "stream",
     "text": [
      " 26%|██▌       | 25/97 [00:13<00:38,  1.87it/s]"
     ]
    },
    {
     "name": "stdout",
     "output_type": "stream",
     "text": [
      "26페이지 센터정보생성\n"
     ]
    },
    {
     "name": "stderr",
     "output_type": "stream",
     "text": [
      " 27%|██▋       | 26/97 [00:14<00:37,  1.88it/s]"
     ]
    },
    {
     "name": "stdout",
     "output_type": "stream",
     "text": [
      "27페이지 센터정보생성\n"
     ]
    },
    {
     "name": "stderr",
     "output_type": "stream",
     "text": [
      " 28%|██▊       | 27/97 [00:15<00:38,  1.80it/s]"
     ]
    },
    {
     "name": "stdout",
     "output_type": "stream",
     "text": [
      "28페이지 센터정보생성\n"
     ]
    },
    {
     "name": "stderr",
     "output_type": "stream",
     "text": [
      " 29%|██▉       | 28/97 [00:15<00:37,  1.82it/s]"
     ]
    },
    {
     "name": "stdout",
     "output_type": "stream",
     "text": [
      "29페이지 센터정보생성\n"
     ]
    },
    {
     "name": "stderr",
     "output_type": "stream",
     "text": [
      " 30%|██▉       | 29/97 [00:16<00:37,  1.83it/s]"
     ]
    },
    {
     "name": "stdout",
     "output_type": "stream",
     "text": [
      "30페이지 센터정보생성\n"
     ]
    },
    {
     "name": "stderr",
     "output_type": "stream",
     "text": [
      " 31%|███       | 30/97 [00:16<00:36,  1.86it/s]"
     ]
    },
    {
     "name": "stdout",
     "output_type": "stream",
     "text": [
      "31페이지 센터정보생성\n"
     ]
    },
    {
     "name": "stderr",
     "output_type": "stream",
     "text": [
      " 32%|███▏      | 31/97 [00:17<00:37,  1.77it/s]"
     ]
    },
    {
     "name": "stdout",
     "output_type": "stream",
     "text": [
      "32페이지 센터정보생성\n"
     ]
    },
    {
     "name": "stderr",
     "output_type": "stream",
     "text": [
      " 33%|███▎      | 32/97 [00:17<00:35,  1.81it/s]"
     ]
    },
    {
     "name": "stdout",
     "output_type": "stream",
     "text": [
      "33페이지 센터정보생성\n"
     ]
    },
    {
     "name": "stderr",
     "output_type": "stream",
     "text": [
      " 34%|███▍      | 33/97 [00:18<00:34,  1.84it/s]"
     ]
    },
    {
     "name": "stdout",
     "output_type": "stream",
     "text": [
      "34페이지 센터정보생성\n"
     ]
    },
    {
     "name": "stderr",
     "output_type": "stream",
     "text": [
      " 35%|███▌      | 34/97 [00:18<00:34,  1.84it/s]"
     ]
    },
    {
     "name": "stdout",
     "output_type": "stream",
     "text": [
      "35페이지 센터정보생성\n"
     ]
    },
    {
     "name": "stderr",
     "output_type": "stream",
     "text": [
      " 36%|███▌      | 35/97 [00:19<00:33,  1.86it/s]"
     ]
    },
    {
     "name": "stdout",
     "output_type": "stream",
     "text": [
      "36페이지 센터정보생성\n"
     ]
    },
    {
     "name": "stderr",
     "output_type": "stream",
     "text": [
      " 37%|███▋      | 36/97 [00:19<00:32,  1.88it/s]"
     ]
    },
    {
     "name": "stdout",
     "output_type": "stream",
     "text": [
      "37페이지 센터정보생성\n"
     ]
    },
    {
     "name": "stderr",
     "output_type": "stream",
     "text": [
      " 38%|███▊      | 37/97 [00:20<00:31,  1.89it/s]"
     ]
    },
    {
     "name": "stdout",
     "output_type": "stream",
     "text": [
      "38페이지 센터정보생성\n"
     ]
    },
    {
     "name": "stderr",
     "output_type": "stream",
     "text": [
      " 39%|███▉      | 38/97 [00:20<00:30,  1.91it/s]"
     ]
    },
    {
     "name": "stdout",
     "output_type": "stream",
     "text": [
      "39페이지 센터정보생성\n"
     ]
    },
    {
     "name": "stderr",
     "output_type": "stream",
     "text": [
      " 40%|████      | 39/97 [00:21<00:30,  1.91it/s]"
     ]
    },
    {
     "name": "stdout",
     "output_type": "stream",
     "text": [
      "40페이지 센터정보생성\n"
     ]
    },
    {
     "name": "stderr",
     "output_type": "stream",
     "text": [
      " 41%|████      | 40/97 [00:22<00:30,  1.88it/s]"
     ]
    },
    {
     "name": "stdout",
     "output_type": "stream",
     "text": [
      "41페이지 센터정보생성\n"
     ]
    },
    {
     "name": "stderr",
     "output_type": "stream",
     "text": [
      " 42%|████▏     | 41/97 [00:22<00:30,  1.81it/s]"
     ]
    },
    {
     "name": "stdout",
     "output_type": "stream",
     "text": [
      "42페이지 센터정보생성\n"
     ]
    },
    {
     "name": "stderr",
     "output_type": "stream",
     "text": [
      " 43%|████▎     | 42/97 [00:23<00:30,  1.83it/s]"
     ]
    },
    {
     "name": "stdout",
     "output_type": "stream",
     "text": [
      "43페이지 센터정보생성\n"
     ]
    },
    {
     "name": "stderr",
     "output_type": "stream",
     "text": [
      " 44%|████▍     | 43/97 [00:23<00:29,  1.86it/s]"
     ]
    },
    {
     "name": "stdout",
     "output_type": "stream",
     "text": [
      "44페이지 센터정보생성\n"
     ]
    },
    {
     "name": "stderr",
     "output_type": "stream",
     "text": [
      " 45%|████▌     | 44/97 [00:24<00:28,  1.88it/s]"
     ]
    },
    {
     "name": "stdout",
     "output_type": "stream",
     "text": [
      "45페이지 센터정보생성\n"
     ]
    },
    {
     "name": "stderr",
     "output_type": "stream",
     "text": [
      " 46%|████▋     | 45/97 [00:24<00:27,  1.86it/s]"
     ]
    },
    {
     "name": "stdout",
     "output_type": "stream",
     "text": [
      "46페이지 센터정보생성\n"
     ]
    },
    {
     "name": "stderr",
     "output_type": "stream",
     "text": [
      " 47%|████▋     | 46/97 [00:25<00:27,  1.84it/s]"
     ]
    },
    {
     "name": "stdout",
     "output_type": "stream",
     "text": [
      "47페이지 센터정보생성\n"
     ]
    },
    {
     "name": "stderr",
     "output_type": "stream",
     "text": [
      " 48%|████▊     | 47/97 [00:25<00:26,  1.86it/s]"
     ]
    },
    {
     "name": "stdout",
     "output_type": "stream",
     "text": [
      "48페이지 센터정보생성\n"
     ]
    },
    {
     "name": "stderr",
     "output_type": "stream",
     "text": [
      " 49%|████▉     | 48/97 [00:26<00:26,  1.86it/s]"
     ]
    },
    {
     "name": "stdout",
     "output_type": "stream",
     "text": [
      "49페이지 센터정보생성\n"
     ]
    },
    {
     "name": "stderr",
     "output_type": "stream",
     "text": [
      " 51%|█████     | 49/97 [00:26<00:25,  1.89it/s]"
     ]
    },
    {
     "name": "stdout",
     "output_type": "stream",
     "text": [
      "50페이지 센터정보생성\n"
     ]
    },
    {
     "name": "stderr",
     "output_type": "stream",
     "text": [
      " 52%|█████▏    | 50/97 [00:27<00:24,  1.89it/s]"
     ]
    },
    {
     "name": "stdout",
     "output_type": "stream",
     "text": [
      "51페이지 센터정보생성\n"
     ]
    },
    {
     "name": "stderr",
     "output_type": "stream",
     "text": [
      " 53%|█████▎    | 51/97 [00:27<00:24,  1.90it/s]"
     ]
    },
    {
     "name": "stdout",
     "output_type": "stream",
     "text": [
      "52페이지 센터정보생성\n"
     ]
    },
    {
     "name": "stderr",
     "output_type": "stream",
     "text": [
      " 54%|█████▎    | 52/97 [00:28<00:23,  1.90it/s]"
     ]
    },
    {
     "name": "stdout",
     "output_type": "stream",
     "text": [
      "53페이지 센터정보생성\n"
     ]
    },
    {
     "name": "stderr",
     "output_type": "stream",
     "text": [
      " 55%|█████▍    | 53/97 [00:28<00:23,  1.91it/s]"
     ]
    },
    {
     "name": "stdout",
     "output_type": "stream",
     "text": [
      "54페이지 센터정보생성\n"
     ]
    },
    {
     "name": "stderr",
     "output_type": "stream",
     "text": [
      " 56%|█████▌    | 54/97 [00:29<00:22,  1.91it/s]"
     ]
    },
    {
     "name": "stdout",
     "output_type": "stream",
     "text": [
      "55페이지 센터정보생성\n"
     ]
    },
    {
     "name": "stderr",
     "output_type": "stream",
     "text": [
      " 57%|█████▋    | 55/97 [00:30<00:23,  1.83it/s]"
     ]
    },
    {
     "name": "stdout",
     "output_type": "stream",
     "text": [
      "56페이지 센터정보생성\n"
     ]
    },
    {
     "name": "stderr",
     "output_type": "stream",
     "text": [
      " 58%|█████▊    | 56/97 [00:30<00:22,  1.85it/s]"
     ]
    },
    {
     "name": "stdout",
     "output_type": "stream",
     "text": [
      "57페이지 센터정보생성\n"
     ]
    },
    {
     "name": "stderr",
     "output_type": "stream",
     "text": [
      " 59%|█████▉    | 57/97 [00:31<00:21,  1.87it/s]"
     ]
    },
    {
     "name": "stdout",
     "output_type": "stream",
     "text": [
      "58페이지 센터정보생성\n"
     ]
    },
    {
     "name": "stderr",
     "output_type": "stream",
     "text": [
      " 60%|█████▉    | 58/97 [00:31<00:20,  1.89it/s]"
     ]
    },
    {
     "name": "stdout",
     "output_type": "stream",
     "text": [
      "59페이지 센터정보생성\n"
     ]
    },
    {
     "name": "stderr",
     "output_type": "stream",
     "text": [
      " 61%|██████    | 59/97 [00:32<00:20,  1.89it/s]"
     ]
    },
    {
     "name": "stdout",
     "output_type": "stream",
     "text": [
      "60페이지 센터정보생성\n"
     ]
    },
    {
     "name": "stderr",
     "output_type": "stream",
     "text": [
      " 62%|██████▏   | 60/97 [00:32<00:19,  1.86it/s]"
     ]
    },
    {
     "name": "stdout",
     "output_type": "stream",
     "text": [
      "61페이지 센터정보생성\n"
     ]
    },
    {
     "name": "stderr",
     "output_type": "stream",
     "text": [
      " 63%|██████▎   | 61/97 [00:33<00:19,  1.88it/s]"
     ]
    },
    {
     "name": "stdout",
     "output_type": "stream",
     "text": [
      "62페이지 센터정보생성\n"
     ]
    },
    {
     "name": "stderr",
     "output_type": "stream",
     "text": [
      " 64%|██████▍   | 62/97 [00:33<00:18,  1.88it/s]"
     ]
    },
    {
     "name": "stdout",
     "output_type": "stream",
     "text": [
      "63페이지 센터정보생성\n"
     ]
    },
    {
     "name": "stderr",
     "output_type": "stream",
     "text": [
      " 65%|██████▍   | 63/97 [00:34<00:19,  1.74it/s]"
     ]
    },
    {
     "name": "stdout",
     "output_type": "stream",
     "text": [
      "64페이지 센터정보생성\n"
     ]
    },
    {
     "name": "stderr",
     "output_type": "stream",
     "text": [
      " 66%|██████▌   | 64/97 [00:34<00:18,  1.79it/s]"
     ]
    },
    {
     "name": "stdout",
     "output_type": "stream",
     "text": [
      "65페이지 센터정보생성\n"
     ]
    },
    {
     "name": "stderr",
     "output_type": "stream",
     "text": [
      " 67%|██████▋   | 65/97 [00:35<00:17,  1.82it/s]"
     ]
    },
    {
     "name": "stdout",
     "output_type": "stream",
     "text": [
      "66페이지 센터정보생성\n"
     ]
    },
    {
     "name": "stderr",
     "output_type": "stream",
     "text": [
      " 68%|██████▊   | 66/97 [00:36<00:16,  1.87it/s]"
     ]
    },
    {
     "name": "stdout",
     "output_type": "stream",
     "text": [
      "67페이지 센터정보생성\n"
     ]
    },
    {
     "name": "stderr",
     "output_type": "stream",
     "text": [
      " 69%|██████▉   | 67/97 [00:36<00:15,  1.88it/s]"
     ]
    },
    {
     "name": "stdout",
     "output_type": "stream",
     "text": [
      "68페이지 센터정보생성\n"
     ]
    },
    {
     "name": "stderr",
     "output_type": "stream",
     "text": [
      " 70%|███████   | 68/97 [00:37<00:15,  1.89it/s]"
     ]
    },
    {
     "name": "stdout",
     "output_type": "stream",
     "text": [
      "69페이지 센터정보생성\n"
     ]
    },
    {
     "name": "stderr",
     "output_type": "stream",
     "text": [
      " 71%|███████   | 69/97 [00:37<00:15,  1.81it/s]"
     ]
    },
    {
     "name": "stdout",
     "output_type": "stream",
     "text": [
      "70페이지 센터정보생성\n"
     ]
    },
    {
     "name": "stderr",
     "output_type": "stream",
     "text": [
      " 72%|███████▏  | 70/97 [00:38<00:14,  1.84it/s]"
     ]
    },
    {
     "name": "stdout",
     "output_type": "stream",
     "text": [
      "71페이지 센터정보생성\n"
     ]
    },
    {
     "name": "stderr",
     "output_type": "stream",
     "text": [
      " 73%|███████▎  | 71/97 [00:38<00:13,  1.87it/s]"
     ]
    },
    {
     "name": "stdout",
     "output_type": "stream",
     "text": [
      "72페이지 센터정보생성\n"
     ]
    },
    {
     "name": "stderr",
     "output_type": "stream",
     "text": [
      " 74%|███████▍  | 72/97 [00:39<00:14,  1.71it/s]"
     ]
    },
    {
     "name": "stdout",
     "output_type": "stream",
     "text": [
      "73페이지 센터정보생성\n"
     ]
    },
    {
     "name": "stderr",
     "output_type": "stream",
     "text": [
      " 75%|███████▌  | 73/97 [00:39<00:13,  1.76it/s]"
     ]
    },
    {
     "name": "stdout",
     "output_type": "stream",
     "text": [
      "74페이지 센터정보생성\n"
     ]
    },
    {
     "name": "stderr",
     "output_type": "stream",
     "text": [
      " 76%|███████▋  | 74/97 [00:40<00:12,  1.81it/s]"
     ]
    },
    {
     "name": "stdout",
     "output_type": "stream",
     "text": [
      "75페이지 센터정보생성\n"
     ]
    },
    {
     "name": "stderr",
     "output_type": "stream",
     "text": [
      " 77%|███████▋  | 75/97 [00:40<00:11,  1.86it/s]"
     ]
    },
    {
     "name": "stdout",
     "output_type": "stream",
     "text": [
      "76페이지 센터정보생성\n"
     ]
    },
    {
     "name": "stderr",
     "output_type": "stream",
     "text": [
      " 78%|███████▊  | 76/97 [00:41<00:11,  1.84it/s]"
     ]
    },
    {
     "name": "stdout",
     "output_type": "stream",
     "text": [
      "77페이지 센터정보생성\n"
     ]
    },
    {
     "name": "stderr",
     "output_type": "stream",
     "text": [
      " 79%|███████▉  | 77/97 [00:42<00:10,  1.84it/s]"
     ]
    },
    {
     "name": "stdout",
     "output_type": "stream",
     "text": [
      "78페이지 센터정보생성\n"
     ]
    },
    {
     "name": "stderr",
     "output_type": "stream",
     "text": [
      " 80%|████████  | 78/97 [00:42<00:10,  1.85it/s]"
     ]
    },
    {
     "name": "stdout",
     "output_type": "stream",
     "text": [
      "79페이지 센터정보생성\n"
     ]
    },
    {
     "name": "stderr",
     "output_type": "stream",
     "text": [
      " 81%|████████▏ | 79/97 [00:43<00:09,  1.86it/s]"
     ]
    },
    {
     "name": "stdout",
     "output_type": "stream",
     "text": [
      "80페이지 센터정보생성\n"
     ]
    },
    {
     "name": "stderr",
     "output_type": "stream",
     "text": [
      " 82%|████████▏ | 80/97 [00:43<00:09,  1.89it/s]"
     ]
    },
    {
     "name": "stdout",
     "output_type": "stream",
     "text": [
      "81페이지 센터정보생성\n"
     ]
    },
    {
     "name": "stderr",
     "output_type": "stream",
     "text": [
      " 84%|████████▎ | 81/97 [00:44<00:08,  1.90it/s]"
     ]
    },
    {
     "name": "stdout",
     "output_type": "stream",
     "text": [
      "82페이지 센터정보생성\n"
     ]
    },
    {
     "name": "stderr",
     "output_type": "stream",
     "text": [
      " 85%|████████▍ | 82/97 [00:45<00:09,  1.53it/s]"
     ]
    },
    {
     "name": "stdout",
     "output_type": "stream",
     "text": [
      "83페이지 센터정보생성\n"
     ]
    },
    {
     "name": "stderr",
     "output_type": "stream",
     "text": [
      " 86%|████████▌ | 83/97 [00:45<00:09,  1.55it/s]"
     ]
    },
    {
     "name": "stdout",
     "output_type": "stream",
     "text": [
      "84페이지 센터정보생성\n"
     ]
    },
    {
     "name": "stderr",
     "output_type": "stream",
     "text": [
      " 87%|████████▋ | 84/97 [00:46<00:07,  1.64it/s]"
     ]
    },
    {
     "name": "stdout",
     "output_type": "stream",
     "text": [
      "85페이지 센터정보생성\n"
     ]
    },
    {
     "name": "stderr",
     "output_type": "stream",
     "text": [
      " 88%|████████▊ | 85/97 [00:46<00:07,  1.69it/s]"
     ]
    },
    {
     "name": "stdout",
     "output_type": "stream",
     "text": [
      "86페이지 센터정보생성\n"
     ]
    },
    {
     "name": "stderr",
     "output_type": "stream",
     "text": [
      " 89%|████████▊ | 86/97 [00:47<00:06,  1.77it/s]"
     ]
    },
    {
     "name": "stdout",
     "output_type": "stream",
     "text": [
      "87페이지 센터정보생성\n"
     ]
    },
    {
     "name": "stderr",
     "output_type": "stream",
     "text": [
      " 90%|████████▉ | 87/97 [00:47<00:05,  1.67it/s]"
     ]
    },
    {
     "name": "stdout",
     "output_type": "stream",
     "text": [
      "88페이지 센터정보생성\n"
     ]
    },
    {
     "name": "stderr",
     "output_type": "stream",
     "text": [
      " 91%|█████████ | 88/97 [00:48<00:05,  1.71it/s]"
     ]
    },
    {
     "name": "stdout",
     "output_type": "stream",
     "text": [
      "89페이지 센터정보생성\n"
     ]
    },
    {
     "name": "stderr",
     "output_type": "stream",
     "text": [
      " 92%|█████████▏| 89/97 [00:49<00:04,  1.74it/s]"
     ]
    },
    {
     "name": "stdout",
     "output_type": "stream",
     "text": [
      "90페이지 센터정보생성\n"
     ]
    },
    {
     "name": "stderr",
     "output_type": "stream",
     "text": [
      " 93%|█████████▎| 90/97 [00:49<00:03,  1.77it/s]"
     ]
    },
    {
     "name": "stdout",
     "output_type": "stream",
     "text": [
      "91페이지 센터정보생성\n"
     ]
    },
    {
     "name": "stderr",
     "output_type": "stream",
     "text": [
      " 94%|█████████▍| 91/97 [00:50<00:03,  1.82it/s]"
     ]
    },
    {
     "name": "stdout",
     "output_type": "stream",
     "text": [
      "92페이지 센터정보생성\n"
     ]
    },
    {
     "name": "stderr",
     "output_type": "stream",
     "text": [
      " 95%|█████████▍| 92/97 [00:50<00:02,  1.85it/s]"
     ]
    },
    {
     "name": "stdout",
     "output_type": "stream",
     "text": [
      "93페이지 센터정보생성\n"
     ]
    },
    {
     "name": "stderr",
     "output_type": "stream",
     "text": [
      " 96%|█████████▌| 93/97 [00:51<00:02,  1.83it/s]"
     ]
    },
    {
     "name": "stdout",
     "output_type": "stream",
     "text": [
      "94페이지 센터정보생성\n"
     ]
    },
    {
     "name": "stderr",
     "output_type": "stream",
     "text": [
      " 97%|█████████▋| 94/97 [00:51<00:01,  1.85it/s]"
     ]
    },
    {
     "name": "stdout",
     "output_type": "stream",
     "text": [
      "95페이지 센터정보생성\n"
     ]
    },
    {
     "name": "stderr",
     "output_type": "stream",
     "text": [
      " 98%|█████████▊| 95/97 [00:52<00:01,  1.89it/s]"
     ]
    },
    {
     "name": "stdout",
     "output_type": "stream",
     "text": [
      "96페이지 센터정보생성\n"
     ]
    },
    {
     "name": "stderr",
     "output_type": "stream",
     "text": [
      " 99%|█████████▉| 96/97 [00:52<00:00,  1.87it/s]"
     ]
    },
    {
     "name": "stdout",
     "output_type": "stream",
     "text": [
      "97페이지 센터정보생성\n"
     ]
    },
    {
     "name": "stderr",
     "output_type": "stream",
     "text": [
      "100%|██████████| 97/97 [00:53<00:00,  1.82it/s]"
     ]
    },
    {
     "name": "stdout",
     "output_type": "stream",
     "text": [
      "98페이지 센터정보생성\n"
     ]
    },
    {
     "name": "stderr",
     "output_type": "stream",
     "text": [
      "\n"
     ]
    }
   ],
   "source": [
    "total_list = []\n",
    "# 체육시설, 문화체험, 공간시설, 교육강좌, 진료복지\n",
    "#code_list = ['T100', 'T200', 'T500', 'T000', 'T400']\n",
    "code_list = ['T200','T000']\n",
    "for code in code_list:\n",
    "    total_list.extend(예약전체리스트만들기(REQ_POST,LIST_PAGE,{'code':code}))"
   ]
  },
  {
   "cell_type": "code",
   "execution_count": 13,
   "id": "b094bb98-f3ea-462b-9390-42f0b66909d9",
   "metadata": {},
   "outputs": [
    {
     "data": {
      "text/plain": [
       "{'_id': 'ObjectID()',\n",
       " '예약ID': 'S230828110130558131',\n",
       " '서비스명': \"푸른수목원 10월 숲해설 '열매와 씨앗이야기'(단체)\",\n",
       " '장소명': '푸른수목원(구로구)',\n",
       " '접수기간': '2023.10.01 ~ 2023.10.31',\n",
       " '이용기간': '2023.09.18 ~ 2023.10.31',\n",
       " '이용요금': '무료',\n",
       " '접수상태': '예약마감',\n",
       " '신청방법': '선착순',\n",
       " '예약방법': '온라인',\n",
       " '외부링크여부': 'N',\n",
       " '외부링크': None}"
      ]
     },
     "execution_count": 13,
     "metadata": {},
     "output_type": "execute_result"
    }
   ],
   "source": [
    "total_list[364]"
   ]
  },
  {
   "cell_type": "code",
   "execution_count": 12,
   "id": "0afb83fb",
   "metadata": {
    "scrolled": true
   },
   "outputs": [
    {
     "name": "stderr",
     "output_type": "stream",
     "text": [
      " 29%|██▊       | 364/1273 [01:27<03:39,  4.14it/s]\n"
     ]
    },
    {
     "ename": "TypeError",
     "evalue": "'NoneType' object is not subscriptable",
     "output_type": "error",
     "traceback": [
      "\u001b[0;31m---------------------------------------------------------------------------\u001b[0m",
      "\u001b[0;31mTypeError\u001b[0m                                 Traceback (most recent call last)",
      "Cell \u001b[0;32mIn[12], line 5\u001b[0m\n\u001b[1;32m      3\u001b[0m detail_res \u001b[38;5;241m=\u001b[39m web_request(REQ_POST, DETAIL_PAGE, {\u001b[38;5;124m'\u001b[39m\u001b[38;5;124msysToday\u001b[39m\u001b[38;5;124m'\u001b[39m: today_yyyymmdd, \u001b[38;5;124m'\u001b[39m\u001b[38;5;124mrsv_svc_id\u001b[39m\u001b[38;5;124m'\u001b[39m: item[\u001b[38;5;124m'\u001b[39m\u001b[38;5;124m예약ID\u001b[39m\u001b[38;5;124m'\u001b[39m]})\n\u001b[1;32m      4\u001b[0m detail_html \u001b[38;5;241m=\u001b[39m bs(detail_res[\u001b[38;5;124m'\u001b[39m\u001b[38;5;124mtext\u001b[39m\u001b[38;5;124m'\u001b[39m], \u001b[38;5;124m\"\u001b[39m\u001b[38;5;124mhtml.parser\u001b[39m\u001b[38;5;124m\"\u001b[39m)\n\u001b[0;32m----> 5\u001b[0m item\u001b[38;5;241m.\u001b[39mupdate(\u001b[43mgetDetailInfo\u001b[49m\u001b[43m(\u001b[49m\u001b[43mdetail_html\u001b[49m\u001b[43m)\u001b[49m)\n",
      "Cell \u001b[0;32mIn[6], line 3\u001b[0m, in \u001b[0;36mgetDetailInfo\u001b[0;34m(detail_html)\u001b[0m\n\u001b[1;32m      1\u001b[0m \u001b[38;5;28;01mdef\u001b[39;00m \u001b[38;5;21mgetDetailInfo\u001b[39m(detail_html):\n\u001b[1;32m      2\u001b[0m     center_info \u001b[38;5;241m=\u001b[39m {}\n\u001b[0;32m----> 3\u001b[0m     center_info[\u001b[38;5;124m'\u001b[39m\u001b[38;5;124m이미지경로\u001b[39m\u001b[38;5;124m'\u001b[39m]\u001b[38;5;241m=\u001b[39m \u001b[38;5;124m'\u001b[39m\u001b[38;5;124mhttps://yeyak.seoul.go.kr/\u001b[39m\u001b[38;5;124m'\u001b[39m \u001b[38;5;241m+\u001b[39m \u001b[43mdetail_html\u001b[49m\u001b[38;5;241;43m.\u001b[39;49m\u001b[43mselect_one\u001b[49m\u001b[43m(\u001b[49m\u001b[38;5;124;43m'\u001b[39;49m\u001b[38;5;124;43mdiv.left_box div.img_box img\u001b[39;49m\u001b[38;5;124;43m'\u001b[39;49m\u001b[43m)\u001b[49m\u001b[43m[\u001b[49m\u001b[38;5;124;43m'\u001b[39;49m\u001b[38;5;124;43msrc\u001b[39;49m\u001b[38;5;124;43m'\u001b[39;49m\u001b[43m]\u001b[49m\n\u001b[1;32m      4\u001b[0m     \u001b[38;5;28;01mfor\u001b[39;00m item \u001b[38;5;129;01min\u001b[39;00m detail_html\u001b[38;5;241m.\u001b[39mselect(\u001b[38;5;124m'\u001b[39m\u001b[38;5;124mdiv.con_box ul.dt_top_list li\u001b[39m\u001b[38;5;124m'\u001b[39m):\n\u001b[1;32m      5\u001b[0m         \u001b[38;5;28;01mif\u001b[39;00m \u001b[38;5;28mlen\u001b[39m(item\u001b[38;5;241m.\u001b[39mselect(\u001b[38;5;124m'\u001b[39m\u001b[38;5;124mb\u001b[39m\u001b[38;5;124m'\u001b[39m)) \u001b[38;5;241m==\u001b[39m \u001b[38;5;241m0\u001b[39m : \n",
      "\u001b[0;31mTypeError\u001b[0m: 'NoneType' object is not subscriptable"
     ]
    }
   ],
   "source": [
    "for item in tqdm(total_list):\n",
    "    if item['외부링크여부'] == 'N' and '일시정지' not in item['접수상태'] and '예약마감' not in item['접수상태']:\n",
    "        detail_res = web_request(REQ_POST, DETAIL_PAGE, {'sysToday': today_yyyymmdd, 'rsv_svc_id': item['예약ID']})\n",
    "        detail_html = bs(detail_res['text'], \"html.parser\")\n",
    "        item.update(getDetailInfo(detail_html))"
   ]
  },
  {
   "cell_type": "code",
   "execution_count": 32,
   "id": "f3e820e6-7ea4-4f52-8afe-b5e1e8b7bc4d",
   "metadata": {},
   "outputs": [
    {
     "data": {
      "text/plain": [
       "{'_id': 'ObjectID()',\n",
       " '예약ID': 'http://dongdaemun.kccf.or.kr/home/main/school.php?mode=view&menuinfo_code=lecture&page=1&content_idx=43162&keyword=&keyfield=',\n",
       " '서비스명': '이현주 힐링 노래교실',\n",
       " '장소명': '(동대문구)',\n",
       " '접수기간': '',\n",
       " '이용기간': '~   ~',\n",
       " '이용요금': '무료',\n",
       " '접수상태': '접수중',\n",
       " '신청방법': '-',\n",
       " '예약방법': '외부사이트',\n",
       " '외부링크여부': 'Y',\n",
       " '외부링크': 'http://dongdaemun.kccf.or.kr/home/main/school.php?mode=view&menuinfo_code=lecture&page=1&content_idx=43162&keyword=&keyfield='}"
      ]
     },
     "execution_count": 32,
     "metadata": {},
     "output_type": "execute_result"
    }
   ],
   "source": [
    "total_list[1140]"
   ]
  },
  {
   "cell_type": "code",
   "execution_count": 33,
   "id": "49d5f0fa-34d0-42e9-9d1c-336dd4eb7833",
   "metadata": {},
   "outputs": [
    {
     "name": "stderr",
     "output_type": "stream",
     "text": [
      "100%|██████████| 1273/1273 [00:00<00:00, 456823.15it/s]\n"
     ]
    }
   ],
   "source": [
    "for item in tqdm(total_list):\n",
    "    if item['접수기간'] == '':\n",
    "        continue\n",
    "    reverve_info = {}\n",
    "    str_dt = item['접수기간'].split('~')[0]\n",
    "    if len(str_dt.split(' ')) > 1:\n",
    "        reverve_info['접수시작일'] = str_dt.split(' ')[0]\n",
    "        reverve_info['접수시작시간'] = str_dt.split(' ')[1]    \n",
    "    else:\n",
    "        reverve_info['접수시작일']=str_dt\n",
    "    #접수시작일 = str_dt.split(' ')[0]\n",
    "    #접수시작시간 = str_dt.split(' ')[1]\n",
    "    end_dt= item['접수기간'].split('~')[1]\n",
    "    end_dt = end_dt.lstrip()\n",
    "    #접수종료일 = end_dt.split(' ')[0]\n",
    "    #접수종료시간 = end_dt.split(' ')[1]\n",
    "    if len(end_dt.split(' ')) > 1:\n",
    "        reverve_info['접수종료일'] = end_dt.split(' ')[0]\n",
    "        reverve_info['접수종료시간'] = end_dt.split(' ')[1]    \n",
    "    else:\n",
    "        reverve_info['접수시작일']=end_dt\n",
    "    item.update(reverve_info)"
   ]
  },
  {
   "cell_type": "code",
   "execution_count": null,
   "id": "6e8faa2f-3343-4bc5-ad38-a0a5ab4bf983",
   "metadata": {},
   "outputs": [],
   "source": [
    "total_list"
   ]
  },
  {
   "cell_type": "code",
   "execution_count": 39,
   "id": "4fe1ab88",
   "metadata": {},
   "outputs": [],
   "source": [
    "with open('./서울예약정보_20230919.json', 'w', encoding='utf-8') as make_file:\n",
    "    json.dump(total_list, make_file, indent=\"\\t\")"
   ]
  }
 ],
 "metadata": {
  "kernelspec": {
   "display_name": "Python 3 (ipykernel)",
   "language": "python",
   "name": "python3"
  },
  "language_info": {
   "codemirror_mode": {
    "name": "ipython",
    "version": 3
   },
   "file_extension": ".py",
   "mimetype": "text/x-python",
   "name": "python",
   "nbconvert_exporter": "python",
   "pygments_lexer": "ipython3",
   "version": "3.11.4"
  }
 },
 "nbformat": 4,
 "nbformat_minor": 5
}
