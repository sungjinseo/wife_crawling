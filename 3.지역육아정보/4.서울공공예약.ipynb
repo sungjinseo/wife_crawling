{
 "cells": [
  {
   "cell_type": "code",
   "execution_count": null,
   "id": "02033af3",
   "metadata": {},
   "outputs": [],
   "source": [
    "기본정보\n",
    "테마정보 : 공공예약-문화체험 > 2월 서울형 키즈카페(종로 혜명 아이들 상상놀이터, 초등 예술가와의 만남)\n",
    "주소 : 서울특별시 종로구 성균관로 91\n",
    "연락처 : 02-742-3321\n",
    "URL : https://yeyak.seoul.go.kr/web/reservation/selectReservView.do?rsv_svc_id=S230119145036619928\n",
    "테마 사진\n",
    "상세 정보\n",
    "정보\n",
    "대상 : 초등학생(보호자 필수 (만 6세,2016년생 ~ 만 7세, 2015년생))\n",
    "장소 : 혜명 아이들 상상놀이터\n",
    "서비스 기간 : 2023.01.20 ~ 2023.02.25\n",
    "이용 기간 : 2023.02.01 ~ 2023.02.25\n",
    "접수 기간 : 2023.01.20 10:00:00 ~ 2023.02.25 10:00:00 (이용예정 1일 전 까지)\n",
    "선별 방법 : 선착순\n",
    "모집 정원 : 20 명\n",
    "신청 제한 : 1회에 1 ~ 3 명 까지 신청가능\n",
    "취소 기간 : 이용일 2 일 전까지\n",
    "이용 요금 : 유료\n",
    "예약 방법 : 인터넷\n",
    "문의 전화 : 종로구립혜명아이들상상놀이터 / 02-742-3321\n",
    "닫기\n",
    "\n",
    "\n",
    "현위치 켜기 버튼\n",
    "확대 버튼\n",
    "Lv 6\n",
    "축소 버튼\n",
    "2월 서울형 키즈카페(종로 혜명 아이들 상상놀이터, 초등 예술가와의 만남)\n",
    "5 km\n",
    "3 mi\n",
    "상세 정보길찾기로드뷰중심점 이동"
   ]
  }
 ],
 "metadata": {
  "kernelspec": {
   "display_name": "Python 3 (ipykernel)",
   "language": "python",
   "name": "python3"
  },
  "language_info": {
   "codemirror_mode": {
    "name": "ipython",
    "version": 3
   },
   "file_extension": ".py",
   "mimetype": "text/x-python",
   "name": "python",
   "nbconvert_exporter": "python",
   "pygments_lexer": "ipython3",
   "version": "3.11.4"
  }
 },
 "nbformat": 4,
 "nbformat_minor": 5
}
