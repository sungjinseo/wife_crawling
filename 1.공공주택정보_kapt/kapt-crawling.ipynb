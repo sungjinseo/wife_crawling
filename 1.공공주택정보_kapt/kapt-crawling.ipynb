{
 "cells": [
  {
   "cell_type": "code",
   "execution_count": 1,
   "id": "06aad7db-8e9f-44a3-9e0e-e7866f703bf2",
   "metadata": {},
   "outputs": [
    {
     "name": "stdout",
     "output_type": "stream",
     "text": [
      "Requirement already satisfied: openpyxl in c:\\users\\administrator\\appdata\\local\\programs\\python\\python311\\lib\\site-packages (3.0.10)\n",
      "Requirement already satisfied: et-xmlfile in c:\\users\\administrator\\appdata\\local\\programs\\python\\python311\\lib\\site-packages (from openpyxl) (1.1.0)\n"
     ]
    }
   ],
   "source": [
    "!pip install openpyxl\n",
    "!pip install BeautifulSoup\n",
    "!pip install json\n",
    "!pip install tqdm"
   ]
  },
  {
   "cell_type": "code",
   "execution_count": 1,
   "id": "9ae803e2-d144-4c80-bf2c-8359d2effd2b",
   "metadata": {},
   "outputs": [],
   "source": [
    "import os\n",
    "import requests\n",
    "import json\n",
    "import time\n",
    "import copy\n",
    "import openpyxl\n",
    "import datetime\n",
    "from bs4 import BeautifulSoup as bs\n",
    "from tqdm import tqdm, trange\n",
    "\n",
    "import CaptchaCracker as cc\n",
    "from selenium import webdriver\n",
    "from selenium.webdriver.common.keys import Keys\n",
    "from selenium.webdriver.common.by import By"
   ]
  },
  {
   "cell_type": "code",
   "execution_count": 2,
   "id": "06e55709-ff90-4ac7-8579-0cb8ca9f832d",
   "metadata": {},
   "outputs": [],
   "source": [
    "urlSido = 'http://www.k-apt.go.kr/cmmn/bjd/getBjdList.do?' # 동까지 조회 할때 사용하는 url\n",
    "urlApt = 'http://www.k-apt.go.kr/kaptinfo/getKaptList.do?'  # 아파트리스트 가져올때 사용하는 url\n",
    "부모주소 = 'http://www.k-apt.go.kr/cmmn/selectKapt.do?'\n",
    "리다이렉션_단지정보 = '/kaptinfo/openkaptinfo.do'\n",
    "아파트상세정보 = 'http://www.k-apt.go.kr/kaptinfo/getKaptInfo_detail.do?'\n",
    "CAPCHA_KEY = '/login/checkPageCount.do'\n",
    "CAPCHA_URL = 'http://www.k-apt.go.kr/login/checkPageCount.do'\n",
    "CAPCHA_IMG = 'captcha.png'\n",
    "SAVE_DATE = datetime.date.today().isoformat()\n",
    "\n",
    "# urlMonth = 'http://www.k-apt.go.kr/apiinfo/openCostMonthUseAve.do?' # 월별 에너지량\n",
    "# url = 'http://www.k-apt.go.kr/apiinfo/openCostEnergyUseStatistics.do?' # 에너지사용 통계\n",
    "# url = 'http://www.k-apt.go.kr/apiinfo/openCostYearUseAve.do' # 연도 에너리량"
   ]
  },
  {
   "cell_type": "code",
   "execution_count": null,
   "id": "d5b82931-47be-4fc6-bfc7-3203e2292612",
   "metadata": {},
   "outputs": [],
   "source": [
    "# 페이지로 응답오는 화면인경우 리다이렉트로 실해앟게 되어 있음..\n",
    "# 크롤링을 막으려 하는건지 코딩을 이따구로 하는건지 확인 못하겠네...\n",
    "# data = {'go_url':'/kaptinfo/openkaptinfo.do','bjd_code': '1168010300', 'kapt_code': 'A13593908', 'search_date': '202203'}  # 서울시 강남구 개포동\n",
    "# response = web_request(method_name='POST', url='http://www.k-apt.go.kr/cmmn/selectKapt.do?', dict_data=data)\n",
    "#http://www.k-apt.go.kr/cmmn/selectKapt.do\n",
    "#http://www.k-apt.go.kr/kaptinfo/openkaptinfo.do\n",
    "# '/kaptinfo/openkaptinfo.do? #우리단지 기본정보\n",
    "# '/kaptinfo/openkaptinfoBid.do?'# 우리단지 입찰공고\n",
    "# '/kaptinfo/openKaptMng.do?' #관리시설정보\n",
    "# '/kaptinfo/openKaptSetday.do?' #주택인도일정보\n",
    "# '/kaptinfo/openKaptGrEng.do?' #녹색/에너지정보\n",
    "# '/kaptinfo/openKaptMngRule.do?' #관리규약\n",
    "# '/kaptinfo/openKaptRep.do?' #입주자대표회의 구성인원\n",
    "\n",
    "#<form id=\"cmnmMapFrm\" method=\"post\" action=\"/cmmn/selectKapt.do\">\n",
    "\t#<input type=\"hidden\" value=\"\" name=\"go_url\" id=\"go_url\"> \n",
    "\t#<input type=\"hidden\" value=\"\" name=\"bjd_code\" id=\"bjd_code\"> \n",
    "\t#<input type=\"hidden\" value=\"\" name=\"kapt_code\" id=\"kapt_code\">\n",
    "\t#<input type=\"hidden\" value=\"\" name=\"search_date\" id=\"search_date\">\n",
    "#</form>\n"
   ]
  },
  {
   "cell_type": "code",
   "execution_count": 3,
   "id": "718ae64a-7cce-4024-bc93-9c5802c92286",
   "metadata": {},
   "outputs": [],
   "source": [
    "# 타겟 이미지 크기\n",
    "LEARNED_MODEL = './model/weights.h5'\n",
    "\n",
    "img_width = 250\n",
    "img_height = 50\n",
    "# 타겟 이미지 라벨 길이\n",
    "max_length = 5\n",
    "# 타겟 이미지 라벨 구성요소\n",
    "path_dir = './img/'\n",
    "file_list = os.listdir(path_dir)\n",
    "file_name = [];\n",
    "for item in file_list:\n",
    "    file_name.extend(list(item.replace('.png','')))\n",
    "\n",
    "characters = set(file_name)\n",
    "# 모델 가중치 파일 경로\n",
    "weights_path = LEARNED_MODEL\n",
    "# 모델 적용 인스턴스\n",
    "AM = cc.ApplyModel(weights_path, img_width, img_height, max_length, characters)"
   ]
  },
  {
   "cell_type": "code",
   "execution_count": 4,
   "id": "7ec53248-27f1-4153-9fc9-c7dffcafec95",
   "metadata": {},
   "outputs": [],
   "source": [
    "def avoidCapcha(capcha_url):\n",
    "    driver = webdriver.Chrome('chromedriver.exe')\n",
    "    driver.get(capcha_url)\n",
    "    captcha_png  = driver.find_element(By.ID, 'captchaImg').screenshot_as_png\n",
    "    with open(CAPCHA_IMG, 'wb') as file:\n",
    "        file.write(captcha_png)\n",
    "    pred = AM.predict(CAPCHA_IMG)\n",
    "    result_elem = driver.find_element(By.NAME, 'chptcha_num')\n",
    "    result_elem.send_keys(pred)\n",
    "    result_elem.submit()\n",
    "    \n",
    "    try:\n",
    "        err = driver.switch_to.alert.text\n",
    "        shutil.move(CAPCHA_IMG, './error/'+pred+'.png')\n",
    "        driver.switch_to.alert.accept()\n",
    "        driver.close()\n",
    "        avoidCapcha()\n",
    "    except:    # 예외가 발생했을 때 실행됨\n",
    "        # 문자를 못받으면 정상처리 된거다\n",
    "        driver.close()"
   ]
  },
  {
   "cell_type": "code",
   "execution_count": 5,
   "id": "6b40920e-fb87-4036-afa4-6a10652fa801",
   "metadata": {},
   "outputs": [],
   "source": [
    "def web_request(method_name, url, dict_data, is_urlencoded=True):\n",
    "    \"\"\"Web GET or POST request를 호출 후 그 결과를 dict형으로 반환 \"\"\"    \n",
    "    method_name = method_name.upper()  # 메소드이름을 대문자로 바꾼다\n",
    "    if method_name not in ('GET', 'POST'):\n",
    "        raise Exception('method_name is GET or POST plz...')\n",
    "\n",
    "    if method_name == 'GET':  # GET방식인 경우\n",
    "        response = requests.get(url=url, params=dict_data)\n",
    "    elif method_name == 'POST':  # POST방식인 경우\n",
    "        if is_urlencoded is True:\n",
    "            response = requests.post(url=url, data=dict_data,\n",
    "                                     headers={'Content-Type': 'application/x-www-form-urlencoded'})\n",
    "        else:\n",
    "            response = requests.post(url=url, data=json.dumps(dict_data), headers={'Content-Type': 'application/json'})\n",
    "\n",
    "    dict_meta = {'status_code': response.status_code, 'ok': response.ok, 'encoding': response.encoding,\n",
    "                 'Content-Type': response.headers['Content-Type']}\n",
    "    if 'json' in str(response.headers['Content-Type']):  # JSON 형태인 경우\n",
    "        return {**dict_meta, **response.json()}\n",
    "    else:  # 문자열 형태인 경우\n",
    "        if response.text.find(CAPCHA_KEY) > 0:\n",
    "            avoidCapcha(CAPCHA_URL)\n",
    "            return web_request(method_name, url, dict_data, is_urlencoded)\n",
    "        else:\n",
    "            return {**dict_meta, **{'text': response.text}}\n",
    "        #return {**dict_meta, **{'text': response.text}}"
   ]
  },
  {
   "cell_type": "code",
   "execution_count": 6,
   "id": "947ee5ae-0611-4fa1-af55-8880953e8077",
   "metadata": {},
   "outputs": [],
   "source": [
    "def getSidoList(paramCode, paramGbn):\n",
    "    data = {'bjd_code': paramCode, 'bjd_gbn': paramGbn}  # 서울시\n",
    "    # data = {'bjd_code': '11', 'bjd_gbn':'SGG'}           # 서울시\n",
    "    # data = {'bjd_code': '11680', 'bjd_gbn':'EMD'}         # 서울시 강남구\n",
    "\n",
    "    response = web_request(method_name='POST', url=urlSido, dict_data=data)\n",
    "    if response['ok'] == True:\n",
    "        # 성공 응답 시 액션\n",
    "        result = json.loads(response['text'])\n",
    "        return result\n",
    "    else:\n",
    "        # 실패 응답 시 액션\n",
    "        pass"
   ]
  },
  {
   "cell_type": "code",
   "execution_count": 7,
   "id": "e2b59b97-de92-46cc-b7da-602854b8699a",
   "metadata": {},
   "outputs": [],
   "source": [
    "def getAptList(paramCode, srchDate):\n",
    "    # data = {'bjd_code': '1168010300'}         # 서울시 강남구 개포동\n",
    "    data = {'bjd_code': paramCode, 'search_date': srchDate}  # 서울시 강남구 개포동\n",
    "    response = web_request(method_name='POST', url=urlApt, dict_data=data)\n",
    "    if response['ok'] == True:\n",
    "        # 성공 응답 시 액션\n",
    "        result = json.loads(response['text'])\n",
    "        return result\n",
    "    else:\n",
    "        pass"
   ]
  },
  {
   "cell_type": "code",
   "execution_count": 8,
   "id": "99f56d15-a7ff-4e97-9ba6-52afd0c9a46d",
   "metadata": {},
   "outputs": [],
   "source": [
    "def getRedirectInfo(parent_url, child_url, bjd_code, kapt_code, search_date):\n",
    "    data = {'go_url':child_url,'bjd_code': bjd_code, 'kapt_code': kapt_code, 'search_date': search_date}  # 서울시 강남구 개포동\n",
    "    return web_request(method_name='POST', url=parent_url, dict_data=data)"
   ]
  },
  {
   "cell_type": "code",
   "execution_count": 9,
   "id": "c5e0e2de-2b79-41d7-9f61-db9f629f7773",
   "metadata": {},
   "outputs": [],
   "source": [
    "# 우리단지 기본정보\n",
    "#data = {'go_url':'/kaptinfo/openkaptinfo.do','bjd_code': '1168010300', 'kapt_code': 'A13593908', 'search_date': '202203'}  # 서울시 강남구 개포동\n",
    "#danji_res = web_request(method_name='POST', url='http://www.k-apt.go.kr/cmmn/selectKapt.do?', dict_data=data)\n",
    "def getDanjiInfo(parent_url, child_url, bjd_code, kapt_code, search_date):\n",
    "    result=[]\n",
    "    danji_res = getRedirectInfo(parent_url, child_url, bjd_code, kapt_code, search_date)\n",
    "    #danji_res = getRedirectInfo('http://www.k-apt.go.kr/cmmn/selectKapt.do?', '/kaptinfo/openkaptinfo.do', '1168010300', 'A13593908', '202203')\n",
    "    \n",
    "    danji_soup = bs(danji_res['text'], \"html.parser\")\n",
    "    elements = danji_soup.find(\"div\", \"subCbox\")\n",
    "    td_values = elements.find_all('td')\n",
    "    tr_values = elements.find_all('tr')\n",
    "    script_values = elements.find(\"script\").text\n",
    "    ADDRESS_KEY = 'arrAddr.push'\n",
    "    addr_val = ''\n",
    "\n",
    "    for item in script_values.split('\\n'):\n",
    "        # 첫번째 값은 법정동주소고 두번째 값은 도로명주소이다\n",
    "        if ADDRESS_KEY in item:\n",
    "            addr_val= item[item.find('\"')+1:-4]\n",
    "            break\n",
    "    #for idx, item in enumerate(elements):            # enumerate를 사용하면 해당 값의 인덱스를 알 수 있다.\n",
    "    #    ths = item.find_all('th')\n",
    "    #    tds = item.find_all('td')\n",
    "    #    print(tds)\n",
    "    \n",
    "    result.append(td_values[0].text.strip()) # 명칭\n",
    "    result.append(addr_val) #법정동주소    \n",
    "    result.append(td_values[4].text.strip()) #분양형태\n",
    "    result.append(td_values[5].text.strip()) #관리방식\n",
    "    result.append(td_values[6].text.strip()) #난방방식\n",
    "    result.append(td_values[7].text.strip()) #복도유형\n",
    "    result.append(td_values[8].text.strip()) #연면적\n",
    "    result.append(td_values[10].text.strip().split('\\n')[0][:-4].replace(\" \", \"\")) #동수/세대수\n",
    "    result.append(td_values[10].text.strip().split('\\n')[2]) #주거전용면적\n",
    "    result.append(td_values[12].text.strip().replace(\" \", \"\")) #시공사/시행사\n",
    "    result.append(td_values[16].text.strip().split('\\n')[0][td_values[16].text.strip().split('\\n')[0].find(':')+1:-2].strip()) #면적별 세대현황(전용면적 기준)\n",
    "    result.append(td_values[16].text.strip().split('\\n')[1][td_values[16].text.strip().split('\\n')[1].find(':')+1:-2].strip()) #면적별 세대현황(전용면적 기준)\n",
    "    result.append(td_values[16].text.strip().split('\\n')[2][td_values[16].text.strip().split('\\n')[2].find(':')+1:-2].strip()) #면적별 세대현황(전용면적 기준)\n",
    "    result.append(td_values[16].text.strip().split('\\n')[3][td_values[16].text.strip().split('\\n')[3].find(':')+1:-2].strip()) #면적별 세대현황(전용면적 기준)\n",
    "    \n",
    "    return result"
   ]
  },
  {
   "cell_type": "code",
   "execution_count": 10,
   "id": "574be8c9-0598-4b8d-86fb-9bb5a652192f",
   "metadata": {},
   "outputs": [],
   "source": [
    "# 관리시설정보\n",
    "# 원래 실행순서 http://www.k-apt.go.kr/cmmn/selectKapt.do -> redirect : /kaptinfo/openKaptMng.do -> 상세정보는  /kaptinfo/getKaptInfo_detail.do 에서 호출\n",
    "# 따라서 마지막 정보만 필요하기때문에 /kaptinfo/getKaptInfo_detail.do 만 호출해서 사용 만약에 추가필드가 필요하면 화면정보를 다시 불러와서 key value를 파악해야함\n",
    "\n",
    "#manage_res = getRedirectInfo('http://www.k-apt.go.kr/cmmn/selectKapt.do?', '/kaptinfo/openKaptMng.do', '1168010300', 'A13593908', '202203')\n",
    "#manage_soup = bs(manage_res['text'], \"html.parser\")\n",
    "def manageInfo(kapt_code, req_url):\n",
    "    result = []\n",
    "    manage_data = {'kapt_code': kapt_code}  # 서울시 강남구 개포동\n",
    "    manage_res = web_request(method_name='POST', url=req_url, dict_data=manage_data)\n",
    "\n",
    "    json_object = json.loads(manage_res['text'])\n",
    "    result.append(json_object['resultMap_kapt']['CODE_ECON']) #세대전기방식\n",
    "    result.append(json_object['resultMap_kapt']['KAPTD_ECNT_TOTAL']) #승강기대수\n",
    "    result.append(json_object['resultMap_kapt']['KAPTD_PCNT']) # 지상주차\n",
    "    result.append(json_object['resultMap_kapt']['KAPTD_PCNTU']) # 지하주차\n",
    "    return result"
   ]
  },
  {
   "cell_type": "markdown",
   "id": "9e36c42a-5b46-46ca-9532-0c521d8b373b",
   "metadata": {},
   "source": [
    "# until setting"
   ]
  },
  {
   "cell_type": "code",
   "execution_count": 11,
   "id": "c3eccaf0-7be3-40b4-b0cd-9c3e17f2d239",
   "metadata": {},
   "outputs": [],
   "source": [
    "SIDO_DICTONARY = {'서울':'11', '인천':'28', '세종':'36', '대전':'30', '광주':'29', '울산':'31', \n",
    "                  '대구':'27', '부산':'26', '경기':'41', '강원':'42', '충북':'43', '충남':'44', \n",
    "                  '충북':'43', '경북':'47', '전북':'45', '전남':'46', '경남':'48'}\n",
    "# 시에서 구을 검색할때 코드\n",
    "#BJD_CODE = 'SGG'\n",
    "#구에서 동을 검색할때 코드\n",
    "#BJD_CODE = 'EMD'\n",
    "\n",
    "\n",
    "\n",
    "GU_LIST = []\n",
    "DONG_LIST = []\n",
    "DONG_CODE = 'EMD'\n",
    "APT_LIST = []\n",
    "SEARCH_DATE = '202203'\n",
    "LIST_FOR_EXCEL = []\n",
    "index = 0\n",
    "#APT_LIST = []\n",
    "#SEARCH_DATE = '202203'\n",
    "#with open('./json/221026_seoul_apt_data.json', 'r', encoding='utf-8') as f:\n",
    "#    APT_LIST = json.load(f)\n"
   ]
  },
  {
   "cell_type": "code",
   "execution_count": 12,
   "id": "bc163fb5-12c6-4b18-a613-08cc87a778d5",
   "metadata": {},
   "outputs": [
    {
     "name": "stdout",
     "output_type": "stream",
     "text": [
      "Start guList\n",
      "End guList\n"
     ]
    }
   ],
   "source": [
    "# 1. 시에서 전체구를 조회하는 리스트를 만든다.\n",
    "# 시에서 구를 검색하니 SGG값을 이용\n",
    "SIDO_KEY = SIDO_DICTONARY['서울']\n",
    "SIDO_CODE = 'SGG'\n",
    "\n",
    "print('Start guList')\n",
    "GU_LIST = getSidoList(SIDO_KEY, SIDO_CODE)\n",
    "print('End guList')"
   ]
  },
  {
   "cell_type": "code",
   "execution_count": 13,
   "id": "8f3d5876-7f22-4e41-a9fc-13458bee7555",
   "metadata": {},
   "outputs": [],
   "source": [
    "with open('./json/'+SAVE_DATE+'_'+SIDO_KEY+'_sido_data.json','w', encoding='utf-8') as f:\n",
    "  json.dump(GU_LIST, f, ensure_ascii=False, indent=4)"
   ]
  },
  {
   "cell_type": "code",
   "execution_count": 14,
   "id": "36fe89c7-4bed-4a91-b8ca-5ea7c14bd725",
   "metadata": {},
   "outputs": [
    {
     "name": "stdout",
     "output_type": "stream",
     "text": [
      "Start dongList\n"
     ]
    },
    {
     "name": "stderr",
     "output_type": "stream",
     "text": [
      "100%|██████████████████████████████████████████████████████████████████████████████████| 25/25 [02:11<00:00,  5.26s/it]"
     ]
    },
    {
     "name": "stdout",
     "output_type": "stream",
     "text": [
      "End dongList\n"
     ]
    },
    {
     "name": "stderr",
     "output_type": "stream",
     "text": [
      "\n"
     ]
    }
   ],
   "source": [
    "#2. 각구별로 돌아가면서 동을 출력하는 리스트를 만든다.\n",
    "# 구에서 동을 검색하니 EMD값을 이용\n",
    "print('Start dongList')\n",
    "for gu in tqdm(GU_LIST['resultList']):\n",
    "    gu['CODE'] = SIDO_KEY + gu['CODE']\n",
    "    dongList = getSidoList(gu['CODE'], DONG_CODE)\n",
    "    for dong in dongList['resultList']:\n",
    "        dong['CODE'] = gu['CODE'] + dong['CODE']\n",
    "        DONG_LIST.append(dong)\n",
    "print('End dongList')"
   ]
  },
  {
   "cell_type": "code",
   "execution_count": 15,
   "id": "4a70366c-1d46-4b20-9350-4e1c94c08b8b",
   "metadata": {},
   "outputs": [],
   "source": [
    "with open('./json/'+SAVE_DATE+'_'+SIDO_KEY+'_dong_data.json','w', encoding='utf-8') as f:\n",
    "  json.dump(DONG_LIST, f, ensure_ascii=False, indent=4)"
   ]
  },
  {
   "cell_type": "code",
   "execution_count": 16,
   "id": "0963c511-5782-49c0-9545-05d0e3e4fb1b",
   "metadata": {},
   "outputs": [
    {
     "name": "stdout",
     "output_type": "stream",
     "text": [
      "Start aptList\n"
     ]
    },
    {
     "name": "stderr",
     "output_type": "stream",
     "text": [
      " 61%|████████████████████████████████████████████████▍                               | 283/467 [00:47<00:19,  9.27it/s]C:\\Users\\Administrator\\AppData\\Local\\Temp\\ipykernel_10048\\3752296650.py:2: DeprecationWarning: executable_path has been deprecated, please pass in a Service object\n",
      "  driver = webdriver.Chrome('chromedriver.exe')\n",
      "100%|████████████████████████████████████████████████████████████████████████████████| 467/467 [01:19<00:00,  5.84it/s]"
     ]
    },
    {
     "name": "stdout",
     "output_type": "stream",
     "text": [
      "End aptList\n"
     ]
    },
    {
     "name": "stderr",
     "output_type": "stream",
     "text": [
      "\n"
     ]
    }
   ],
   "source": [
    "#3. 각동별로 아파트 정보를 년월기준으로 조회한다.\n",
    "# 기준월을 세팅한다.\n",
    "print('Start aptList')\n",
    "for dong in tqdm(DONG_LIST):\n",
    "    res = getAptList(dong['CODE'], SEARCH_DATE)\n",
    "    for aptInfo in res['resultList']:\n",
    "        APT_LIST.append(aptInfo)\n",
    "print('End aptList')\n"
   ]
  },
  {
   "cell_type": "code",
   "execution_count": 17,
   "id": "4ed871db-2f9c-4960-b460-6b4ae5508572",
   "metadata": {},
   "outputs": [],
   "source": [
    "with open('./json/'+SAVE_DATE+'_'+SIDO_KEY+'_apt_data.json','w', encoding='utf-8') as f:\n",
    "  json.dump(APT_LIST, f, ensure_ascii=False, indent=4)"
   ]
  },
  {
   "cell_type": "code",
   "execution_count": 50,
   "id": "d45049c5-4621-497b-9672-cbf473fe5c00",
   "metadata": {},
   "outputs": [
    {
     "name": "stdout",
     "output_type": "stream",
     "text": [
      "Start get APT engeryInfo\n"
     ]
    },
    {
     "name": "stderr",
     "output_type": "stream",
     "text": [
      "  1%|▋                                                                               | 21/2552 [00:27<54:39,  1.30s/it]C:\\Users\\Administrator\\AppData\\Local\\Temp\\ipykernel_27044\\2984589902.py:2: DeprecationWarning: executable_path has been deprecated, please pass in a Service object\n",
      "  driver = webdriver.Chrome('chromedriver.exe')\n",
      "  3%|██▎                                                                           | 75/2552 [02:03<1:07:56,  1.65s/it]\n"
     ]
    },
    {
     "ename": "ChunkedEncodingError",
     "evalue": "(\"Connection broken: ConnectionAbortedError(10053, '현재 연결은 사용자의 호스트 시스템의 소프트웨어의 의해 중단되었습니다', None, 10053, None)\", ConnectionAbortedError(10053, '현재 연결은 사용자의 호스트 시스템의 소프트웨어의 의해 중단되었습니다', None, 10053, None))",
     "output_type": "error",
     "traceback": [
      "\u001b[1;31m---------------------------------------------------------------------------\u001b[0m",
      "\u001b[1;31mConnectionAbortedError\u001b[0m                    Traceback (most recent call last)",
      "File \u001b[1;32m~\\AppData\\Local\\Programs\\Python\\Python39\\lib\\site-packages\\urllib3\\response.py:443\u001b[0m, in \u001b[0;36mHTTPResponse._error_catcher\u001b[1;34m(self)\u001b[0m\n\u001b[0;32m    442\u001b[0m \u001b[38;5;28;01mtry\u001b[39;00m:\n\u001b[1;32m--> 443\u001b[0m     \u001b[38;5;28;01myield\u001b[39;00m\n\u001b[0;32m    445\u001b[0m \u001b[38;5;28;01mexcept\u001b[39;00m SocketTimeout:\n\u001b[0;32m    446\u001b[0m     \u001b[38;5;66;03m# FIXME: Ideally we'd like to include the url in the ReadTimeoutError but\u001b[39;00m\n\u001b[0;32m    447\u001b[0m     \u001b[38;5;66;03m# there is yet no clean way to get at it from this context.\u001b[39;00m\n",
      "File \u001b[1;32m~\\AppData\\Local\\Programs\\Python\\Python39\\lib\\site-packages\\urllib3\\response.py:818\u001b[0m, in \u001b[0;36mHTTPResponse.read_chunked\u001b[1;34m(self, amt, decode_content)\u001b[0m\n\u001b[0;32m    817\u001b[0m     \u001b[38;5;28;01mbreak\u001b[39;00m\n\u001b[1;32m--> 818\u001b[0m chunk \u001b[38;5;241m=\u001b[39m \u001b[38;5;28;43mself\u001b[39;49m\u001b[38;5;241;43m.\u001b[39;49m\u001b[43m_handle_chunk\u001b[49m\u001b[43m(\u001b[49m\u001b[43mamt\u001b[49m\u001b[43m)\u001b[49m\n\u001b[0;32m    819\u001b[0m decoded \u001b[38;5;241m=\u001b[39m \u001b[38;5;28mself\u001b[39m\u001b[38;5;241m.\u001b[39m_decode(\n\u001b[0;32m    820\u001b[0m     chunk, decode_content\u001b[38;5;241m=\u001b[39mdecode_content, flush_decoder\u001b[38;5;241m=\u001b[39m\u001b[38;5;28;01mFalse\u001b[39;00m\n\u001b[0;32m    821\u001b[0m )\n",
      "File \u001b[1;32m~\\AppData\\Local\\Programs\\Python\\Python39\\lib\\site-packages\\urllib3\\response.py:771\u001b[0m, in \u001b[0;36mHTTPResponse._handle_chunk\u001b[1;34m(self, amt)\u001b[0m\n\u001b[0;32m    770\u001b[0m \u001b[38;5;28;01melse\u001b[39;00m:  \u001b[38;5;66;03m# amt > self.chunk_left\u001b[39;00m\n\u001b[1;32m--> 771\u001b[0m     returned_chunk \u001b[38;5;241m=\u001b[39m \u001b[38;5;28;43mself\u001b[39;49m\u001b[38;5;241;43m.\u001b[39;49m\u001b[43m_fp\u001b[49m\u001b[38;5;241;43m.\u001b[39;49m\u001b[43m_safe_read\u001b[49m\u001b[43m(\u001b[49m\u001b[38;5;28;43mself\u001b[39;49m\u001b[38;5;241;43m.\u001b[39;49m\u001b[43mchunk_left\u001b[49m\u001b[43m)\u001b[49m\n\u001b[0;32m    772\u001b[0m     \u001b[38;5;28mself\u001b[39m\u001b[38;5;241m.\u001b[39m_fp\u001b[38;5;241m.\u001b[39m_safe_read(\u001b[38;5;241m2\u001b[39m)  \u001b[38;5;66;03m# Toss the CRLF at the end of the chunk.\u001b[39;00m\n",
      "File \u001b[1;32m~\\AppData\\Local\\Programs\\Python\\Python39\\lib\\http\\client.py:626\u001b[0m, in \u001b[0;36mHTTPResponse._safe_read\u001b[1;34m(self, amt)\u001b[0m\n\u001b[0;32m    625\u001b[0m \u001b[38;5;28;01mwhile\u001b[39;00m amt \u001b[38;5;241m>\u001b[39m \u001b[38;5;241m0\u001b[39m:\n\u001b[1;32m--> 626\u001b[0m     chunk \u001b[38;5;241m=\u001b[39m \u001b[38;5;28;43mself\u001b[39;49m\u001b[38;5;241;43m.\u001b[39;49m\u001b[43mfp\u001b[49m\u001b[38;5;241;43m.\u001b[39;49m\u001b[43mread\u001b[49m\u001b[43m(\u001b[49m\u001b[38;5;28;43mmin\u001b[39;49m\u001b[43m(\u001b[49m\u001b[43mamt\u001b[49m\u001b[43m,\u001b[49m\u001b[43m \u001b[49m\u001b[43mMAXAMOUNT\u001b[49m\u001b[43m)\u001b[49m\u001b[43m)\u001b[49m\n\u001b[0;32m    627\u001b[0m     \u001b[38;5;28;01mif\u001b[39;00m \u001b[38;5;129;01mnot\u001b[39;00m chunk:\n",
      "File \u001b[1;32m~\\AppData\\Local\\Programs\\Python\\Python39\\lib\\socket.py:704\u001b[0m, in \u001b[0;36mSocketIO.readinto\u001b[1;34m(self, b)\u001b[0m\n\u001b[0;32m    703\u001b[0m \u001b[38;5;28;01mtry\u001b[39;00m:\n\u001b[1;32m--> 704\u001b[0m     \u001b[38;5;28;01mreturn\u001b[39;00m \u001b[38;5;28;43mself\u001b[39;49m\u001b[38;5;241;43m.\u001b[39;49m\u001b[43m_sock\u001b[49m\u001b[38;5;241;43m.\u001b[39;49m\u001b[43mrecv_into\u001b[49m\u001b[43m(\u001b[49m\u001b[43mb\u001b[49m\u001b[43m)\u001b[49m\n\u001b[0;32m    705\u001b[0m \u001b[38;5;28;01mexcept\u001b[39;00m timeout:\n",
      "\u001b[1;31mConnectionAbortedError\u001b[0m: [WinError 10053] 현재 연결은 사용자의 호스트 시스템의 소프트웨어의 의해 중단되었습니다",
      "\nDuring handling of the above exception, another exception occurred:\n",
      "\u001b[1;31mProtocolError\u001b[0m                             Traceback (most recent call last)",
      "File \u001b[1;32m~\\AppData\\Local\\Programs\\Python\\Python39\\lib\\site-packages\\requests\\models.py:816\u001b[0m, in \u001b[0;36mResponse.iter_content.<locals>.generate\u001b[1;34m()\u001b[0m\n\u001b[0;32m    815\u001b[0m \u001b[38;5;28;01mtry\u001b[39;00m:\n\u001b[1;32m--> 816\u001b[0m     \u001b[38;5;28;01myield from\u001b[39;00m \u001b[38;5;28mself\u001b[39m\u001b[38;5;241m.\u001b[39mraw\u001b[38;5;241m.\u001b[39mstream(chunk_size, decode_content\u001b[38;5;241m=\u001b[39m\u001b[38;5;28;01mTrue\u001b[39;00m)\n\u001b[0;32m    817\u001b[0m \u001b[38;5;28;01mexcept\u001b[39;00m ProtocolError \u001b[38;5;28;01mas\u001b[39;00m e:\n",
      "File \u001b[1;32m~\\AppData\\Local\\Programs\\Python\\Python39\\lib\\site-packages\\urllib3\\response.py:623\u001b[0m, in \u001b[0;36mHTTPResponse.stream\u001b[1;34m(self, amt, decode_content)\u001b[0m\n\u001b[0;32m    622\u001b[0m \u001b[38;5;28;01mif\u001b[39;00m \u001b[38;5;28mself\u001b[39m\u001b[38;5;241m.\u001b[39mchunked \u001b[38;5;129;01mand\u001b[39;00m \u001b[38;5;28mself\u001b[39m\u001b[38;5;241m.\u001b[39msupports_chunked_reads():\n\u001b[1;32m--> 623\u001b[0m     \u001b[38;5;28;01mfor\u001b[39;00m line \u001b[38;5;129;01min\u001b[39;00m \u001b[38;5;28mself\u001b[39m\u001b[38;5;241m.\u001b[39mread_chunked(amt, decode_content\u001b[38;5;241m=\u001b[39mdecode_content):\n\u001b[0;32m    624\u001b[0m         \u001b[38;5;28;01myield\u001b[39;00m line\n",
      "File \u001b[1;32m~\\AppData\\Local\\Programs\\Python\\Python39\\lib\\site-packages\\urllib3\\response.py:844\u001b[0m, in \u001b[0;36mHTTPResponse.read_chunked\u001b[1;34m(self, amt, decode_content)\u001b[0m\n\u001b[0;32m    843\u001b[0m \u001b[38;5;28;01mif\u001b[39;00m \u001b[38;5;28mself\u001b[39m\u001b[38;5;241m.\u001b[39m_original_response:\n\u001b[1;32m--> 844\u001b[0m     \u001b[38;5;28mself\u001b[39m\u001b[38;5;241m.\u001b[39m_original_response\u001b[38;5;241m.\u001b[39mclose()\n",
      "File \u001b[1;32m~\\AppData\\Local\\Programs\\Python\\Python39\\lib\\contextlib.py:137\u001b[0m, in \u001b[0;36m_GeneratorContextManager.__exit__\u001b[1;34m(self, typ, value, traceback)\u001b[0m\n\u001b[0;32m    136\u001b[0m \u001b[38;5;28;01mtry\u001b[39;00m:\n\u001b[1;32m--> 137\u001b[0m     \u001b[38;5;28;43mself\u001b[39;49m\u001b[38;5;241;43m.\u001b[39;49m\u001b[43mgen\u001b[49m\u001b[38;5;241;43m.\u001b[39;49m\u001b[43mthrow\u001b[49m\u001b[43m(\u001b[49m\u001b[43mtyp\u001b[49m\u001b[43m,\u001b[49m\u001b[43m \u001b[49m\u001b[43mvalue\u001b[49m\u001b[43m,\u001b[49m\u001b[43m \u001b[49m\u001b[43mtraceback\u001b[49m\u001b[43m)\u001b[49m\n\u001b[0;32m    138\u001b[0m \u001b[38;5;28;01mexcept\u001b[39;00m \u001b[38;5;167;01mStopIteration\u001b[39;00m \u001b[38;5;28;01mas\u001b[39;00m exc:\n\u001b[0;32m    139\u001b[0m     \u001b[38;5;66;03m# Suppress StopIteration *unless* it's the same exception that\u001b[39;00m\n\u001b[0;32m    140\u001b[0m     \u001b[38;5;66;03m# was passed to throw().  This prevents a StopIteration\u001b[39;00m\n\u001b[0;32m    141\u001b[0m     \u001b[38;5;66;03m# raised inside the \"with\" statement from being suppressed.\u001b[39;00m\n",
      "File \u001b[1;32m~\\AppData\\Local\\Programs\\Python\\Python39\\lib\\site-packages\\urllib3\\response.py:460\u001b[0m, in \u001b[0;36mHTTPResponse._error_catcher\u001b[1;34m(self)\u001b[0m\n\u001b[0;32m    458\u001b[0m \u001b[38;5;28;01mexcept\u001b[39;00m (HTTPException, SocketError) \u001b[38;5;28;01mas\u001b[39;00m e:\n\u001b[0;32m    459\u001b[0m     \u001b[38;5;66;03m# This includes IncompleteRead.\u001b[39;00m\n\u001b[1;32m--> 460\u001b[0m     \u001b[38;5;28;01mraise\u001b[39;00m ProtocolError(\u001b[38;5;124m\"\u001b[39m\u001b[38;5;124mConnection broken: \u001b[39m\u001b[38;5;132;01m%r\u001b[39;00m\u001b[38;5;124m\"\u001b[39m \u001b[38;5;241m%\u001b[39m e, e)\n\u001b[0;32m    462\u001b[0m \u001b[38;5;66;03m# If no exception is thrown, we should avoid cleaning up\u001b[39;00m\n\u001b[0;32m    463\u001b[0m \u001b[38;5;66;03m# unnecessarily.\u001b[39;00m\n",
      "\u001b[1;31mProtocolError\u001b[0m: (\"Connection broken: ConnectionAbortedError(10053, '현재 연결은 사용자의 호스트 시스템의 소프트웨어의 의해 중단되었습니다', None, 10053, None)\", ConnectionAbortedError(10053, '현재 연결은 사용자의 호스트 시스템의 소프트웨어의 의해 중단되었습니다', None, 10053, None))",
      "\nDuring handling of the above exception, another exception occurred:\n",
      "\u001b[1;31mChunkedEncodingError\u001b[0m                      Traceback (most recent call last)",
      "Cell \u001b[1;32mIn [50], line 9\u001b[0m\n\u001b[0;32m      7\u001b[0m result \u001b[38;5;241m=\u001b[39m []\n\u001b[0;32m      8\u001b[0m result\u001b[38;5;241m.\u001b[39mappend(index)\n\u001b[1;32m----> 9\u001b[0m result\u001b[38;5;241m.\u001b[39mextend(\u001b[43mgetDanjiInfo\u001b[49m\u001b[43m(\u001b[49m\u001b[43maptInfo\u001b[49m\u001b[43m[\u001b[49m\u001b[38;5;124;43m'\u001b[39;49m\u001b[38;5;124;43mBJD_CODE\u001b[39;49m\u001b[38;5;124;43m'\u001b[39;49m\u001b[43m]\u001b[49m\u001b[43m,\u001b[49m\u001b[43m \u001b[49m\u001b[43maptInfo\u001b[49m\u001b[43m[\u001b[49m\u001b[38;5;124;43m'\u001b[39;49m\u001b[38;5;124;43mKAPT_CODE\u001b[39;49m\u001b[38;5;124;43m'\u001b[39;49m\u001b[43m]\u001b[49m\u001b[43m,\u001b[49m\u001b[43mSEARCH_DATE\u001b[49m\u001b[43m)\u001b[49m)\n\u001b[0;32m     10\u001b[0m result\u001b[38;5;241m.\u001b[39mextend(manageInfo(aptInfo[\u001b[38;5;124m'\u001b[39m\u001b[38;5;124mKAPT_CODE\u001b[39m\u001b[38;5;124m'\u001b[39m]))\n\u001b[0;32m     11\u001b[0m LIST_FOR_EXCEL\u001b[38;5;241m.\u001b[39mappend(result)\n",
      "Cell \u001b[1;32mIn [16], line 6\u001b[0m, in \u001b[0;36mgetDanjiInfo\u001b[1;34m(bjd_code, kapt_code, search_date)\u001b[0m\n\u001b[0;32m      4\u001b[0m \u001b[38;5;28;01mdef\u001b[39;00m \u001b[38;5;21mgetDanjiInfo\u001b[39m(bjd_code, kapt_code, search_date):\n\u001b[0;32m      5\u001b[0m     result\u001b[38;5;241m=\u001b[39m[]\n\u001b[1;32m----> 6\u001b[0m     danji_res \u001b[38;5;241m=\u001b[39m \u001b[43mgetRedirectInfo\u001b[49m\u001b[43m(\u001b[49m\u001b[38;5;124;43m'\u001b[39;49m\u001b[38;5;124;43mhttp://www.k-apt.go.kr/cmmn/selectKapt.do?\u001b[39;49m\u001b[38;5;124;43m'\u001b[39;49m\u001b[43m,\u001b[49m\u001b[43m \u001b[49m\u001b[38;5;124;43m'\u001b[39;49m\u001b[38;5;124;43m/kaptinfo/openkaptinfo.do\u001b[39;49m\u001b[38;5;124;43m'\u001b[39;49m\u001b[43m,\u001b[49m\u001b[43m \u001b[49m\u001b[43mbjd_code\u001b[49m\u001b[43m,\u001b[49m\u001b[43m \u001b[49m\u001b[43mkapt_code\u001b[49m\u001b[43m,\u001b[49m\u001b[43m \u001b[49m\u001b[43msearch_date\u001b[49m\u001b[43m)\u001b[49m\n\u001b[0;32m      7\u001b[0m     \u001b[38;5;66;03m#danji_res = getRedirectInfo('http://www.k-apt.go.kr/cmmn/selectKapt.do?', '/kaptinfo/openkaptinfo.do', '1168010300', 'A13593908', '202203')\u001b[39;00m\n\u001b[0;32m      8\u001b[0m     danji_soup \u001b[38;5;241m=\u001b[39m bs(danji_res[\u001b[38;5;124m'\u001b[39m\u001b[38;5;124mtext\u001b[39m\u001b[38;5;124m'\u001b[39m], \u001b[38;5;124m\"\u001b[39m\u001b[38;5;124mhtml.parser\u001b[39m\u001b[38;5;124m\"\u001b[39m)\n",
      "Cell \u001b[1;32mIn [15], line 3\u001b[0m, in \u001b[0;36mgetRedirectInfo\u001b[1;34m(parent_url, child_url, bjd_code, kapt_code, search_date)\u001b[0m\n\u001b[0;32m      1\u001b[0m \u001b[38;5;28;01mdef\u001b[39;00m \u001b[38;5;21mgetRedirectInfo\u001b[39m(parent_url, child_url, bjd_code, kapt_code, search_date):\n\u001b[0;32m      2\u001b[0m     data \u001b[38;5;241m=\u001b[39m {\u001b[38;5;124m'\u001b[39m\u001b[38;5;124mgo_url\u001b[39m\u001b[38;5;124m'\u001b[39m:child_url,\u001b[38;5;124m'\u001b[39m\u001b[38;5;124mbjd_code\u001b[39m\u001b[38;5;124m'\u001b[39m: bjd_code, \u001b[38;5;124m'\u001b[39m\u001b[38;5;124mkapt_code\u001b[39m\u001b[38;5;124m'\u001b[39m: kapt_code, \u001b[38;5;124m'\u001b[39m\u001b[38;5;124msearch_date\u001b[39m\u001b[38;5;124m'\u001b[39m: search_date}  \u001b[38;5;66;03m# 서울시 강남구 개포동\u001b[39;00m\n\u001b[1;32m----> 3\u001b[0m     \u001b[38;5;28;01mreturn\u001b[39;00m \u001b[43mweb_request\u001b[49m\u001b[43m(\u001b[49m\u001b[43mmethod_name\u001b[49m\u001b[38;5;241;43m=\u001b[39;49m\u001b[38;5;124;43m'\u001b[39;49m\u001b[38;5;124;43mPOST\u001b[39;49m\u001b[38;5;124;43m'\u001b[39;49m\u001b[43m,\u001b[49m\u001b[43m \u001b[49m\u001b[43murl\u001b[49m\u001b[38;5;241;43m=\u001b[39;49m\u001b[43mparent_url\u001b[49m\u001b[43m,\u001b[49m\u001b[43m \u001b[49m\u001b[43mdict_data\u001b[49m\u001b[38;5;241;43m=\u001b[39;49m\u001b[43mdata\u001b[49m\u001b[43m)\u001b[49m\n",
      "Cell \u001b[1;32mIn [49], line 11\u001b[0m, in \u001b[0;36mweb_request\u001b[1;34m(method_name, url, dict_data, is_urlencoded)\u001b[0m\n\u001b[0;32m      9\u001b[0m \u001b[38;5;28;01melif\u001b[39;00m method_name \u001b[38;5;241m==\u001b[39m \u001b[38;5;124m'\u001b[39m\u001b[38;5;124mPOST\u001b[39m\u001b[38;5;124m'\u001b[39m:  \u001b[38;5;66;03m# POST방식인 경우\u001b[39;00m\n\u001b[0;32m     10\u001b[0m     \u001b[38;5;28;01mif\u001b[39;00m is_urlencoded \u001b[38;5;129;01mis\u001b[39;00m \u001b[38;5;28;01mTrue\u001b[39;00m:\n\u001b[1;32m---> 11\u001b[0m         response \u001b[38;5;241m=\u001b[39m \u001b[43mrequests\u001b[49m\u001b[38;5;241;43m.\u001b[39;49m\u001b[43mpost\u001b[49m\u001b[43m(\u001b[49m\u001b[43murl\u001b[49m\u001b[38;5;241;43m=\u001b[39;49m\u001b[43murl\u001b[49m\u001b[43m,\u001b[49m\u001b[43m \u001b[49m\u001b[43mdata\u001b[49m\u001b[38;5;241;43m=\u001b[39;49m\u001b[43mdict_data\u001b[49m\u001b[43m,\u001b[49m\n\u001b[0;32m     12\u001b[0m \u001b[43m                                 \u001b[49m\u001b[43mheaders\u001b[49m\u001b[38;5;241;43m=\u001b[39;49m\u001b[43m{\u001b[49m\u001b[38;5;124;43m'\u001b[39;49m\u001b[38;5;124;43mContent-Type\u001b[39;49m\u001b[38;5;124;43m'\u001b[39;49m\u001b[43m:\u001b[49m\u001b[43m \u001b[49m\u001b[38;5;124;43m'\u001b[39;49m\u001b[38;5;124;43mapplication/x-www-form-urlencoded\u001b[39;49m\u001b[38;5;124;43m'\u001b[39;49m\u001b[43m}\u001b[49m\u001b[43m)\u001b[49m\n\u001b[0;32m     13\u001b[0m     \u001b[38;5;28;01melse\u001b[39;00m:\n\u001b[0;32m     14\u001b[0m         response \u001b[38;5;241m=\u001b[39m requests\u001b[38;5;241m.\u001b[39mpost(url\u001b[38;5;241m=\u001b[39murl, data\u001b[38;5;241m=\u001b[39mjson\u001b[38;5;241m.\u001b[39mdumps(dict_data), headers\u001b[38;5;241m=\u001b[39m{\u001b[38;5;124m'\u001b[39m\u001b[38;5;124mContent-Type\u001b[39m\u001b[38;5;124m'\u001b[39m: \u001b[38;5;124m'\u001b[39m\u001b[38;5;124mapplication/json\u001b[39m\u001b[38;5;124m'\u001b[39m})\n",
      "File \u001b[1;32m~\\AppData\\Local\\Programs\\Python\\Python39\\lib\\site-packages\\requests\\api.py:115\u001b[0m, in \u001b[0;36mpost\u001b[1;34m(url, data, json, **kwargs)\u001b[0m\n\u001b[0;32m    103\u001b[0m \u001b[38;5;28;01mdef\u001b[39;00m \u001b[38;5;21mpost\u001b[39m(url, data\u001b[38;5;241m=\u001b[39m\u001b[38;5;28;01mNone\u001b[39;00m, json\u001b[38;5;241m=\u001b[39m\u001b[38;5;28;01mNone\u001b[39;00m, \u001b[38;5;241m*\u001b[39m\u001b[38;5;241m*\u001b[39mkwargs):\n\u001b[0;32m    104\u001b[0m     \u001b[38;5;124mr\u001b[39m\u001b[38;5;124;03m\"\"\"Sends a POST request.\u001b[39;00m\n\u001b[0;32m    105\u001b[0m \n\u001b[0;32m    106\u001b[0m \u001b[38;5;124;03m    :param url: URL for the new :class:`Request` object.\u001b[39;00m\n\u001b[1;32m   (...)\u001b[0m\n\u001b[0;32m    112\u001b[0m \u001b[38;5;124;03m    :rtype: requests.Response\u001b[39;00m\n\u001b[0;32m    113\u001b[0m \u001b[38;5;124;03m    \"\"\"\u001b[39;00m\n\u001b[1;32m--> 115\u001b[0m     \u001b[38;5;28;01mreturn\u001b[39;00m request(\u001b[38;5;124m\"\u001b[39m\u001b[38;5;124mpost\u001b[39m\u001b[38;5;124m\"\u001b[39m, url, data\u001b[38;5;241m=\u001b[39mdata, json\u001b[38;5;241m=\u001b[39mjson, \u001b[38;5;241m*\u001b[39m\u001b[38;5;241m*\u001b[39mkwargs)\n",
      "File \u001b[1;32m~\\AppData\\Local\\Programs\\Python\\Python39\\lib\\site-packages\\requests\\api.py:59\u001b[0m, in \u001b[0;36mrequest\u001b[1;34m(method, url, **kwargs)\u001b[0m\n\u001b[0;32m     55\u001b[0m \u001b[38;5;66;03m# By using the 'with' statement we are sure the session is closed, thus we\u001b[39;00m\n\u001b[0;32m     56\u001b[0m \u001b[38;5;66;03m# avoid leaving sockets open which can trigger a ResourceWarning in some\u001b[39;00m\n\u001b[0;32m     57\u001b[0m \u001b[38;5;66;03m# cases, and look like a memory leak in others.\u001b[39;00m\n\u001b[0;32m     58\u001b[0m \u001b[38;5;28;01mwith\u001b[39;00m sessions\u001b[38;5;241m.\u001b[39mSession() \u001b[38;5;28;01mas\u001b[39;00m session:\n\u001b[1;32m---> 59\u001b[0m     \u001b[38;5;28;01mreturn\u001b[39;00m session\u001b[38;5;241m.\u001b[39mrequest(method\u001b[38;5;241m=\u001b[39mmethod, url\u001b[38;5;241m=\u001b[39murl, \u001b[38;5;241m*\u001b[39m\u001b[38;5;241m*\u001b[39mkwargs)\n",
      "File \u001b[1;32m~\\AppData\\Local\\Programs\\Python\\Python39\\lib\\site-packages\\requests\\sessions.py:587\u001b[0m, in \u001b[0;36mSession.request\u001b[1;34m(self, method, url, params, data, headers, cookies, files, auth, timeout, allow_redirects, proxies, hooks, stream, verify, cert, json)\u001b[0m\n\u001b[0;32m    582\u001b[0m send_kwargs \u001b[38;5;241m=\u001b[39m {\n\u001b[0;32m    583\u001b[0m     \u001b[38;5;124m\"\u001b[39m\u001b[38;5;124mtimeout\u001b[39m\u001b[38;5;124m\"\u001b[39m: timeout,\n\u001b[0;32m    584\u001b[0m     \u001b[38;5;124m\"\u001b[39m\u001b[38;5;124mallow_redirects\u001b[39m\u001b[38;5;124m\"\u001b[39m: allow_redirects,\n\u001b[0;32m    585\u001b[0m }\n\u001b[0;32m    586\u001b[0m send_kwargs\u001b[38;5;241m.\u001b[39mupdate(settings)\n\u001b[1;32m--> 587\u001b[0m resp \u001b[38;5;241m=\u001b[39m \u001b[38;5;28mself\u001b[39m\u001b[38;5;241m.\u001b[39msend(prep, \u001b[38;5;241m*\u001b[39m\u001b[38;5;241m*\u001b[39msend_kwargs)\n\u001b[0;32m    589\u001b[0m \u001b[38;5;28;01mreturn\u001b[39;00m resp\n",
      "File \u001b[1;32m~\\AppData\\Local\\Programs\\Python\\Python39\\lib\\site-packages\\requests\\sessions.py:723\u001b[0m, in \u001b[0;36mSession.send\u001b[1;34m(self, request, **kwargs)\u001b[0m\n\u001b[0;32m    720\u001b[0m \u001b[38;5;28;01mif\u001b[39;00m allow_redirects:\n\u001b[0;32m    721\u001b[0m     \u001b[38;5;66;03m# Redirect resolving generator.\u001b[39;00m\n\u001b[0;32m    722\u001b[0m     gen \u001b[38;5;241m=\u001b[39m \u001b[38;5;28mself\u001b[39m\u001b[38;5;241m.\u001b[39mresolve_redirects(r, request, \u001b[38;5;241m*\u001b[39m\u001b[38;5;241m*\u001b[39mkwargs)\n\u001b[1;32m--> 723\u001b[0m     history \u001b[38;5;241m=\u001b[39m [resp \u001b[38;5;28;01mfor\u001b[39;00m resp \u001b[38;5;129;01min\u001b[39;00m gen]\n\u001b[0;32m    724\u001b[0m \u001b[38;5;28;01melse\u001b[39;00m:\n\u001b[0;32m    725\u001b[0m     history \u001b[38;5;241m=\u001b[39m []\n",
      "File \u001b[1;32m~\\AppData\\Local\\Programs\\Python\\Python39\\lib\\site-packages\\requests\\sessions.py:723\u001b[0m, in \u001b[0;36m<listcomp>\u001b[1;34m(.0)\u001b[0m\n\u001b[0;32m    720\u001b[0m \u001b[38;5;28;01mif\u001b[39;00m allow_redirects:\n\u001b[0;32m    721\u001b[0m     \u001b[38;5;66;03m# Redirect resolving generator.\u001b[39;00m\n\u001b[0;32m    722\u001b[0m     gen \u001b[38;5;241m=\u001b[39m \u001b[38;5;28mself\u001b[39m\u001b[38;5;241m.\u001b[39mresolve_redirects(r, request, \u001b[38;5;241m*\u001b[39m\u001b[38;5;241m*\u001b[39mkwargs)\n\u001b[1;32m--> 723\u001b[0m     history \u001b[38;5;241m=\u001b[39m [resp \u001b[38;5;28;01mfor\u001b[39;00m resp \u001b[38;5;129;01min\u001b[39;00m gen]\n\u001b[0;32m    724\u001b[0m \u001b[38;5;28;01melse\u001b[39;00m:\n\u001b[0;32m    725\u001b[0m     history \u001b[38;5;241m=\u001b[39m []\n",
      "File \u001b[1;32m~\\AppData\\Local\\Programs\\Python\\Python39\\lib\\site-packages\\requests\\sessions.py:266\u001b[0m, in \u001b[0;36mSessionRedirectMixin.resolve_redirects\u001b[1;34m(self, resp, req, stream, timeout, verify, cert, proxies, yield_requests, **adapter_kwargs)\u001b[0m\n\u001b[0;32m    263\u001b[0m     \u001b[38;5;28;01myield\u001b[39;00m req\n\u001b[0;32m    264\u001b[0m \u001b[38;5;28;01melse\u001b[39;00m:\n\u001b[1;32m--> 266\u001b[0m     resp \u001b[38;5;241m=\u001b[39m \u001b[38;5;28mself\u001b[39m\u001b[38;5;241m.\u001b[39msend(\n\u001b[0;32m    267\u001b[0m         req,\n\u001b[0;32m    268\u001b[0m         stream\u001b[38;5;241m=\u001b[39mstream,\n\u001b[0;32m    269\u001b[0m         timeout\u001b[38;5;241m=\u001b[39mtimeout,\n\u001b[0;32m    270\u001b[0m         verify\u001b[38;5;241m=\u001b[39mverify,\n\u001b[0;32m    271\u001b[0m         cert\u001b[38;5;241m=\u001b[39mcert,\n\u001b[0;32m    272\u001b[0m         proxies\u001b[38;5;241m=\u001b[39mproxies,\n\u001b[0;32m    273\u001b[0m         allow_redirects\u001b[38;5;241m=\u001b[39m\u001b[38;5;28;01mFalse\u001b[39;00m,\n\u001b[0;32m    274\u001b[0m         \u001b[38;5;241m*\u001b[39m\u001b[38;5;241m*\u001b[39madapter_kwargs,\n\u001b[0;32m    275\u001b[0m     )\n\u001b[0;32m    277\u001b[0m     extract_cookies_to_jar(\u001b[38;5;28mself\u001b[39m\u001b[38;5;241m.\u001b[39mcookies, prepared_request, resp\u001b[38;5;241m.\u001b[39mraw)\n\u001b[0;32m    279\u001b[0m     \u001b[38;5;66;03m# extract redirect url, if any, for the next loop\u001b[39;00m\n",
      "File \u001b[1;32m~\\AppData\\Local\\Programs\\Python\\Python39\\lib\\site-packages\\requests\\sessions.py:745\u001b[0m, in \u001b[0;36mSession.send\u001b[1;34m(self, request, **kwargs)\u001b[0m\n\u001b[0;32m    742\u001b[0m         \u001b[38;5;28;01mpass\u001b[39;00m\n\u001b[0;32m    744\u001b[0m \u001b[38;5;28;01mif\u001b[39;00m \u001b[38;5;129;01mnot\u001b[39;00m stream:\n\u001b[1;32m--> 745\u001b[0m     \u001b[43mr\u001b[49m\u001b[38;5;241;43m.\u001b[39;49m\u001b[43mcontent\u001b[49m\n\u001b[0;32m    747\u001b[0m \u001b[38;5;28;01mreturn\u001b[39;00m r\n",
      "File \u001b[1;32m~\\AppData\\Local\\Programs\\Python\\Python39\\lib\\site-packages\\requests\\models.py:899\u001b[0m, in \u001b[0;36mResponse.content\u001b[1;34m(self)\u001b[0m\n\u001b[0;32m    897\u001b[0m         \u001b[38;5;28mself\u001b[39m\u001b[38;5;241m.\u001b[39m_content \u001b[38;5;241m=\u001b[39m \u001b[38;5;28;01mNone\u001b[39;00m\n\u001b[0;32m    898\u001b[0m     \u001b[38;5;28;01melse\u001b[39;00m:\n\u001b[1;32m--> 899\u001b[0m         \u001b[38;5;28mself\u001b[39m\u001b[38;5;241m.\u001b[39m_content \u001b[38;5;241m=\u001b[39m \u001b[38;5;124;43mb\u001b[39;49m\u001b[38;5;124;43m\"\u001b[39;49m\u001b[38;5;124;43m\"\u001b[39;49m\u001b[38;5;241;43m.\u001b[39;49m\u001b[43mjoin\u001b[49m\u001b[43m(\u001b[49m\u001b[38;5;28;43mself\u001b[39;49m\u001b[38;5;241;43m.\u001b[39;49m\u001b[43miter_content\u001b[49m\u001b[43m(\u001b[49m\u001b[43mCONTENT_CHUNK_SIZE\u001b[49m\u001b[43m)\u001b[49m\u001b[43m)\u001b[49m \u001b[38;5;129;01mor\u001b[39;00m \u001b[38;5;124mb\u001b[39m\u001b[38;5;124m\"\u001b[39m\u001b[38;5;124m\"\u001b[39m\n\u001b[0;32m    901\u001b[0m \u001b[38;5;28mself\u001b[39m\u001b[38;5;241m.\u001b[39m_content_consumed \u001b[38;5;241m=\u001b[39m \u001b[38;5;28;01mTrue\u001b[39;00m\n\u001b[0;32m    902\u001b[0m \u001b[38;5;66;03m# don't need to release the connection; that's been handled by urllib3\u001b[39;00m\n\u001b[0;32m    903\u001b[0m \u001b[38;5;66;03m# since we exhausted the data.\u001b[39;00m\n",
      "File \u001b[1;32m~\\AppData\\Local\\Programs\\Python\\Python39\\lib\\site-packages\\requests\\models.py:818\u001b[0m, in \u001b[0;36mResponse.iter_content.<locals>.generate\u001b[1;34m()\u001b[0m\n\u001b[0;32m    816\u001b[0m     \u001b[38;5;28;01myield from\u001b[39;00m \u001b[38;5;28mself\u001b[39m\u001b[38;5;241m.\u001b[39mraw\u001b[38;5;241m.\u001b[39mstream(chunk_size, decode_content\u001b[38;5;241m=\u001b[39m\u001b[38;5;28;01mTrue\u001b[39;00m)\n\u001b[0;32m    817\u001b[0m \u001b[38;5;28;01mexcept\u001b[39;00m ProtocolError \u001b[38;5;28;01mas\u001b[39;00m e:\n\u001b[1;32m--> 818\u001b[0m     \u001b[38;5;28;01mraise\u001b[39;00m ChunkedEncodingError(e)\n\u001b[0;32m    819\u001b[0m \u001b[38;5;28;01mexcept\u001b[39;00m DecodeError \u001b[38;5;28;01mas\u001b[39;00m e:\n\u001b[0;32m    820\u001b[0m     \u001b[38;5;28;01mraise\u001b[39;00m ContentDecodingError(e)\n",
      "\u001b[1;31mChunkedEncodingError\u001b[0m: (\"Connection broken: ConnectionAbortedError(10053, '현재 연결은 사용자의 호스트 시스템의 소프트웨어의 의해 중단되었습니다', None, 10053, None)\", ConnectionAbortedError(10053, '현재 연결은 사용자의 호스트 시스템의 소프트웨어의 의해 중단되었습니다', None, 10053, None))"
     ]
    }
   ],
   "source": [
    "print('Start get APT engeryInfo')\n",
    "for aptInfo in tqdm(APT_LIST):\n",
    "    index = index+1\n",
    "    # 단지정보 리스트를 받아온다\n",
    "    # 관리시설정보 리스트를 받아온다\n",
    "    # 두리스트를 합치고 LIST_FOR_EXCEL 에 append한다\n",
    "    result = []\n",
    "    result.append(index)\n",
    "    result.extend(getDanjiInfo(aptInfo['BJD_CODE'], aptInfo['KAPT_CODE'],SEARCH_DATE))\n",
    "    result.extend(manageInfo(aptInfo['KAPT_CODE']))\n",
    "    LIST_FOR_EXCEL.append(result)\n",
    "print('End get APT engeryInfo')\n",
    "print(len(LIST_FOR_EXCEL))"
   ]
  },
  {
   "cell_type": "code",
   "execution_count": 100,
   "id": "4e274121-c308-408a-9751-7bcbde415f01",
   "metadata": {},
   "outputs": [
    {
     "data": {
      "text/plain": [
       "2562"
      ]
     },
     "execution_count": 100,
     "metadata": {},
     "output_type": "execute_result"
    }
   ],
   "source": [
    "len(LIST_FOR_EXCEL)"
   ]
  },
  {
   "cell_type": "code",
   "execution_count": 102,
   "id": "0cf87f55-91b8-44fb-8209-cd429a66594f",
   "metadata": {},
   "outputs": [
    {
     "data": {
      "text/plain": [
       "[[1,\n",
       "  'SH공사대치1단지(A13593908)',\n",
       "  '서울특별시 강남구 개포동 12 대치아파트',\n",
       "  '영구임대',\n",
       "  '위탁관리',\n",
       "  '지역난방',\n",
       "  '복도식',\n",
       "  '73357㎡',\n",
       "  '8/1623',\n",
       "  '46586.33㎡',\n",
       "  'SH공사/남강개발',\n",
       "  '1623',\n",
       "  '',\n",
       "  '',\n",
       "  '',\n",
       "  '기타',\n",
       "  12,\n",
       "  '389',\n",
       "  '0'],\n",
       " [2,\n",
       "  '개포2차 현대아파트(A13524006)',\n",
       "  '서울특별시 강남구 개포동 654 개포2차현대아파트',\n",
       "  '분양',\n",
       "  '자치관리',\n",
       "  '지역난방',\n",
       "  '계단식',\n",
       "  '92836.185㎡',\n",
       "  '13/558',\n",
       "  '75527㎡',\n",
       "  '현대산업개발(주)/현대산업개발(주)',\n",
       "  '',\n",
       "  '112',\n",
       "  '230',\n",
       "  '216',\n",
       "  '종합계약',\n",
       "  31,\n",
       "  '500',\n",
       "  '0'],\n",
       " [3,\n",
       "  '개포경남아파트(A13580602)',\n",
       "  '서울특별시 강남구 개포동 649 경남아파트',\n",
       "  '분양',\n",
       "  '자치관리',\n",
       "  '지역난방',\n",
       "  '계단식',\n",
       "  '102480㎡',\n",
       "  '9/678',\n",
       "  '92546.465㎡',\n",
       "  '경남건설/경남건설',\n",
       "  '',\n",
       "  '3',\n",
       "  '387',\n",
       "  '288',\n",
       "  '단일계약',\n",
       "  26,\n",
       "  '747',\n",
       "  '0'],\n",
       " [4,\n",
       "  '개포대치2단지(A13524009)',\n",
       "  '서울특별시 강남구 개포동 12 대치,대청 아파트',\n",
       "  '분양',\n",
       "  '위탁관리',\n",
       "  '지역난방',\n",
       "  '복도식',\n",
       "  '105381.17㎡',\n",
       "  '11/1753',\n",
       "  '71852.9㎡',\n",
       "  '성원건설.진덕산업주식회사/서울특별시도시개발공사',\n",
       "  '1753',\n",
       "  '',\n",
       "  '',\n",
       "  '',\n",
       "  '단일계약',\n",
       "  14,\n",
       "  '438',\n",
       "  '73'],\n",
       " [5,\n",
       "  '개포더샵트리에(A10023996)',\n",
       "  '서울특별시 강남구 개포동 651-1 개포더샵트리에',\n",
       "  '분양',\n",
       "  '위탁관리',\n",
       "  '지역난방',\n",
       "  '계단식',\n",
       "  '44951.1774㎡',\n",
       "  '2/232',\n",
       "  '24877.8335㎡',\n",
       "  '포스코/개포우성9차모델링조합',\n",
       "  '',\n",
       "  '',\n",
       "  '232',\n",
       "  '',\n",
       "  '종합계약',\n",
       "  9,\n",
       "  '8',\n",
       "  '297']]"
      ]
     },
     "execution_count": 102,
     "metadata": {},
     "output_type": "execute_result"
    }
   ],
   "source": [
    "LIST_FOR_EXCEL[:5]"
   ]
  },
  {
   "cell_type": "code",
   "execution_count": 101,
   "id": "c0ec2665-9597-4ce9-9e73-f83237b6b64a",
   "metadata": {},
   "outputs": [
    {
     "name": "stderr",
     "output_type": "stream",
     "text": [
      "C:\\Users\\Administrator\\AppData\\Local\\Temp\\ipykernel_11080\\1621967811.py:2: DeprecationWarning: Call to deprecated function get_sheet_by_name (Use wb[sheetname]).\n",
      "  sheetA = wb.get_sheet_by_name('Sheet1')\n"
     ]
    }
   ],
   "source": [
    "wb = openpyxl.load_workbook('크롤링부탁1.xlsx')\n",
    "sheetA = wb.get_sheet_by_name('Sheet1')\n",
    "\n",
    "cellListA =  [1,2,3,4,5,6,7,8,9,10,11,12,13,14,15,              16,17,18,19,20]\n",
    "for item in LIST_FOR_EXCEL:\n",
    "    sheetA.append(item)\n",
    "wb.save('크롤링결과.xlsx')"
   ]
  }
 ],
 "metadata": {
  "kernelspec": {
   "display_name": "Python 3 (ipykernel)",
   "language": "python",
   "name": "python3"
  },
  "language_info": {
   "codemirror_mode": {
    "name": "ipython",
    "version": 3
   },
   "file_extension": ".py",
   "mimetype": "text/x-python",
   "name": "python",
   "nbconvert_exporter": "python",
   "pygments_lexer": "ipython3",
   "version": "3.9.13"
  }
 },
 "nbformat": 4,
 "nbformat_minor": 5
}
