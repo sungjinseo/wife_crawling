{
 "cells": [
  {
   "cell_type": "code",
   "execution_count": 2,
   "id": "4ac37ceb-44df-4c4d-8f30-66539ad79e60",
   "metadata": {},
   "outputs": [],
   "source": [
    "import requests\n",
    "import json\n",
    "import time\n",
    "import copy\n",
    "import openpyxl\n",
    "from bs4 import BeautifulSoup as bs\n",
    "from tqdm import tqdm, trange"
   ]
  },
  {
   "cell_type": "code",
   "execution_count": 3,
   "id": "e958f19e-efe3-4a3f-91e1-1a2a85ae0e21",
   "metadata": {},
   "outputs": [],
   "source": [
    "def web_request(method_name, url, dict_data, is_urlencoded=True):\n",
    "    \"\"\"Web GET or POST request를 호출 후 그 결과를 dict형으로 반환 \"\"\"\n",
    "    method_name = method_name.upper()  # 메소드이름을 대문자로 바꾼다\n",
    "    if method_name not in ('GET', 'POST'):\n",
    "        raise Exception('method_name is GET or POST plz...')\n",
    "\n",
    "    if method_name == 'GET':  # GET방식인 경우\n",
    "        response = requests.get(url=url, params=dict_data)\n",
    "    elif method_name == 'POST':  # POST방식인 경우\n",
    "        if is_urlencoded is True:\n",
    "            response = requests.post(url=url, data=dict_data,\n",
    "                                     headers={'Content-Type': 'application/x-www-form-urlencoded'})\n",
    "        else:\n",
    "            response = requests.post(url=url, data=json.dumps(dict_data), headers={'Content-Type': 'application/json'})\n",
    "\n",
    "    dict_meta = {'status_code': response.status_code, 'ok': response.ok, 'encoding': response.encoding,\n",
    "                 'Content-Type': response.headers['Content-Type']}\n",
    "    if 'json' in str(response.headers['Content-Type']):  # JSON 형태인 경우\n",
    "        return {**dict_meta, **response.json()}\n",
    "    else:  # 문자열 형태인 경우\n",
    "        return {**dict_meta, **{'text': response.text}}"
   ]
  },
  {
   "cell_type": "code",
   "execution_count": 4,
   "id": "c26e7c91-95aa-4299-930f-a7c4106be8ee",
   "metadata": {},
   "outputs": [],
   "source": [
    "response = web_request('POST', 'http://www.k-apt.go.kr/login/checkPageCount.do', {})"
   ]
  },
  {
   "cell_type": "code",
   "execution_count": 5,
   "id": "2d4a102f-7a43-45b7-9c43-e9d3a4415a48",
   "metadata": {},
   "outputs": [
    {
     "data": {
      "text/plain": [
       "{'status_code': 200,\n",
       " 'ok': True,\n",
       " 'encoding': 'UTF-8',\n",
       " 'Content-Type': 'text/html; charset=UTF-8',\n",
       " 'text': '\\r\\n\\r\\n<!DOCTYPE html PUBLIC \"-//W3C//DTD HTML 4.01 Transitional//EN\" \"http://www.w3.org/TR/html4/loose.dtd\">\\r\\n<html>\\r\\n<head>\\r\\n\\t<meta http-equiv=\"Content-Type\" content=\"text/html; charset=UTF-8\">\\r\\n\\t<title>공동주택관리정보시스템 K-apt</title>\\r\\n\\t<script type=\"text/javascript\" src=\"/js/jquery-1.9.0.min.js\" ></script>\\r\\n\\t<script type=\"text/javascript\" src=\"/js/placeholders.min.js\"></script>\\r\\n\\t<style type=\"text/css\">\\r\\n\\t\\tdiv {\\r\\n\\t\\t\\tdisplay: block;\\r\\n\\t\\t}\\r\\n\\t\\t#header, #container {\\r\\n\\t\\t\\twidth: 468px;\\r\\n\\t\\t\\tmargin: 0 auto;\\r\\n\\t\\t}\\r\\n\\t\\t.input_row {\\r\\n\\t\\t\\tposition: relative;\\r\\n\\t\\t\\tborder: solid 1px #dadada;\\r\\n\\t\\t\\tpadding: 10px 35px 10px 15px;\\r\\n\\t\\t\\tmargin: 0 0 14px;\\r\\n\\t\\t\\tbackground: #fff;\\r\\n\\t\\t\\theight: 29px;\\r\\n\\t\\t}\\r\\n\\t\\t.input_box {\\r\\n\\t\\t\\tdisplay: block;\\r\\n\\t\\t\\toverflow: hidden;\\r\\n\\t\\t}\\r\\n\\t\\t.lbl {\\r\\n\\t\\t\\tdisplay: block;\\r\\n\\t\\t\\tposition: absolute;\\r\\n\\t\\t\\ttop: 16px;\\r\\n\\t\\t\\tleft: 15px;\\r\\n\\t\\t\\tz-index: 8;\\r\\n\\t\\t\\tfont-size: 15px;\\r\\n\\t\\t\\tcolor: #999;\\r\\n\\t\\t\\tline-height: 16px;\\r\\n\\t\\t}\\r\\n\\t\\tlabel {\\r\\n\\t\\t\\tcursor: pointer;\\r\\n\\t\\t}\\r\\n\\t\\t.int {\\r\\n\\t\\t\\tposition: relative;\\r\\n\\t\\t\\twidth: 100%;\\r\\n\\t\\t\\tpadding: 7px 0 6px;\\r\\n\\t\\t\\theight: 16px;\\r\\n\\t\\t\\tz-index: 9;\\r\\n\\t\\t\\tborder: none;\\r\\n\\t\\t\\tbackground: #fff;\\r\\n\\t\\t\\tfont-size: 15px;\\r\\n\\t\\t\\tcolor: #000;\\r\\n\\t\\t\\tline-height: 16px;\\r\\n\\t\\t\\t-webkit-appearance: none;\\r\\n\\t\\t}\\r\\n\\t\\t\\r\\n\\t\\t\\r\\n\\t\\t.captcha {\\r\\n\\t\\t\\tpadding: 9px 0 0;\\r\\n\\t\\t}\\r\\n\\r\\n\\t\\t.captcha .captcha_txt {\\r\\n\\t\\t\\tfont-size: 12px;\\r\\n\\t\\t\\tline-height: 16px;\\r\\n\\t\\t}\\r\\n\\t\\t.captcha_box {\\r\\n\\t\\t\\tdisplay: block;\\r\\n\\t\\t\\tposition: relative;\\r\\n\\t\\t\\tmargin-bottom: 10px;\\r\\n\\t\\t\\tborder: 1px solid #d9d9d9;\\r\\n\\t\\t\\tbackground: #fff;\\r\\n\\t\\t}\\r\\n\\t\\t.captcha_box>a {\\r\\n\\t\\t\\tdisplay: block;\\r\\n\\t\\t\\tposition: absolute;\\r\\n\\t\\t\\ttop: 0;\\r\\n\\t\\t\\tright: 0;\\r\\n\\t\\t\\twidth: 157px;\\r\\n\\t\\t\\theight: 49px;\\r\\n\\t\\t\\tfont-size: 15px;\\r\\n\\t\\t\\tcolor: #979797;\\r\\n\\t\\t\\ttext-decoration: none;\\r\\n\\t\\t}\\r\\n\\t\\t\\r\\n\\t\\t.captcha_box>a.btn_refresh span {\\r\\n\\t\\t\\tbackground: url(/images/btn_refresh.png) no-repeat;\\r\\n\\t\\t}\\r\\n\\t\\t.captcha_box>a span {\\r\\n\\t\\t\\tdisplay: block;\\r\\n\\t\\t\\theight: 15px;\\r\\n\\t\\t\\tmargin: 17px 0 0 12px;\\r\\n\\t\\t\\tpadding-left: 22px;\\r\\n\\t\\t\\tline-height: 15px;\\r\\n\\t\\t}\\r\\n\\t\\t.btn_captcha:hover, .btn_captcha:active, .btn_captcha:link {\\r\\n\\t\\t\\tcolor: #fff;\\r\\n\\t\\t\\ttext-decoration: none;\\r\\n\\t\\t}\\r\\n\\t\\t.btn_captcha {\\r\\n\\t\\t\\tfont-size: 20px;\\r\\n\\t\\t}\\r\\n\\t\\t.btn_captcha {\\r\\n\\t\\t\\tdisplay: block;\\r\\n\\t\\t\\tfont-weight: bold;\\r\\n\\t\\t\\theight: 61px;\\r\\n\\t\\t\\twidth: 100%;\\r\\n\\t\\t\\tmargin: 30px 0 13px;\\r\\n\\t\\t\\tpadding-top: 2px;\\r\\n\\t\\t\\tfont-size: 20px;\\r\\n\\t\\t\\tcolor: #fff;\\r\\n\\t\\t\\tbackground-color: #3d9cf3;\\r\\n\\t\\t\\tborder: none;\\r\\n\\t\\t\\t-webkit-appearance: none;\\r\\n\\t\\t\\tline-height: 61px;\\r\\n\\t\\t\\ttext-align: center;\\r\\n\\t\\t\\tcursor: pointer;\\r\\n\\t\\t\\tborder-radius: 0;\\r\\n\\t\\t}\\r\\n\\t</style>\\r\\n\\t<script>\\r\\n\\t\\r\\n\\t\\r\\n\\t\\r\\n\\t\\r\\n\\t\\r\\n\\t\\r\\n\\t\\t$(window).ready(function(){\\r\\n\\t\\t\\t\\r\\n\\t\\t});\\r\\n\\t\\r\\n\\t\\r\\n\\t\\tfunction refresh(){\\r\\n\\t\\t\\t\\r\\n\\t\\t\\t$(\"#captchaImg\").attr(\"src\",\"/captchaImg.do\");\\r\\n\\t\\t}\\r\\n\\t</script>\\r\\n</head>\\r\\n<body>\\r\\n\\r\\n<div id=\"wrap\">\\r\\n\\t<div id=\"header\">\\r\\n\\t\\t<!-- 로고 -->\\r\\n\\t\\t<h1><a href=\"/\" class=\"sp h_logo\" tabindex=\"1\">\\r\\n\\t\\t\\t<img src=\"/images/top/logo.png\" alt=\"국토교통부 공동주택관리정보시스템 K-apt\">\\r\\n\\t\\t</a></h1>\\r\\n\\t\\t\\r\\n\\t</div>\\r\\n\\t<!-- //header -->\\r\\n\\t<!-- container -->\\r\\n\\t<div id=\"container\">\\r\\n\\t\\t<form action=\"/login/checkPageCount.do\" method=\"get\">\\r\\n\\t\\t<input type=\"hidden\" name=\"url\" value=\"\"/>\\r\\n\\t\\t<!-- content -->\\r\\n\\t\\t<div id=\"content\">\\r\\n\\t\\t\\t<div class=\"title\">\\r\\n\\t\\t\\t\\t<p>귀 아이피는 해당페이지를 자주 호출하여 이를 방지하기 위해 자동입력방지 문자를 확인합니다. </p>\\r\\n\\t\\t\\t</div>\\r\\n\\t\\t\\t<div class=\"captcha\">\\r\\n\\t\\t\\t\\t<p class=\"captcha_txt\" id=\"captcha_info\">아래 이미지를 보이는 대로 입력해주세요.</p>\\r\\n\\t\\t\\t\\t<div class=\"captcha_box\">\\r\\n\\t\\t\\t\\t\\t<img src=\"/captchaImg.do\" id=\"captchaImg\">\\r\\n\\t\\t\\t\\t\\t<a href=\"javascript:refresh()\" id=\"view_image\" class=\"btn_refresh\" tabindex=\"9\"><span class=\"sp\">새로고침</span></a>\\r\\n\\t\\t\\t\\t</div>\\r\\n\\t\\t\\t</div>\\r\\n\\t\\t\\t<div class=\"input_row\" id=\"chptcha_area\">\\r\\n\\t\\t\\t\\t<span class=\"input_box\">\\r\\n\\t\\t\\t\\t\\t<input type=\"text\" id=\"chptcha\" name=\"chptcha_num\" tabindex=\"9\" placeholder=\"자동입력 방지문자\" class=\"int\">\\r\\n\\t\\t\\t\\t</span>\\r\\n\\t\\t\\t</div>\\r\\n\\t\\t\\t<input type=\"submit\" title=\"자동입력 방지 확인\" alt=\"자동입력 방지 확인\" tabindex=\"12\" value=\"자동입력 방지 확인\" class=\"btn_captcha\" onclick=\"\">\\r\\n\\t\\t</div>\\r\\n\\t\\t<!-- //content -->\\r\\n\\t\\t</form>\\r\\n\\t</div>\\r\\n\\t<!-- //container -->\\r\\n\\t<!-- footer -->\\r\\n\\t<div id=\"footer\">\\r\\n\\t</div>\\t\\t\\r\\n\\t<!-- //footer -->\\r\\n\\t\\r\\n</div>\\r\\n\\r\\n\\r\\n\\r\\n</body>\\r\\n</html>'}"
      ]
     },
     "execution_count": 5,
     "metadata": {},
     "output_type": "execute_result"
    }
   ],
   "source": [
    "response"
   ]
  },
  {
   "cell_type": "code",
   "execution_count": 12,
   "id": "5df07fe0-2309-42cb-8d72-ff08b857e2e9",
   "metadata": {},
   "outputs": [],
   "source": [
    "import os\n",
    "import CaptchaCracker as cc\n",
    "\n",
    "# 타겟 이미지 크기\n",
    "img_width = 250\n",
    "img_height = 50\n",
    "# 모델 가중치 파일 경로\n",
    "weights_path = \"./model/weights.h5\"\n",
    "# 타겟 이미지 라벨 길이\n",
    "max_length = 5\n",
    "# 타겟 이미지 라벨 구성요소\n",
    "path_dir = './img/'\n",
    "file_list = os.listdir(path_dir)\n",
    "file_name = [];\n",
    "for item in file_list:\n",
    "    file_name.extend(list(item.replace('.png','')))\n",
    "\n",
    "characters = set(file_name)\n",
    "# 모델 가중치 파일 경로\n",
    "weights_path = \"./model/weights.h5\"\n",
    "# 모델 적용 인스턴스\n",
    "AM = cc.ApplyModel(weights_path, img_width, img_height, max_length, characters)"
   ]
  },
  {
   "cell_type": "code",
   "execution_count": 17,
   "id": "d66f37ba-2100-470d-a502-17904ff0c3ff",
   "metadata": {},
   "outputs": [
    {
     "name": "stderr",
     "output_type": "stream",
     "text": [
      "C:\\Users\\Administrator\\AppData\\Local\\Temp\\ipykernel_9840\\2848749580.py:8: DeprecationWarning: executable_path has been deprecated, please pass in a Service object\n",
      "  driver = webdriver.Chrome('chromedriver.exe')\n"
     ]
    },
    {
     "ename": "AttributeError",
     "evalue": "'WebDriver' object has no attribute 'find_element_by_css_selector'",
     "output_type": "error",
     "traceback": [
      "\u001b[1;31m---------------------------------------------------------------------------\u001b[0m",
      "\u001b[1;31mAttributeError\u001b[0m                            Traceback (most recent call last)",
      "Cell \u001b[1;32mIn [17], line 14\u001b[0m\n\u001b[0;32m     11\u001b[0m time\u001b[38;5;241m.\u001b[39msleep(\u001b[38;5;241m1\u001b[39m)\n\u001b[0;32m     13\u001b[0m \u001b[38;5;66;03m# 캡챠 이미지를 스크린샷을 찍는다.\u001b[39;00m\n\u001b[1;32m---> 14\u001b[0m captcha_png \u001b[38;5;241m=\u001b[39m \u001b[43mdriver\u001b[49m\u001b[38;5;241;43m.\u001b[39;49m\u001b[43mfind_element_by_css_selector\u001b[49m(\u001b[38;5;124m'\u001b[39m\u001b[38;5;124mimg#captchaImg\u001b[39m\u001b[38;5;124m'\u001b[39m)\u001b[38;5;241m.\u001b[39mscreenshot_as_png\n\u001b[0;32m     16\u001b[0m \u001b[38;5;66;03m# 캡챠 스크린샷을 captcha.png 파일로 쓴다.\u001b[39;00m\n\u001b[0;32m     17\u001b[0m \u001b[38;5;28;01mwith\u001b[39;00m \u001b[38;5;28mopen\u001b[39m(\u001b[38;5;124m'\u001b[39m\u001b[38;5;124mcaptcha.png\u001b[39m\u001b[38;5;124m'\u001b[39m, \u001b[38;5;124m'\u001b[39m\u001b[38;5;124mwb\u001b[39m\u001b[38;5;124m'\u001b[39m) \u001b[38;5;28;01mas\u001b[39;00m file:\n",
      "\u001b[1;31mAttributeError\u001b[0m: 'WebDriver' object has no attribute 'find_element_by_css_selector'"
     ]
    }
   ],
   "source": [
    "import sys\n",
    "import os\n",
    "import time\n",
    "\n",
    "from selenium import webdriver\n",
    "from selenium.webdriver.common.keys import Keys\n",
    "from selenium.webdriver.common.by import By\n",
    "\n",
    "driver = webdriver.Chrome('chromedriver.exe')\n",
    "driver.get(\"http://www.k-apt.go.kr/login/checkPageCount.do\")\n",
    "\n",
    "time.sleep(1)\n",
    "\n",
    "# 캡챠 이미지를 스크린샷을 찍는다.\n",
    "captcha_png = driver.find_element_by_css_selector('img#captchaImg').screenshot_as_png\n",
    "\n",
    "# 캡챠 스크린샷을 captcha.png 파일로 쓴다.\n",
    "with open('captcha.png', 'wb') as file:\n",
    "    file.write(captcha_png)\n",
    "\n",
    "\n",
    "# 타겟 이미지 경로\n",
    "target_img_path = \"captcha.png\"\n",
    "\n",
    "# 예측값\n",
    "pred = AM.predict(target_img_path)\n",
    "    \n",
    "# 위에서 가져온 Captcha 값을 작성한다.\n",
    "result_elem = driver.find_element_by_css_selector('input#chptcha')\n",
    "result_elem.send_keys(pred)\n",
    "#result_elem.send_keys(result_code)\n",
    "\n",
    "# 추가적인 로직을 작성한다.\n",
    "\n",
    "driver.close()"
   ]
  },
  {
   "cell_type": "code",
   "execution_count": 35,
   "id": "b0c83e7c-e2b8-4c70-9cc0-3399b76c43e8",
   "metadata": {},
   "outputs": [
    {
     "name": "stderr",
     "output_type": "stream",
     "text": [
      "C:\\Users\\Administrator\\AppData\\Local\\Temp\\ipykernel_9840\\629109499.py:4: DeprecationWarning: executable_path has been deprecated, please pass in a Service object\n",
      "  driver = webdriver.Chrome('chromedriver.exe')\n"
     ]
    }
   ],
   "source": [
    "from selenium import webdriver\n",
    "from selenium.webdriver.common.keys import Keys\n",
    "from selenium.webdriver.common.by import By\n",
    "driver = webdriver.Chrome('chromedriver.exe')\n",
    "driver.get(\"http://www.k-apt.go.kr/login/checkPageCount.do\")"
   ]
  },
  {
   "cell_type": "code",
   "execution_count": 31,
   "id": "8f3a85bb-f737-40dc-b8f3-f653fe9ee358",
   "metadata": {},
   "outputs": [],
   "source": [
    "captcha_png  = driver.find_element(By.ID, 'captchaImg').screenshot_as_png\n",
    "# 캡챠 스크린샷을 captcha.png 파일로 쓴다.\n",
    "with open('captcha.png', 'wb') as file:\n",
    "    file.write(captcha_png)\n",
    "\n",
    "#driver.find_element(By.TAG_NAME, \"src\");\n",
    "#driver.find_element(\"img\", \"captchaImg\")\n",
    "#driver.find_elements(By.XPATH, \"captchaImg\")\n",
    "#driver.find_element(By.CLASS_NAME, \"captchaImg\")"
   ]
  },
  {
   "cell_type": "code",
   "execution_count": 32,
   "id": "c24147cb-0dc9-46f5-976f-b98f10383793",
   "metadata": {},
   "outputs": [
    {
     "name": "stdout",
     "output_type": "stream",
     "text": [
      "yynpx\n"
     ]
    }
   ],
   "source": [
    "# 타겟 이미지 경로\n",
    "target_img_path = \"captcha.png\"\n",
    "\n",
    "# 예측값\n",
    "pred = AM.predict(target_img_path)\n",
    "print(pred)"
   ]
  },
  {
   "cell_type": "code",
   "execution_count": 51,
   "id": "68430b40-54b3-40e4-8cd4-f1a2f40f861c",
   "metadata": {},
   "outputs": [],
   "source": [
    "result_elem = driver.find_element(By.NAME, 'chptcha_num')\n",
    "#result_elem.send_keys(pred)\n",
    "result_elem.send_keys('mchce')"
   ]
  },
  {
   "cell_type": "code",
   "execution_count": 52,
   "id": "883e74ef-f972-4928-b388-ec6024ea7d85",
   "metadata": {},
   "outputs": [],
   "source": [
    "#driver.findElement(By.id(\"email\")).sendKeys(\"abc@gmail.com\");\n",
    "#driver.findElement(By.id(\"pass\")).sendKeys(\"123456\");\n",
    "#// submitting form with submit()\n",
    "#driver.findElement(By.id(\"pass\")).submit();\n",
    "result_elem.submit()"
   ]
  },
  {
   "cell_type": "code",
   "execution_count": 47,
   "id": "3ae27c60-c19e-46ff-a691-15b814efddd3",
   "metadata": {},
   "outputs": [
    {
     "data": {
      "text/plain": [
       "'입력하신 문자가 일치하지않습니다.'"
      ]
     },
     "execution_count": 47,
     "metadata": {},
     "output_type": "execute_result"
    }
   ],
   "source": [
    "#캡챠가 틀릴경우\n",
    "driver.switch_to.alert.text\n",
    "driver.switch_to.alert.accept()"
   ]
  },
  {
   "cell_type": "code",
   "execution_count": 55,
   "id": "aee045e9-a760-4dfb-928e-4539286f00b0",
   "metadata": {},
   "outputs": [
    {
     "name": "stdout",
     "output_type": "stream",
     "text": [
      "예외가 발생했습니다.\n"
     ]
    }
   ],
   "source": [
    "try:\n",
    "    err = driver.switch_to.alert.text\n",
    "    #여기서 부터는 오류가 났으니깐 다시 돌아야한다\n",
    "    #그리고 여기서 틀린값이랑 이미지를 오류목록에 저장해두면 좋을듯\n",
    "    driver.switch_to.alert.accept()\n",
    "except:    # 예외가 발생했을 때 실행됨\n",
    "    # 문자를 못받으면 정상처리 된거다\n",
    "    pass"
   ]
  }
 ],
 "metadata": {
  "kernelspec": {
   "display_name": "Python 3 (ipykernel)",
   "language": "python",
   "name": "python3"
  },
  "language_info": {
   "codemirror_mode": {
    "name": "ipython",
    "version": 3
   },
   "file_extension": ".py",
   "mimetype": "text/x-python",
   "name": "python",
   "nbconvert_exporter": "python",
   "pygments_lexer": "ipython3",
   "version": "3.9.13"
  }
 },
 "nbformat": 4,
 "nbformat_minor": 5
}
