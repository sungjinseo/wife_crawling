{
 "cells": [
  {
   "cell_type": "markdown",
   "id": "fac5428b-9573-4c5a-8f90-41c8f9e39a2d",
   "metadata": {},
   "source": [
    "1) 자치단체: 서울, 인천, 대전, 세종, 광주, 대구, 부산, 울산, 제주  & 본청  '검색'\n",
    "2) 해당지역 자치법규 목록 클릭\n",
    "3) 저장 클릭 \n",
    "-> 최종적으로 9개 엑셀파일이 저장됨\n",
    "\n",
    "1) 자치단체: 경기, 강원, 충남, 충북, 경남, 경북, 전남, 전북  & 본청을 제외한 모든 시군  '검색'\n",
    "2) 해당지역 자치법규 목록 클릭\n",
    "3) 저장 클릭 \n",
    "-> 최종적으로 152개 엑셀파일이 저장됨"
   ]
  },
  {
   "cell_type": "code",
   "execution_count": 78,
   "id": "72b1a2ab-2364-448c-8931-8f79c2346072",
   "metadata": {
    "tags": []
   },
   "outputs": [],
   "source": [
    "import os\n",
    "import time\n",
    "from tqdm import tqdm\n",
    "import shutil\n",
    "import requests\n",
    "import urllib.request\n",
    "from bs4 import BeautifulSoup as bs\n",
    "\n",
    "from selenium import webdriver\n",
    "from selenium.webdriver.chrome.options import Options\n",
    "from selenium.webdriver.common.by import By\n",
    "from selenium.webdriver.common.action_chains import ActionChains\n",
    "from selenium.webdriver.common.keys import Keys"
   ]
  },
  {
   "cell_type": "code",
   "execution_count": 6,
   "id": "fdeff3d8-1fe0-4654-b2e2-fba0f57c222d",
   "metadata": {},
   "outputs": [
    {
     "name": "stderr",
     "output_type": "stream",
     "text": [
      "<ipython-input-6-519b71479459>:6: DeprecationWarning: executable_path has been deprecated, please pass in a Service object\n",
      "  driver = webdriver.Chrome('./chromedriver.exe', chrome_options=options)\n",
      "<ipython-input-6-519b71479459>:6: DeprecationWarning: use options instead of chrome_options\n",
      "  driver = webdriver.Chrome('./chromedriver.exe', chrome_options=options)\n"
     ]
    }
   ],
   "source": [
    "options = webdriver.ChromeOptions()\n",
    "options.add_argument('--headless')\n",
    "# options.add_argument('window-size=1200x600')\n",
    "options.add_argument('--no-sandbox')\n",
    "options.add_argument('--disable-dev-shm-usage')\n",
    "driver = webdriver.Chrome('./chromedriver.exe', chrome_options=options)"
   ]
  },
  {
   "cell_type": "code",
   "execution_count": 72,
   "id": "ea5dea99-4ccf-40e5-8e1d-fe9013e12b23",
   "metadata": {
    "tags": []
   },
   "outputs": [],
   "source": [
    "#{ctpvCd: null, sggCd: \"000\", ctpvNm: null, sggNm: \"본청\"}\n",
    "# 본청코드는 000임\n",
    "si_dict = {\"서울\":11,\"부산\":26,\"대구\":27,\"인천\":28,\"광주\":29,\"대전\":30,\"울산\":31,\"세종\":36,\"제주\":50}\n",
    "do_dict = {\"경기\":41,\"강원\":42,\"충북\":43,\"충남\":44,\"전북\":45,\"전남\":46,\"경북\":47,\"경남\":48}\n",
    "\n",
    "# 세종은 본청코드가 110임 파일의 순서를 위해 잘못저장된 \"해당 지역자치법규 리스트_20230505_012305\"를 새로 받아서 저장"
   ]
  },
  {
   "cell_type": "code",
   "execution_count": 73,
   "id": "d8b43e0a-d87b-43d8-9c1b-cc58f37e79a7",
   "metadata": {},
   "outputs": [],
   "source": [
    "def do_si_code_dict_from_file(json_path)-> dict:\n",
    "    si_info_dict = {}\n",
    "\n",
    "    if not os.path.isfile(json_path):\n",
    "        return None\n",
    "    \n",
    "    with open(json_path,'r') as json_file:\n",
    "        # set이 안맞는 경우는 없음\n",
    "        ssgCd = None\n",
    "        ssgNm = None\n",
    "\n",
    "        while True:\n",
    "            line = json_file.readline()\n",
    "            if not line: break\n",
    "            if \"sggCd\" in line:\n",
    "                ssgCd = line.split(\":\")[1].replace('\"', '').replace(\",\", \"\").strip()\n",
    "            if \"sggNm\" in line:\n",
    "                ssgNm = line.split(\":\")[1].replace('\"', '').replace(\",\", \"\").strip()\n",
    "\n",
    "            if \"}\" in line:\n",
    "                # key value add\n",
    "                if ssgNm == \"본청\": continue\n",
    "                si_info_dict[ssgNm] = ssgCd\n",
    "    return si_info_dict"
   ]
  },
  {
   "cell_type": "code",
   "execution_count": 82,
   "id": "60cd6d68-cbe0-432b-8ab9-0e0bdf9d8a17",
   "metadata": {
    "tags": []
   },
   "outputs": [
    {
     "name": "stderr",
     "output_type": "stream",
     "text": [
      "100%|██████████| 9/9 [00:57<00:00,  6.34s/it]\n"
     ]
    }
   ],
   "source": [
    "for code_name, code in tqdm(si_dict.items()):\n",
    "    driver.get(\"https://www.elis.go.kr/alrpop/locgovAlrPopup?ctpvCd=\"+str(code)+\"&sggCd=000\")\n",
    "    driver.find_element(By.XPATH, '//*[@id=\"btnExcel\"]').click()\n",
    "    time.sleep(5)"
   ]
  },
  {
   "cell_type": "code",
   "execution_count": 85,
   "id": "29fd08ed-79c8-47e1-b681-12f622c58515",
   "metadata": {},
   "outputs": [
    {
     "name": "stderr",
     "output_type": "stream",
     "text": [
      "100%|██████████| 31/31 [03:39<00:00,  7.07s/it]\n",
      "100%|██████████| 18/18 [01:32<00:00,  5.11s/it]\n",
      "100%|██████████| 11/11 [00:49<00:00,  4.54s/it]\n",
      "100%|██████████| 15/15 [01:26<00:00,  5.79s/it]\n",
      "100%|██████████| 14/14 [01:09<00:00,  4.96s/it]\n",
      "100%|██████████| 22/22 [01:59<00:00,  5.43s/it]\n",
      "100%|██████████| 23/23 [01:52<00:00,  4.91s/it]\n",
      "100%|██████████| 18/18 [01:38<00:00,  5.49s/it]"
     ]
    },
    {
     "name": "stdout",
     "output_type": "stream",
     "text": [
      "152\n"
     ]
    },
    {
     "name": "stderr",
     "output_type": "stream",
     "text": [
      "\n"
     ]
    }
   ],
   "source": [
    "total_cnt = 0\n",
    "for do_code_name, do_code in do_dict.items():\n",
    "    do_si_dict = do_si_code_dict_from_file(\"./code/\"+do_code_name+\".json\")\n",
    "    if do_si_dict == None:\n",
    "        print(do_code_name + \"의 정보가 없습니다.\")\n",
    "        continue\n",
    "    # 도별로 폴더 만들기\n",
    "    #if not os.path.exists(\"./\"+do_code_name):\n",
    "    #    os.mkdir(\"./\"+do_code_name)\n",
    "        \n",
    "    for si_code_name, si_code in tqdm(do_si_dict.items()):\n",
    "        total_cnt += 1\n",
    "        driver.get(\"https://www.elis.go.kr/alrpop/locgovAlrPopup?ctpvCd=\"+str(do_code)+\"&sggCd=\"+str(si_code))\n",
    "        driver.find_element(By.XPATH, '//*[@id=\"btnExcel\"]').click()\n",
    "        time.sleep(3)\n",
    "\n",
    "print(total_cnt)"
   ]
  }
 ],
 "metadata": {
  "kernelspec": {
   "display_name": "Python 3",
   "language": "python",
   "name": "python3"
  },
  "language_info": {
   "codemirror_mode": {
    "name": "ipython",
    "version": 3
   },
   "file_extension": ".py",
   "mimetype": "text/x-python",
   "name": "python",
   "nbconvert_exporter": "python",
   "pygments_lexer": "ipython3",
   "version": "3.9.16"
  }
 },
 "nbformat": 4,
 "nbformat_minor": 5
}
