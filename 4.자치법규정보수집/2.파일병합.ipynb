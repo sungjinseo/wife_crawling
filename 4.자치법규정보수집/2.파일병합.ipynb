{
 "cells": [
  {
   "cell_type": "code",
   "execution_count": 23,
   "id": "a494cded-664a-4b23-9932-100e917a526f",
   "metadata": {},
   "outputs": [
    {
     "name": "stderr",
     "output_type": "stream",
     "text": [
      "100%|██████████| 161/161 [30:55<00:00, 11.53s/it]\n"
     ]
    }
   ],
   "source": [
    "import glob\n",
    "import openpyxl\n",
    "from tqdm import tqdm\n",
    "\n",
    "result_excel = 'merge_excel.xlsx'\n",
    "\n",
    "result_path = \"./result/*\"\n",
    "for src in tqdm(glob.glob(result_path)):\n",
    "    wb1 = xl.load_workbook(filename=src)\n",
    "    ws1 = wb1.worksheets[0]\n",
    "\n",
    "    wb2 = xl.load_workbook(filename=target)\n",
    "    ws2 = wb2.create_sheet(ws1[\"C5\"].value.split(' ')[0])\n",
    "\n",
    "    for row in ws1:\n",
    "        for cell in row:\n",
    "            ws2[cell.coordinate].value = cell.value\n",
    "\n",
    "    wb2.save(result_excel)"
   ]
  }
 ],
 "metadata": {
  "kernelspec": {
   "display_name": "Python 3",
   "language": "python",
   "name": "python3"
  },
  "language_info": {
   "codemirror_mode": {
    "name": "ipython",
    "version": 3
   },
   "file_extension": ".py",
   "mimetype": "text/x-python",
   "name": "python",
   "nbconvert_exporter": "python",
   "pygments_lexer": "ipython3",
   "version": "3.9.16"
  }
 },
 "nbformat": 4,
 "nbformat_minor": 5
}
