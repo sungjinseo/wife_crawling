{
 "cells": [
  {
   "cell_type": "code",
   "execution_count": null,
   "id": "06aad7db-8e9f-44a3-9e0e-e7866f703bf2",
   "metadata": {},
   "outputs": [],
   "source": [
    "!pip install openpyxl\n",
    "!pip install BeautifulSoup\n",
    "!pip install json"
   ]
  },
  {
   "cell_type": "code",
   "execution_count": 296,
   "id": "9ae803e2-d144-4c80-bf2c-8359d2effd2b",
   "metadata": {},
   "outputs": [],
   "source": [
    "import requests\n",
    "import json\n",
    "import time\n",
    "import copy\n",
    "import openpyxl\n",
    "from bs4 import BeautifulSoup as bs\n",
    "from tqdm import tqdm, trange"
   ]
  },
  {
   "cell_type": "code",
   "execution_count": 297,
   "id": "930cd759-a6dc-4645-af11-0b6bb5b94380",
   "metadata": {},
   "outputs": [],
   "source": [
    "SIDO_DICTONARY = {'서울':'11', '인천':'28', '세종':'36', '대전':'30', '광주':'29', '울산':'31', \n",
    "                  '대구':'27', '부산':'26', '경기':'41', '강원':'42', '충북':'43', '충남':'44', \n",
    "                  '충북':'43', '경북':'47', '전북':'45', '전남':'46', '경남':'48'}\n",
    "# 시에서 구을 검색할때 코드\n",
    "#BJD_CODE = 'SGG'\n",
    "#구에서 동을 검색할때 코드\n",
    "#BJD_CODE = 'EMD'"
   ]
  },
  {
   "cell_type": "code",
   "execution_count": 298,
   "id": "06e55709-ff90-4ac7-8579-0cb8ca9f832d",
   "metadata": {},
   "outputs": [],
   "source": [
    "urlSido = 'http://www.k-apt.go.kr/cmmn/bjd/getBjdList.do?' # 동까지 조회 할때 사용하는 url\n",
    "urlApt = 'http://www.k-apt.go.kr/kaptinfo/getKaptList.do?'  # 아파트리스트 가져올때 사용하는 url\n",
    "\n",
    "# urlMonth = 'http://www.k-apt.go.kr/apiinfo/openCostMonthUseAve.do?' # 월별 에너지량\n",
    "# url = 'http://www.k-apt.go.kr/apiinfo/openCostEnergyUseStatistics.do?' # 에너지사용 통계\n",
    "# url = 'http://www.k-apt.go.kr/apiinfo/openCostYearUseAve.do' # 연도 에너리량"
   ]
  },
  {
   "cell_type": "code",
   "execution_count": null,
   "id": "d5b82931-47be-4fc6-bfc7-3203e2292612",
   "metadata": {},
   "outputs": [],
   "source": [
    "# 페이지로 응답오는 화면인경우 리다이렉트로 실해앟게 되어 있음..\n",
    "# 크롤링을 막으려 하는건지 코딩을 이따구로 하는건지 확인 못하겠네...\n",
    "# data = {'go_url':'/kaptinfo/openkaptinfo.do','bjd_code': '1168010300', 'kapt_code': 'A13593908', 'search_date': '202203'}  # 서울시 강남구 개포동\n",
    "# response = web_request(method_name='POST', url='http://www.k-apt.go.kr/cmmn/selectKapt.do?', dict_data=data)\n",
    "#http://www.k-apt.go.kr/cmmn/selectKapt.do\n",
    "#http://www.k-apt.go.kr/kaptinfo/openkaptinfo.do\n",
    "# '/kaptinfo/openkaptinfo.do? #우리단지 기본정보\n",
    "# '/kaptinfo/openkaptinfoBid.do?'# 우리단지 입찰공고\n",
    "# '/kaptinfo/openKaptMng.do?' #관리시설정보\n",
    "# '/kaptinfo/openKaptSetday.do?' #주택인도일정보\n",
    "# '/kaptinfo/openKaptGrEng.do?' #녹색/에너지정보\n",
    "# '/kaptinfo/openKaptMngRule.do?' #관리규약\n",
    "# '/kaptinfo/openKaptRep.do?' #입주자대표회의 구성인원\n",
    "\n",
    "#<form id=\"cmnmMapFrm\" method=\"post\" action=\"/cmmn/selectKapt.do\">\n",
    "\t#<input type=\"hidden\" value=\"\" name=\"go_url\" id=\"go_url\"> \n",
    "\t#<input type=\"hidden\" value=\"\" name=\"bjd_code\" id=\"bjd_code\"> \n",
    "\t#<input type=\"hidden\" value=\"\" name=\"kapt_code\" id=\"kapt_code\">\n",
    "\t#<input type=\"hidden\" value=\"\" name=\"search_date\" id=\"search_date\">\n",
    "#</form>\n"
   ]
  },
  {
   "cell_type": "code",
   "execution_count": 299,
   "id": "6b40920e-fb87-4036-afa4-6a10652fa801",
   "metadata": {},
   "outputs": [],
   "source": [
    "def web_request(method_name, url, dict_data, is_urlencoded=True):\n",
    "    \"\"\"Web GET or POST request를 호출 후 그 결과를 dict형으로 반환 \"\"\"\n",
    "    method_name = method_name.upper()  # 메소드이름을 대문자로 바꾼다\n",
    "    if method_name not in ('GET', 'POST'):\n",
    "        raise Exception('method_name is GET or POST plz...')\n",
    "\n",
    "    if method_name == 'GET':  # GET방식인 경우\n",
    "        response = requests.get(url=url, params=dict_data)\n",
    "    elif method_name == 'POST':  # POST방식인 경우\n",
    "        if is_urlencoded is True:\n",
    "            response = requests.post(url=url, data=dict_data,\n",
    "                                     headers={'Content-Type': 'application/x-www-form-urlencoded'})\n",
    "        else:\n",
    "            response = requests.post(url=url, data=json.dumps(dict_data), headers={'Content-Type': 'application/json'})\n",
    "\n",
    "    dict_meta = {'status_code': response.status_code, 'ok': response.ok, 'encoding': response.encoding,\n",
    "                 'Content-Type': response.headers['Content-Type']}\n",
    "    if 'json' in str(response.headers['Content-Type']):  # JSON 형태인 경우\n",
    "        return {**dict_meta, **response.json()}\n",
    "    else:  # 문자열 형태인 경우\n",
    "        return {**dict_meta, **{'text': response.text}}"
   ]
  },
  {
   "cell_type": "code",
   "execution_count": 300,
   "id": "947ee5ae-0611-4fa1-af55-8880953e8077",
   "metadata": {},
   "outputs": [],
   "source": [
    "def getSidoList(paramCode, paramGbn):\n",
    "    data = {'bjd_code': paramCode, 'bjd_gbn': paramGbn}  # 서울시\n",
    "    # data = {'bjd_code': '11', 'bjd_gbn':'SGG'}           # 서울시\n",
    "    # data = {'bjd_code': '11680', 'bjd_gbn':'EMD'}         # 서울시 강남구\n",
    "\n",
    "    response = web_request(method_name='POST', url=urlSido, dict_data=data)\n",
    "    if response['ok'] == True:\n",
    "        # 성공 응답 시 액션\n",
    "        result = json.loads(response['text'])\n",
    "        return result\n",
    "    else:\n",
    "        # 실패 응답 시 액션\n",
    "        pass"
   ]
  },
  {
   "cell_type": "code",
   "execution_count": 301,
   "id": "e2b59b97-de92-46cc-b7da-602854b8699a",
   "metadata": {},
   "outputs": [],
   "source": [
    "def getAptList(paramCode, srchDate):\n",
    "    # data = {'bjd_code': '1168010300'}         # 서울시 강남구 개포동\n",
    "    data = {'bjd_code': paramCode, 'search_date': srchDate}  # 서울시 강남구 개포동\n",
    "    response = web_request(method_name='POST', url=urlApt, dict_data=data)\n",
    "    if response['ok'] == True:\n",
    "        # 성공 응답 시 액션\n",
    "        result = json.loads(response['text'])\n",
    "        return result\n",
    "    else:\n",
    "        pass"
   ]
  },
  {
   "cell_type": "code",
   "execution_count": 302,
   "id": "99f56d15-a7ff-4e97-9ba6-52afd0c9a46d",
   "metadata": {},
   "outputs": [],
   "source": [
    "def getRedirectInfo(parent_url, child_url, bjd_code, kapt_code, search_date):\n",
    "    data = {'go_url':child_url,'bjd_code': bjd_code, 'kapt_code': kapt_code, 'search_date': search_date}  # 서울시 강남구 개포동\n",
    "    return web_request(method_name='POST', url=parent_url, dict_data=data)"
   ]
  },
  {
   "cell_type": "code",
   "execution_count": 303,
   "id": "c5e0e2de-2b79-41d7-9f61-db9f629f7773",
   "metadata": {},
   "outputs": [],
   "source": [
    "# 우리단지 기본정보\n",
    "#data = {'go_url':'/kaptinfo/openkaptinfo.do','bjd_code': '1168010300', 'kapt_code': 'A13593908', 'search_date': '202203'}  # 서울시 강남구 개포동\n",
    "#danji_res = web_request(method_name='POST', url='http://www.k-apt.go.kr/cmmn/selectKapt.do?', dict_data=data)\n",
    "def getDanjiInfo(bjd_code, kapt_code, search_date):\n",
    "    result=[]\n",
    "    danji_res = getRedirectInfo('http://www.k-apt.go.kr/cmmn/selectKapt.do?', '/kaptinfo/openkaptinfo.do', bjd_code, kapt_code, search_date)\n",
    "    #danji_res = getRedirectInfo('http://www.k-apt.go.kr/cmmn/selectKapt.do?', '/kaptinfo/openkaptinfo.do', '1168010300', 'A13593908', '202203')\n",
    "    danji_soup = bs(danji_res['text'], \"html.parser\")\n",
    "\n",
    "    elements = danji_soup.find(\"div\", \"subCbox\")\n",
    "    td_values = elements.find_all('td')\n",
    "    tr_values = elements.find_all('tr')\n",
    "    script_values = elements.find(\"script\").text\n",
    "    ADDRESS_KEY = 'arrAddr.push'\n",
    "    addr_val = ''\n",
    "\n",
    "    for item in script_values.split('\\n'):\n",
    "        # 첫번째 값은 법정동주소고 두번째 값은 도로명주소이다\n",
    "        if ADDRESS_KEY in item:\n",
    "            addr_val= item[item.find('\"')+1:-4]\n",
    "            break\n",
    "    #for idx, item in enumerate(elements):            # enumerate를 사용하면 해당 값의 인덱스를 알 수 있다.\n",
    "    #    ths = item.find_all('th')\n",
    "    #    tds = item.find_all('td')\n",
    "    #    print(tds)\n",
    "    \n",
    "    result.append(0) # index\n",
    "    result.append(td_values[0].text.strip()) # 명칭\n",
    "    result.append(addr_val) #법정동주소    \n",
    "    result.append(td_values[4].text.strip()) #분양형태\n",
    "    result.append(td_values[5].text.strip()) #관리방식\n",
    "    result.append(td_values[6].text.strip()) #난방방식\n",
    "    result.append(td_values[7].text.strip()) #복도유형\n",
    "    result.append(td_values[8].text.strip()) #연면적\n",
    "    result.append(td_values[10].text.strip().split('\\n')[0][:-4].replace(\" \", \"\")) #동수/세대수\n",
    "    result.append(td_values[10].text.strip().split('\\n')[2]) #주거전용면적\n",
    "    result.append(td_values[12].text.strip().replace(\" \", \"\")) #시공사/시행사\n",
    "    result.append(td_values[16].text.strip().split('\\n')[0][td_values[16].text.strip().split('\\n')[0].find(':')+1:-2].strip()) #면적별 세대현황(전용면적 기준)\n",
    "    result.append(td_values[16].text.strip().split('\\n')[1][td_values[16].text.strip().split('\\n')[1].find(':')+1:-2].strip()) #면적별 세대현황(전용면적 기준)\n",
    "    result.append(td_values[16].text.strip().split('\\n')[2][td_values[16].text.strip().split('\\n')[2].find(':')+1:-2].strip()) #면적별 세대현황(전용면적 기준)\n",
    "    result.append(td_values[16].text.strip().split('\\n')[3][td_values[16].text.strip().split('\\n')[3].find(':')+1:-2].strip()) #면적별 세대현황(전용면적 기준)\n",
    "    \n",
    "    return result"
   ]
  },
  {
   "cell_type": "code",
   "execution_count": 304,
   "id": "574be8c9-0598-4b8d-86fb-9bb5a652192f",
   "metadata": {},
   "outputs": [],
   "source": [
    "# 관리시설정보\n",
    "# 원래 실행순서 http://www.k-apt.go.kr/cmmn/selectKapt.do -> redirect : /kaptinfo/openKaptMng.do -> 상세정보는  /kaptinfo/getKaptInfo_detail.do 에서 호출\n",
    "# 따라서 마지막 정보만 필요하기때문에 /kaptinfo/getKaptInfo_detail.do 만 호출해서 사용 만약에 추가필드가 필요하면 화면정보를 다시 불러와서 key value를 파악해야함\n",
    "\n",
    "#manage_res = getRedirectInfo('http://www.k-apt.go.kr/cmmn/selectKapt.do?', '/kaptinfo/openKaptMng.do', '1168010300', 'A13593908', '202203')\n",
    "#manage_soup = bs(manage_res['text'], \"html.parser\")\n",
    "def manageInfo(kapt_code):\n",
    "    result = []\n",
    "    manage_data = {'kapt_code': kapt_code}  # 서울시 강남구 개포동\n",
    "    manage_res = web_request(method_name='POST', url='http://www.k-apt.go.kr/kaptinfo/getKaptInfo_detail.do?', dict_data=manage_data)\n",
    "\n",
    "    json_object = json.loads(manage_res['text'])\n",
    "    result.append(json_object['resultMap_kapt']['CODE_ECON']) #세대전기방식\n",
    "    result.append(json_object['resultMap_kapt']['KAPTD_ECNT_TOTAL']) #승강기대수\n",
    "    result.append(json_object['resultMap_kapt']['KAPTD_PCNT']) # 지상주차\n",
    "    result.append(json_object['resultMap_kapt']['KAPTD_PCNTU']) # 지하주차\n",
    "    return result"
   ]
  },
  {
   "cell_type": "code",
   "execution_count": 305,
   "id": "bc163fb5-12c6-4b18-a613-08cc87a778d5",
   "metadata": {},
   "outputs": [
    {
     "name": "stdout",
     "output_type": "stream",
     "text": [
      "Start guList\n",
      "End guList\n"
     ]
    }
   ],
   "source": [
    "# 1. 시에서 전체구를 조회하는 리스트를 만든다.\n",
    "# 시에서 구를 검색하니 SGG값을 이용\n",
    "SIDO_KEY = SIDO_DICTONARY['서울']\n",
    "SIDO_CODE = 'SGG'\n",
    "\n",
    "print('Start guList')\n",
    "GU_LIST = getSidoList(SIDO_KEY, SIDO_CODE)\n",
    "print('End guList')"
   ]
  },
  {
   "cell_type": "code",
   "execution_count": 310,
   "id": "8f3d5876-7f22-4e41-a9fc-13458bee7555",
   "metadata": {},
   "outputs": [],
   "source": [
    "with open('./sido_data.json','w', encoding='utf-8') as f:\n",
    "  json.dump(GU_LIST, f, ensure_ascii=False, indent=4)"
   ]
  },
  {
   "cell_type": "code",
   "execution_count": 311,
   "id": "36fe89c7-4bed-4a91-b8ca-5ea7c14bd725",
   "metadata": {},
   "outputs": [
    {
     "name": "stdout",
     "output_type": "stream",
     "text": [
      "Start dongList\n",
      "End dongList\n"
     ]
    }
   ],
   "source": [
    "#2. 각구별로 돌아가면서 동을 출력하는 리스트를 만든다.\n",
    "# 구에서 동을 검색하니 EMD값을 이용\n",
    "DONG_LIST = []\n",
    "DONG_CODE = 'EMD'\n",
    "\n",
    "print('Start dongList')\n",
    "for gu in GU_LIST['resultList']:\n",
    "    time.sleep(5)\n",
    "    gu['CODE'] = SIDO_KEY + gu['CODE']\n",
    "    dongList = getSidoList(gu['CODE'], DONG_CODE)\n",
    "    for dong in dongList['resultList']:\n",
    "        dong['CODE'] = gu['CODE'] + dong['CODE']\n",
    "        DONG_LIST.append(dong)\n",
    "print('End dongList')"
   ]
  },
  {
   "cell_type": "code",
   "execution_count": 312,
   "id": "4a70366c-1d46-4b20-9350-4e1c94c08b8b",
   "metadata": {},
   "outputs": [],
   "source": [
    "with open('./dong_data.json','w', encoding='utf-8') as f:\n",
    "  json.dump(DONG_LIST, f, ensure_ascii=False, indent=4)"
   ]
  },
  {
   "cell_type": "code",
   "execution_count": 314,
   "id": "f480b0d0-c9f5-432a-a8d8-c4b47e7c705b",
   "metadata": {},
   "outputs": [
    {
     "name": "stdout",
     "output_type": "stream",
     "text": [
      "Start aptList\n"
     ]
    },
    {
     "ename": "JSONDecodeError",
     "evalue": "Expecting value: line 3 column 1 (char 4)",
     "output_type": "error",
     "traceback": [
      "\u001b[1;31m---------------------------------------------------------------------------\u001b[0m",
      "\u001b[1;31mJSONDecodeError\u001b[0m                           Traceback (most recent call last)",
      "Cell \u001b[1;32mIn [314], line 9\u001b[0m\n\u001b[0;32m      7\u001b[0m \u001b[38;5;28;01mfor\u001b[39;00m dong \u001b[38;5;129;01min\u001b[39;00m DONG_LIST:\n\u001b[0;32m      8\u001b[0m     time\u001b[38;5;241m.\u001b[39msleep(\u001b[38;5;241m5\u001b[39m)\n\u001b[1;32m----> 9\u001b[0m     temp \u001b[38;5;241m=\u001b[39m \u001b[43mgetAptList\u001b[49m\u001b[43m(\u001b[49m\u001b[43mdong\u001b[49m\u001b[43m[\u001b[49m\u001b[38;5;124;43m'\u001b[39;49m\u001b[38;5;124;43mCODE\u001b[39;49m\u001b[38;5;124;43m'\u001b[39;49m\u001b[43m]\u001b[49m\u001b[43m,\u001b[49m\u001b[43m \u001b[49m\u001b[43mSEARCH_DATE\u001b[49m\u001b[43m)\u001b[49m\n\u001b[0;32m     10\u001b[0m     \u001b[38;5;28;01mfor\u001b[39;00m aptInfo \u001b[38;5;129;01min\u001b[39;00m temp[\u001b[38;5;124m'\u001b[39m\u001b[38;5;124mresultList\u001b[39m\u001b[38;5;124m'\u001b[39m]:\n\u001b[0;32m     11\u001b[0m         APT_LIST\u001b[38;5;241m.\u001b[39mappend(aptInfo)\n",
      "Cell \u001b[1;32mIn [301], line 7\u001b[0m, in \u001b[0;36mgetAptList\u001b[1;34m(paramCode, srchDate)\u001b[0m\n\u001b[0;32m      4\u001b[0m response \u001b[38;5;241m=\u001b[39m web_request(method_name\u001b[38;5;241m=\u001b[39m\u001b[38;5;124m'\u001b[39m\u001b[38;5;124mPOST\u001b[39m\u001b[38;5;124m'\u001b[39m, url\u001b[38;5;241m=\u001b[39murlApt, dict_data\u001b[38;5;241m=\u001b[39mdata)\n\u001b[0;32m      5\u001b[0m \u001b[38;5;28;01mif\u001b[39;00m response[\u001b[38;5;124m'\u001b[39m\u001b[38;5;124mok\u001b[39m\u001b[38;5;124m'\u001b[39m] \u001b[38;5;241m==\u001b[39m \u001b[38;5;28;01mTrue\u001b[39;00m:\n\u001b[0;32m      6\u001b[0m     \u001b[38;5;66;03m# 성공 응답 시 액션\u001b[39;00m\n\u001b[1;32m----> 7\u001b[0m     result \u001b[38;5;241m=\u001b[39m \u001b[43mjson\u001b[49m\u001b[38;5;241;43m.\u001b[39;49m\u001b[43mloads\u001b[49m\u001b[43m(\u001b[49m\u001b[43mresponse\u001b[49m\u001b[43m[\u001b[49m\u001b[38;5;124;43m'\u001b[39;49m\u001b[38;5;124;43mtext\u001b[39;49m\u001b[38;5;124;43m'\u001b[39;49m\u001b[43m]\u001b[49m\u001b[43m)\u001b[49m\n\u001b[0;32m      8\u001b[0m     \u001b[38;5;28;01mreturn\u001b[39;00m result\n\u001b[0;32m      9\u001b[0m \u001b[38;5;28;01melse\u001b[39;00m:\n",
      "File \u001b[1;32m~\\AppData\\Local\\Programs\\Python\\Python310\\lib\\json\\__init__.py:346\u001b[0m, in \u001b[0;36mloads\u001b[1;34m(s, cls, object_hook, parse_float, parse_int, parse_constant, object_pairs_hook, **kw)\u001b[0m\n\u001b[0;32m    341\u001b[0m     s \u001b[38;5;241m=\u001b[39m s\u001b[38;5;241m.\u001b[39mdecode(detect_encoding(s), \u001b[38;5;124m'\u001b[39m\u001b[38;5;124msurrogatepass\u001b[39m\u001b[38;5;124m'\u001b[39m)\n\u001b[0;32m    343\u001b[0m \u001b[38;5;28;01mif\u001b[39;00m (\u001b[38;5;28mcls\u001b[39m \u001b[38;5;129;01mis\u001b[39;00m \u001b[38;5;28;01mNone\u001b[39;00m \u001b[38;5;129;01mand\u001b[39;00m object_hook \u001b[38;5;129;01mis\u001b[39;00m \u001b[38;5;28;01mNone\u001b[39;00m \u001b[38;5;129;01mand\u001b[39;00m\n\u001b[0;32m    344\u001b[0m         parse_int \u001b[38;5;129;01mis\u001b[39;00m \u001b[38;5;28;01mNone\u001b[39;00m \u001b[38;5;129;01mand\u001b[39;00m parse_float \u001b[38;5;129;01mis\u001b[39;00m \u001b[38;5;28;01mNone\u001b[39;00m \u001b[38;5;129;01mand\u001b[39;00m\n\u001b[0;32m    345\u001b[0m         parse_constant \u001b[38;5;129;01mis\u001b[39;00m \u001b[38;5;28;01mNone\u001b[39;00m \u001b[38;5;129;01mand\u001b[39;00m object_pairs_hook \u001b[38;5;129;01mis\u001b[39;00m \u001b[38;5;28;01mNone\u001b[39;00m \u001b[38;5;129;01mand\u001b[39;00m \u001b[38;5;129;01mnot\u001b[39;00m kw):\n\u001b[1;32m--> 346\u001b[0m     \u001b[38;5;28;01mreturn\u001b[39;00m \u001b[43m_default_decoder\u001b[49m\u001b[38;5;241;43m.\u001b[39;49m\u001b[43mdecode\u001b[49m\u001b[43m(\u001b[49m\u001b[43ms\u001b[49m\u001b[43m)\u001b[49m\n\u001b[0;32m    347\u001b[0m \u001b[38;5;28;01mif\u001b[39;00m \u001b[38;5;28mcls\u001b[39m \u001b[38;5;129;01mis\u001b[39;00m \u001b[38;5;28;01mNone\u001b[39;00m:\n\u001b[0;32m    348\u001b[0m     \u001b[38;5;28mcls\u001b[39m \u001b[38;5;241m=\u001b[39m JSONDecoder\n",
      "File \u001b[1;32m~\\AppData\\Local\\Programs\\Python\\Python310\\lib\\json\\decoder.py:337\u001b[0m, in \u001b[0;36mJSONDecoder.decode\u001b[1;34m(self, s, _w)\u001b[0m\n\u001b[0;32m    332\u001b[0m \u001b[38;5;28;01mdef\u001b[39;00m \u001b[38;5;21mdecode\u001b[39m(\u001b[38;5;28mself\u001b[39m, s, _w\u001b[38;5;241m=\u001b[39mWHITESPACE\u001b[38;5;241m.\u001b[39mmatch):\n\u001b[0;32m    333\u001b[0m     \u001b[38;5;124;03m\"\"\"Return the Python representation of ``s`` (a ``str`` instance\u001b[39;00m\n\u001b[0;32m    334\u001b[0m \u001b[38;5;124;03m    containing a JSON document).\u001b[39;00m\n\u001b[0;32m    335\u001b[0m \n\u001b[0;32m    336\u001b[0m \u001b[38;5;124;03m    \"\"\"\u001b[39;00m\n\u001b[1;32m--> 337\u001b[0m     obj, end \u001b[38;5;241m=\u001b[39m \u001b[38;5;28;43mself\u001b[39;49m\u001b[38;5;241;43m.\u001b[39;49m\u001b[43mraw_decode\u001b[49m\u001b[43m(\u001b[49m\u001b[43ms\u001b[49m\u001b[43m,\u001b[49m\u001b[43m \u001b[49m\u001b[43midx\u001b[49m\u001b[38;5;241;43m=\u001b[39;49m\u001b[43m_w\u001b[49m\u001b[43m(\u001b[49m\u001b[43ms\u001b[49m\u001b[43m,\u001b[49m\u001b[43m \u001b[49m\u001b[38;5;241;43m0\u001b[39;49m\u001b[43m)\u001b[49m\u001b[38;5;241;43m.\u001b[39;49m\u001b[43mend\u001b[49m\u001b[43m(\u001b[49m\u001b[43m)\u001b[49m\u001b[43m)\u001b[49m\n\u001b[0;32m    338\u001b[0m     end \u001b[38;5;241m=\u001b[39m _w(s, end)\u001b[38;5;241m.\u001b[39mend()\n\u001b[0;32m    339\u001b[0m     \u001b[38;5;28;01mif\u001b[39;00m end \u001b[38;5;241m!=\u001b[39m \u001b[38;5;28mlen\u001b[39m(s):\n",
      "File \u001b[1;32m~\\AppData\\Local\\Programs\\Python\\Python310\\lib\\json\\decoder.py:355\u001b[0m, in \u001b[0;36mJSONDecoder.raw_decode\u001b[1;34m(self, s, idx)\u001b[0m\n\u001b[0;32m    353\u001b[0m     obj, end \u001b[38;5;241m=\u001b[39m \u001b[38;5;28mself\u001b[39m\u001b[38;5;241m.\u001b[39mscan_once(s, idx)\n\u001b[0;32m    354\u001b[0m \u001b[38;5;28;01mexcept\u001b[39;00m \u001b[38;5;167;01mStopIteration\u001b[39;00m \u001b[38;5;28;01mas\u001b[39;00m err:\n\u001b[1;32m--> 355\u001b[0m     \u001b[38;5;28;01mraise\u001b[39;00m JSONDecodeError(\u001b[38;5;124m\"\u001b[39m\u001b[38;5;124mExpecting value\u001b[39m\u001b[38;5;124m\"\u001b[39m, s, err\u001b[38;5;241m.\u001b[39mvalue) \u001b[38;5;28;01mfrom\u001b[39;00m \u001b[38;5;28mNone\u001b[39m\n\u001b[0;32m    356\u001b[0m \u001b[38;5;28;01mreturn\u001b[39;00m obj, end\n",
      "\u001b[1;31mJSONDecodeError\u001b[0m: Expecting value: line 3 column 1 (char 4)"
     ]
    }
   ],
   "source": [
    "#3. 각동별로 아파트 정보를 년월기준으로 조회한다.\n",
    "# 기준월을 세팅한다.\n",
    "APT_LIST = []\n",
    "SEARCH_DATE = '202203'\n",
    "\n",
    "print('Start aptList')\n",
    "for dong in DONG_LIST:\n",
    "    time.sleep(5)\n",
    "    temp = getAptList(dong['CODE'], SEARCH_DATE)\n",
    "    for aptInfo in temp['resultList']:\n",
    "        APT_LIST.append(aptInfo)\n",
    "print('End aptList')"
   ]
  },
  {
   "cell_type": "code",
   "execution_count": null,
   "id": "4ed871db-2f9c-4960-b460-6b4ae5508572",
   "metadata": {},
   "outputs": [],
   "source": [
    "with open('./apt_data.json','w', encoding='utf-8') as f:\n",
    "  json.dump(APT_LIST, f, ensure_ascii=False, indent=4)"
   ]
  },
  {
   "cell_type": "code",
   "execution_count": null,
   "id": "d45049c5-4621-497b-9672-cbf473fe5c00",
   "metadata": {},
   "outputs": [],
   "source": [
    "LIST_FOR_EXCEL = []\n",
    "\n",
    "print('Start get APT engeryInfo')\n",
    "for aptInfo in APT_LIST:\n",
    "    # 단지정보 리스트를 받아온다\n",
    "    # 관리시설정보 리스트를 받아온다\n",
    "    # 두리스트를 합치고 LIST_FOR_EXCEL 에 append한다\n",
    "    result = getDanjiInfo(aptInfo['BJD_CODE'], aptInfo['KAPT_CODE'],SEARCH_DATE)\n",
    "    result2 = manageInfo(aptInfo['KAPT_CODE'],)\n",
    "    result.extend(result2)\n",
    "    LIST_FOR_EXCEL.append(result)\n",
    "    time.sleep(5)\n",
    "    #bjdList = aptInfo['BJD_NAME'].split(' ')\n",
    "    #createResultByExcel.inputDataInExcel(bjdList[0],bjdList[1],bjdList[2],aptInfo['KAPT_NAME'], inqResult)\n",
    "print('End get APT engeryInfo')"
   ]
  },
  {
   "cell_type": "code",
   "execution_count": null,
   "id": "e4a9f3a9-b21f-47cd-8a8d-524d71f1ec85",
   "metadata": {},
   "outputs": [],
   "source": []
  },
  {
   "cell_type": "code",
   "execution_count": 295,
   "id": "c0ec2665-9597-4ce9-9e73-f83237b6b64a",
   "metadata": {},
   "outputs": [
    {
     "name": "stderr",
     "output_type": "stream",
     "text": [
      "C:\\Users\\Administrator\\AppData\\Local\\Temp\\ipykernel_16672\\3361208224.py:2: DeprecationWarning: Call to deprecated function get_sheet_by_name (Use wb[sheetname]).\n",
      "  sheetA = wb.get_sheet_by_name('Sheet1')\n"
     ]
    }
   ],
   "source": [
    "wb = openpyxl.load_workbook('크롤링부탁1.xlsx')\n",
    "sheetA = wb.get_sheet_by_name('Sheet1')\n",
    "\n",
    "cellListA =  [1,2,3,4,5,6,7,8,9,10,11,12,13,14,15,              16,17,18,19,20]\n",
    "for item in LIST_FOR_EXCEL:\n",
    "    sheetA.append(item)\n",
    "wb.save('공동주택에너지.xlsx')"
   ]
  }
 ],
 "metadata": {
  "kernelspec": {
   "display_name": "Python 3 (ipykernel)",
   "language": "python",
   "name": "python3"
  },
  "language_info": {
   "codemirror_mode": {
    "name": "ipython",
    "version": 3
   },
   "file_extension": ".py",
   "mimetype": "text/x-python",
   "name": "python",
   "nbconvert_exporter": "python",
   "pygments_lexer": "ipython3",
   "version": "3.10.8"
  }
 },
 "nbformat": 4,
 "nbformat_minor": 5
}
