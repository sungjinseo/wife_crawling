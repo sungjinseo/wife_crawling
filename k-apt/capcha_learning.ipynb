{
 "cells": [
  {
   "cell_type": "code",
   "execution_count": null,
   "id": "08928e77-66b3-4da4-943c-d70cbe8ef57f",
   "metadata": {},
   "outputs": [],
   "source": [
    "# 캡챠이미지 수집용\n",
    "# url = 'http://www.k-apt.go.kr/captchaImg.do'\n",
    "# ext = '.png'\n",
    "# for i in range(1,10000):\n",
    "#     response = requests.get(url, stream=True)\n",
    "#     with open('./img/img_'+str(i)+ext, 'wb') as out_file:\n",
    "#         shutil.copyfileobj(response.raw, out_file)\n",
    "#     del response"
   ]
  },
  {
   "cell_type": "code",
   "execution_count": 1,
   "id": "e33531aa-ef4b-4bfb-87fd-3274b238f919",
   "metadata": {},
   "outputs": [],
   "source": [
    "import shutil\n",
    "import requests\n",
    "from tqdm import tqdm, trange\n",
    "from time import sleep"
   ]
  },
  {
   "cell_type": "code",
   "execution_count": 2,
   "id": "24833420-4439-4475-971d-b69886d5ece4",
   "metadata": {},
   "outputs": [],
   "source": [
    "import glob\n",
    "import CaptchaCracker as cc"
   ]
  },
  {
   "cell_type": "code",
   "execution_count": 3,
   "id": "637242a6-d082-4423-8694-a4b910485dc4",
   "metadata": {},
   "outputs": [],
   "source": [
    "# 학습 이미지 데이터 경로\n",
    "train_img_path_list = glob.glob(\"./img/*.png\")"
   ]
  },
  {
   "cell_type": "code",
   "execution_count": 4,
   "id": "d1c451d9-aff8-4560-89d5-6da72f7bcce4",
   "metadata": {},
   "outputs": [],
   "source": [
    "# 학습 이미지 데이터 크기\n",
    "img_width = 250\n",
    "img_height = 50"
   ]
  },
  {
   "cell_type": "code",
   "execution_count": 5,
   "id": "3ea0dbc4-02ff-4ad3-be35-374687f38e6e",
   "metadata": {},
   "outputs": [],
   "source": [
    "# 모델 생성 인스턴스\n",
    "CM = cc.CreateModel(train_img_path_list, img_width, img_height)"
   ]
  },
  {
   "cell_type": "code",
   "execution_count": 6,
   "id": "be7b1b1d-8068-48f9-97e1-25dc98b97e13",
   "metadata": {},
   "outputs": [
    {
     "name": "stdout",
     "output_type": "stream",
     "text": [
      "Epoch 1/100\n",
      "37/37 [==============================] - 7s 117ms/step - loss: 25.4937 - val_loss: 17.4526\n",
      "Epoch 2/100\n",
      "37/37 [==============================] - 3s 90ms/step - loss: 17.2045 - val_loss: 17.2071\n",
      "Epoch 3/100\n",
      "37/37 [==============================] - 3s 91ms/step - loss: 17.1805 - val_loss: 17.2102\n",
      "Epoch 4/100\n",
      "37/37 [==============================] - 3s 90ms/step - loss: 17.1800 - val_loss: 17.2064\n",
      "Epoch 5/100\n",
      "37/37 [==============================] - 3s 90ms/step - loss: 17.1752 - val_loss: 17.2021\n",
      "Epoch 6/100\n",
      "37/37 [==============================] - 3s 92ms/step - loss: 17.1737 - val_loss: 17.1985\n",
      "Epoch 7/100\n",
      "37/37 [==============================] - 3s 91ms/step - loss: 17.1650 - val_loss: 17.1964\n",
      "Epoch 8/100\n",
      "37/37 [==============================] - 3s 92ms/step - loss: 17.1686 - val_loss: 17.1958\n",
      "Epoch 9/100\n",
      "37/37 [==============================] - 3s 93ms/step - loss: 17.1658 - val_loss: 17.1811\n",
      "Epoch 10/100\n",
      "37/37 [==============================] - 3s 92ms/step - loss: 17.1546 - val_loss: 17.1793\n",
      "Epoch 11/100\n",
      "37/37 [==============================] - 3s 92ms/step - loss: 17.1482 - val_loss: 17.1659\n",
      "Epoch 12/100\n",
      "37/37 [==============================] - 3s 92ms/step - loss: 17.1421 - val_loss: 17.1676\n",
      "Epoch 13/100\n",
      "37/37 [==============================] - 3s 92ms/step - loss: 17.1223 - val_loss: 17.1571\n",
      "Epoch 14/100\n",
      "37/37 [==============================] - 3s 91ms/step - loss: 17.1124 - val_loss: 17.1421\n",
      "Epoch 15/100\n",
      "37/37 [==============================] - 3s 91ms/step - loss: 17.0903 - val_loss: 17.1061\n",
      "Epoch 16/100\n",
      "37/37 [==============================] - 3s 91ms/step - loss: 17.0589 - val_loss: 17.0593\n",
      "Epoch 17/100\n",
      "37/37 [==============================] - 3s 92ms/step - loss: 17.0020 - val_loss: 16.9647\n",
      "Epoch 18/100\n",
      "37/37 [==============================] - 3s 91ms/step - loss: 16.8775 - val_loss: 16.8293\n",
      "Epoch 19/100\n",
      "37/37 [==============================] - 3s 91ms/step - loss: 16.7296 - val_loss: 16.7233\n",
      "Epoch 20/100\n",
      "37/37 [==============================] - 3s 91ms/step - loss: 16.6458 - val_loss: 16.5693\n",
      "Epoch 21/100\n",
      "37/37 [==============================] - 3s 92ms/step - loss: 16.4849 - val_loss: 16.5200\n",
      "Epoch 22/100\n",
      "37/37 [==============================] - 3s 92ms/step - loss: 16.2992 - val_loss: 16.3994\n",
      "Epoch 23/100\n",
      "37/37 [==============================] - 3s 91ms/step - loss: 16.0365 - val_loss: 16.2336\n",
      "Epoch 24/100\n",
      "37/37 [==============================] - 3s 91ms/step - loss: 15.6730 - val_loss: 15.6499\n",
      "Epoch 25/100\n",
      "37/37 [==============================] - 3s 91ms/step - loss: 15.1258 - val_loss: 14.9133\n",
      "Epoch 26/100\n",
      "37/37 [==============================] - 3s 92ms/step - loss: 14.5056 - val_loss: 14.0627\n",
      "Epoch 27/100\n",
      "37/37 [==============================] - 3s 92ms/step - loss: 13.6481 - val_loss: 13.1169\n",
      "Epoch 28/100\n",
      "37/37 [==============================] - 3s 91ms/step - loss: 12.5503 - val_loss: 11.8068\n",
      "Epoch 29/100\n",
      "37/37 [==============================] - 3s 92ms/step - loss: 11.2173 - val_loss: 10.3131\n",
      "Epoch 30/100\n",
      "37/37 [==============================] - 3s 92ms/step - loss: 9.4607 - val_loss: 8.0429\n",
      "Epoch 31/100\n",
      "37/37 [==============================] - 3s 92ms/step - loss: 7.6527 - val_loss: 6.1703\n",
      "Epoch 32/100\n",
      "37/37 [==============================] - 3s 92ms/step - loss: 6.0430 - val_loss: 4.8489\n",
      "Epoch 33/100\n",
      "37/37 [==============================] - 3s 91ms/step - loss: 4.7778 - val_loss: 3.3883\n",
      "Epoch 34/100\n",
      "37/37 [==============================] - 3s 92ms/step - loss: 3.9182 - val_loss: 2.5552\n",
      "Epoch 35/100\n",
      "37/37 [==============================] - 3s 92ms/step - loss: 3.0887 - val_loss: 2.2122\n",
      "Epoch 36/100\n",
      "37/37 [==============================] - 3s 93ms/step - loss: 2.4865 - val_loss: 1.9712\n",
      "Epoch 37/100\n",
      "37/37 [==============================] - 3s 93ms/step - loss: 2.1070 - val_loss: 1.5432\n",
      "Epoch 38/100\n",
      "37/37 [==============================] - 3s 93ms/step - loss: 1.7330 - val_loss: 1.4679\n",
      "Epoch 39/100\n",
      "37/37 [==============================] - 3s 93ms/step - loss: 1.4675 - val_loss: 1.2886\n",
      "Epoch 40/100\n",
      "37/37 [==============================] - 3s 92ms/step - loss: 1.3590 - val_loss: 1.1813\n",
      "Epoch 41/100\n",
      "37/37 [==============================] - 3s 92ms/step - loss: 1.2444 - val_loss: 1.1575\n",
      "Epoch 42/100\n",
      "37/37 [==============================] - 3s 92ms/step - loss: 1.1291 - val_loss: 1.0306\n",
      "Epoch 43/100\n",
      "37/37 [==============================] - 3s 92ms/step - loss: 0.9374 - val_loss: 1.0898\n",
      "Epoch 44/100\n",
      "37/37 [==============================] - 3s 92ms/step - loss: 0.7864 - val_loss: 0.9841\n",
      "Epoch 45/100\n",
      "37/37 [==============================] - 3s 93ms/step - loss: 0.7377 - val_loss: 0.9658\n",
      "Epoch 46/100\n",
      "37/37 [==============================] - 3s 93ms/step - loss: 0.7006 - val_loss: 1.0411\n",
      "Epoch 47/100\n",
      "37/37 [==============================] - 3s 92ms/step - loss: 0.6321 - val_loss: 1.0190\n",
      "Epoch 48/100\n",
      "37/37 [==============================] - 3s 94ms/step - loss: 0.6271 - val_loss: 0.9371\n",
      "Epoch 49/100\n",
      "37/37 [==============================] - 3s 93ms/step - loss: 0.5337 - val_loss: 0.9896\n",
      "Epoch 50/100\n",
      "37/37 [==============================] - 3s 93ms/step - loss: 0.5039 - val_loss: 0.9889\n",
      "Epoch 51/100\n",
      "37/37 [==============================] - 3s 93ms/step - loss: 0.4930 - val_loss: 1.0381\n",
      "Epoch 52/100\n",
      "37/37 [==============================] - 3s 93ms/step - loss: 0.4533 - val_loss: 0.9936\n",
      "Epoch 53/100\n",
      "37/37 [==============================] - 3s 93ms/step - loss: 0.4405 - val_loss: 0.9685\n",
      "Epoch 54/100\n",
      "37/37 [==============================] - 3s 94ms/step - loss: 0.4393 - val_loss: 0.9483\n",
      "Epoch 55/100\n",
      "37/37 [==============================] - 3s 92ms/step - loss: 0.3998 - val_loss: 0.9657\n",
      "Epoch 56/100\n",
      "37/37 [==============================] - 3s 93ms/step - loss: 0.4042 - val_loss: 0.9366\n",
      "Epoch 57/100\n",
      "37/37 [==============================] - 3s 93ms/step - loss: 0.3985 - val_loss: 0.9878\n",
      "Epoch 58/100\n",
      "37/37 [==============================] - 3s 92ms/step - loss: 0.3668 - val_loss: 1.0398\n",
      "Epoch 59/100\n",
      "37/37 [==============================] - 3s 94ms/step - loss: 0.3295 - val_loss: 1.0101\n",
      "Epoch 60/100\n",
      "37/37 [==============================] - 3s 93ms/step - loss: 0.3051 - val_loss: 0.9695\n",
      "Epoch 61/100\n",
      "37/37 [==============================] - 3s 93ms/step - loss: 0.3389 - val_loss: 0.9944\n",
      "Epoch 62/100\n",
      "37/37 [==============================] - 3s 93ms/step - loss: 0.3548 - val_loss: 1.0149\n",
      "Epoch 63/100\n",
      "37/37 [==============================] - 3s 92ms/step - loss: 0.2521 - val_loss: 1.1580\n",
      "Epoch 64/100\n",
      "37/37 [==============================] - 3s 92ms/step - loss: 0.4188 - val_loss: 0.9549\n",
      "Epoch 65/100\n",
      "37/37 [==============================] - 3s 93ms/step - loss: 0.3215 - val_loss: 1.0147\n",
      "Epoch 66/100\n",
      "37/37 [==============================] - 3s 92ms/step - loss: 0.2593 - val_loss: 1.0253\n",
      "Epoch 67/100\n",
      "37/37 [==============================] - 3s 93ms/step - loss: 0.2030 - val_loss: 1.0201\n",
      "Epoch 68/100\n",
      "37/37 [==============================] - 3s 93ms/step - loss: 0.2635 - val_loss: 1.0107\n",
      "Epoch 69/100\n",
      "37/37 [==============================] - 4s 109ms/step - loss: 0.2340 - val_loss: 1.0758\n",
      "Epoch 70/100\n",
      "37/37 [==============================] - 3s 94ms/step - loss: 0.2021 - val_loss: 1.0208\n",
      "Epoch 71/100\n",
      "37/37 [==============================] - 3s 94ms/step - loss: 0.2520 - val_loss: 1.0921\n",
      "Epoch 72/100\n",
      "37/37 [==============================] - 3s 93ms/step - loss: 0.2977 - val_loss: 1.0402\n",
      "Epoch 73/100\n",
      "37/37 [==============================] - 3s 94ms/step - loss: 0.1990 - val_loss: 1.0483\n",
      "Epoch 74/100\n",
      "37/37 [==============================] - 4s 95ms/step - loss: 0.1862 - val_loss: 1.0541\n",
      "Epoch 75/100\n",
      "37/37 [==============================] - 3s 93ms/step - loss: 0.1875 - val_loss: 0.9380\n",
      "Epoch 76/100\n",
      "37/37 [==============================] - 3s 94ms/step - loss: 0.2272 - val_loss: 1.0390\n",
      "Epoch 77/100\n",
      "37/37 [==============================] - 4s 94ms/step - loss: 0.1600 - val_loss: 1.0090\n",
      "Epoch 78/100\n",
      "37/37 [==============================] - 3s 94ms/step - loss: 0.1783 - val_loss: 1.0361\n",
      "Epoch 79/100\n",
      "37/37 [==============================] - 3s 94ms/step - loss: 0.1938 - val_loss: 1.0156\n",
      "Epoch 80/100\n",
      "37/37 [==============================] - 3s 93ms/step - loss: 0.1965 - val_loss: 1.0085\n",
      "Epoch 81/100\n",
      "37/37 [==============================] - 3s 93ms/step - loss: 0.1485 - val_loss: 1.0251\n",
      "Epoch 82/100\n",
      "37/37 [==============================] - 3s 94ms/step - loss: 0.1645 - val_loss: 1.0398\n",
      "Epoch 83/100\n",
      "37/37 [==============================] - 4s 97ms/step - loss: 0.2008 - val_loss: 0.9718\n",
      "Epoch 84/100\n",
      "37/37 [==============================] - 4s 96ms/step - loss: 0.2255 - val_loss: 0.9173\n",
      "Epoch 85/100\n",
      "37/37 [==============================] - 3s 94ms/step - loss: 0.1480 - val_loss: 0.9740\n",
      "Epoch 86/100\n",
      "37/37 [==============================] - 3s 94ms/step - loss: 0.1289 - val_loss: 0.9159\n",
      "Epoch 87/100\n",
      "37/37 [==============================] - 3s 93ms/step - loss: 0.1432 - val_loss: 0.9869\n",
      "Epoch 88/100\n",
      "37/37 [==============================] - 3s 93ms/step - loss: 0.0919 - val_loss: 1.0717\n",
      "Epoch 89/100\n",
      "37/37 [==============================] - 4s 95ms/step - loss: 0.0914 - val_loss: 1.0312\n",
      "Epoch 90/100\n",
      "37/37 [==============================] - 3s 93ms/step - loss: 0.1114 - val_loss: 1.1379\n",
      "Epoch 91/100\n",
      "37/37 [==============================] - 3s 93ms/step - loss: 0.0994 - val_loss: 1.0037\n",
      "Epoch 92/100\n",
      "37/37 [==============================] - 4s 95ms/step - loss: 0.0993 - val_loss: 1.0245\n",
      "Epoch 93/100\n",
      "37/37 [==============================] - 4s 95ms/step - loss: 0.0718 - val_loss: 0.9720\n",
      "Epoch 94/100\n",
      "37/37 [==============================] - 3s 94ms/step - loss: 0.0645 - val_loss: 0.9816\n",
      "Epoch 95/100\n",
      "37/37 [==============================] - 4s 94ms/step - loss: 0.0717 - val_loss: 1.0279\n",
      "Epoch 96/100\n",
      "37/37 [==============================] - 3s 92ms/step - loss: 0.0793 - val_loss: 0.9606\n",
      "Epoch 97/100\n",
      "37/37 [==============================] - 4s 95ms/step - loss: 0.1107 - val_loss: 1.0252\n",
      "Epoch 98/100\n",
      "37/37 [==============================] - 3s 93ms/step - loss: 0.0484 - val_loss: 0.9925\n",
      "Epoch 99/100\n",
      "37/37 [==============================] - 3s 93ms/step - loss: 0.0830 - val_loss: 1.0040\n",
      "Epoch 100/100\n",
      "37/37 [==============================] - 3s 94ms/step - loss: 0.0983 - val_loss: 0.9799\n"
     ]
    }
   ],
   "source": [
    "# 모델 학습\n",
    "model = CM.train_model(epochs=100)"
   ]
  },
  {
   "cell_type": "code",
   "execution_count": 7,
   "id": "137d0bf7-b70f-47fa-a8e3-c0da65ff0404",
   "metadata": {},
   "outputs": [],
   "source": [
    "# 모델이 학습한 가중치 파일로 저장\n",
    "model.save_weights(\"./model/weights.h5\")"
   ]
  },
  {
   "cell_type": "code",
   "execution_count": 8,
   "id": "ead175f4-875e-4103-ac10-510793bd743d",
   "metadata": {},
   "outputs": [],
   "source": [
    "import CaptchaCracker as cc"
   ]
  },
  {
   "cell_type": "code",
   "execution_count": 9,
   "id": "1b79763d-3a8f-43e1-92d3-7aafdcae40f7",
   "metadata": {},
   "outputs": [],
   "source": [
    "# 타겟 이미지 크기\n",
    "img_width = 250\n",
    "img_height = 50"
   ]
  },
  {
   "cell_type": "code",
   "execution_count": 20,
   "id": "bd846e1b-588b-40d6-b06b-f38ebd395949",
   "metadata": {},
   "outputs": [],
   "source": [
    "import os\n",
    "path_dir = './img/'\n",
    "file_list = os.listdir(path_dir)"
   ]
  },
  {
   "cell_type": "code",
   "execution_count": 28,
   "id": "a9f67b36-5224-4e80-b187-58756ca1bb7d",
   "metadata": {},
   "outputs": [],
   "source": [
    "# 타겟 이미지 라벨 길이\n",
    "#max_length = 5\n",
    "# 타겟 이미지 라벨 구성요소\n",
    "#characters = {'0', '1', '2', '3', '4', '5', '6', '7', '8', '9'\n",
    "#              , 'a', 'b', 'c', 'd', 'e', 'f', 'g', 'h', 'i', 'j', 'k', 'l', 'm', 'n', 'o', 'p', 'q', 'r', 's', 't', 'u', 'v', 'w', 'x', 'y', 'z'}"
   ]
  },
  {
   "cell_type": "code",
   "execution_count": 29,
   "id": "60fccd03-3d6d-4477-a2b6-000816b19db7",
   "metadata": {},
   "outputs": [],
   "source": [
    "# 타겟 이미지 라벨 길이\n",
    "max_length = 5\n",
    "# 타겟 이미지 라벨 구성요소\n",
    "file_name = [];\n",
    "for item in file_list:\n",
    "    file_name.extend(list(item.replace('.png','')))\n",
    "\n",
    "characters = set(file_name)"
   ]
  },
  {
   "cell_type": "code",
   "execution_count": 11,
   "id": "66286a03-6251-419a-ba44-b57e66ee2778",
   "metadata": {},
   "outputs": [],
   "source": [
    "# 모델 가중치 파일 경로\n",
    "weights_path = \"./model/weights.h5\""
   ]
  },
  {
   "cell_type": "code",
   "execution_count": 26,
   "id": "16c24abd-c49f-4e4c-81ba-ecae5b9e8e17",
   "metadata": {},
   "outputs": [],
   "source": [
    "# 모델 적용 인스턴스\n",
    "AM = cc.ApplyModel(weights_path, img_width, img_height, max_length, characters)"
   ]
  },
  {
   "cell_type": "code",
   "execution_count": null,
   "id": "4e4d29a4-d367-4129-a6f7-7c9b2752a06d",
   "metadata": {},
   "outputs": [
    {
     "name": "stdout",
     "output_type": "stream",
     "text": [
      "76pnr\n"
     ]
    }
   ],
   "source": [
    "response = requests.get('http://www.k-apt.go.kr/captchaImg.do', stream=True)\n",
    "with open('./test/test.png', 'wb') as out_file:\n",
    "    shutil.copyfileobj(response.raw, out_file)\n",
    "del response\n",
    "\n",
    "# 타겟 이미지 경로\n",
    "target_img_path = \"./test/test.png\"\n",
    "\n",
    "# 예측값\n",
    "pred = AM.predict(target_img_path)\n",
    "\n",
    "# 실제 76prr\n",
    "print(pred)"
   ]
  },
  {
   "cell_type": "code",
   "execution_count": null,
   "id": "70668aa8-7d98-4105-b1ee-171b85629dac",
   "metadata": {},
   "outputs": [],
   "source": [
    "# http://www.k-apt.go.kr/login/checkPageCount.do\n",
    "# 리퀘스트후 값을 받아서 예측해보자\n",
    "# 리퀘스트후 이미지영역을 다운받아서 분석하고 input에 입력후 처리한다"
   ]
  }
 ],
 "metadata": {
  "kernelspec": {
   "display_name": "Python 3 (ipykernel)",
   "language": "python",
   "name": "python3"
  },
  "language_info": {
   "codemirror_mode": {
    "name": "ipython",
    "version": 3
   },
   "file_extension": ".py",
   "mimetype": "text/x-python",
   "name": "python",
   "nbconvert_exporter": "python",
   "pygments_lexer": "ipython3",
   "version": "3.9.13"
  }
 },
 "nbformat": 4,
 "nbformat_minor": 5
}
