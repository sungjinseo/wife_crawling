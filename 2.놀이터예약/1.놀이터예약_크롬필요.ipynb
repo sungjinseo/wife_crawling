{
 "cells": [
  {
   "cell_type": "code",
   "execution_count": null,
   "id": "325033c1",
   "metadata": {},
   "outputs": [],
   "source": [
    "!pip install pyperclip\n",
    "!pip install tabulate\n",
    "!pip install requests\n",
    "!pip install selenium\n",
    "!pip install BeautifulSoup"
   ]
  },
  {
   "cell_type": "code",
   "execution_count": 3,
   "id": "f496e2db-5f5e-42fb-a31a-0282470a0818",
   "metadata": {},
   "outputs": [],
   "source": [
    "import time\n",
    "import requests\n",
    "import urllib.request\n",
    "from tabulate import tabulate\n",
    "\n",
    "from selenium import webdriver\n",
    "from selenium.webdriver.chrome.options import Options\n",
    "from selenium.webdriver.common.by import By\n",
    "from bs4 import BeautifulSoup as bs\n",
    "from selenium.webdriver.common.action_chains import ActionChains\n",
    "from selenium.webdriver.common.keys import Keys\n",
    "import pyperclip\n",
    "\n",
    "def clipboard_input(user_xpath, user_input):\n",
    "        temp_user_input = pyperclip.paste()  # 사용자 클립보드를 따로 저장\n",
    "\n",
    "        pyperclip.copy(user_input)\n",
    "        driver.find_element(By.XPATH, user_xpath).click()\n",
    "        ActionChains(driver).key_down(Keys.CONTROL).send_keys('v').key_up(Keys.CONTROL).perform()\n",
    "\n",
    "        pyperclip.copy(temp_user_input)  # 사용자 클립보드에 저장 된 내용을 다시 가져 옴\n",
    "        time.sleep(0.5)"
   ]
  },
  {
   "cell_type": "code",
   "execution_count": 4,
   "id": "9b2cff5f-ebd5-4965-956e-d82b21730f67",
   "metadata": {
    "scrolled": true
   },
   "outputs": [
    {
     "name": "stderr",
     "output_type": "stream",
     "text": [
      "C:\\Users\\User\\AppData\\Local\\Temp\\ipykernel_1660\\893207449.py:8: DeprecationWarning: executable_path has been deprecated, please pass in a Service object\n",
      "  driver = webdriver.Chrome('./chromedriver.exe', chrome_options=options)\n",
      "C:\\Users\\User\\AppData\\Local\\Temp\\ipykernel_1660\\893207449.py:8: DeprecationWarning: use options instead of chrome_options\n",
      "  driver = webdriver.Chrome('./chromedriver.exe', chrome_options=options)\n"
     ]
    }
   ],
   "source": [
    "###############\n",
    "## 기본정보 세팅후 네이버 로그인하기\n",
    "\n",
    "options = Options()\n",
    "options.add_argument('--no-sandbox')\n",
    "options.add_argument('--disable-dev-shm-usage')\n",
    "options.add_experimental_option('excludeSwitches', ['enable-logging'])\n",
    "driver = webdriver.Chrome('./chromedriver.exe', chrome_options=options)\n",
    "driver.implicitly_wait(5)\n",
    "driver.get('https://nid.naver.com/nidlogin.login')\n",
    "login = {\n",
    "    \"id\" : \"아이티\",\n",
    "    \"pw\" : \"비밀번호\"\n",
    "}\n",
    "\n",
    "# 아이디와 비밀번호를 입력합니다.\n",
    "time.sleep(0.5) ## 0.5초\n",
    "clipboard_input('//*[@id=\"id\"]', login.get(\"id\"))\n",
    "clipboard_input('//*[@id=\"pw\"]', login.get(\"pw\"))\n",
    "driver.find_element(By.XPATH, '//*[@id=\"log.login\"]').click()"
   ]
  },
  {
   "cell_type": "code",
   "execution_count": 5,
   "id": "12dd1f5d-81c9-4a87-a300-7a68e839b900",
   "metadata": {},
   "outputs": [],
   "source": [
    "###############\n",
    "## 기본정보 세팅후 강남구청 로그인하기\n",
    "\n",
    "아동이름 = '서진영'\n",
    "아동생년월일 = '2019-01-17'\n",
    "휴대폰번호 = '010-6685-0501'\n",
    "인원수 = '1'\n",
    "거주지역 = '장지동' \n",
    "\n",
    "#/resv/apply/segok_indoor_playground/list.do?sch_week_day=2022-10&mid=ID04_04070903\n",
    "\n",
    "## 도곡놀이터\n",
    "#PLAYGROUND = ['https://www.gangnam.go.kr/resv/apply/memewe_clean_playground/list.do?mid=ID04_02071902'\n",
    "#             ,]\n",
    "\n",
    "## 세곡놀이터\n",
    "PLAYGROUND = ['https://www.gangnam.go.kr/resv/apply/segok_indoor_playground/list.do?mid=ID04_04070903'\n",
    "              ,'https://www.gangnam.go.kr/resv/reqst/segok_indoor_playground//insert.do?']\n",
    "\n",
    "## 일원놀이터\n",
    "#PLAYGROUND = ['https://www.gangnam.go.kr/resv/apply/irwon_playground/list.do?mid=ID04_04074703']  \n",
    "\n",
    "PLAY = 'playground/'\n",
    "INSERT = '/insert.do?'\n",
    "LOGIN = 'https://www.gangnam.go.kr/login.do?mid=ID91_9101&returnUrl='+PLAYGROUND[0][PLAYGROUND[0].index('go.kr')+5:]\n",
    "driver.get(LOGIN)\n",
    "driver.find_element(By.XPATH, '//*[@id=\"contents-wrap\"]/div[1]/div/div/div/div[1]/div[2]/div/div/ul/li[1]/button').click()"
   ]
  },
  {
   "cell_type": "code",
   "execution_count": 6,
   "id": "eb2eb3d4-8c4b-4a98-9194-77a35c37c44a",
   "metadata": {
    "scrolled": false
   },
   "outputs": [
    {
     "name": "stdout",
     "output_type": "stream",
     "text": [
      "----  ---------------  --------  ---------------  --------  --------  --------\n",
      "날짜  예약시간         예약번호  예약시간         예약번호  예약시간  예약번호\n",
      "8일   13:30 (0 / 20)   1507      16:00 (16 / 20)  1508\n",
      "9일   16:00 (9 / 20)   1509\n",
      "10일  13:30 (5 / 20)   1510      16:00 (13 / 20)  1511\n",
      "15일  16:00 (17 / 20)  1519\n",
      "16일  16:00 (14 / 20)  1520\n",
      "17일  16:00 (10 / 20)  1522\n",
      "----  ---------------  --------  ---------------  --------  --------  --------\n"
     ]
    }
   ],
   "source": [
    "###############\n",
    "## 로그인한 정보로 예약 목록 불러오기 : 11시 정각에 실행해야 할것\n",
    "\n",
    "headers = {\n",
    "\"User-Agent\":\n",
    "    \"Mozilla/5.0 (Windows NT 6.3; WOW64) AppleWebKit/537.36 (KHTML, like Gecko) Chrome/44.0.2403.157 Safari/537.36\"\n",
    "}\n",
    "ss = requests.session()\n",
    "ss.headers.update(headers)\n",
    "\n",
    "for cookie in driver.get_cookies():\n",
    "    c = {cookie['name']: cookie['value']}\n",
    "    ss.cookies.update(c)\n",
    "\n",
    "res = ss.get(PLAYGROUND[0])\n",
    "reserve = bs(res.text, \"html.parser\")\n",
    "table = [['날짜','예약시간','예약번호','예약시간','예약번호','예약시간','예약번호']]\n",
    "for item in reserve.find_all(\"td\"):\n",
    "    add_item = []\n",
    "    if item.find('div', 'fc-sat') != None or item.find('div', 'holiday-color') != None:\n",
    "        #주말\n",
    "        #print(item.select_one('span').get_text(), '일')    \n",
    "        #for link in item.select('a'):\n",
    "        #    print(link.get_text().strip(), link['href'][link['href'].find('playground/')+len('playground/'):link['href'].find('/add.do')])\n",
    "        pass\n",
    "    else:\n",
    "        #평일\n",
    "        add_item.append(item.select_one('span').get_text()+'일')\n",
    "        for link in item.select('a'):\n",
    "            add_item.append(link.get_text().strip())\n",
    "            add_item.append(link['href'][link['href'].find('playground/')+len('playground/'):link['href'].find('/add.do')])\n",
    "    if len(add_item) > 1 : table.append(add_item)\n",
    "\n",
    "print(tabulate(table))"
   ]
  },
  {
   "cell_type": "code",
   "execution_count": 7,
   "id": "a923d1a8-3e6d-46ff-886a-81dba8631a01",
   "metadata": {},
   "outputs": [
    {
     "name": "stdout",
     "output_type": "stream",
     "text": [
      "<Response [200]>\n"
     ]
    }
   ],
   "source": [
    "###################################################\n",
    "#상위 목록에서 예약번호를 복사해서 값 변경후 실행  #\n",
    "#######                                     #######\n",
    "예약번호를넣어주세요 = '1522'               #######\n",
    "#######                                     #######\n",
    "###################################################\n",
    "\n",
    "REQ_STR = []\n",
    "REQ_STR.extend(PLAYGROUND[1][:PLAYGROUND[1].index(PLAY)+len(PLAY)] + 예약번호를넣어주세요 + PLAYGROUND[1][PLAYGROUND[1].index(INSERT):])\n",
    "REQ_STR.extend(PLAYGROUND[0][PLAYGROUND[0].index('mid='):])\n",
    "REQ_STR.extend('&rar_user_name='+아동이름+'&rar_hp_no='+휴대폰번호+'&rar_person_cnt='+인원수)\n",
    "REQ_STR.extend('&rar_optn_keys=1&rar_optn_values='+아동생년월일+'&rar_optn_keys=2&rar_optn_values='+거주지역)\n",
    "REQ_STR.extend('&rar_reqst_key=0&rar_file_key=&rar_sms_yn=Y&rar_agree_yn=Y&rar_terms_yn=Y')\n",
    "\n",
    "result = ss.post(''.join(REQ_STR))\n",
    "print(result)"
   ]
  },
  {
   "cell_type": "code",
   "execution_count": 9,
   "id": "26875fb5",
   "metadata": {
    "scrolled": false
   },
   "outputs": [
    {
     "name": "stdout",
     "output_type": "stream",
     "text": [
      "-----  ----------------  ---------  --------  -------------  --------  --------  ----------  ------  --------\n",
      "순번,  예약일시          취소번호   신청자명  휴대폰번호     신청인원  신청인원  상태        등록일  취소번호\n",
      "1      2022-11-17 16:00  1522/9553  서진영    010-6685-0501  1         신청      2022-11-08\n",
      "-----  ----------------  ---------  --------  -------------  --------  --------  ----------  ------  --------\n"
     ]
    }
   ],
   "source": [
    "confirm_table = [['순번,','예약일시','취소번호','신청자명','휴대폰번호','신청인원','신청인원','상태','등록일', '취소번호']]\n",
    "res_list = ss.post(PLAYGROUND[0].replace('apply', 'reqst'))\n",
    "confirm_list = bs(res_list.text, \"html.parser\")\n",
    "for item in confirm_list.find_all('tr')[1:]:\n",
    "    add_item = []\n",
    "    for detail in item.find_all('td'):\n",
    "        if len(detail.select('a'))>0 :\n",
    "            cancel_str = str(detail.select('a')[0])\n",
    "            cancel_str = cancel_str[cancel_str.index('playground/')+11:cancel_str.index('/view.do')]\n",
    "            add_item.append(cancel_str)\n",
    "        add_item.append(detail.text.strip())\n",
    "    confirm_table.append(add_item)\n",
    "print(tabulate(confirm_table))"
   ]
  },
  {
   "cell_type": "code",
   "execution_count": 10,
   "id": "9d21c80a",
   "metadata": {},
   "outputs": [
    {
     "name": "stdout",
     "output_type": "stream",
     "text": [
      "<Response [200]>\n"
     ]
    }
   ],
   "source": [
    "###################################################\n",
    "#상위 목록에서 취소번호를 복사해서 값 변경후 실행  #\n",
    "#######                                     #######\n",
    "취소번호를넣어주세요 = '1522/9553'          #######\n",
    "#######                                     #######\n",
    "###################################################\n",
    "\n",
    "REQ_STR = []\n",
    "REQ_STR.extend(PLAYGROUND[1][:PLAYGROUND[1].index(PLAY)+len(PLAY)] + 취소번호를넣어주세요 + '/cancel.do?')\n",
    "REQ_STR.extend(PLAYGROUND[0][PLAYGROUND[0].index('mid='):])\n",
    "\n",
    "result = ss.post(''.join(REQ_STR))\n",
    "print(result)"
   ]
  }
 ],
 "metadata": {
  "kernelspec": {
   "display_name": "Python 3 (ipykernel)",
   "language": "python",
   "name": "python3"
  },
  "language_info": {
   "codemirror_mode": {
    "name": "ipython",
    "version": 3
   },
   "file_extension": ".py",
   "mimetype": "text/x-python",
   "name": "python",
   "nbconvert_exporter": "python",
   "pygments_lexer": "ipython3",
   "version": "3.9.13"
  }
 },
 "nbformat": 4,
 "nbformat_minor": 5
}
