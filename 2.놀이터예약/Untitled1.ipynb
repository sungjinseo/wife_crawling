{
 "cells": [
  {
   "cell_type": "code",
   "execution_count": null,
   "id": "e85a2329-f12f-491e-b7dd-4979dcef68b8",
   "metadata": {},
   "outputs": [],
   "source": [
    "!pip install selenium"
   ]
  },
  {
   "cell_type": "code",
   "execution_count": 154,
   "id": "36b8368f-01ab-47ab-9b00-b574dd4cfb95",
   "metadata": {},
   "outputs": [],
   "source": [
    "import time\n",
    "import requests\n",
    "\n",
    "from selenium import webdriver\n",
    "from selenium.webdriver.chrome.options import Options\n",
    "from bs4 import BeautifulSoup as bs"
   ]
  },
  {
   "cell_type": "code",
   "execution_count": 189,
   "id": "ea186906-d418-4b52-8d15-2b85f08bcbad",
   "metadata": {},
   "outputs": [
    {
     "name": "stderr",
     "output_type": "stream",
     "text": [
      "C:\\Users\\Administrator\\AppData\\Local\\Temp\\ipykernel_11880\\2446565818.py:6: DeprecationWarning: executable_path has been deprecated, please pass in a Service object\n",
      "  driver = webdriver.Chrome('./chromedriver.exe', chrome_options=options)\n",
      "C:\\Users\\Administrator\\AppData\\Local\\Temp\\ipykernel_11880\\2446565818.py:6: DeprecationWarning: use options instead of chrome_options\n",
      "  driver = webdriver.Chrome('./chromedriver.exe', chrome_options=options)\n"
     ]
    }
   ],
   "source": [
    "options = Options()\n",
    "options.add_argument('--no-sandbox')\n",
    "options.add_argument('--disable-dev-shm-usage')\n",
    "options.add_experimental_option('excludeSwitches', ['enable-logging'])\n",
    "\n",
    "driver = webdriver.Chrome('./chromedriver.exe', chrome_options=options)\n",
    "driver.implicitly_wait(5)\n",
    "driver.get('https://nid.naver.com/nidlogin.login')\n",
    "time.sleep(10)\n",
    "\n",
    "_cookies = driver.get_cookies()\n",
    "cookie_dict = {}\n",
    "for ck in _cookies:\n",
    "    cookie_dict[ck['name']] = ck['value']\n",
    "#driver.quit()"
   ]
  },
  {
   "cell_type": "code",
   "execution_count": 190,
   "id": "a61942ff-a8fa-4802-aa86-a22f0a5869fa",
   "metadata": {},
   "outputs": [
    {
     "data": {
      "text/plain": [
       "{'SB_MODE': 'plusdeal',\n",
       " 'NID_JKL': 'N9/IW1yEe3PgG5pxVn2e8XHgpUW8KsvC36Q6Bt+sPWU=',\n",
       " 'NID_SES': 'AAABks/VhE9/yI+pmxzNEovrbgnKEIoaI+FI5GX3W4z1ppTJqFj/TkK86/UmCp2AyLO2Q+xTOx2dKaTYMtbQZEGsTBzHWG7FfcBhq2wqA3r3XxSnzFn6uOOCGWkcLAOAMbMGp62BrfXX7yi4MyBrDZB62UYAt+xHIiN5yb0PSaNruwI16eHGa202PszJbgEHtzVvtSCM9NE3tU2d1R9gW5DJZK9DqiGn+rEt1txOviBfxb10u30aMGrKg+yUo/h6Om9je28FwyuUl4acxOfDi+zthROlGSk5i/h7tuVxwVWe5qJSWlNh/AFQt8+RgwjozY4vykDNHhcK5T7gKQPbFdmgQhahxwncWmF/w41D0yjcSZEZ2M2m6m79LSC/kdp5NKwxpHIQIiIErx49vKr6hjKxeYgCaCPzIzAFHGZATyBhdTacipbxPVSkFkh3Lx9jsTmoSgsD6pYTM5utUUnU4xEkvioxX02FZuvxj6ogV7nH8E2+Mj+6hUROos9pHwqB0kruJN+NrtNFmmo7sVuGBdJUVmwTm3cHMYxoasxu0Zzxyu5n',\n",
       " 'NID_AUT': 'kYT3/k5+OGjC7fEkCQT3kEjfoeVO89cllfAJzMpLm3XHjkmfLqZ167s4yzfr6S4w',\n",
       " 'NNB': 'YYJCUC2KUBTWG',\n",
       " 'nid_inf': '1447774884',\n",
       " 'PM_CK_loc': '65c2aa43f5cd4fc6e776fd8e3b0e242c3adc108fb096d391680fa8041fc04016'}"
      ]
     },
     "execution_count": 190,
     "metadata": {},
     "output_type": "execute_result"
    }
   ],
   "source": [
    "cookie_dict"
   ]
  },
  {
   "cell_type": "code",
   "execution_count": 191,
   "id": "b30b2ecf-6363-46b2-90c0-f8b958ba8833",
   "metadata": {},
   "outputs": [],
   "source": [
    "session = requests.Session()\n",
    "headers = {\n",
    "    'User-Agent': 'Mozilla/5.0 (Windows NT 10.0; Win64; x64) AppleWebKit/537.36 (KHTML, like Gecko) Chrome/107.0.5304.88 Safari/537.36 Edg/107.0.1418.35',\n",
    "}\n",
    "\n",
    "session.headers.update(headers)\n",
    "session.cookies.update(cookie_dict)"
   ]
  },
  {
   "cell_type": "code",
   "execution_count": 210,
   "id": "d9e3c30e-622b-4a5c-a34a-c8eed626e61f",
   "metadata": {},
   "outputs": [],
   "source": [
    "payload={\n",
    "    'redirect_uri':'https://passport.livere.com/v1/auth/naver/callback',\n",
    "    'client_id':'56vMBuwZrZtIb6B4KQ0W',\n",
    "    'auth_type':'',\n",
    "    'response_type':'code'\n",
    "}\n",
    "res_auth = session.post('https://nid.naver.com/oauth2.0/authorize', data=payload)\n",
    "\n",
    "res_text = res_auth.text\n",
    "nonce = res_text[res_text.index('nonce=')+7:res_text.index('>\\nlocation.replace')-1]\n",
    "link = res_text[res_text.index('replace(')+9:res_text.index('\");\\n')]\n",
    "auth_uri = link[:link.index('?')]\n",
    "data_str = link[link.index('?')+1:]\n",
    "token = {}\n",
    "\n",
    "for param in data_str.split('&'):\n",
    "    if '=' in param:\n",
    "        token[param[:param.index('=')]] = param[param.index('=')+1:]\n",
    "    else:\n",
    "        token[param]=''"
   ]
  },
  {
   "cell_type": "code",
   "execution_count": 211,
   "id": "557d46c5-1227-44c6-9255-8ac3cb7274e5",
   "metadata": {},
   "outputs": [],
   "source": [
    "payload={\n",
    "    'response_type':'code',\n",
    "    'state':'',\n",
    "    'redirect_uri':'https://passport.livere.com/v1/auth/naver/callback',\n",
    "    'client_id':'56vMBuwZrZtIb6B4KQ0W',\n",
    "    'oauth_os':'',\n",
    "    'inapp_view':'',\n",
    "    'locale':'ko_KR',\n",
    "    'oauth_token':token['oauth_token']\n",
    "    \n",
    "}\n",
    "res_redirect = session.post('https://nid.naver.com/oauth2.0/authorize', data=payload)"
   ]
  },
  {
   "cell_type": "code",
   "execution_count": 212,
   "id": "6cb61e68-19cb-4f5b-9326-59a1929c2f34",
   "metadata": {},
   "outputs": [],
   "source": [
    "passport_headers = {\n",
    "    'User-Agent': 'Mozilla/5.0 (Windows NT 10.0; Win64; x64) AppleWebKit/537.36 (KHTML, like Gecko) Chrome/107.0.0.0 Safari/537.36 Edg/107.0.0.0',\n",
    "    'Upgrade-Insecure-Requests': '1',\n",
    "    'Host': 'passport.livere.com',\n",
    "    'Connection': 'keep-alive',\n",
    "    'Referer': 'https://nid.naver.com/'\n",
    "}\n",
    "session.headers.update(passport_headers)"
   ]
  },
  {
   "cell_type": "code",
   "execution_count": 213,
   "id": "10df56c5-9820-4750-8b72-c710ec81ec5c",
   "metadata": {},
   "outputs": [],
   "source": [
    "payload={\n",
    "    'code':token['oauth_token'],\n",
    "    'state':'',\n",
    "}\n",
    "res_token = session.get('https://passport.livere.com/v1/auth/naver/callback', data=payload)"
   ]
  },
  {
   "cell_type": "code",
   "execution_count": 221,
   "id": "9df4eb3e-c4f1-40c7-b7fa-39cc65107bd3",
   "metadata": {},
   "outputs": [
    {
     "data": {
      "text/plain": [
       "{'User-Agent': 'Mozilla/5.0 (Windows NT 10.0; Win64; x64) AppleWebKit/537.36 (KHTML, like Gecko) Chrome/107.0.0.0 Safari/537.36 Edg/107.0.0.0', 'Accept-Encoding': 'gzip, deflate', 'Accept': '*/*', 'Connection': 'keep-alive', 'Upgrade-Insecure-Requests': '1', 'Host': 'passport.livere.com', 'Referer': 'https://nid.naver.com/'}"
      ]
     },
     "execution_count": 221,
     "metadata": {},
     "output_type": "execute_result"
    }
   ],
   "source": [
    "session.headers"
   ]
  },
  {
   "cell_type": "code",
   "execution_count": 219,
   "id": "e059a750-eb90-4c82-9fe3-30ac9eb20a06",
   "metadata": {},
   "outputs": [
    {
     "name": "stdout",
     "output_type": "stream",
     "text": [
      "<Cookie SB_MODE=plusdeal for />\n",
      "<Cookie NID_JKL=N9/IW1yEe3PgG5pxVn2e8XHgpUW8KsvC36Q6Bt+sPWU= for />\n",
      "<Cookie NID_SES=AAABks/VhE9/yI+pmxzNEovrbgnKEIoaI+FI5GX3W4z1ppTJqFj/TkK86/UmCp2AyLO2Q+xTOx2dKaTYMtbQZEGsTBzHWG7FfcBhq2wqA3r3XxSnzFn6uOOCGWkcLAOAMbMGp62BrfXX7yi4MyBrDZB62UYAt+xHIiN5yb0PSaNruwI16eHGa202PszJbgEHtzVvtSCM9NE3tU2d1R9gW5DJZK9DqiGn+rEt1txOviBfxb10u30aMGrKg+yUo/h6Om9je28FwyuUl4acxOfDi+zthROlGSk5i/h7tuVxwVWe5qJSWlNh/AFQt8+RgwjozY4vykDNHhcK5T7gKQPbFdmgQhahxwncWmF/w41D0yjcSZEZ2M2m6m79LSC/kdp5NKwxpHIQIiIErx49vKr6hjKxeYgCaCPzIzAFHGZATyBhdTacipbxPVSkFkh3Lx9jsTmoSgsD6pYTM5utUUnU4xEkvioxX02FZuvxj6ogV7nH8E2+Mj+6hUROos9pHwqB0kruJN+NrtNFmmo7sVuGBdJUVmwTm3cHMYxoasxu0Zzxyu5n for />\n",
      "<Cookie NID_AUT=kYT3/k5+OGjC7fEkCQT3kEjfoeVO89cllfAJzMpLm3XHjkmfLqZ167s4yzfr6S4w for />\n",
      "<Cookie NNB=YYJCUC2KUBTWG for />\n",
      "<Cookie nid_inf=1447774884 for />\n",
      "<Cookie PM_CK_loc=65c2aa43f5cd4fc6e776fd8e3b0e242c3adc108fb096d391680fa8041fc04016 for />\n",
      "<Cookie connect.sid=s%3Ae7f183a0-f843-46d4-91df-be034c60250d.Hq9aldhC9MIKoQNg7Xv%2BMPj6nKjSoFvuD9WIB6ljfSE for passport.livere.com/>\n",
      "<Cookie AWSELB=0DA31F5110BEAA550EC7926DF08A50F8044A14414CB257ED9D9C3DDA555983FBB6993ECBA3C62D0BC795A37C8B0AB4E16BC0AE9EF4F689AACA4292EEA067D47B1F8D0EDD18 for passport.livere.com/>\n",
      "<Cookie AWSELBCORS=0DA31F5110BEAA550EC7926DF08A50F8044A14414CB257ED9D9C3DDA555983FBB6993ECBA3C62D0BC795A37C8B0AB4E16BC0AE9EF4F689AACA4292EEA067D47B1F8D0EDD18 for passport.livere.com/>\n"
     ]
    }
   ],
   "source": [
    "for i in session.cookies:\n",
    "    print(i)"
   ]
  },
  {
   "cell_type": "code",
   "execution_count": 151,
   "id": "39622f44-ee65-4abb-a030-5e13aa6a0423",
   "metadata": {},
   "outputs": [],
   "source": [
    "res = session.get('https://www.gangnam.go.kr/loginLivere.do', data={'code':'1659f60d9afd9b19e9168369'})"
   ]
  },
  {
   "cell_type": "code",
   "execution_count": 155,
   "id": "7d54490d-79ed-49fd-8af8-f7d6e8cf9ded",
   "metadata": {},
   "outputs": [],
   "source": [
    "danji_soup = bs(res.text, \"html.parser\")"
   ]
  }
 ],
 "metadata": {
  "kernelspec": {
   "display_name": "Python 3 (ipykernel)",
   "language": "python",
   "name": "python3"
  },
  "language_info": {
   "codemirror_mode": {
    "name": "ipython",
    "version": 3
   },
   "file_extension": ".py",
   "mimetype": "text/x-python",
   "name": "python",
   "nbconvert_exporter": "python",
   "pygments_lexer": "ipython3",
   "version": "3.11.0"
  }
 },
 "nbformat": 4,
 "nbformat_minor": 5
}
