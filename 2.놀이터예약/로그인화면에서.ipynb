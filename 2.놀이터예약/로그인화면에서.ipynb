{
 "cells": [
  {
   "cell_type": "code",
   "execution_count": 129,
   "id": "f496e2db-5f5e-42fb-a31a-0282470a0818",
   "metadata": {},
   "outputs": [],
   "source": [
    "import time\n",
    "import requests\n",
    "import urllib.request\n",
    "\n",
    "from selenium import webdriver\n",
    "from selenium.webdriver.chrome.options import Options\n",
    "from bs4 import BeautifulSoup as bs"
   ]
  },
  {
   "cell_type": "code",
   "execution_count": 130,
   "id": "9b2cff5f-ebd5-4965-956e-d82b21730f67",
   "metadata": {},
   "outputs": [
    {
     "name": "stderr",
     "output_type": "stream",
     "text": [
      "C:\\Users\\Administrator\\AppData\\Local\\Temp\\ipykernel_11908\\3117264847.py:8: DeprecationWarning: executable_path has been deprecated, please pass in a Service object\n",
      "  driver = webdriver.Chrome('./chromedriver.exe', chrome_options=options)\n",
      "C:\\Users\\Administrator\\AppData\\Local\\Temp\\ipykernel_11908\\3117264847.py:8: DeprecationWarning: use options instead of chrome_options\n",
      "  driver = webdriver.Chrome('./chromedriver.exe', chrome_options=options)\n"
     ]
    }
   ],
   "source": [
    "###############\n",
    "## 기본정보 세팅후 네이버 로그인하기\n",
    "\n",
    "options = Options()\n",
    "options.add_argument('--no-sandbox')\n",
    "options.add_argument('--disable-dev-shm-usage')\n",
    "options.add_experimental_option('excludeSwitches', ['enable-logging'])\n",
    "driver = webdriver.Chrome('./chromedriver.exe', chrome_options=options)\n",
    "driver.implicitly_wait(5)\n",
    "driver.get('https://nid.naver.com/nidlogin.login')"
   ]
  },
  {
   "cell_type": "code",
   "execution_count": 131,
   "id": "12dd1f5d-81c9-4a87-a300-7a68e839b900",
   "metadata": {},
   "outputs": [],
   "source": [
    "###############\n",
    "## 기본정보 세팅후 강남구청 로그인하기\n",
    "\n",
    "아동이름 = '서진영'\n",
    "아동생년월일 = '2019-01-17'\n",
    "휴대폰번호 = '010-6685-0501'\n",
    "인원수 = '1'\n",
    "거주지역 = '장지동' \n",
    "\n",
    "#/resv/apply/segok_indoor_playground/list.do?sch_week_day=2022-10&mid=ID04_04070903\n",
    "\n",
    "## 도곡놀이터\n",
    "#PLAYGROUND = ['https://www.gangnam.go.kr/resv/apply/memewe_clean_playground/list.do?mid=ID04_02071902'\n",
    "#             ,]\n",
    "\n",
    "## 세곡놀이터\n",
    "PLAYGROUND = ['https://www.gangnam.go.kr/resv/apply/segok_indoor_playground/list.do?mid=ID04_04070903'\n",
    "              ,'https://www.gangnam.go.kr/resv/reqst/segok_indoor_playground//insert.do?']\n",
    "\n",
    "## 일원놀이터\n",
    "#PLAYGROUND = ['https://www.gangnam.go.kr/resv/apply/irwon_playground/list.do?mid=ID04_04074703']  \n",
    "\n",
    "PLAY = 'playground/'\n",
    "INSERT = '/insert.do?'\n",
    "LOGIN = 'https://www.gangnam.go.kr/login.do?mid=ID91_9101&returnUrl='+PLAYGROUND[0][PLAYGROUND[0].index('go.kr')+5:]\n",
    "driver.get(LOGIN)"
   ]
  },
  {
   "cell_type": "code",
   "execution_count": 132,
   "id": "eb2eb3d4-8c4b-4a98-9194-77a35c37c44a",
   "metadata": {},
   "outputs": [
    {
     "name": "stdout",
     "output_type": "stream",
     "text": [
      "31 일 ***** \n",
      "1 일 ***** \n",
      "2 일 ***** \n",
      "3 일 ***** \n",
      "4 일 ***** \n",
      "7 일 ***** \n",
      "8 일 ***** \n",
      "9 일 ***** 16:00 (11 / 20) 예약번호::::[1509]:::::========== \n",
      "10 일 ***** 13:30 (6 / 20) 예약번호::::[1510]:::::========== 16:00 (13 / 20) 예약번호::::[1511]:::::========== \n",
      "11 일 ***** \n",
      "14 일 ***** \n",
      "15 일 ***** 16:00 (17 / 20) 예약번호::::[1519]:::::========== \n",
      "16 일 ***** 16:00 (14 / 20) 예약번호::::[1520]:::::========== \n",
      "17 일 ***** 16:00 (10 / 20) 예약번호::::[1522]:::::========== \n",
      "18 일 ***** 16:00 (18 / 20) 예약번호::::[1523]:::::========== \n",
      "21 일 ***** \n",
      "22 일 ***** \n",
      "23 일 ***** \n",
      "24 일 ***** \n",
      "25 일 ***** \n",
      "28 일 ***** \n",
      "29 일 ***** \n",
      "30 일 ***** \n",
      "1 일 ***** \n",
      "2 일 ***** \n"
     ]
    }
   ],
   "source": [
    "###############\n",
    "## 로그인한 정보로 예약 목록 불러오기 : 11시 정각에 실행해야 할것\n",
    "\n",
    "headers = {\n",
    "\"User-Agent\":\n",
    "    \"Mozilla/5.0 (Windows NT 6.3; WOW64) AppleWebKit/537.36 (KHTML, like Gecko) Chrome/44.0.2403.157 Safari/537.36\"\n",
    "}\n",
    "ss = requests.session()\n",
    "ss.headers.update(headers)\n",
    "\n",
    "for cookie in driver.get_cookies():\n",
    "    c = {cookie['name']: cookie['value']}\n",
    "    ss.cookies.update(c)\n",
    "\n",
    "res = ss.get(PLAYGROUND[0])\n",
    "reserve = bs(res.text, \"html.parser\")\n",
    "for item in reserve.find_all(\"td\"):\n",
    "    if item.find('div', 'fc-sat') != None or item.find('div', 'holiday-color') != None:\n",
    "        #주말\n",
    "        #print(item.select_one('span').get_text(), '일')    \n",
    "        #for link in item.select('a'):\n",
    "        #    print(link.get_text().strip(), link['href'][link['href'].find('playground/')+len('playground/'):link['href'].find('/add.do')])\n",
    "        pass\n",
    "    else:\n",
    "        #평일\n",
    "        print(item.select_one('span').get_text(), '일 ***** ', end= '')\n",
    "        for link in item.select('a'):\n",
    "            print(link.get_text().strip(), end=' 예약번호::::[')\n",
    "            print(link['href'][link['href'].find('playground/')+len('playground/'):link['href'].find('/add.do')], end=']:::::========== ')\n",
    "        print('')"
   ]
  },
  {
   "cell_type": "code",
   "execution_count": 133,
   "id": "a923d1a8-3e6d-46ff-886a-81dba8631a01",
   "metadata": {},
   "outputs": [],
   "source": [
    "###################################################\n",
    "#상위 목록에서 예약번호를 복사해서 값 변경후 실행  #\n",
    "#######                                     #######\n",
    "예약번호를넣어주세요 = '1522'               #######\n",
    "#######                                     #######\n",
    "###################################################\n",
    "\n",
    "REQ_STR = []\n",
    "REQ_STR.extend(PLAYGROUND[1][:PLAYGROUND[1].index(PLAY)+len(PLAY)] + 예약번호를넣어주세요 + PLAYGROUND[1][PLAYGROUND[1].index(INSERT):])\n",
    "REQ_STR.extend(PLAYGROUND[0][PLAYGROUND[0].index('mid='):])\n",
    "REQ_STR.extend('&rar_user_name='+아동이름+'&rar_hp_no='+휴대폰번호+'&rar_person_cnt='+인원수)\n",
    "REQ_STR.extend('&rar_optn_keys=1&rar_optn_values='+아동생년월일+'&rar_optn_keys=2&rar_optn_values='+거주지역)\n",
    "REQ_STR.extend('&rar_reqst_key=0&rar_file_key=&rar_sms_yn=Y&rar_agree_yn=Y&rar_terms_yn=Y')\n",
    "\n",
    "result = ss.post(''.join(REQ_STR))"
   ]
  },
  {
   "cell_type": "code",
   "execution_count": 134,
   "id": "de0de559-a183-49be-b9bf-03598b2a23a4",
   "metadata": {},
   "outputs": [
    {
     "name": "stdout",
     "output_type": "stream",
     "text": [
      "예약일자 :  2022-11-17 16:00\n",
      "예약아동 :  서진영\n",
      "연락처 :  010-6685-0501\n",
      "신청인원 :  1\n"
     ]
    }
   ],
   "source": [
    "res_list = ss.post(PLAYGROUND[0].replace('apply', 'reqst'))\n",
    "my_list = bs(res_list.text, \"html.parser\")\n",
    "idx = 0\n",
    "for item in my_list.find_all(\"td\"):\n",
    "    if idx == 1:\n",
    "        print('예약일자 : ', item.text)\n",
    "    if idx == 2:\n",
    "        print('예약아동 : ', item.text.strip())\n",
    "        #print(item['href'])\n",
    "    if idx == 3:\n",
    "        print('연락처 : ', item.text)\n",
    "    if idx == 4:\n",
    "        print('신청인원 : ', item.text)\n",
    "    idx = idx+1"
   ]
  },
  {
   "cell_type": "code",
   "execution_count": 46,
   "id": "4c8bbae7-a607-438b-b7d7-eec821bdd72b",
   "metadata": {},
   "outputs": [],
   "source": [
    "#headers = {\n",
    "#    \"User-Agent\":\"Mozilla/5.0 (Windows NT 6.3; WOW64) AppleWebKit/537.36 (KHTML, like Gecko) Chrome/44.0.2403.157 Safari/537.36\",\n",
    "#    'Host': 'www.gangnam.go.kr',\n",
    "#    'Origin': 'https://www.gangnam.go.kr',\n",
    "#    'Referer': 'https://www.gangnam.go.kr/resv/reqst/segok_indoor_playground/1522/add.do?mid=ID04_04070903'\n",
    "#\n",
    "#}\n",
    "\n",
    "insert_payload = {\n",
    "    'mid': 'ID04_04070903',\n",
    "    'rar_reqst_key': '0',\n",
    "    'rar_file_key': '',\n",
    "    'rar_user_name': '서진영',\n",
    "    'rar_hp_no': '010-6685-0501',\n",
    "    'rar_person_cnt': '1',\n",
    "    'rar_optn_keys': '1',\n",
    "    'rar_optn_values': '2021-01-17',\n",
    "    'rar_optn_keys': '2',\n",
    "    'rar_optn_values': '장지동',\n",
    "    'rar_sms_yn': 'Y',\n",
    "    'rar_agree_yn': 'Y',\n",
    "    'rar_terms_yn': 'Y '   \n",
    "}\n",
    "res_reserve = ss.post('https://www.gangnam.go.kr/resv/reqst/segok_indoor_playground/'+예약번호+'/insert.do?', data=insert_payload)"
   ]
  }
 ],
 "metadata": {
  "kernelspec": {
   "display_name": "Python 3 (ipykernel)",
   "language": "python",
   "name": "python3"
  },
  "language_info": {
   "codemirror_mode": {
    "name": "ipython",
    "version": 3
   },
   "file_extension": ".py",
   "mimetype": "text/x-python",
   "name": "python",
   "nbconvert_exporter": "python",
   "pygments_lexer": "ipython3",
   "version": "3.11.0"
  }
 },
 "nbformat": 4,
 "nbformat_minor": 5
}
