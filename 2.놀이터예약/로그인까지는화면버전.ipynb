{
 "cells": [
  {
   "cell_type": "code",
   "execution_count": null,
   "id": "8a45633d",
   "metadata": {},
   "outputs": [],
   "source": [
    "!pip install requests\n",
    "!pip install selenium"
   ]
  },
  {
   "cell_type": "code",
   "execution_count": 2,
   "id": "4d2490c3",
   "metadata": {},
   "outputs": [],
   "source": [
    "import time\n",
    "import requests\n",
    "\n",
    "from selenium import webdriver\n",
    "from selenium.webdriver.chrome.options import Options\n",
    "from bs4 import BeautifulSoup as bs"
   ]
  },
  {
   "cell_type": "code",
   "execution_count": 3,
   "id": "de80997e",
   "metadata": {},
   "outputs": [
    {
     "name": "stderr",
     "output_type": "stream",
     "text": [
      "C:\\Users\\User\\AppData\\Local\\Temp\\ipykernel_5180\\701327909.py:6: DeprecationWarning: executable_path has been deprecated, please pass in a Service object\n",
      "  driver = webdriver.Chrome('./chromedriver.exe', chrome_options=options)\n",
      "C:\\Users\\User\\AppData\\Local\\Temp\\ipykernel_5180\\701327909.py:6: DeprecationWarning: use options instead of chrome_options\n",
      "  driver = webdriver.Chrome('./chromedriver.exe', chrome_options=options)\n"
     ]
    }
   ],
   "source": [
    "options = Options()\n",
    "options.add_argument('--no-sandbox')\n",
    "options.add_argument('--disable-dev-shm-usage')\n",
    "options.add_experimental_option('excludeSwitches', ['enable-logging'])\n",
    "\n",
    "driver = webdriver.Chrome('./chromedriver.exe', chrome_options=options)\n",
    "driver.implicitly_wait(5)\n",
    "driver.get('https://nid.naver.com/nidlogin.login')"
   ]
  },
  {
   "cell_type": "code",
   "execution_count": 4,
   "id": "09bb1b39",
   "metadata": {},
   "outputs": [],
   "source": [
    "#https://www.gangnam.go.kr/login.do?mid=ID91_9101&returnUrl=%2Fresv%2Fapply%2Fsegok_indoor_playground%2Flist.do%3Fmid%3DID04_04070903\n",
    "#https://www.gangnam.go.kr/resv/apply/segok_indoor_playground/list.do?mid=ID04_04070903\n",
    "#/resv/apply/segok_indoor_playground/list.do?sch_week_day=2022-10&amp;mid=ID04_04070903\n",
    "driver.get('https://www.gangnam.go.kr/login.do?mid=ID91_9101&returnUrl=/resv/apply/segok_indoor_playground/list.do?mid=ID04_04070903')"
   ]
  },
  {
   "cell_type": "code",
   "execution_count": 113,
   "id": "9de6af3d",
   "metadata": {},
   "outputs": [],
   "source": [
    "headers = {\n",
    "\"User-Agent\":\n",
    "    \"Mozilla/5.0 (Windows NT 6.3; WOW64) AppleWebKit/537.36 (KHTML, like Gecko) Chrome/44.0.2403.157 Safari/537.36\"\n",
    "}\n",
    "ss = requests.session()\n",
    "ss.headers.update(headers)\n",
    "\n",
    "for cookie in driver.get_cookies():\n",
    "    c = {cookie['name']: cookie['value']}\n",
    "    ss.cookies.update(c)"
   ]
  },
  {
   "cell_type": "code",
   "execution_count": 121,
   "id": "082ff818",
   "metadata": {},
   "outputs": [
    {
     "name": "stdout",
     "output_type": "stream",
     "text": [
      "31 일\n",
      "1 일\n",
      "2 일\n",
      "3 일\n",
      "4 일\n",
      "7 일\n",
      "8 일\n",
      "13:30 (0 / 20) 1507\n",
      "16:00 (15 / 20) 1508\n",
      "9 일\n",
      "16:00 (11 / 20) 1509\n",
      "10 일\n",
      "13:30 (6 / 20) 1510\n",
      "16:00 (12 / 20) 1511\n",
      "11 일\n",
      "16:00 (19 / 20) 1512\n",
      "14 일\n",
      "15 일\n",
      "16:00 (16 / 20) 1519\n",
      "16 일\n",
      "16:00 (14 / 20) 1520\n",
      "17 일\n",
      "16:00 (9 / 20) 1522\n",
      "18 일\n",
      "21 일\n",
      "22 일\n",
      "23 일\n",
      "24 일\n",
      "25 일\n",
      "28 일\n",
      "29 일\n",
      "30 일\n",
      "1 일\n",
      "2 일\n"
     ]
    }
   ],
   "source": [
    "res = ss.get('https://www.gangnam.go.kr/resv/apply/segok_indoor_playground/list.do?mid=ID04_04070903')\n",
    "reserve = bs(res.text, \"html.parser\")\n",
    "for item in reserve.find_all(\"td\"):\n",
    "    if item.find('div', 'fc-sat') != None or item.find('div', 'holiday-color') != None:\n",
    "        #print(item.select_one('span').get_text(), '일')    \n",
    "        #for link in item.select('a'):\n",
    "        #    print(link.get_text().strip(), link['href'][link['href'].find('playground/')+len('playground/'):link['href'].find('/add.do')])\n",
    "        pass\n",
    "    else:\n",
    "        print(item.select_one('span').get_text(), '일')    \n",
    "        for link in item.select('a'):\n",
    "            print(link.get_text().strip(), link['href'][link['href'].find('playground/')+len('playground/'):link['href'].find('/add.do')])"
   ]
  },
  {
   "cell_type": "code",
   "execution_count": 116,
   "id": "46a6abb4",
   "metadata": {
    "scrolled": true
   },
   "outputs": [],
   "source": [
    "insert_payload = {\n",
    "    'mid': 'ID04_04070903',\n",
    "    'rar_reqst_key': '0',\n",
    "    'rar_file_key': '',\n",
    "    'rar_user_name': '서진영',\n",
    "    'rar_hp_no': '010-6685-0501',\n",
    "    'rar_person_cnt': '1',\n",
    "    'rar_optn_keys': '1',\n",
    "    'rar_optn_values': '2022-11-07',\n",
    "    'rar_optn_keys': '2',\n",
    "    'rar_optn_values': '장지동',\n",
    "    'rar_sms_yn': 'Y',\n",
    "    'rar_agree_yn': 'Y',\n",
    "    'rar_terms_yn': 'Y '   \n",
    "}\n",
    "res_reserve = ss.post('https://www.gangnam.go.kr/resv/reqst/segok_indoor_playground/1522/insert.do', data=insert_payload)"
   ]
  },
  {
   "cell_type": "code",
   "execution_count": 120,
   "id": "a555fb84",
   "metadata": {},
   "outputs": [
    {
     "data": {
      "text/plain": [
       "<Response [200]>"
      ]
     },
     "execution_count": 120,
     "metadata": {},
     "output_type": "execute_result"
    }
   ],
   "source": [
    "res_reserve"
   ]
  }
 ],
 "metadata": {
  "kernelspec": {
   "display_name": "Python 3 (ipykernel)",
   "language": "python",
   "name": "python3"
  },
  "language_info": {
   "codemirror_mode": {
    "name": "ipython",
    "version": 3
   },
   "file_extension": ".py",
   "mimetype": "text/x-python",
   "name": "python",
   "nbconvert_exporter": "python",
   "pygments_lexer": "ipython3",
   "version": "3.9.13"
  }
 },
 "nbformat": 4,
 "nbformat_minor": 5
}
